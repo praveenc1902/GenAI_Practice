{
 "cells": [
  {
   "cell_type": "code",
   "execution_count": null,
   "metadata": {},
   "outputs": [],
   "source": [
    "\n",
    "import os.path\n",
    "\n",
    "from google.auth.transport.requests import Request\n",
    "from google.oauth2.credentials import Credentials\n",
    "from google_auth_oauthlib.flow import InstalledAppFlow\n",
    "from googleapiclient.discovery import build\n",
    "from googleapiclient.errors import HttpError\n",
    "from langchain_openai import ChatOpenAI\n",
    "from newsapi import NewsApiClient\n",
    "import smtplib\n",
    "from email.mime.text import MIMEText\n",
    "from datetime import datetime,timedelta\n",
    "from langchain_core.messages import AnyMessage, SystemMessage, HumanMessage, ToolMessage\n",
    "import smtplib\n",
    "from email.mime.text import MIMEText\n",
    "from langchain_core.tools import tool\n",
    "from typing import Annotated\n",
    "from langchain_core.utils.function_calling import convert_to_openai_function\n",
    "from typing_extensions import TypedDict\n",
    "from langchain.agents import create_openai_functions_agent\n",
    "from langgraph.graph.message import AnyMessage, add_messages\n",
    "from langchain import hub\n",
    "from langgraph.checkpoint.sqlite import SqliteSaver\n",
    "from langgraph.graph import END, StateGraph\n",
    "from langgraph.prebuilt import ToolNode, tools_condition\n",
    "from langchain_community.tools.tavily_search import TavilySearchResults\n",
    "from langchain_core.runnables import RunnablePassthrough\n",
    "from langchain_core.agents import AgentFinish\n",
    "from langgraph.graph import Graph, END\n"
   ]
  },
  {
   "cell_type": "code",
   "execution_count": null,
   "metadata": {},
   "outputs": [],
   "source": [
    "SCOPES = [\"https://www.googleapis.com/auth/calendar\"]\n",
    "NOTES={}\n",
    "newsapi = NewsApiClient(api_key='')"
   ]
  },
  {
   "cell_type": "code",
   "execution_count": null,
   "metadata": {},
   "outputs": [],
   "source": [
    "%set_env OPENAI_API_KEY=\n",
    "%set_env TAVILY_API_KEY="
   ]
  },
  {
   "cell_type": "code",
   "execution_count": null,
   "metadata": {},
   "outputs": [],
   "source": [
    "@tool\n",
    "def get_calender_info():\n",
    "  \"\"\"This code will trigger the Google API and fetch the next 10 nearing events and displays the start time and the \n",
    "   event name \"\"\"\n",
    "  creds = None\n",
    "  # The file token.json stores the user's access and refresh tokens, and is\n",
    "  # created automatically when the authorization flow completes for the first\n",
    "  # time.credentials.json\n",
    "  if os.path.exists(\"token.json\"):\n",
    "    creds = Credentials.from_authorized_user_file(\"token.json\", SCOPES)\n",
    "  # If there are no (valid) credentials available, let the user log in.\n",
    "  if not creds or not creds.valid:\n",
    "    if creds and creds.expired and creds.refresh_token:\n",
    "      creds.refresh(Request())\n",
    "    else:\n",
    "      flow = InstalledAppFlow.from_client_secrets_file(\n",
    "          \"/Users/praveenreddy/GenAI/Praveen_Agent/credentials.json\", SCOPES\n",
    "      )\n",
    "      creds = flow.run_local_server(port=0)\n",
    "    # Save the credentials for the next run\n",
    "    with open(\"token.json\", \"w\") as token:\n",
    "      token.write(creds.to_json())\n",
    "\n",
    "  try:\n",
    "    service = build(\"calendar\", \"v3\", credentials=creds)\n",
    "\n",
    "    # Call the Calendar API\n",
    "    now = datetime.utcnow().isoformat() + \"Z\"  # 'Z' indicates UTC time\n",
    "    print(\"Getting the upcoming 10 events\")\n",
    "    events_result = (\n",
    "        service.events()\n",
    "        .list(\n",
    "            calendarId=\"primary\",\n",
    "            timeMin=now,\n",
    "            maxResults=10,\n",
    "            singleEvents=True,\n",
    "            orderBy=\"startTime\",\n",
    "        )\n",
    "        .execute()\n",
    "    )\n",
    "    events = events_result.get(\"items\", [])\n",
    "\n",
    "    if not events:\n",
    "      print(\"No upcoming events found.\")\n",
    "      return\n",
    "\n",
    "    # Prints the start and name of the next 10 events\n",
    "    for event in events:\n",
    "      start = event[\"start\"].get(\"dateTime\", event[\"start\"].get(\"date\"))\n",
    "      print(start, event[\"summary\"])\n",
    "\n",
    "  except HttpError as error:\n",
    "    print(f\"An error occurred: {error}\")\n",
    "\n"
   ]
  },
  {
   "cell_type": "code",
   "execution_count": null,
   "metadata": {},
   "outputs": [],
   "source": [
    "@tool\n",
    "def tablets_reminder():\n",
    "    \"\"\"\n",
    "    This method will just return a simple dictionary which holds the values of tablet name \n",
    "    and when to take it (morning/afternoon/night)\n",
    "    \"\"\"\n",
    "    return[{'paracetmol':'morning'},{'dart':'afternoon'},{'kalpal':'night'}]"
   ]
  },
  {
   "cell_type": "code",
   "execution_count": null,
   "metadata": {},
   "outputs": [],
   "source": [
    "@tool\n",
    "def get_news_headlines():\n",
    "    \"\"\"This method will return the news headlines in india by triggering NEWS API\"\"\"\n",
    "    titles = []\n",
    "    top_headlines = newsapi.get_top_headlines( #q='headlines',\n",
    "                                        #   sources='bbc-news,the-verge',\n",
    "                                          category='general',\n",
    "                                          language='en',\n",
    "                                          country='in')\n",
    "    for i in top_headlines['articles']:\n",
    "      titles.append(i['title'],\"\\n\\n\")\n",
    "    return titles\n"
   ]
  },
  {
   "cell_type": "code",
   "execution_count": null,
   "metadata": {},
   "outputs": [],
   "source": [
    "@tool\n",
    "def send_email(subject, body, sender, recipients, password=\"\"):\n",
    "    \"\"\"This method will send an email (using Gmail API) with Subject and Body\"\"\"\n",
    "    msg = MIMEText(body)\n",
    "    msg['Subject'] = subject\n",
    "    msg['From'] = sender\n",
    "    msg['To'] = ', '.join(recipients)\n",
    "    with smtplib.SMTP_SSL('smtp.gmail.com', 465) as smtp_server:\n",
    "       smtp_server.login(\"mailpraveenreddy.c@gmail.com\", password)\n",
    "       smtp_server.sendmail(sender, recipients, msg.as_string())\n",
    "    return \"Message sent!\"\n",
    "\n",
    "\n",
    "\n",
    "# send_email(subject, body, sender, recipients, password)"
   ]
  },
  {
   "cell_type": "code",
   "execution_count": null,
   "metadata": {},
   "outputs": [],
   "source": [
    "def list_to_llm(context):\n",
    "    \"\"\"This function will call LLM and it will share the context with LLM and asks LLM to come up with somthiing and return that text\"\"\"\n",
    "    llm = ChatOpenAI()\n",
    "    res = llm.invoke(f\"Your are my assistant and you can build up some text around the context i share . Context is {context}\")\n",
    "    return res\n",
    "\n",
    "# list_to_llm(\"give my some high motivation quotes\")"
   ]
  },
  {
   "cell_type": "code",
   "execution_count": null,
   "metadata": {},
   "outputs": [],
   "source": [
    "tools = [send_email,get_news_headlines,tablets_reminder,get_calender_info,TavilySearchResults()]"
   ]
  },
  {
   "cell_type": "code",
   "execution_count": null,
   "metadata": {},
   "outputs": [],
   "source": [
    "prompt = hub.pull(\"hwchase17/openai-functions-agent\")\n",
    "# prompt\n",
    "llm = ChatOpenAI()"
   ]
  },
  {
   "cell_type": "code",
   "execution_count": null,
   "metadata": {},
   "outputs": [],
   "source": [
    "agent_runnable = create_openai_functions_agent(llm,tools,prompt)\n",
    "agent = RunnablePassthrough.assign(agent_outcome=agent_runnable)"
   ]
  },
  {
   "cell_type": "code",
   "execution_count": null,
   "metadata": {},
   "outputs": [],
   "source": [
    "def execute_tools(data):\n",
    "    agent_action = data.pop('agent_outcome')\n",
    "    print(\"agent_action\",agent_action)\n",
    "    tool_to_use = {t.name: t for t in tools}[agent_action.tool]\n",
    "    observation = tool_to_use.invoke(agent_action.tool_input)\n",
    "    data['intermediate_steps'].append((agent_action, observation))\n",
    "    return data"
   ]
  },
  {
   "cell_type": "code",
   "execution_count": null,
   "metadata": {},
   "outputs": [],
   "source": [
    "def should_continue(data):\n",
    "    if isinstance(data['agent_outcome'],AgentFinish):\n",
    "        return \"exit\"\n",
    "    else:\n",
    "        return \"continue\""
   ]
  },
  {
   "cell_type": "code",
   "execution_count": null,
   "metadata": {},
   "outputs": [],
   "source": [
    "graph = Graph()\n",
    "graph.add_node(\"agent\",agent)\n",
    "graph.add_node(\"tools\",execute_tools)\n",
    "graph.set_entry_point(\"agent\")\n",
    "graph.add_conditional_edges(\"agent\",should_continue, {\"continue\":\"tools\",\"exit\":END})\n",
    "graph.add_edge(\"tools\",\"agent\")\n",
    "chain = graph.compile()"
   ]
  },
  {
   "cell_type": "code",
   "execution_count": null,
   "metadata": {},
   "outputs": [],
   "source": [
    "from IPython.display import Image, display\n",
    "\n",
    "try:\n",
    "    display(Image(graph.get_graph(xray=True).draw_mermaid_png()))\n",
    "except:\n",
    "    # This requires some extra dependencies and is optional\n",
    "    pass"
   ]
  },
  {
   "cell_type": "code",
   "execution_count": 366,
   "metadata": {},
   "outputs": [
    {
     "name": "stdout",
     "output_type": "stream",
     "text": [
      "agent_action tool='get_calender_info' tool_input={} log='\\nInvoking: `get_calender_info` with `{}`\\n\\n\\n' message_log=[AIMessage(content='', additional_kwargs={'function_call': {'arguments': '{}', 'name': 'get_calender_info'}}, response_metadata={'token_usage': {'completion_tokens': 12, 'prompt_tokens': 266, 'total_tokens': 278}, 'model_name': 'gpt-3.5-turbo', 'system_fingerprint': None, 'finish_reason': 'function_call', 'logprobs': None}, id='run-93e9ca02-7004-46f7-9431-2a0e424840c5-0')]\n",
      "Getting the upcoming 10 events\n",
      "2024-06-08T14:15:00+05:30 Meeting with Bad Ass Boss\n",
      "2024-06-08T16:30:00+05:30 Meeting with Aarushi\n",
      "2024-06-08T19:15:00+05:30 Party WITH team mates\n",
      "I couldn't fetch the calendar information at the moment. Can you please try again later?\n"
     ]
    }
   ],
   "source": [
    "res = chain.invoke({\"input\":\"\"\" What are the meeting i HAVE TODAY IN my calender \"\"\",\"intermediate_steps\": []})\n",
    "if isinstance(res['agent_outcome'], AgentFinish):\n",
    "    # Extract the 'return_values' JSON string\n",
    "    return_values_str = res['agent_outcome'].return_values\n",
    "    print(return_values_str['output'])"
   ]
  },
  {
   "cell_type": "code",
   "execution_count": 367,
   "metadata": {},
   "outputs": [
    {
     "name": "stdout",
     "output_type": "stream",
     "text": [
      "Sure, here are 3 motivational quotes to uplift your spirits:\n",
      "\n",
      "1. \"Believe in yourself and all that you are. Know that there is something inside you that is greater than any obstacle.\" - Christian D. Larson\n",
      "\n",
      "2. \"Success is not final, failure is not fatal: It is the courage to continue that counts.\" - Winston Churchill\n",
      "\n",
      "3. \"The only way to do great work is to love what you do.\" - Steve Jobs\n",
      "\n",
      "I hope these quotes inspire and motivate you!\n"
     ]
    }
   ],
   "source": [
    "res = chain.invoke({\"input\":\"\"\"Give me some 3 highly motivational quotes as I am bit down today  \"\"\",\"intermediate_steps\": []})\n",
    "if isinstance(res['agent_outcome'], AgentFinish):\n",
    "    # Extract the 'return_values' JSON string\n",
    "    return_values_str = res['agent_outcome'].return_values\n",
    "    print(return_values_str['output'])"
   ]
  },
  {
   "cell_type": "code",
   "execution_count": 368,
   "metadata": {},
   "outputs": [
    {
     "name": "stdout",
     "output_type": "stream",
     "text": [
      "Munagala, a serene village nestled in nature's embrace,\n",
      "Where traditions thrive and community bonds grace.\n"
     ]
    }
   ],
   "source": [
    "res = chain.invoke({\"input\":\"\"\"My village name is Munagala and give me some 2 liner on my village,\n",
    "                    praising the village and the culture we have in villages \"\"\",\"intermediate_steps\": []})\n",
    "if isinstance(res['agent_outcome'], AgentFinish):\n",
    "    # Extract the 'return_values' JSON string\n",
    "    return_values_str = res['agent_outcome'].return_values\n",
    "    print(return_values_str['output'])"
   ]
  },
  {
   "cell_type": "code",
   "execution_count": 369,
   "metadata": {},
   "outputs": [
    {
     "name": "stdout",
     "output_type": "stream",
     "text": [
      "agent_action tool='send_email' tool_input={'body': 'drinks are waiting for you buddy, lets party tonight, be here by 6.30PM , see you !!', 'recipients': 'mailpraveenreddy.c@gmail.com', 'sender': 'your email id', 'subject': 'my wife is not at home, come over'} log=\"\\nInvoking: `send_email` with `{'body': 'drinks are waiting for you buddy, lets party tonight, be here by 6.30PM , see you !!', 'recipients': 'mailpraveenreddy.c@gmail.com', 'sender': 'your email id', 'subject': 'my wife is not at home, come over'}`\\n\\n\\n\" message_log=[AIMessage(content='', additional_kwargs={'function_call': {'arguments': '{\"body\":\"drinks are waiting for you buddy, lets party tonight, be here by 6.30PM , see you !!\",\"recipients\":\"mailpraveenreddy.c@gmail.com\",\"sender\":\"your email id\",\"subject\":\"my wife is not at home, come over\"}', 'name': 'send_email'}}, response_metadata={'token_usage': {'completion_tokens': 68, 'prompt_tokens': 323, 'total_tokens': 391}, 'model_name': 'gpt-3.5-turbo', 'system_fingerprint': None, 'finish_reason': 'function_call', 'logprobs': None}, id='run-a691ffc7-4e35-4349-91de-6a1a5b700f0b-0')]\n",
      "I have sent the email to your friend with the subject \"my wife is not at home, come over\" and the body \"drinks are waiting for you buddy, lets party tonight, be here by 6.30PM , see you !!\".\n",
      "If you need any more assistance, feel free to ask!\n"
     ]
    }
   ],
   "source": [
    "res = chain.invoke({\"input\":\"\"\"i want to send an email to friend , his email id is mailpraveenreddy.c@gmail.com, \n",
    "                    subject should be my wife is not at home, come over, and the body should be drinks are waiting for\n",
    "                      you buddy, lets party tonight, be here by 6.30PM , see you !! \"\"\",\"intermediate_steps\": []})\n",
    "if isinstance(res['agent_outcome'], AgentFinish):\n",
    "    # Extract the 'return_values' JSON string\n",
    "    return_values_str = res['agent_outcome'].return_values\n",
    "    print(return_values_str['output'])"
   ]
  },
  {
   "cell_type": "code",
   "execution_count": 371,
   "metadata": {},
   "outputs": [
    {
     "name": "stdout",
     "output_type": "stream",
     "text": [
      "agent_action tool='tavily_search_results_json' tool_input={'query': 'Telangana election results'} log=\"\\nInvoking: `tavily_search_results_json` with `{'query': 'Telangana election results'}`\\n\\n\\n\" message_log=[AIMessage(content='', additional_kwargs={'function_call': {'arguments': '{\"query\":\"Telangana election results\"}', 'name': 'tavily_search_results_json'}}, response_metadata={'token_usage': {'completion_tokens': 22, 'prompt_tokens': 266, 'total_tokens': 288}, 'model_name': 'gpt-3.5-turbo', 'system_fingerprint': None, 'finish_reason': 'function_call', 'logprobs': None}, id='run-c9694462-e37a-43af-8569-415fdc0b410f-0')]\n",
      "The elections in Telangana resulted in a draw between the Congress and BJP, with both national parties leading in 8 of the 17 Lok Sabha seats.\n"
     ]
    }
   ],
   "source": [
    "res = chain.invoke({\"input\":\"who won the elections in telangana , india  ?\",\"intermediate_steps\": []})\n",
    "if isinstance(res['agent_outcome'], AgentFinish):\n",
    "    # Extract the 'return_values' JSON string\n",
    "    return_values_str = res['agent_outcome'].return_values\n",
    "    print(return_values_str['output'])"
   ]
  },
  {
   "cell_type": "code",
   "execution_count": null,
   "metadata": {},
   "outputs": [],
   "source": []
  }
 ],
 "metadata": {
  "kernelspec": {
   "display_name": "Python 3 (ipykernel)",
   "language": "python",
   "name": "python3"
  },
  "language_info": {
   "codemirror_mode": {
    "name": "ipython",
    "version": 3
   },
   "file_extension": ".py",
   "mimetype": "text/x-python",
   "name": "python",
   "nbconvert_exporter": "python",
   "pygments_lexer": "ipython3",
   "version": "3.11.7"
  }
 },
 "nbformat": 4,
 "nbformat_minor": 2
}
