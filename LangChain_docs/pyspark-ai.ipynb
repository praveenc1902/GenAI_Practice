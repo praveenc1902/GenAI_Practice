{
 "cells": [
  {
   "cell_type": "code",
   "execution_count": 6,
   "id": "d4d780e5-fc65-4a21-93d8-1c70910ab760",
   "metadata": {},
   "outputs": [
    {
     "name": "stdout",
     "output_type": "stream",
     "text": [
      "Collecting pyspark\n",
      "  Downloading pyspark-3.5.1.tar.gz (317.0 MB)\n",
      "\u001b[2K     \u001b[90m━━━━━━━━━━━━━━━━━━━━━━━━━━━━━━━━━━━━━━━\u001b[0m \u001b[32m317.0/317.0 MB\u001b[0m \u001b[31m6.8 MB/s\u001b[0m eta \u001b[36m0:00:00\u001b[0m00:01\u001b[0m00:01\u001b[0m\n",
      "\u001b[?25h  Preparing metadata (setup.py) ... \u001b[?25ldone\n",
      "\u001b[?25hCollecting py4j==0.10.9.7 (from pyspark)\n",
      "  Downloading py4j-0.10.9.7-py2.py3-none-any.whl.metadata (1.5 kB)\n",
      "Downloading py4j-0.10.9.7-py2.py3-none-any.whl (200 kB)\n",
      "\u001b[2K   \u001b[90m━━━━━━━━━━━━━━━━━━━━━━━━━━━━━━━━━━━━━━━━\u001b[0m \u001b[32m200.5/200.5 kB\u001b[0m \u001b[31m22.0 MB/s\u001b[0m eta \u001b[36m0:00:00\u001b[0m\n",
      "\u001b[?25hBuilding wheels for collected packages: pyspark\n",
      "  Building wheel for pyspark (setup.py) ... \u001b[?25ldone\n",
      "\u001b[?25h  Created wheel for pyspark: filename=pyspark-3.5.1-py2.py3-none-any.whl size=317488491 sha256=4586b2967c02aa63b24d91db0b741490bd742bb827393e6c2354b8f8d488afca\n",
      "  Stored in directory: /Users/praveenreddy/Library/Caches/pip/wheels/95/13/41/f7f135ee114175605fb4f0a89e7389f3742aa6c1e1a5bcb657\n",
      "Successfully built pyspark\n",
      "Installing collected packages: py4j, pyspark\n",
      "Successfully installed py4j-0.10.9.7 pyspark-3.5.1\n"
     ]
    }
   ],
   "source": [
    "!pip install pyspark"
   ]
  },
  {
   "cell_type": "code",
   "execution_count": 1,
   "id": "7edffff0-f19b-4285-8a28-22a79efe28a1",
   "metadata": {},
   "outputs": [
    {
     "name": "stdout",
     "output_type": "stream",
     "text": [
      "Collecting pyspark-ai\n",
      "  Downloading pyspark_ai-0.1.21-py3-none-any.whl.metadata (10 kB)\n",
      "Requirement already satisfied: langchain<0.2,>=0.1 in /opt/anaconda3/lib/python3.11/site-packages (from pyspark-ai) (0.1.16)\n",
      "Requirement already satisfied: langchain-community<0.1,>=0.0 in /opt/anaconda3/lib/python3.11/site-packages (from pyspark-ai) (0.0.32)\n",
      "Requirement already satisfied: openai<2.0,>=1.0 in /opt/anaconda3/lib/python3.11/site-packages (from pyspark-ai) (1.16.2)\n",
      "Requirement already satisfied: pydantic<2.0,>=1.10 in /opt/anaconda3/lib/python3.11/site-packages (from pyspark-ai) (1.10.12)\n",
      "Requirement already satisfied: pygments<3.0,>=2.15 in /opt/anaconda3/lib/python3.11/site-packages (from pyspark-ai) (2.15.1)\n",
      "Requirement already satisfied: PyYAML>=5.3 in /opt/anaconda3/lib/python3.11/site-packages (from langchain<0.2,>=0.1->pyspark-ai) (6.0.1)\n",
      "Requirement already satisfied: SQLAlchemy<3,>=1.4 in /opt/anaconda3/lib/python3.11/site-packages (from langchain<0.2,>=0.1->pyspark-ai) (2.0.25)\n",
      "Requirement already satisfied: aiohttp<4.0.0,>=3.8.3 in /opt/anaconda3/lib/python3.11/site-packages (from langchain<0.2,>=0.1->pyspark-ai) (3.9.3)\n",
      "Requirement already satisfied: dataclasses-json<0.7,>=0.5.7 in /opt/anaconda3/lib/python3.11/site-packages (from langchain<0.2,>=0.1->pyspark-ai) (0.6.4)\n",
      "Requirement already satisfied: jsonpatch<2.0,>=1.33 in /opt/anaconda3/lib/python3.11/site-packages (from langchain<0.2,>=0.1->pyspark-ai) (1.33)\n",
      "Requirement already satisfied: langchain-core<0.2.0,>=0.1.42 in /opt/anaconda3/lib/python3.11/site-packages (from langchain<0.2,>=0.1->pyspark-ai) (0.1.42)\n",
      "Requirement already satisfied: langchain-text-splitters<0.1,>=0.0.1 in /opt/anaconda3/lib/python3.11/site-packages (from langchain<0.2,>=0.1->pyspark-ai) (0.0.1)\n",
      "Requirement already satisfied: langsmith<0.2.0,>=0.1.17 in /opt/anaconda3/lib/python3.11/site-packages (from langchain<0.2,>=0.1->pyspark-ai) (0.1.43)\n",
      "Requirement already satisfied: numpy<2,>=1 in /opt/anaconda3/lib/python3.11/site-packages (from langchain<0.2,>=0.1->pyspark-ai) (1.26.4)\n",
      "Requirement already satisfied: requests<3,>=2 in /opt/anaconda3/lib/python3.11/site-packages (from langchain<0.2,>=0.1->pyspark-ai) (2.31.0)\n",
      "Requirement already satisfied: tenacity<9.0.0,>=8.1.0 in /opt/anaconda3/lib/python3.11/site-packages (from langchain<0.2,>=0.1->pyspark-ai) (8.2.3)\n",
      "Requirement already satisfied: anyio<5,>=3.5.0 in /opt/anaconda3/lib/python3.11/site-packages (from openai<2.0,>=1.0->pyspark-ai) (4.2.0)\n",
      "Requirement already satisfied: distro<2,>=1.7.0 in /opt/anaconda3/lib/python3.11/site-packages (from openai<2.0,>=1.0->pyspark-ai) (1.8.0)\n",
      "Requirement already satisfied: httpx<1,>=0.23.0 in /opt/anaconda3/lib/python3.11/site-packages (from openai<2.0,>=1.0->pyspark-ai) (0.27.0)\n",
      "Requirement already satisfied: sniffio in /opt/anaconda3/lib/python3.11/site-packages (from openai<2.0,>=1.0->pyspark-ai) (1.3.0)\n",
      "Requirement already satisfied: tqdm>4 in /opt/anaconda3/lib/python3.11/site-packages (from openai<2.0,>=1.0->pyspark-ai) (4.65.0)\n",
      "Requirement already satisfied: typing-extensions<5,>=4.7 in /opt/anaconda3/lib/python3.11/site-packages (from openai<2.0,>=1.0->pyspark-ai) (4.9.0)\n",
      "Requirement already satisfied: aiosignal>=1.1.2 in /opt/anaconda3/lib/python3.11/site-packages (from aiohttp<4.0.0,>=3.8.3->langchain<0.2,>=0.1->pyspark-ai) (1.2.0)\n",
      "Requirement already satisfied: attrs>=17.3.0 in /opt/anaconda3/lib/python3.11/site-packages (from aiohttp<4.0.0,>=3.8.3->langchain<0.2,>=0.1->pyspark-ai) (23.1.0)\n",
      "Requirement already satisfied: frozenlist>=1.1.1 in /opt/anaconda3/lib/python3.11/site-packages (from aiohttp<4.0.0,>=3.8.3->langchain<0.2,>=0.1->pyspark-ai) (1.4.0)\n",
      "Requirement already satisfied: multidict<7.0,>=4.5 in /opt/anaconda3/lib/python3.11/site-packages (from aiohttp<4.0.0,>=3.8.3->langchain<0.2,>=0.1->pyspark-ai) (6.0.4)\n",
      "Requirement already satisfied: yarl<2.0,>=1.0 in /opt/anaconda3/lib/python3.11/site-packages (from aiohttp<4.0.0,>=3.8.3->langchain<0.2,>=0.1->pyspark-ai) (1.9.3)\n",
      "Requirement already satisfied: idna>=2.8 in /opt/anaconda3/lib/python3.11/site-packages (from anyio<5,>=3.5.0->openai<2.0,>=1.0->pyspark-ai) (3.4)\n",
      "Requirement already satisfied: marshmallow<4.0.0,>=3.18.0 in /opt/anaconda3/lib/python3.11/site-packages (from dataclasses-json<0.7,>=0.5.7->langchain<0.2,>=0.1->pyspark-ai) (3.21.1)\n",
      "Requirement already satisfied: typing-inspect<1,>=0.4.0 in /opt/anaconda3/lib/python3.11/site-packages (from dataclasses-json<0.7,>=0.5.7->langchain<0.2,>=0.1->pyspark-ai) (0.9.0)\n",
      "Requirement already satisfied: certifi in /opt/anaconda3/lib/python3.11/site-packages (from httpx<1,>=0.23.0->openai<2.0,>=1.0->pyspark-ai) (2024.2.2)\n",
      "Requirement already satisfied: httpcore==1.* in /opt/anaconda3/lib/python3.11/site-packages (from httpx<1,>=0.23.0->openai<2.0,>=1.0->pyspark-ai) (1.0.5)\n",
      "Requirement already satisfied: h11<0.15,>=0.13 in /opt/anaconda3/lib/python3.11/site-packages (from httpcore==1.*->httpx<1,>=0.23.0->openai<2.0,>=1.0->pyspark-ai) (0.14.0)\n",
      "Requirement already satisfied: jsonpointer>=1.9 in /opt/anaconda3/lib/python3.11/site-packages (from jsonpatch<2.0,>=1.33->langchain<0.2,>=0.1->pyspark-ai) (2.1)\n",
      "Requirement already satisfied: packaging<24.0,>=23.2 in /opt/anaconda3/lib/python3.11/site-packages (from langchain-core<0.2.0,>=0.1.42->langchain<0.2,>=0.1->pyspark-ai) (23.2)\n",
      "Requirement already satisfied: orjson<4.0.0,>=3.9.14 in /opt/anaconda3/lib/python3.11/site-packages (from langsmith<0.2.0,>=0.1.17->langchain<0.2,>=0.1->pyspark-ai) (3.10.0)\n",
      "Requirement already satisfied: charset-normalizer<4,>=2 in /opt/anaconda3/lib/python3.11/site-packages (from requests<3,>=2->langchain<0.2,>=0.1->pyspark-ai) (2.0.4)\n",
      "Requirement already satisfied: urllib3<3,>=1.21.1 in /opt/anaconda3/lib/python3.11/site-packages (from requests<3,>=2->langchain<0.2,>=0.1->pyspark-ai) (2.0.7)\n",
      "Requirement already satisfied: mypy-extensions>=0.3.0 in /opt/anaconda3/lib/python3.11/site-packages (from typing-inspect<1,>=0.4.0->dataclasses-json<0.7,>=0.5.7->langchain<0.2,>=0.1->pyspark-ai) (1.0.0)\n",
      "Downloading pyspark_ai-0.1.21-py3-none-any.whl (35 kB)\n",
      "Installing collected packages: pyspark-ai\n",
      "Successfully installed pyspark-ai-0.1.21\n",
      "Note: you may need to restart the kernel to use updated packages.\n"
     ]
    }
   ],
   "source": [
    "%pip install pyspark-ai --upgrade\n"
   ]
  },
  {
   "cell_type": "code",
   "execution_count": 7,
   "id": "c25a0347-bc68-4c51-bcb3-93e41ed14ddd",
   "metadata": {},
   "outputs": [],
   "source": [
    "from langchain.chat_models import ChatOpenAI\n",
    "from pyspark_ai import SparkAI"
   ]
  },
  {
   "cell_type": "code",
   "execution_count": 9,
   "id": "f3e6b8c7-d210-42df-b77d-0b852771e1f8",
   "metadata": {},
   "outputs": [],
   "source": [
    "OPENAI_API_KEY = \"\""
   ]
  },
  {
   "cell_type": "code",
   "execution_count": 10,
   "id": "ea86ac1e-d27d-467e-9fab-1e03d61b51cb",
   "metadata": {},
   "outputs": [],
   "source": [
    "llm = ChatOpenAI(openai_api_key=OPENAI_API_KEY)"
   ]
  },
  {
   "cell_type": "code",
   "execution_count": 14,
   "id": "181102ac-9d5e-470e-8f5d-6d488ad53579",
   "metadata": {},
   "outputs": [
    {
     "name": "stderr",
     "output_type": "stream",
     "text": [
      "24/04/16 20:51:06 WARN Utils: Your hostname, Praveens-MacBook-Air.local resolves to a loopback address: 127.0.0.1; using 192.168.1.6 instead (on interface en0)\n",
      "24/04/16 20:51:06 WARN Utils: Set SPARK_LOCAL_IP if you need to bind to another address\n",
      "Setting default log level to \"WARN\".\n",
      "To adjust logging level use sc.setLogLevel(newLevel). For SparkR, use setLogLevel(newLevel).\n",
      "24/04/16 20:51:06 WARN NativeCodeLoader: Unable to load native-hadoop library for your platform... using builtin-java classes where applicable\n"
     ]
    }
   ],
   "source": [
    "spark_ai = SparkAI(llm=llm)\n",
    "# spark_ai.activate()"
   ]
  },
  {
   "cell_type": "code",
   "execution_count": 15,
   "id": "a48538ff-f915-41ec-950a-6f64619e9646",
   "metadata": {},
   "outputs": [],
   "source": [
    "spark_ai.activate()"
   ]
  },
  {
   "cell_type": "code",
   "execution_count": 17,
   "id": "7f18d922-e98b-46e3-bca6-9a27414f90a2",
   "metadata": {},
   "outputs": [],
   "source": [
    "data = [(\"James\",\"Smith\",\"USA\",\"CA\",200000),\n",
    "    (\"Michael\",\"Rose\",\"USA\",\"NY\",150000),\n",
    "    (\"Robert\",\"Williams\",\"USA\",\"CA\",120000),\n",
    "    (\"Maria\",\"Jones\",\"USA\",\"NY\",130000),\n",
    "    (\"Ramana\",\"Madala\",\"India\",\"AP\",40000),\n",
    "    (\"Chandra\",\"Potte\",\"India\",\"AP\",50000),\n",
    "    (\"Krishna\",\"Murugan\",\"India\",\"TN\",40000),\n",
    "    (\"Saravanan\",\"Murugan\",\"India\",\"TN\",40000),\n",
    "  ]\n",
    "columns = [\"firstname\",\"lastname\",\"country\",\"state\",\"salary\"]\n",
    "\n",
    "df = spark_ai._spark.createDataFrame(data,columns)"
   ]
  },
  {
   "cell_type": "code",
   "execution_count": 18,
   "id": "b672785f-3f92-4080-986d-5b1974ff3dba",
   "metadata": {},
   "outputs": [
    {
     "name": "stderr",
     "output_type": "stream",
     "text": [
      "                                                                                \r"
     ]
    },
    {
     "name": "stdout",
     "output_type": "stream",
     "text": [
      "+---------+--------+-------+-----+------+\n",
      "|firstname|lastname|country|state|salary|\n",
      "+---------+--------+-------+-----+------+\n",
      "|    James|   Smith|    USA|   CA|200000|\n",
      "|  Michael|    Rose|    USA|   NY|150000|\n",
      "|   Robert|Williams|    USA|   CA|120000|\n",
      "|    Maria|   Jones|    USA|   NY|130000|\n",
      "|   Ramana|  Madala|  India|   AP| 40000|\n",
      "|  Chandra|   Potte|  India|   AP| 50000|\n",
      "|  Krishna| Murugan|  India|   TN| 40000|\n",
      "|Saravanan| Murugan|  India|   TN| 40000|\n",
      "+---------+--------+-------+-----+------+\n",
      "\n"
     ]
    }
   ],
   "source": [
    "df.show()"
   ]
  },
  {
   "cell_type": "code",
   "execution_count": 21,
   "id": "d26cf1f7-2bed-40da-b3ea-06f911e9e948",
   "metadata": {},
   "outputs": [
    {
     "name": "stdout",
     "output_type": "stream",
     "text": [
      "\u001b[92mINFO: \u001b[0mCreating temp view for the transform:\n",
      "df.createOrReplaceTempView(\u001b[33m\"\u001b[39;49;00m\u001b[33mspark_ai_temp_view_1784828485\u001b[39;49;00m\u001b[33m\"\u001b[39;49;00m)\u001b[37m\u001b[39;49;00m\n",
      "\n",
      "\u001b[92mINFO: \u001b[0mUsing cached result for the transform:\n",
      "\u001b[92mINFO: \u001b[0m\u001b[34mSELECT\u001b[39;49;00m\u001b[37m \u001b[39;49;00mcountry,\u001b[37m \u001b[39;49;00m\u001b[34mAVG\u001b[39;49;00m(salary)\u001b[37m \u001b[39;49;00m\u001b[34mAS\u001b[39;49;00m\u001b[37m \u001b[39;49;00mavg_salary\u001b[37m\u001b[39;49;00m\n",
      "\u001b[34mFROM\u001b[39;49;00m\u001b[37m \u001b[39;49;00mspark_ai_temp_view\u001b[37m\u001b[39;49;00m\n",
      "\u001b[34mGROUP\u001b[39;49;00m\u001b[37m \u001b[39;49;00m\u001b[34mBY\u001b[39;49;00m\u001b[37m \u001b[39;49;00mcountry\u001b[37m\u001b[39;49;00m\n",
      "\n",
      "+-------+----------+\n",
      "|country|avg_salary|\n",
      "+-------+----------+\n",
      "|    USA|  150000.0|\n",
      "|  India|   42500.0|\n",
      "+-------+----------+\n",
      "\n"
     ]
    }
   ],
   "source": [
    "df.ai.transform(\"give me average salary by country\").show()"
   ]
  },
  {
   "cell_type": "code",
   "execution_count": 22,
   "id": "819a8046-e58c-4282-9b0b-483cf858f4e6",
   "metadata": {},
   "outputs": [
    {
     "name": "stdout",
     "output_type": "stream",
     "text": [
      "\u001b[92mINFO: \u001b[0mParsing URL: https://www.structnet.com/instructions/zip_min_max_by_state.html\n",
      "\n"
     ]
    },
    {
     "name": "stderr",
     "output_type": "stream",
     "text": [
      "/opt/anaconda3/lib/python3.11/site-packages/langchain_core/_api/deprecation.py:117: LangChainDeprecationWarning: The function `run` was deprecated in LangChain 0.1.0 and will be removed in 0.2.0. Use invoke instead.\n",
      "  warn_deprecated(\n"
     ]
    },
    {
     "name": "stdout",
     "output_type": "stream",
     "text": [
      "\u001b[92mINFO: \u001b[0mSQL query for the ingestion:\n",
      "\u001b[34mCREATE\u001b[39;49;00m\u001b[37m \u001b[39;49;00m\u001b[34mOR\u001b[39;49;00m\u001b[37m \u001b[39;49;00m\u001b[34mREPLACE\u001b[39;49;00m\u001b[37m \u001b[39;49;00mTEMP\u001b[37m \u001b[39;49;00m\u001b[34mVIEW\u001b[39;49;00m\u001b[37m \u001b[39;49;00mspark_ai_temp_view_420284\u001b[37m \u001b[39;49;00m\u001b[34mAS\u001b[39;49;00m\u001b[37m\u001b[39;49;00m\n",
      "\u001b[34mSELECT\u001b[39;49;00m\u001b[37m \u001b[39;49;00m\n",
      "\u001b[37m    \u001b[39;49;00m\u001b[34mCAST\u001b[39;49;00m(Zip\u001b[37m \u001b[39;49;00m\u001b[34mAS\u001b[39;49;00m\u001b[37m \u001b[39;49;00m\u001b[36mINT\u001b[39;49;00m)\u001b[37m \u001b[39;49;00m\u001b[34mAS\u001b[39;49;00m\u001b[37m \u001b[39;49;00mZip,\u001b[37m\u001b[39;49;00m\n",
      "\u001b[37m    \u001b[39;49;00mStateName\u001b[37m \u001b[39;49;00m\u001b[34mAS\u001b[39;49;00m\u001b[37m \u001b[39;49;00m\u001b[34mState\u001b[39;49;00m,\u001b[37m\u001b[39;49;00m\n",
      "\u001b[37m    \u001b[39;49;00m\u001b[34mCAST\u001b[39;49;00m(ZipMin\u001b[37m \u001b[39;49;00m\u001b[34mAS\u001b[39;49;00m\u001b[37m \u001b[39;49;00m\u001b[36mINT\u001b[39;49;00m)\u001b[37m \u001b[39;49;00m\u001b[34mAS\u001b[39;49;00m\u001b[37m \u001b[39;49;00mZipMin,\u001b[37m\u001b[39;49;00m\n",
      "\u001b[37m    \u001b[39;49;00m\u001b[34mCAST\u001b[39;49;00m(ZipMax\u001b[37m \u001b[39;49;00m\u001b[34mAS\u001b[39;49;00m\u001b[37m \u001b[39;49;00m\u001b[36mINT\u001b[39;49;00m)\u001b[37m \u001b[39;49;00m\u001b[34mAS\u001b[39;49;00m\u001b[37m \u001b[39;49;00mZipMax\u001b[37m\u001b[39;49;00m\n",
      "\u001b[34mFROM\u001b[39;49;00m\u001b[37m \u001b[39;49;00m(\u001b[34mVALUES\u001b[39;49;00m\u001b[37m\u001b[39;49;00m\n",
      "\u001b[37m    \u001b[39;49;00m(\u001b[34m99501\u001b[39;49;00m,\u001b[37m \u001b[39;49;00m\u001b[33m'Alaska'\u001b[39;49;00m,\u001b[37m \u001b[39;49;00m\u001b[34m99501\u001b[39;49;00m,\u001b[37m \u001b[39;49;00m\u001b[34m99950\u001b[39;49;00m),\u001b[37m\u001b[39;49;00m\n",
      "\u001b[37m    \u001b[39;49;00m(\u001b[34m35004\u001b[39;49;00m,\u001b[37m \u001b[39;49;00m\u001b[33m'Alabama'\u001b[39;49;00m,\u001b[37m \u001b[39;49;00m\u001b[34m35004\u001b[39;49;00m,\u001b[37m \u001b[39;49;00m\u001b[34m36925\u001b[39;49;00m),\u001b[37m\u001b[39;49;00m\n",
      "\u001b[37m    \u001b[39;49;00m(\u001b[34m71601\u001b[39;49;00m,\u001b[37m \u001b[39;49;00m\u001b[33m'Arkansas'\u001b[39;49;00m,\u001b[37m \u001b[39;49;00m\u001b[34m71601\u001b[39;49;00m,\u001b[37m \u001b[39;49;00m\u001b[34m72959\u001b[39;49;00m),\u001b[37m\u001b[39;49;00m\n",
      "\u001b[37m    \u001b[39;49;00m(\u001b[34m75502\u001b[39;49;00m,\u001b[37m \u001b[39;49;00m\u001b[33m'Arkansas (Texarkana)'\u001b[39;49;00m,\u001b[37m \u001b[39;49;00m\u001b[34m75502\u001b[39;49;00m,\u001b[37m \u001b[39;49;00m\u001b[34m75502\u001b[39;49;00m),\u001b[37m\u001b[39;49;00m\n",
      "\u001b[37m    \u001b[39;49;00m(\u001b[34m85001\u001b[39;49;00m,\u001b[37m \u001b[39;49;00m\u001b[33m'Arizona'\u001b[39;49;00m,\u001b[37m \u001b[39;49;00m\u001b[34m85001\u001b[39;49;00m,\u001b[37m \u001b[39;49;00m\u001b[34m86556\u001b[39;49;00m),\u001b[37m\u001b[39;49;00m\n",
      "\u001b[37m    \u001b[39;49;00m(\u001b[34m90001\u001b[39;49;00m,\u001b[37m \u001b[39;49;00m\u001b[33m'California'\u001b[39;49;00m,\u001b[37m \u001b[39;49;00m\u001b[34m90001\u001b[39;49;00m,\u001b[37m \u001b[39;49;00m\u001b[34m96162\u001b[39;49;00m),\u001b[37m\u001b[39;49;00m\n",
      "\u001b[37m    \u001b[39;49;00m(\u001b[34m80001\u001b[39;49;00m,\u001b[37m \u001b[39;49;00m\u001b[33m'Colorado'\u001b[39;49;00m,\u001b[37m \u001b[39;49;00m\u001b[34m80001\u001b[39;49;00m,\u001b[37m \u001b[39;49;00m\u001b[34m81658\u001b[39;49;00m),\u001b[37m\u001b[39;49;00m\n",
      "\u001b[37m    \u001b[39;49;00m(\u001b[34m6001\u001b[39;49;00m,\u001b[37m \u001b[39;49;00m\u001b[33m'Connecticut'\u001b[39;49;00m,\u001b[37m \u001b[39;49;00m\u001b[34m6001\u001b[39;49;00m,\u001b[37m \u001b[39;49;00m\u001b[34m6389\u001b[39;49;00m),\u001b[37m\u001b[39;49;00m\n",
      "\u001b[37m    \u001b[39;49;00m(\u001b[34m6401\u001b[39;49;00m,\u001b[37m \u001b[39;49;00m\u001b[33m'Connecticut'\u001b[39;49;00m,\u001b[37m \u001b[39;49;00m\u001b[34m6401\u001b[39;49;00m,\u001b[37m \u001b[39;49;00m\u001b[34m6928\u001b[39;49;00m),\u001b[37m\u001b[39;49;00m\n",
      "\u001b[37m    \u001b[39;49;00m(\u001b[34m20001\u001b[39;49;00m,\u001b[37m \u001b[39;49;00m\u001b[33m'District of Columbia'\u001b[39;49;00m,\u001b[37m \u001b[39;49;00m\u001b[34m20001\u001b[39;49;00m,\u001b[37m \u001b[39;49;00m\u001b[34m20039\u001b[39;49;00m),\u001b[37m\u001b[39;49;00m\n",
      "\u001b[37m    \u001b[39;49;00m(\u001b[34m20042\u001b[39;49;00m,\u001b[37m \u001b[39;49;00m\u001b[33m'District of Columbia'\u001b[39;49;00m,\u001b[37m \u001b[39;49;00m\u001b[34m20042\u001b[39;49;00m,\u001b[37m \u001b[39;49;00m\u001b[34m20599\u001b[39;49;00m),\u001b[37m\u001b[39;49;00m\n",
      "\u001b[37m    \u001b[39;49;00m(\u001b[34m20799\u001b[39;49;00m,\u001b[37m \u001b[39;49;00m\u001b[33m'District of Columbia'\u001b[39;49;00m,\u001b[37m \u001b[39;49;00m\u001b[34m20799\u001b[39;49;00m,\u001b[37m \u001b[39;49;00m\u001b[34m20799\u001b[39;49;00m),\u001b[37m\u001b[39;49;00m\n",
      "\u001b[37m    \u001b[39;49;00m(\u001b[34m19701\u001b[39;49;00m,\u001b[37m \u001b[39;49;00m\u001b[33m'Delaware'\u001b[39;49;00m,\u001b[37m \u001b[39;49;00m\u001b[34m19701\u001b[39;49;00m,\u001b[37m \u001b[39;49;00m\u001b[34m19980\u001b[39;49;00m),\u001b[37m\u001b[39;49;00m\n",
      "\u001b[37m    \u001b[39;49;00m(\u001b[34m32004\u001b[39;49;00m,\u001b[37m \u001b[39;49;00m\u001b[33m'Florida'\u001b[39;49;00m,\u001b[37m \u001b[39;49;00m\u001b[34m32004\u001b[39;49;00m,\u001b[37m \u001b[39;49;00m\u001b[34m34997\u001b[39;49;00m),\u001b[37m\u001b[39;49;00m\n",
      "\u001b[37m    \u001b[39;49;00m(\u001b[34m30001\u001b[39;49;00m,\u001b[37m \u001b[39;49;00m\u001b[33m'Georgia'\u001b[39;49;00m,\u001b[37m \u001b[39;49;00m\u001b[34m30001\u001b[39;49;00m,\u001b[37m \u001b[39;49;00m\u001b[34m31999\u001b[39;49;00m),\u001b[37m\u001b[39;49;00m\n",
      "\u001b[37m    \u001b[39;49;00m(\u001b[34m39901\u001b[39;49;00m,\u001b[37m \u001b[39;49;00m\u001b[33m'Georgia (Atlanta)'\u001b[39;49;00m,\u001b[37m \u001b[39;49;00m\u001b[34m39901\u001b[39;49;00m,\u001b[37m \u001b[39;49;00m\u001b[34m39901\u001b[39;49;00m),\u001b[37m\u001b[39;49;00m\n",
      "\u001b[37m    \u001b[39;49;00m(\u001b[34m96701\u001b[39;49;00m,\u001b[37m \u001b[39;49;00m\u001b[33m'Hawaii'\u001b[39;49;00m,\u001b[37m \u001b[39;49;00m\u001b[34m96701\u001b[39;49;00m,\u001b[37m \u001b[39;49;00m\u001b[34m96898\u001b[39;49;00m),\u001b[37m\u001b[39;49;00m\n",
      "\u001b[37m    \u001b[39;49;00m(\u001b[34m50001\u001b[39;49;00m,\u001b[37m \u001b[39;49;00m\u001b[33m'Iowa'\u001b[39;49;00m,\u001b[37m \u001b[39;49;00m\u001b[34m50001\u001b[39;49;00m,\u001b[37m \u001b[39;49;00m\u001b[34m52809\u001b[39;49;00m),\u001b[37m\u001b[39;49;00m\n",
      "\u001b[37m    \u001b[39;49;00m(\u001b[34m68119\u001b[39;49;00m,\u001b[37m \u001b[39;49;00m\u001b[33m'Iowa (Omaha)'\u001b[39;49;00m,\u001b[37m \u001b[39;49;00m\u001b[34m68119\u001b[39;49;00m,\u001b[37m \u001b[39;49;00m\u001b[34m68120\u001b[39;49;00m),\u001b[37m\u001b[39;49;00m\n",
      "\u001b[37m    \u001b[39;49;00m(\u001b[34m83201\u001b[39;49;00m,\u001b[37m \u001b[39;49;00m\u001b[33m'Idaho'\u001b[39;49;00m,\u001b[37m \u001b[39;49;00m\u001b[34m83201\u001b[39;49;00m,\u001b[37m \u001b[39;49;00m\u001b[34m83876\u001b[39;49;00m),\u001b[37m\u001b[39;49;00m\n",
      "\u001b[37m    \u001b[39;49;00m(\u001b[34m60001\u001b[39;49;00m,\u001b[37m \u001b[39;49;00m\u001b[33m'Illinois'\u001b[39;49;00m,\u001b[37m \u001b[39;49;00m\u001b[34m60001\u001b[39;49;00m,\u001b[37m \u001b[39;49;00m\u001b[34m62999\u001b[39;49;00m),\u001b[37m\u001b[39;49;00m\n",
      "\u001b[37m    \u001b[39;49;00m(\u001b[34m46001\u001b[39;49;00m,\u001b[37m \u001b[39;49;00m\u001b[33m'Indiana'\u001b[39;49;00m,\u001b[37m \u001b[39;49;00m\u001b[34m46001\u001b[39;49;00m,\u001b[37m \u001b[39;49;00m\u001b[34m47997\u001b[39;49;00m),\u001b[37m\u001b[39;49;00m\n",
      "\u001b[37m    \u001b[39;49;00m(\u001b[34m66002\u001b[39;49;00m,\u001b[37m \u001b[39;49;00m\u001b[33m'Kansas'\u001b[39;49;00m,\u001b[37m \u001b[39;49;00m\u001b[34m66002\u001b[39;49;00m,\u001b[37m \u001b[39;49;00m\u001b[34m67954\u001b[39;49;00m),\u001b[37m\u001b[39;49;00m\n",
      "\u001b[37m    \u001b[39;49;00m(\u001b[34m40003\u001b[39;49;00m,\u001b[37m \u001b[39;49;00m\u001b[33m'Kentucky'\u001b[39;49;00m,\u001b[37m \u001b[39;49;00m\u001b[34m40003\u001b[39;49;00m,\u001b[37m \u001b[39;49;00m\u001b[34m42788\u001b[39;49;00m),\u001b[37m\u001b[39;49;00m\n",
      "\u001b[37m    \u001b[39;49;00m(\u001b[34m70001\u001b[39;49;00m,\u001b[37m \u001b[39;49;00m\u001b[33m'Louisiana'\u001b[39;49;00m,\u001b[37m \u001b[39;49;00m\u001b[34m70001\u001b[39;49;00m,\u001b[37m \u001b[39;49;00m\u001b[34m71232\u001b[39;49;00m),\u001b[37m\u001b[39;49;00m\n",
      "\u001b[37m    \u001b[39;49;00m(\u001b[34m71234\u001b[39;49;00m,\u001b[37m \u001b[39;49;00m\u001b[33m'Louisiana'\u001b[39;49;00m,\u001b[37m \u001b[39;49;00m\u001b[34m71234\u001b[39;49;00m,\u001b[37m \u001b[39;49;00m\u001b[34m71497\u001b[39;49;00m),\u001b[37m\u001b[39;49;00m\n",
      "\u001b[37m    \u001b[39;49;00m(\u001b[34m1001\u001b[39;49;00m,\u001b[37m \u001b[39;49;00m\u001b[33m'Massachusetts'\u001b[39;49;00m,\u001b[37m \u001b[39;49;00m\u001b[34m1001\u001b[39;49;00m,\u001b[37m \u001b[39;49;00m\u001b[34m2791\u001b[39;49;00m),\u001b[37m\u001b[39;49;00m\n",
      "\u001b[37m    \u001b[39;49;00m(\u001b[34m5501\u001b[39;49;00m,\u001b[37m \u001b[39;49;00m\u001b[33m'Massachusetts (Andover)'\u001b[39;49;00m,\u001b[37m \u001b[39;49;00m\u001b[34m5501\u001b[39;49;00m,\u001b[37m \u001b[39;49;00m\u001b[34m5544\u001b[39;49;00m),\u001b[37m\u001b[39;49;00m\n",
      "\u001b[37m    \u001b[39;49;00m(\u001b[34m20331\u001b[39;49;00m,\u001b[37m \u001b[39;49;00m\u001b[33m'Maryland'\u001b[39;49;00m,\u001b[37m \u001b[39;49;00m\u001b[34m20331\u001b[39;49;00m,\u001b[37m \u001b[39;49;00m\u001b[34m20331\u001b[39;49;00m),\u001b[37m\u001b[39;49;00m\n",
      "\u001b[37m    \u001b[39;49;00m(\u001b[34m20335\u001b[39;49;00m,\u001b[37m \u001b[39;49;00m\u001b[33m'Maryland'\u001b[39;49;00m,\u001b[37m \u001b[39;49;00m\u001b[34m20335\u001b[39;49;00m,\u001b[37m \u001b[39;49;00m\u001b[34m20797\u001b[39;49;00m),\u001b[37m\u001b[39;49;00m\n",
      "\u001b[37m    \u001b[39;49;00m(\u001b[34m20812\u001b[39;49;00m,\u001b[37m \u001b[39;49;00m\u001b[33m'Maryland'\u001b[39;49;00m,\u001b[37m \u001b[39;49;00m\u001b[34m20812\u001b[39;49;00m,\u001b[37m \u001b[39;49;00m\u001b[34m21930\u001b[39;49;00m),\u001b[37m\u001b[39;49;00m\n",
      "\u001b[37m    \u001b[39;49;00m(\u001b[34m3901\u001b[39;49;00m,\u001b[37m \u001b[39;49;00m\u001b[33m'Maine'\u001b[39;49;00m,\u001b[37m \u001b[39;49;00m\u001b[34m3901\u001b[39;49;00m,\u001b[37m \u001b[39;49;00m\u001b[34m4992\u001b[39;49;00m),\u001b[37m\u001b[39;49;00m\n",
      "\u001b[37m    \u001b[39;49;00m(\u001b[34m48001\u001b[39;49;00m,\u001b[37m \u001b[39;49;00m\u001b[33m'Michigan'\u001b[39;49;00m,\u001b[37m \u001b[39;49;00m\u001b[34m48001\u001b[39;49;00m,\u001b[37m \u001b[39;49;00m\u001b[34m49971\u001b[39;49;00m),\u001b[37m\u001b[39;49;00m\n",
      "\u001b[37m    \u001b[39;49;00m(\u001b[34m55001\u001b[39;49;00m,\u001b[37m \u001b[39;49;00m\u001b[33m'Minnesota'\u001b[39;49;00m,\u001b[37m \u001b[39;49;00m\u001b[34m55001\u001b[39;49;00m,\u001b[37m \u001b[39;49;00m\u001b[34m56763\u001b[39;49;00m),\u001b[37m\u001b[39;49;00m\n",
      "\u001b[37m    \u001b[39;49;00m(\u001b[34m63001\u001b[39;49;00m,\u001b[37m \u001b[39;49;00m\u001b[33m'Missouri'\u001b[39;49;00m,\u001b[37m \u001b[39;49;00m\u001b[34m63001\u001b[39;49;00m,\u001b[37m \u001b[39;49;00m\u001b[34m65899\u001b[39;49;00m),\u001b[37m\u001b[39;49;00m\n",
      "\u001b[37m    \u001b[39;49;00m(\u001b[34m38601\u001b[39;49;00m,\u001b[37m \u001b[39;49;00m\u001b[33m'Mississippi'\u001b[39;49;00m,\u001b[37m \u001b[39;49;00m\u001b[34m38601\u001b[39;49;00m,\u001b[37m \u001b[39;49;00m\u001b[34m39776\u001b[39;49;00m),\u001b[37m\u001b[39;49;00m\n",
      "\u001b[37m    \u001b[39;49;00m(\u001b[34m71233\u001b[39;49;00m,\u001b[37m \u001b[39;49;00m\u001b[33m'Mississippi (Warren)'\u001b[39;49;00m,\u001b[37m \u001b[39;49;00m\u001b[34m71233\u001b[39;49;00m,\u001b[37m \u001b[39;49;00m\u001b[34m71233\u001b[39;49;00m),\u001b[37m\u001b[39;49;00m\n",
      "\u001b[37m    \u001b[39;49;00m(\u001b[34m59001\u001b[39;49;00m,\u001b[37m \u001b[39;49;00m\u001b[33m'Montana'\u001b[39;49;00m,\u001b[37m \u001b[39;49;00m\u001b[34m59001\u001b[39;49;00m,\u001b[37m \u001b[39;49;00m\u001b[34m59937\u001b[39;49;00m),\u001b[37m\u001b[39;49;00m\n",
      "\u001b[37m    \u001b[39;49;00m(\u001b[34m27006\u001b[39;49;00m,\u001b[37m \u001b[39;49;00m\u001b[33m'North Carolina'\u001b[39;49;00m,\u001b[37m \u001b[39;49;00m\u001b[34m27006\u001b[39;49;00m,\u001b[37m \u001b[39;49;00m\u001b[34m28909\u001b[39;49;00m),\u001b[37m\u001b[39;49;00m\n",
      "\u001b[37m    \u001b[39;49;00m(\u001b[34m58001\u001b[39;49;00m,\u001b[37m \u001b[39;49;00m\u001b[33m'North Dakota'\u001b[39;49;00m,\u001b[37m \u001b[39;49;00m\u001b[34m58001\u001b[39;49;00m,\u001b[37m \u001b[39;49;00m\u001b[34m58856\u001b[39;49;00m),\u001b[37m\u001b[39;49;00m\n",
      "\u001b[37m    \u001b[39;49;00m(\u001b[34m68001\u001b[39;49;00m,\u001b[37m \u001b[39;49;00m\u001b[33m'Nebraska'\u001b[39;49;00m,\u001b[37m \u001b[39;49;00m\u001b[34m68001\u001b[39;49;00m,\u001b[37m \u001b[39;49;00m\u001b[34m68118\u001b[39;49;00m),\u001b[37m\u001b[39;49;00m\n",
      "\u001b[37m    \u001b[39;49;00m(\u001b[34m68122\u001b[39;49;00m,\u001b[37m \u001b[39;49;00m\u001b[33m'Nebraska'\u001b[39;49;00m,\u001b[37m \u001b[39;49;00m\u001b[34m68122\u001b[39;49;00m,\u001b[37m \u001b[39;49;00m\u001b[34m69367\u001b[39;49;00m),\u001b[37m\u001b[39;49;00m\n",
      "\u001b[37m    \u001b[39;49;00m(\u001b[34m3031\u001b[39;49;00m,\u001b[37m \u001b[39;49;00m\u001b[33m'New Hampshire'\u001b[39;49;00m,\u001b[37m \u001b[39;49;00m\u001b[34m3031\u001b[39;49;00m,\u001b[37m \u001b[39;49;00m\u001b[34m3897\u001b[39;49;00m),\u001b[37m\u001b[39;49;00m\n",
      "\u001b[37m    \u001b[39;49;00m(\u001b[34m7001\u001b[39;49;00m,\u001b[37m \u001b[39;49;00m\u001b[33m'New Jersey'\u001b[39;49;00m,\u001b[37m \u001b[39;49;00m\u001b[34m7001\u001b[39;49;00m,\u001b[37m \u001b[39;49;00m\u001b[34m8989\u001b[39;49;00m),\u001b[37m\u001b[39;49;00m\n",
      "\u001b[37m    \u001b[39;49;00m(\u001b[34m87001\u001b[39;49;00m,\u001b[37m \u001b[39;49;00m\u001b[33m'New Mexico'\u001b[39;49;00m,\u001b[37m \u001b[39;49;00m\u001b[34m87001\u001b[39;49;00m,\u001b[37m \u001b[39;49;00m\u001b[34m88441\u001b[39;49;00m),\u001b[37m\u001b[39;49;00m\n",
      "\u001b[37m    \u001b[39;49;00m(\u001b[34m88901\u001b[39;49;00m,\u001b[37m \u001b[39;49;00m\u001b[33m'Nevada'\u001b[39;49;00m,\u001b[37m \u001b[39;49;00m\u001b[34m88901\u001b[39;49;00m,\u001b[37m \u001b[39;49;00m\u001b[34m89883\u001b[39;49;00m),\u001b[37m\u001b[39;49;00m\n",
      "\u001b[37m    \u001b[39;49;00m(\u001b[34m6390\u001b[39;49;00m,\u001b[37m \u001b[39;49;00m\u001b[33m'New York (Fishers Island)'\u001b[39;49;00m,\u001b[37m \u001b[39;49;00m\u001b[34m6390\u001b[39;49;00m,\u001b[37m \u001b[39;49;00m\u001b[34m6390\u001b[39;49;00m),\u001b[37m\u001b[39;49;00m\n",
      "\u001b[37m    \u001b[39;49;00m(\u001b[34m10001\u001b[39;49;00m,\u001b[37m \u001b[39;49;00m\u001b[33m'New York'\u001b[39;49;00m,\u001b[37m \u001b[39;49;00m\u001b[34m10001\u001b[39;49;00m,\u001b[37m \u001b[39;49;00m\u001b[34m14975\u001b[39;49;00m),\u001b[37m\u001b[39;49;00m\n",
      "\u001b[37m    \u001b[39;49;00m(\u001b[34m43001\u001b[39;49;00m,\u001b[37m \u001b[39;49;00m\u001b[33m'Ohio'\u001b[39;49;00m,\u001b[37m \u001b[39;49;00m\u001b[34m43001\u001b[39;49;00m,\u001b[37m \u001b[39;49;00m\u001b[34m45999\u001b[39;49;00m),\u001b[37m\u001b[39;49;00m\n",
      "\u001b[37m    \u001b[39;49;00m(\u001b[34m73001\u001b[39;49;00m,\u001b[37m \u001b[39;49;00m\u001b[33m'Oklahoma'\u001b[39;49;00m,\u001b[37m \u001b[39;49;00m\u001b[34m73001\u001b[39;49;00m,\u001b[37m \u001b[39;49;00m\u001b[34m73199\u001b[39;49;00m),\u001b[37m\u001b[39;49;00m\n",
      "\u001b[37m    \u001b[39;49;00m(\u001b[34m73401\u001b[39;49;00m,\u001b[37m \u001b[39;49;00m\u001b[33m'Oklahoma'\u001b[39;49;00m,\u001b[37m \u001b[39;49;00m\u001b[34m73401\u001b[39;49;00m,\u001b[37m \u001b[39;49;00m\u001b[34m74966\u001b[39;49;00m),\u001b[37m\u001b[39;49;00m\n",
      "\u001b[37m    \u001b[39;49;00m(\u001b[34m97001\u001b[39;49;00m,\u001b[37m \u001b[39;49;00m\u001b[33m'Oregon'\u001b[39;49;00m,\u001b[37m \u001b[39;49;00m\u001b[34m97001\u001b[39;49;00m,\u001b[37m \u001b[39;49;00m\u001b[34m97920\u001b[39;49;00m),\u001b[37m\u001b[39;49;00m\n",
      "\u001b[37m    \u001b[39;49;00m(\u001b[34m15001\u001b[39;49;00m,\u001b[37m \u001b[39;49;00m\u001b[33m'Pennsylvania'\u001b[39;49;00m,\u001b[37m \u001b[39;49;00m\u001b[34m15001\u001b[39;49;00m,\u001b[37m \u001b[39;49;00m\u001b[34m19640\u001b[39;49;00m),\u001b[37m\u001b[39;49;00m\n",
      "\u001b[37m    \u001b[39;49;00m(\u001b[34m0\u001b[39;49;00m,\u001b[37m \u001b[39;49;00m\u001b[33m'Puerto Rico'\u001b[39;49;00m,\u001b[37m \u001b[39;49;00m\u001b[34m0\u001b[39;49;00m,\u001b[37m \u001b[39;49;00m\u001b[34m0\u001b[39;49;00m),\u001b[37m\u001b[39;49;00m\n",
      "\u001b[37m    \u001b[39;49;00m(\u001b[34m2801\u001b[39;49;00m,\u001b[37m \u001b[39;49;00m\u001b[33m'Rhode Island'\u001b[39;49;00m,\u001b[37m \u001b[39;49;00m\u001b[34m2801\u001b[39;49;00m,\u001b[37m \u001b[39;49;00m\u001b[34m2940\u001b[39;49;00m),\u001b[37m\u001b[39;49;00m\n",
      "\u001b[37m    \u001b[39;49;00m(\u001b[34m29001\u001b[39;49;00m,\u001b[37m \u001b[39;49;00m\u001b[33m'South Carolina'\u001b[39;49;00m,\u001b[37m \u001b[39;49;00m\u001b[34m29001\u001b[39;49;00m,\u001b[37m \u001b[39;49;00m\u001b[34m29948\u001b[39;49;00m),\u001b[37m\u001b[39;49;00m\n",
      "\u001b[37m    \u001b[39;49;00m(\u001b[34m57001\u001b[39;49;00m,\u001b[37m \u001b[39;49;00m\u001b[33m'South Dakota'\u001b[39;49;00m,\u001b[37m \u001b[39;49;00m\u001b[34m57001\u001b[39;49;00m,\u001b[37m \u001b[39;49;00m\u001b[34m57799\u001b[39;49;00m),\u001b[37m\u001b[39;49;00m\n",
      "\u001b[37m    \u001b[39;49;00m(\u001b[34m37010\u001b[39;49;00m,\u001b[37m \u001b[39;49;00m\u001b[33m'Tennessee'\u001b[39;49;00m,\u001b[37m \u001b[39;49;00m\u001b[34m37010\u001b[39;49;00m,\u001b[37m \u001b[39;49;00m\u001b[34m38589\u001b[39;49;00m),\u001b[37m\u001b[39;49;00m\n",
      "\u001b[37m    \u001b[39;49;00m(\u001b[34m73301\u001b[39;49;00m,\u001b[37m \u001b[39;49;00m\u001b[33m'Texas (Austin)'\u001b[39;49;00m,\u001b[37m \u001b[39;49;00m\u001b[34m73301\u001b[39;49;00m,\u001b[37m \u001b[39;49;00m\u001b[34m73301\u001b[39;49;00m),\u001b[37m\u001b[39;49;00m\n",
      "\u001b[37m    \u001b[39;49;00m(\u001b[34m75001\u001b[39;49;00m,\u001b[37m \u001b[39;49;00m\u001b[33m'Texas'\u001b[39;49;00m,\u001b[37m \u001b[39;49;00m\u001b[34m75001\u001b[39;49;00m,\u001b[37m \u001b[39;49;00m\u001b[34m75501\u001b[39;49;00m),\u001b[37m\u001b[39;49;00m\n",
      "\u001b[37m    \u001b[39;49;00m(\u001b[34m75503\u001b[39;49;00m,\u001b[37m \u001b[39;49;00m\u001b[33m'Texas'\u001b[39;49;00m,\u001b[37m \u001b[39;49;00m\u001b[34m75503\u001b[39;49;00m,\u001b[37m \u001b[39;49;00m\u001b[34m79999\u001b[39;49;00m),\u001b[37m\u001b[39;49;00m\n",
      "\u001b[37m    \u001b[39;49;00m(\u001b[34m88510\u001b[39;49;00m,\u001b[37m \u001b[39;49;00m\u001b[33m'Texas (El Paso)'\u001b[39;49;00m,\u001b[37m \u001b[39;49;00m\u001b[34m88510\u001b[39;49;00m,\u001b[37m \u001b[39;49;00m\u001b[34m88589\u001b[39;49;00m),\u001b[37m\u001b[39;49;00m\n",
      "\u001b[37m    \u001b[39;49;00m(\u001b[34m84001\u001b[39;49;00m,\u001b[37m \u001b[39;49;00m\u001b[33m'Utah'\u001b[39;49;00m,\u001b[37m \u001b[39;49;00m\u001b[34m84001\u001b[39;49;00m,\u001b[37m \u001b[39;49;00m\u001b[34m84784\u001b[39;49;00m),\u001b[37m\u001b[39;49;00m\n",
      "\u001b[37m    \u001b[39;49;00m(\u001b[34m20040\u001b[39;49;00m,\u001b[37m \u001b[39;49;00m\u001b[33m'Virginia'\u001b[39;49;00m,\u001b[37m \u001b[39;49;00m\u001b[34m20040\u001b[39;49;00m,\u001b[37m \u001b[39;49;00m\u001b[34m20041\u001b[39;49;00m),\u001b[37m\u001b[39;49;00m\n",
      "\u001b[37m    \u001b[39;49;00m(\u001b[34m20040\u001b[39;49;00m,\u001b[37m \u001b[39;49;00m\u001b[33m'Virginia'\u001b[39;49;00m,\u001b[37m \u001b[39;49;00m\u001b[34m20040\u001b[39;49;00m,\u001b[37m \u001b[39;49;00m\u001b[34m20167\u001b[39;49;00m),\u001b[37m\u001b[39;49;00m\n",
      "\u001b[37m    \u001b[39;49;00m(\u001b[34m20042\u001b[39;49;00m,\u001b[37m \u001b[39;49;00m\u001b[33m'Virginia'\u001b[39;49;00m,\u001b[37m \u001b[39;49;00m\u001b[34m20042\u001b[39;49;00m,\u001b[37m \u001b[39;49;00m\u001b[34m20042\u001b[39;49;00m),\u001b[37m\u001b[39;49;00m\n",
      "\u001b[37m    \u001b[39;49;00m(\u001b[34m22001\u001b[39;49;00m,\u001b[37m \u001b[39;49;00m\u001b[33m'Virginia'\u001b[39;49;00m,\u001b[37m \u001b[39;49;00m\u001b[34m22001\u001b[39;49;00m,\u001b[37m \u001b[39;49;00m\u001b[34m24658\u001b[39;49;00m),\u001b[37m\u001b[39;49;00m\n",
      "\u001b[37m    \u001b[39;49;00m(\u001b[34m5001\u001b[39;49;00m,\u001b[37m \u001b[39;49;00m\u001b[33m'Vermont'\u001b[39;49;00m,\u001b[37m \u001b[39;49;00m\u001b[34m5001\u001b[39;49;00m,\u001b[37m \u001b[39;49;00m\u001b[34m5495\u001b[39;49;00m),\u001b[37m\u001b[39;49;00m\n",
      "\u001b[37m    \u001b[39;49;00m(\u001b[34m5601\u001b[39;49;00m,\u001b[37m \u001b[39;49;00m\u001b[33m'Vermont'\u001b[39;49;00m,\u001b[37m \u001b[39;49;00m\u001b[34m5601\u001b[39;49;00m,\u001b[37m \u001b[39;49;00m\u001b[34m5907\u001b[39;49;00m),\u001b[37m\u001b[39;49;00m\n",
      "\u001b[37m    \u001b[39;49;00m(\u001b[34m98001\u001b[39;49;00m,\u001b[37m \u001b[39;49;00m\u001b[33m'Washington'\u001b[39;49;00m,\u001b[37m \u001b[39;49;00m\u001b[34m98001\u001b[39;49;00m,\u001b[37m \u001b[39;49;00m\u001b[34m99403\u001b[39;49;00m),\u001b[37m\u001b[39;49;00m\n",
      "\u001b[37m    \u001b[39;49;00m(\u001b[34m53001\u001b[39;49;00m,\u001b[37m \u001b[39;49;00m\u001b[33m'Wisconsin'\u001b[39;49;00m,\u001b[37m \u001b[39;49;00m\u001b[34m53001\u001b[39;49;00m,\u001b[37m \u001b[39;49;00m\u001b[34m54990\u001b[39;49;00m),\u001b[37m\u001b[39;49;00m\n",
      "\u001b[37m    \u001b[39;49;00m(\u001b[34m24701\u001b[39;49;00m,\u001b[37m \u001b[39;49;00m\u001b[33m'West Virginia'\u001b[39;49;00m,\u001b[37m \u001b[39;49;00m\u001b[34m24701\u001b[39;49;00m,\u001b[37m \u001b[39;49;00m\u001b[34m26886\u001b[39;49;00m),\u001b[37m\u001b[39;49;00m\n",
      "\u001b[37m    \u001b[39;49;00m(\u001b[34m82001\u001b[39;49;00m,\u001b[37m \u001b[39;49;00m\u001b[33m'Wyoming'\u001b[39;49;00m,\u001b[37m \u001b[39;49;00m\u001b[34m82001\u001b[39;49;00m,\u001b[37m \u001b[39;49;00m\u001b[34m83128\u001b[39;49;00m)\u001b[37m\u001b[39;49;00m\n",
      ")\u001b[37m \u001b[39;49;00m\u001b[34mAS\u001b[39;49;00m\u001b[37m \u001b[39;49;00mt(Zip,\u001b[37m \u001b[39;49;00mStateName,\u001b[37m \u001b[39;49;00mZipMin,\u001b[37m \u001b[39;49;00mZipMax)\u001b[37m\u001b[39;49;00m\n",
      "\n",
      "\u001b[92mINFO: \u001b[0mStoring data into temp view: spark_ai_temp_view_420284\n",
      "\n",
      "+-----+--------------------+------+------+\n",
      "|  Zip|               State|ZipMin|ZipMax|\n",
      "+-----+--------------------+------+------+\n",
      "|99501|              Alaska| 99501| 99950|\n",
      "|35004|             Alabama| 35004| 36925|\n",
      "|71601|            Arkansas| 71601| 72959|\n",
      "|75502|Arkansas (Texarkana)| 75502| 75502|\n",
      "|85001|             Arizona| 85001| 86556|\n",
      "|90001|          California| 90001| 96162|\n",
      "|80001|            Colorado| 80001| 81658|\n",
      "| 6001|         Connecticut|  6001|  6389|\n",
      "| 6401|         Connecticut|  6401|  6928|\n",
      "|20001|District of Columbia| 20001| 20039|\n",
      "|20042|District of Columbia| 20042| 20599|\n",
      "|20799|District of Columbia| 20799| 20799|\n",
      "|19701|            Delaware| 19701| 19980|\n",
      "|32004|             Florida| 32004| 34997|\n",
      "|30001|             Georgia| 30001| 31999|\n",
      "|39901|   Georgia (Atlanta)| 39901| 39901|\n",
      "|96701|              Hawaii| 96701| 96898|\n",
      "|50001|                Iowa| 50001| 52809|\n",
      "|68119|        Iowa (Omaha)| 68119| 68120|\n",
      "|83201|               Idaho| 83201| 83876|\n",
      "+-----+--------------------+------+------+\n",
      "only showing top 20 rows\n",
      "\n"
     ]
    }
   ],
   "source": [
    "auto_df = spark_ai.create_df(\"https://www.structnet.com/instructions/zip_min_max_by_state.html\")\n",
    "auto_df.show()"
   ]
  },
  {
   "cell_type": "code",
   "execution_count": null,
   "id": "ff576078-2391-4c13-963c-2a94065610ac",
   "metadata": {},
   "outputs": [],
   "source": [
    "df.ai.transform(\"\")"
   ]
  }
 ],
 "metadata": {
  "kernelspec": {
   "display_name": "Python 3 (ipykernel)",
   "language": "python",
   "name": "python3"
  },
  "language_info": {
   "codemirror_mode": {
    "name": "ipython",
    "version": 3
   },
   "file_extension": ".py",
   "mimetype": "text/x-python",
   "name": "python",
   "nbconvert_exporter": "python",
   "pygments_lexer": "ipython3",
   "version": "3.11.7"
  }
 },
 "nbformat": 4,
 "nbformat_minor": 5
}
