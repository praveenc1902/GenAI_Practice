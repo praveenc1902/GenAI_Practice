{
 "cells": [
  {
   "cell_type": "code",
   "execution_count": 3,
   "id": "5d823f81-45e4-460c-bd9a-bfc2a91d9715",
   "metadata": {},
   "outputs": [
    {
     "name": "stdout",
     "output_type": "stream",
     "text": [
      "Collecting python-pptx\n",
      "  Downloading python_pptx-0.6.23-py3-none-any.whl.metadata (18 kB)\n",
      "Requirement already satisfied: lxml>=3.1.0 in /opt/anaconda3/lib/python3.11/site-packages (from python-pptx) (4.9.3)\n",
      "Requirement already satisfied: Pillow>=3.3.2 in /opt/anaconda3/lib/python3.11/site-packages (from python-pptx) (10.2.0)\n",
      "Collecting XlsxWriter>=0.5.7 (from python-pptx)\n",
      "  Downloading XlsxWriter-3.2.0-py3-none-any.whl.metadata (2.6 kB)\n",
      "Downloading python_pptx-0.6.23-py3-none-any.whl (471 kB)\n",
      "\u001b[2K   \u001b[90m━━━━━━━━━━━━━━━━━━━━━━━━━━━━━━━━━━━━━━━━\u001b[0m \u001b[32m471.6/471.6 kB\u001b[0m \u001b[31m9.7 MB/s\u001b[0m eta \u001b[36m0:00:00\u001b[0mta \u001b[36m0:00:01\u001b[0m\n",
      "\u001b[?25hDownloading XlsxWriter-3.2.0-py3-none-any.whl (159 kB)\n",
      "\u001b[2K   \u001b[90m━━━━━━━━━━━━━━━━━━━━━━━━━━━━━━━━━━━━━━━━\u001b[0m \u001b[32m159.9/159.9 kB\u001b[0m \u001b[31m10.7 MB/s\u001b[0m eta \u001b[36m0:00:00\u001b[0m\n",
      "\u001b[?25hInstalling collected packages: XlsxWriter, python-pptx\n",
      "Successfully installed XlsxWriter-3.2.0 python-pptx-0.6.23\n"
     ]
    }
   ],
   "source": [
    "# !pip install unstructured\n",
    "!pip install python-pptx"
   ]
  },
  {
   "cell_type": "code",
   "execution_count": 4,
   "id": "083ac100-c4ae-414f-9c2d-2a35be6a8924",
   "metadata": {},
   "outputs": [
    {
     "name": "stdout",
     "output_type": "stream",
     "text": [
      "INFO: NumExpr defaulting to 8 threads.\n"
     ]
    }
   ],
   "source": [
    "#imports\n",
    "\n",
    "from IPython.display import JSON\n",
    "import json\n",
    "\n",
    "from unstructured_client import UnstructuredClient\n",
    "from unstructured_client.models import shared\n",
    "from unstructured_client.models.errors import SDKError\n",
    "\n",
    "from unstructured.partition.html import partition_html\n",
    "from unstructured.partition.pptx import partition_pptx\n",
    "from unstructured.staging.base import dict_to_elements, elements_to_json\n"
   ]
  },
  {
   "cell_type": "code",
   "execution_count": 24,
   "id": "7eb594d4-57fc-4e47-b6b1-99a4a696c7b9",
   "metadata": {},
   "outputs": [],
   "source": [
    "DLAI_API_KEY = \"\"\n",
    "DLAI_API_URL = \"\"\n",
    "s = UnstructuredClient(\n",
    "    api_key_auth=DLAI_API_KEY,\n",
    "    server_url=DLAI_API_URL,\n",
    ")\n"
   ]
  },
  {
   "cell_type": "code",
   "execution_count": 27,
   "id": "1708182d-ec1d-4ee8-8bee-384f2e238a63",
   "metadata": {},
   "outputs": [
    {
     "name": "stdout",
     "output_type": "stream",
     "text": [
      "INFO: Reading document from string ...\n",
      "INFO: Reading document ...\n"
     ]
    }
   ],
   "source": [
    "html_file_name = \"medium_blog.html\"\n",
    "elements  = partition_html(filename=html_file_name)"
   ]
  },
  {
   "cell_type": "code",
   "execution_count": 31,
   "id": "c3e26981-a4bd-41ac-81a8-cc6877ec8e76",
   "metadata": {},
   "outputs": [
    {
     "data": {
      "application/json": [
       {
        "element_id": "331332051f8e091115ac03fac0a88252",
        "metadata": {
         "category_depth": 0,
         "filename": "medium_blog.html",
         "filetype": "text/html",
         "languages": [
          "eng"
         ],
         "last_modified": "2024-05-07T07:39:36",
         "page_number": 1
        },
        "text": "Why Use Unstructured API?",
        "type": "Title"
       },
       {
        "element_id": "2638a251488c658b9e354d7ad799cec8",
        "metadata": {
         "filename": "medium_blog.html",
         "filetype": "text/html",
         "languages": [
          "eng"
         ],
         "last_modified": "2024-05-07T07:39:36",
         "link_start_indexes": [
          226,
          285
         ],
         "link_texts": [
          "open-source library",
          "Unstructured API"
         ],
         "link_urls": [
          "https://github.com/Unstructured-IO/unstructured",
          "https://github.com/Unstructured-IO/unstructured-api"
         ],
         "page_number": 1,
         "parent_id": "331332051f8e091115ac03fac0a88252"
        },
        "text": "Use cases for the Unstructured open-source library and API are vast; the possibilities are endless, from analyzing customer feedback in real time to extracting insights from large document repositories. While the Unstructured open-source library offers robust functionality, using the Unstructured API brings several compelling advantages:",
        "type": "NarrativeText"
       },
       {
        "element_id": "66ac54d728951d4fbb6921548acbc0ab",
        "metadata": {
         "category_depth": 1,
         "emphasized_text_contents": [
          "Ease of Use"
         ],
         "emphasized_text_tags": [
          "strong"
         ],
         "filename": "medium_blog.html",
         "filetype": "text/html",
         "languages": [
          "eng"
         ],
         "last_modified": "2024-05-07T07:39:36",
         "page_number": 1,
         "parent_id": "331332051f8e091115ac03fac0a88252"
        },
        "text": "Ease of Use: Managing dependencies is unnecessary with the API. All you need is an API key, and you’re ready to go.",
        "type": "ListItem"
       },
       {
        "element_id": "54dd087120f9671500a22d6f40677de4",
        "metadata": {
         "category_depth": 1,
         "emphasized_text_contents": [
          "Scalability"
         ],
         "emphasized_text_tags": [
          "strong"
         ],
         "filename": "medium_blog.html",
         "filetype": "text/html",
         "languages": [
          "eng"
         ],
         "last_modified": "2024-05-07T07:39:36",
         "page_number": 1,
         "parent_id": "331332051f8e091115ac03fac0a88252"
        },
        "text": "Scalability: Unstructured API can handle large volumes of data, making it perfect for enterprise-scale projects.",
        "type": "ListItem"
       },
       {
        "element_id": "b0b287be774acb8a6d6e9722395d715a",
        "metadata": {
         "category_depth": 1,
         "emphasized_text_contents": [
          "Continuous Updates"
         ],
         "emphasized_text_tags": [
          "strong"
         ],
         "filename": "medium_blog.html",
         "filetype": "text/html",
         "languages": [
          "eng"
         ],
         "last_modified": "2024-05-07T07:39:36",
         "page_number": 1,
         "parent_id": "331332051f8e091115ac03fac0a88252"
        },
        "text": "Continuous Updates: As a hosted service, the API benefits from constant updates and improvements without requiring manual updates.",
        "type": "ListItem"
       }
      ],
      "text/plain": [
       "<IPython.core.display.JSON object>"
      ]
     },
     "execution_count": 31,
     "metadata": {
      "application/json": {
       "expanded": false,
       "root": "root"
      }
     },
     "output_type": "execute_result"
    }
   ],
   "source": [
    "# JSON(elements)\n",
    "# elements\n",
    "elements_dict = [ ele.to_dict() for ele in elements]\n",
    "element_output = json.dumps(elements_dict[15:20])\n",
    "\n",
    "JSON(element_output)"
   ]
  },
  {
   "cell_type": "code",
   "execution_count": 35,
   "id": "6f2427e9-870f-43fd-89f2-ab8f468963ff",
   "metadata": {},
   "outputs": [
    {
     "data": {
      "application/json": [
       {
        "element_id": "e53cb06805f45fa23fb6d77966c5ec63",
        "metadata": {
         "category_depth": 1,
         "filename": "msft_openai.pptx",
         "filetype": "application/vnd.openxmlformats-officedocument.presentationml.presentation",
         "languages": [
          "eng"
         ],
         "last_modified": "2024-05-07T07:39:42",
         "page_number": 1
        },
        "text": "ChatGPT",
        "type": "Title"
       },
       {
        "element_id": "34a50527166e6765aa3e40778b5764e1",
        "metadata": {
         "category_depth": 0,
         "filename": "msft_openai.pptx",
         "filetype": "application/vnd.openxmlformats-officedocument.presentationml.presentation",
         "languages": [
          "eng"
         ],
         "last_modified": "2024-05-07T07:39:42",
         "page_number": 1,
         "parent_id": "e53cb06805f45fa23fb6d77966c5ec63"
        },
        "text": "Chat-GPT: AI Chatbot, developed by OpenAI, trained to perform conversational tasks and creative tasks",
        "type": "ListItem"
       },
       {
        "element_id": "631df69dff044f977d66d71c5cbdab83",
        "metadata": {
         "category_depth": 0,
         "filename": "msft_openai.pptx",
         "filetype": "application/vnd.openxmlformats-officedocument.presentationml.presentation",
         "languages": [
          "eng"
         ],
         "last_modified": "2024-05-07T07:39:42",
         "page_number": 1,
         "parent_id": "e53cb06805f45fa23fb6d77966c5ec63"
        },
        "text": "Backed by GPT-3.5 model (gpt-35-turbo), GPT-4 models",
        "type": "ListItem"
       },
       {
        "element_id": "6ac7cc52b0b2842ce7803bb176add0fb",
        "metadata": {
         "category_depth": 0,
         "filename": "msft_openai.pptx",
         "filetype": "application/vnd.openxmlformats-officedocument.presentationml.presentation",
         "languages": [
          "eng"
         ],
         "last_modified": "2024-05-07T07:39:42",
         "page_number": 1,
         "parent_id": "e53cb06805f45fa23fb6d77966c5ec63"
        },
        "text": "Trained over 175 billion machine learning parameters",
        "type": "ListItem"
       },
       {
        "element_id": "01133c5465c85564ab1e39568d8b51f5",
        "metadata": {
         "category_depth": 0,
         "filename": "msft_openai.pptx",
         "filetype": "application/vnd.openxmlformats-officedocument.presentationml.presentation",
         "languages": [
          "eng"
         ],
         "last_modified": "2024-05-07T07:39:42",
         "page_number": 1,
         "parent_id": "e53cb06805f45fa23fb6d77966c5ec63"
        },
        "text": "Conversation-in and message-out ",
        "type": "ListItem"
       },
       {
        "element_id": "1d495819227b92f341fb4b58d723a497",
        "metadata": {
         "category_depth": 0,
         "filename": "msft_openai.pptx",
         "filetype": "application/vnd.openxmlformats-officedocument.presentationml.presentation",
         "languages": [
          "eng"
         ],
         "last_modified": "2024-05-07T07:39:42",
         "page_number": 1,
         "parent_id": "e53cb06805f45fa23fb6d77966c5ec63"
        },
        "text": "Note: Chat Completion API for GPT-4 models",
        "type": "ListItem"
       },
       {
        "element_id": "e450241caa0f39c30939a474bcff06ac",
        "metadata": {
         "category_depth": 0,
         "filename": "msft_openai.pptx",
         "filetype": "application/vnd.openxmlformats-officedocument.presentationml.presentation",
         "languages": [
          "eng"
         ],
         "last_modified": "2024-05-07T07:39:42",
         "page_number": 1,
         "parent_id": "e53cb06805f45fa23fb6d77966c5ec63"
        },
        "text": "GPT-4 is multimodal (e.g., images + text)",
        "type": "ListItem"
       }
      ],
      "text/plain": [
       "<IPython.core.display.JSON object>"
      ]
     },
     "execution_count": 35,
     "metadata": {
      "application/json": {
       "expanded": false,
       "root": "root"
      }
     },
     "output_type": "execute_result"
    }
   ],
   "source": [
    "pptx_file_name = \"msft_openai.pptx\"\n",
    "elements = partition_pptx(filename=pptx_file_name)\n",
    "ppt_elements_dict = [ ele.to_dict() for ele in elements]\n",
    "ppt_elements_dict\n",
    "# pptx_output =  json.dumps(ppt_elements_dict[10:20])\n",
    "# JSON(pptx_output)\n",
    "JSON(json.dumps(ppt_elements_dict[:], indent=2))"
   ]
  },
  {
   "cell_type": "code",
   "execution_count": 38,
   "id": "1122d790-a3df-41c9-a04c-0b05a611247a",
   "metadata": {},
   "outputs": [],
   "source": [
    "file_name = \"CoT.pdf\"\n",
    "with open(file_name, \"rb\") as f:\n",
    "    files = shared.Files(\n",
    "        content = f.read(),\n",
    "        file_name = file_name\n",
    "    )\n",
    "req =  shared.PartitionParameters(\n",
    "    files =  files,\n",
    "    strategy = \"hi_res\",\n",
    "    pdf_infer_table_structure=True,\n",
    "    languages=['eng']\n",
    ")\n",
    "\n",
    "response =  s.general.partition(req)"
   ]
  },
  {
   "cell_type": "code",
   "execution_count": 40,
   "id": "80ee8df9-dbe7-4c65-b8cb-208db8b548be",
   "metadata": {},
   "outputs": [
    {
     "data": {
      "application/json": [
       {
        "element_id": "bff1fd0ec25e78f1224ad7309a1e79c4",
        "metadata": {
         "filename": "CoT.pdf",
         "filetype": "application/pdf",
         "languages": [
          "eng"
         ],
         "page_number": 1
        },
        "text": "B All Experimental Results",
        "type": "Title"
       },
       {
        "element_id": "ebf8dfb149bcbbd8c4b7f9a7046900a9",
        "metadata": {
         "filename": "CoT.pdf",
         "filetype": "application/pdf",
         "languages": [
          "eng"
         ],
         "page_number": 1,
         "parent_id": "bff1fd0ec25e78f1224ad7309a1e79c4"
        },
        "text": "This section contains tables for experimental results for varying models and model sizes, on all benchmarks, for standard prompting vs. chain-of-thought prompting.",
        "type": "NarrativeText"
       },
       {
        "element_id": "6cd0bd087c9bbab6e4d5d9b82c81a73d",
        "metadata": {
         "filename": "CoT.pdf",
         "filetype": "application/pdf",
         "languages": [
          "eng"
         ],
         "page_number": 1,
         "parent_id": "bff1fd0ec25e78f1224ad7309a1e79c4"
        },
        "text": "For the arithmetic reasoning benchmarks, some chains of thought (along with the equations produced) were correct, except the model performed an arithmetic operation incorrectly. A similar observation was made in Cobbe et al. (2021). Hence, we can further add a Python program as an external calculator (using the Python eval function) to all the equations in the generated chain of thought. When there are multiple equations in a chain of thought, we propagate the external calculator results from one equation to the following equations via string matching. As shown in Table 1, we see that adding a calculator signiﬁcantly boosts performance of chain-of-thought prompting on most tasks.",
        "type": "NarrativeText"
       },
       {
        "element_id": "dcbba23d31f0f544be8cd44ada08a0e3",
        "metadata": {
         "filename": "CoT.pdf",
         "filetype": "application/pdf",
         "languages": [
          "eng"
         ],
         "page_number": 1,
         "parent_id": "bff1fd0ec25e78f1224ad7309a1e79c4"
        },
        "text": "Table 1: Chain of thought prompting outperforms standard prompting for various large language models on ﬁve arithmetic reasoning benchmarks. All metrics are accuracy (%). Ext. calc.: post-hoc external calculator for arithmetic computations only. Prior best numbers are from the following. a: Cobbe et al. (2021). b & e: Pi et al. (2022), c: Lan et al. (2021), d: Pi˛ekos et al. (2021).",
        "type": "NarrativeText"
       },
       {
        "element_id": "61a4d41c47bc644286cb4d402e49bc5b",
        "metadata": {
         "filename": "CoT.pdf",
         "filetype": "application/pdf",
         "languages": [
          "eng"
         ],
         "page_number": 1,
         "parent_id": "bff1fd0ec25e78f1224ad7309a1e79c4",
         "text_as_html": "<table><thead><th></th><th>Prompting</th><th>GSMBK</th><th>SVAMP</th><th>ASDiv</th><th>AQUA</th><th>MAWPS</th></thead><tr><td>Prior best</td><td>(finetuning)</td><td>55¢</td><td>57.4°</td><td>75.3¢</td><td>37.9¢</td><td>88.4¢</td></tr><tr><td rowspan=\"3\">UL2 20B</td><td>Standard</td><td>4.1</td><td>10.1</td><td>16.0</td><td>20.5</td><td>16.6</td></tr><tr><td></td><td>Chain of thought</td><td>4.4 (+0.3)</td><td>12.5 2.4</td><td>16.9 (+0.9)</td><td>23.6 (+3.1)</td><td>19.1 (2.5</td></tr><tr><td></td><td>+ ext. cale</td><td>.9</td><td>283</td><td>343</td><td>23.6</td><td>4.7</td></tr><tr><td rowspan=\"3\">LaMDA 137B</td><td>Standard</td><td>6.5</td><td>29.5</td><td>40.1</td><td>25.5</td><td>432</td></tr><tr><td></td><td>Chain of thought</td><td>14.3 (+7.8)</td><td>37.5 +8.0)</td><td>46.6 (+6.5)</td><td>20.6 (-4.9)</td><td>57.9 (+14.7)</td></tr><tr><td></td><td>+ ext. cale</td><td>78</td><td>42.</td><td>534</td><td>20.6</td><td>69.3</td></tr><tr><td>GPT-3 175B</td><td>Standard</td><td>15.6</td><td>65.7</td><td>70.3</td><td>24.8</td><td>72.7</td></tr><tr><td rowspan=\"2\">(text-davinci-002)</td><td>Chain of thought</td><td>46.9 (+31.3)</td><td>68.9 +3.2)</td><td>71.3 (+1.0)</td><td>35.8 (+11.0)</td><td>87.1 (+14.4)</td></tr><tr><td></td><td>+ ext. cale</td><td>49.6</td><td>0.3</td><td>71.1</td><td>358</td><td>875</td></tr><tr><td>Codex</td><td>Standard</td><td>19.7</td><td>69.9</td><td>74.0</td><td>29.5</td><td>8.7</td></tr><tr><td rowspan=\"2\">(code-davinci-002)</td><td>Chain of thought</td><td>63.1 (+434)</td><td>76.4 (+6.5)</td><td>80.4 (+6.4)</td><td>45.3 (+15.8)</td><td>92.6 (+13.9)</td></tr><tr><td></td><td>+ ext. cale</td><td>65.4</td><td>77.0</td><td>80.0</td><td>453</td><td>933</td></tr><tr><td rowspan=\"3\">PalLM 540B</td><td></td><td>Standard</td><td>17.9</td><td>69.4</td><td>72.1</td><td>252</td><td>79.2</td></tr><tr><td></td><td>Chain of thought</td><td>56.9 +39.0)</td><td>79.0 (+9.6)</td><td>73.9 (+1.8)</td><td>35.8 (+10.6)</td><td>93.3 (+142)</td></tr><tr><td>+ ext. cale</td><td>58.6</td><td>79.8</td><td>726</td><td>358</td><td>935</td></tr></table>"
        },
        "text": "Prior best Prompting N/A (ﬁnetuning) 55a GSM8K SVAMP ASDiv 57.4b 75.3c AQuA 37.9d MAWPS 88.4e UL2 20B Standard Chain of thought 4.4 (+0.3) + ext. calc 4.1 6.9 10.1 12.5 (+2.4) 16.9 (+0.9) 23.6 (+3.1) 28.3 16.0 20.5 34.3 23.6 16.6 19.1 (+2.5) 42.7 LaMDA 137B Standard Chain of thought 14.3 (+7.8) + ext. calc 6.5 17.8 29.5 37.5 (+8.0) 46.6 (+6.5) 20.6 (-4.9) 42.1 40.1 25.5 53.4 20.6 43.2 57.9 (+14.7) 69.3 GPT-3 175B (text-davinci-002) Chain of thought 46.9 (+31.3) 68.9 (+3.2) 71.3 (+1.0) 35.8 (+11.0) 87.1 (+14.4) Standard 15.6 65.7 70.3 24.8 72.7 + ext. calc 49.6 70.3 71.1 35.8 87.5 Codex (code-davinci-002) Chain of thought 63.1 (+43.4) 76.4 (+6.5) 80.4 (+6.4) 45.3 (+15.8) 92.6 (+13.9) Standard 19.7 69.9 74.0 29.5 78.7 + ext. calc 65.4 77.0 80.0 45.3 93.3 PaLM 540B Standard Chain of thought 56.9 (+39.0) 79.0 (+9.6) 73.9 (+1.8) 35.8 (+10.6) 93.3 (+14.2) + ext. calc 17.9 69.4 72.1 25.2 79.2 79.8 58.6 72.6 35.8 93.5",
        "type": "Table"
       },
       {
        "element_id": "c7fee3dd719180a66847709f73429630",
        "metadata": {
         "filename": "CoT.pdf",
         "filetype": "application/pdf",
         "languages": [
          "eng"
         ],
         "page_number": 1
        },
        "text": "20",
        "type": "Footer"
       }
      ],
      "text/plain": [
       "<IPython.core.display.JSON object>"
      ]
     },
     "execution_count": 40,
     "metadata": {
      "application/json": {
       "expanded": false,
       "root": "root"
      }
     },
     "output_type": "execute_result"
    }
   ],
   "source": [
    "# response\n",
    "ele =  json.dumps(response.elements)\n",
    "JSON(ele)"
   ]
  },
  {
   "cell_type": "code",
   "execution_count": null,
   "id": "0b0ee9e7-2611-4fbc-926c-337d24a60c8c",
   "metadata": {},
   "outputs": [],
   "source": []
  }
 ],
 "metadata": {
  "kernelspec": {
   "display_name": "Python 3 (ipykernel)",
   "language": "python",
   "name": "python3"
  },
  "language_info": {
   "codemirror_mode": {
    "name": "ipython",
    "version": 3
   },
   "file_extension": ".py",
   "mimetype": "text/x-python",
   "name": "python",
   "nbconvert_exporter": "python",
   "pygments_lexer": "ipython3",
   "version": "3.11.7"
  }
 },
 "nbformat": 4,
 "nbformat_minor": 5
}
