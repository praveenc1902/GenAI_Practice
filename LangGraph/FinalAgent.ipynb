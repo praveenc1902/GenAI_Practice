{
 "cells": [
  {
   "cell_type": "code",
   "execution_count": 16,
   "id": "2b268865-7aea-4b3f-8538-4aa66f0ee8b5",
   "metadata": {},
   "outputs": [
    {
     "name": "stdout",
     "output_type": "stream",
     "text": [
      "Collecting tavily-python\n",
      "  Downloading tavily_python-0.3.3-py3-none-any.whl.metadata (4.4 kB)\n",
      "Requirement already satisfied: requests in /opt/anaconda3/lib/python3.11/site-packages (from tavily-python) (2.31.0)\n",
      "Requirement already satisfied: tiktoken<1,>=0.5.2 in /opt/anaconda3/lib/python3.11/site-packages (from tavily-python) (0.6.0)\n",
      "Requirement already satisfied: regex>=2022.1.18 in /opt/anaconda3/lib/python3.11/site-packages (from tiktoken<1,>=0.5.2->tavily-python) (2023.10.3)\n",
      "Requirement already satisfied: charset-normalizer<4,>=2 in /opt/anaconda3/lib/python3.11/site-packages (from requests->tavily-python) (3.3.2)\n",
      "Requirement already satisfied: idna<4,>=2.5 in /opt/anaconda3/lib/python3.11/site-packages (from requests->tavily-python) (3.4)\n",
      "Requirement already satisfied: urllib3<3,>=1.21.1 in /opt/anaconda3/lib/python3.11/site-packages (from requests->tavily-python) (1.26.18)\n",
      "Requirement already satisfied: certifi>=2017.4.17 in /opt/anaconda3/lib/python3.11/site-packages (from requests->tavily-python) (2024.2.2)\n",
      "Downloading tavily_python-0.3.3-py3-none-any.whl (5.4 kB)\n",
      "Installing collected packages: tavily-python\n",
      "Successfully installed tavily-python-0.3.3\n"
     ]
    }
   ],
   "source": [
    "!pip install tavily-python"
   ]
  },
  {
   "cell_type": "code",
   "execution_count": 39,
   "id": "fce58ae0-cdd9-4066-b9e7-a5b5102e612f",
   "metadata": {},
   "outputs": [
    {
     "name": "stdout",
     "output_type": "stream",
     "text": [
      "env: OPENAI_API_KEY=\n"
     ]
    }
   ],
   "source": [
    "%set_env OPENAI_API_KEY=\n",
    "TAVILY_API_KEY=\"tvly-\""
   ]
  },
  {
   "cell_type": "code",
   "execution_count": 4,
   "id": "6f511de2-7449-40aa-b56f-204b7e26563f",
   "metadata": {},
   "outputs": [],
   "source": [
    "from langgraph.graph import StateGraph, END\n",
    "from typing import TypedDict, Annotated, List\n",
    "import operator\n",
    "from langgraph.checkpoint.sqlite import SqliteSaver\n",
    "from langchain_core.messages import AnyMessage, SystemMessage, HumanMessage, AIMessage, ChatMessage\n",
    "\n",
    "memory = SqliteSaver.from_conn_string(\":memory:\")"
   ]
  },
  {
   "cell_type": "code",
   "execution_count": 37,
   "id": "ee3c2ffb-a307-47ac-9c64-f581c0476fdf",
   "metadata": {},
   "outputs": [],
   "source": [
    "from langchain_openai import ChatOpenAI\n",
    "model = ChatOpenAI(model=\"gpt-3.5-turbo\", temperature=0)"
   ]
  },
  {
   "cell_type": "code",
   "execution_count": 5,
   "id": "7f057221-61c1-4d82-9998-33e015060115",
   "metadata": {},
   "outputs": [],
   "source": [
    "class AgentState(TypedDict):\n",
    "    task: str\n",
    "    plan: str\n",
    "    draft: str\n",
    "    critique: str\n",
    "    content: List[str]\n",
    "    revision_number: int\n",
    "    max_revisions: int"
   ]
  },
  {
   "cell_type": "code",
   "execution_count": 6,
   "id": "97f0f3b6-3c57-4628-af19-4754cad18b83",
   "metadata": {},
   "outputs": [],
   "source": [
    "PLAN_PROMPT = \"\"\"You are an expert writer tasked with writing a high level outline of an essay. \\\n",
    "Write such an outline for the user provided topic. Give an outline of the essay along with any relevant notes \\\n",
    "or instructions for the sections.\"\"\""
   ]
  },
  {
   "cell_type": "code",
   "execution_count": 7,
   "id": "fc698039-2726-4050-b80f-01c5ba857481",
   "metadata": {},
   "outputs": [],
   "source": [
    "WRITER_PROMPT = \"\"\"You are an essay assistant tasked with writing excellent 2-paragraph essays.\\\n",
    "Generate the best essay possible for the user's request and the initial outline. \\\n",
    "If the user provides critique, respond with a revised version of your previous attempts. \\\n",
    "Utilize all the information below as needed: \n",
    "\n",
    "------\n",
    "\n",
    "{content}\"\"\""
   ]
  },
  {
   "cell_type": "code",
   "execution_count": 8,
   "id": "6466e534-d3bd-413e-985c-fcd235a328e4",
   "metadata": {},
   "outputs": [],
   "source": [
    "REFLECTION_PROMPT = \"\"\"You are a teacher grading an essay submission. \\\n",
    "Generate critique and recommendations for the user's submission. \\\n",
    "Provide detailed recommendations, including requests for length, depth, style, etc.\"\"\""
   ]
  },
  {
   "cell_type": "code",
   "execution_count": 9,
   "id": "2b9a01fb-5ff2-4da9-ada1-6f6778c6d7a7",
   "metadata": {},
   "outputs": [],
   "source": [
    "RESEARCH_PLAN_PROMPT = \"\"\"You are a researcher charged with providing information that can \\\n",
    "be used when writing the following essay. Generate a list of search queries that will gather \\\n",
    "any relevant information. Only generate 3 queries max.\"\"\"\n"
   ]
  },
  {
   "cell_type": "code",
   "execution_count": 10,
   "id": "7781eb8f-eed5-44b9-8549-81cdfbeec6a1",
   "metadata": {},
   "outputs": [],
   "source": [
    "RESEARCH_CRITIQUE_PROMPT = \"\"\"You are a researcher charged with providing information that can \\\n",
    "be used when making any requested revisions (as outlined below). \\\n",
    "Generate a list of search queries that will gather any relevant information. Only generate 3 queries max.\"\"\""
   ]
  },
  {
   "cell_type": "code",
   "execution_count": 11,
   "id": "44826882-fd92-486a-a546-33cc482486e4",
   "metadata": {},
   "outputs": [],
   "source": [
    "from langchain_core.pydantic_v1 import BaseModel\n",
    "\n",
    "class Queries(BaseModel):\n",
    "    queries: List[str]"
   ]
  },
  {
   "cell_type": "code",
   "execution_count": 20,
   "id": "5655c434-217f-4333-ac3c-a50b788bf784",
   "metadata": {},
   "outputs": [],
   "source": [
    "from tavily import TavilyClient\n",
    "import os\n",
    "tavily = TavilyClient(api_key=TAVILY_API_KEY)"
   ]
  },
  {
   "cell_type": "code",
   "execution_count": 21,
   "id": "46989855-3ace-47c3-9396-2ec5187cb7ea",
   "metadata": {},
   "outputs": [],
   "source": [
    "def plan_node(state:AgentState):\n",
    "    messages = [\n",
    "        SystemMessage(content=PLAN_PROMPT),\n",
    "        HumanMessage(content=state['task'])\n",
    "    ]\n",
    "    response =  model.invoke(messages)\n",
    "    return {'plan':response.content}"
   ]
  },
  {
   "cell_type": "code",
   "execution_count": 22,
   "id": "0fd83c41-d274-4f83-a3db-51c6d0e9c31a",
   "metadata": {},
   "outputs": [],
   "source": [
    "def research_plan_node(state:AgentState):\n",
    "    messages= [\n",
    "        SystemMessage(content=RESEARCH_PLAN_PROMPT),\n",
    "        HumanMessage(content=state['task'])\n",
    "    ]\n",
    "    queries = model.with_structured_output(Queries).invoke(messages)\n",
    "    content =  state['content'] or []\n",
    "    for q in queries.queries:\n",
    "        response = tavily.search(query=q)\n",
    "        for r in response['results']:\n",
    "            content.append(r['content'])\n",
    "    return {\"content\": content}"
   ]
  },
  {
   "cell_type": "code",
   "execution_count": 23,
   "id": "8a3d39b4-e7e5-4698-b332-a1d9ba129edd",
   "metadata": {},
   "outputs": [],
   "source": [
    "def generation_node(state:AgentState):\n",
    "    content = '\\n\\n'.join(state['content']) or []\n",
    "    user_message = HumanMessage(\n",
    "        content=f\"{state['task']}\\n\\nHere is my plan:\\n\\n{state['plan']}\")\n",
    "    messages = [\n",
    "        SystemMessage(\n",
    "            content=WRITER_PROMPT.format(content=content)\n",
    "        ),\n",
    "        user_message\n",
    "        ]\n",
    "    response = model.invoke(messages)\n",
    "    return {\n",
    "        \"draft\": response.content, \n",
    "        \"revision_number\": state.get(\"revision_number\", 1) + 1\n",
    "    }"
   ]
  },
  {
   "cell_type": "code",
   "execution_count": 24,
   "id": "78e67f52-885e-4b7e-8ced-ce1ce1447aae",
   "metadata": {},
   "outputs": [],
   "source": [
    "def reflection_node(state:AgentState):\n",
    "    messages = [\n",
    "        SystemMessage(content=REFLECTION_PROMPT), \n",
    "        HumanMessage(content=state['draft'])\n",
    "    ]\n",
    "    response = model.invoke(messages)\n",
    "    return {\"critique\": response.content}"
   ]
  },
  {
   "cell_type": "code",
   "execution_count": 25,
   "id": "3b9fc39d-6815-456e-8118-bd51d0bf2ad5",
   "metadata": {},
   "outputs": [],
   "source": [
    "def research_critique_node(state: AgentState):\n",
    "    queries = model.with_structured_output(Queries).invoke([\n",
    "        SystemMessage(content=RESEARCH_CRITIQUE_PROMPT),\n",
    "        HumanMessage(content=state['critique'])\n",
    "    ])\n",
    "    content = state['content'] or []\n",
    "    for q in queries.queries:\n",
    "        response = tavily.search(query=q, max_results=2)\n",
    "        for r in response['results']:\n",
    "            content.append(r['content'])\n",
    "    return {\"content\": content}"
   ]
  },
  {
   "cell_type": "code",
   "execution_count": 26,
   "id": "3804c45e-2096-4e07-8b59-5a4d5560f883",
   "metadata": {},
   "outputs": [],
   "source": [
    "def should_continue(state):\n",
    "    if state[\"revision_number\"] > state[\"max_revisions\"]:\n",
    "        return END\n",
    "    return \"reflect\""
   ]
  },
  {
   "cell_type": "code",
   "execution_count": 27,
   "id": "b63ee205-3a92-43a2-a316-1faf8c3eeade",
   "metadata": {},
   "outputs": [],
   "source": [
    "builder = StateGraph(AgentState)"
   ]
  },
  {
   "cell_type": "code",
   "execution_count": 28,
   "id": "f89098aa-f810-4a3f-b7b7-b347aeef84ca",
   "metadata": {},
   "outputs": [],
   "source": [
    "builder.add_node(\"planner\",plan_node)\n",
    "builder.add_node(\"generate\", generation_node)\n",
    "builder.add_node(\"reflect\", reflection_node)\n",
    "builder.add_node(\"research_plan\", research_plan_node)\n",
    "builder.add_node(\"research_critique\", research_critique_node)"
   ]
  },
  {
   "cell_type": "code",
   "execution_count": 29,
   "id": "c077e0cb-30b0-4c52-9a57-da0c0dd998b2",
   "metadata": {},
   "outputs": [],
   "source": [
    "builder.set_entry_point(\"planner\")"
   ]
  },
  {
   "cell_type": "code",
   "execution_count": 30,
   "id": "18f0812e-0d99-40b7-bc9a-8c3550aeec2f",
   "metadata": {},
   "outputs": [],
   "source": [
    "builder.add_conditional_edges(\n",
    "    \"generate\", \n",
    "    should_continue, \n",
    "    {END: END, \"reflect\": \"reflect\"}\n",
    ")\n"
   ]
  },
  {
   "cell_type": "code",
   "execution_count": 31,
   "id": "db878f9f-e392-423d-907e-7f37e537540a",
   "metadata": {},
   "outputs": [],
   "source": [
    "builder.add_edge(\"planner\",\"research_plan\")\n",
    "builder.add_edge(\"research_plan\",\"generate\")"
   ]
  },
  {
   "cell_type": "code",
   "execution_count": 32,
   "id": "08fa28b0-b52b-4ef6-8576-2b5fc85ad045",
   "metadata": {},
   "outputs": [],
   "source": [
    "builder.add_edge(\"reflect\", \"research_critique\")\n",
    "builder.add_edge(\"research_critique\", \"generate\")"
   ]
  },
  {
   "cell_type": "code",
   "execution_count": 34,
   "id": "5164dba3-d8fc-4ba9-97d7-dd10b8bad01b",
   "metadata": {},
   "outputs": [],
   "source": [
    "graph = builder.compile(checkpointer=memory)"
   ]
  },
  {
   "cell_type": "code",
   "execution_count": 35,
   "id": "9b909cd4-6830-4642-9909-3636d6423e75",
   "metadata": {},
   "outputs": [],
   "source": [
    "thread = {\"configurable\": {\"thread_id\": \"1\"}}"
   ]
  },
  {
   "cell_type": "code",
   "execution_count": 38,
   "id": "95a413ba-ada6-4a41-a5e9-30747f00da07",
   "metadata": {},
   "outputs": [
    {
     "name": "stdout",
     "output_type": "stream",
     "text": [
      "{'planner': {'plan': 'I. Introduction\\n    A. Brief overview of the historical background of Andhra Pradesh and Telangana\\n    B. Thesis statement: Despite being part of the same region, Andhra Pradesh and Telangana have distinct differences in terms of history, culture, and governance.\\n\\nII. Historical Background\\n    A. Formation of Andhra Pradesh in 1956\\n    B. Separation of Telangana from Andhra Pradesh in 2014\\n\\nIII. Cultural Differences\\n    A. Language: Telugu in Andhra Pradesh, Telugu and Urdu in Telangana\\n    B. Festivals and traditions unique to each region\\n    C. Cuisine variations\\n\\nIV. Governance and Administration\\n    A. Administrative divisions and capitals\\n    B. Political landscape and major political parties in each state\\n    C. Economic disparities and development initiatives\\n\\nV. Socio-Economic Factors\\n    A. Demographic differences\\n    B. Education and healthcare infrastructure\\n    C. Employment opportunities and industrial growth\\n\\nVI. Current Issues and Challenges\\n    A. Water disputes and resource allocation\\n    B. Infrastructure development and urbanization\\n    C. Socio-political tensions and regional identity\\n\\nVII. Conclusion\\n    A. Recap of the key differences between Andhra Pradesh and Telangana\\n    B. Reflection on the implications of these differences for the future of both states\\n    C. Call for fostering mutual understanding and cooperation between the two regions.'}}\n",
      "{'research_plan': {'content': [\"June 2 is Telangana Formation Day and this year marks a decade since India's youngest state was carved out of Andhra Pradesh. The ruling Congress government in Telangana celebrated the event while emphasising the party's role in the state formation process. ... Mumbai, after a Bill to carve out Telangana state out of Andhra Pradesh was ...\", 'Famous food of Andhra Pradesh vs Telangana State HDI of Andhra Pradesh VS Telangana State. Talking about HDI i.e. Human Development Index. Both these states also come under the category of Medium Human Development Index in India. with an HDI of 0.650, Andhra Pradesh ranks 27th and with an HDI of 0.669 Telangana ranks 22nd in India.', \"Telangana was for a long time part of the erstwhile Nizam's princely state of Hyderabad. But in 1956 Telangana region of Hyderabad State was merged with Andhra Pradesh state. From 1956 to 2014, Telangana existed as part of Andhra Pradesh. The region accounts for 119 seats of 294 in the assembly of AP and 17 Loksabha seats out of 42.\", 'The difference between Andhra Pradesh and Telangana is that Andhra Pradesh was formed earlier than Telangana; Andhra Pradesh was formed on 1 November 1956, whereas Telangana was formed on 2 June 2014. Andhra Pradesh covers more area, i.e. 162,968 km², whereas Telangana covers less area, i.e. 1,12,077 km². There are only 13 districts in Andhra ...', 'Andhra Pradesh and Telangana are two states located in southern India. Both states were once part of the larger state of Andhra Pradesh until they were separated in 2014. Despite their shared history and cultural similarities, there are several distinct attributes that set Andhra and Telangana apart.', 'But the States Reorganisation Act passed in 1956 ignored this recommendation, merging Andhra State and Telangana into a single state called Andhra Pradesh, with Hyderabad as the capital. For some, like Bharat Rashtra Samithi (BRS) leader K Chandrasekar Rao who was the first CM of the state and active in the state movement, this was the point ...', 'Call for Telangana statehood. In 1969, the Telangana Praja Samiti was formed to further the call for a separate Telangana state, and when protests for the same turned increasingly violent, the Andhra Pradesh High Court state declared the Mulki Rules null and void, only for the decision to be stopped by a divisional bench of the same court.', 'It was only after several deliberations that Andhra Pradesh, including Hyderabad State, came into being on November 1, 1956. But discontent simmered between the people of Andhra and Telangana ...', \"Telangana was for a long time part of the erstwhile Nizam's princely state of Hyderabad. But in 1956 Telangana region of Hyderabad State was merged with Andhra Pradesh state. From 1956 to 2014, Telangana existed as part of Andhra Pradesh. The region accounts for 119 seats of 294 in the assembly of AP and 17 Loksabha seats out of 42.\", 'The difference between Andhra Pradesh and Telangana is that Andhra Pradesh was formed earlier than Telangana; Andhra Pradesh was formed on 1 November 1956, whereas Telangana was formed on 2 June 2014. Andhra Pradesh covers more area, i.e. 162,968 km², whereas Telangana covers less area, i.e. 1,12,077 km². There are only 13 districts in Andhra ...', \"Literacy Rate of Andhra Pradesh VS Telangana State. Talking about the literacy rate, the literacy rate of Andhra Pradesh is 67.4% while the literacy rate of Telangana is 72.8%. Which is less than India's average literacy rate of 77.7%.\", 'Call for Telangana statehood. In 1969, the Telangana Praja Samiti was formed to further the call for a separate Telangana state, and when protests for the same turned increasingly violent, the Andhra Pradesh High Court state declared the Mulki Rules null and void, only for the decision to be stopped by a divisional bench of the same court.', 'The difference between Andhra Pradesh and Telangana is that Andhra Pradesh was formed earlier than Telangana; Andhra Pradesh was formed on 1 November 1956, whereas Telangana was formed on 2 June 2014. Andhra Pradesh covers more area, i.e. 162,968 km², whereas Telangana covers less area, i.e. 1,12,077 km². There are only 13 districts in Andhra ...', 'Andhra Pradesh and Telangana are two states located in southern India. Both states were once part of the larger state of Andhra Pradesh until they were separated in 2014. Despite their shared history and cultural similarities, there are several distinct attributes that set Andhra and Telangana apart.', 'But the States Reorganisation Act passed in 1956 ignored this recommendation, merging Andhra State and Telangana into a single state called Andhra Pradesh, with Hyderabad as the capital. For some, like Bharat Rashtra Samithi (BRS) leader K Chandrasekar Rao who was the first CM of the state and active in the state movement, this was the point ...']}}\n",
      "{'generate': {'draft': \"Andhra Pradesh and Telangana, two states in southern India, have a rich historical background that sets them apart. While Andhra Pradesh was formed in 1956, Telangana was separated from it in 2014, marking a significant shift in the region's governance. One of the key cultural differences between the two states lies in language, with Telugu being predominant in Andhra Pradesh and a mix of Telugu and Urdu in Telangana. Additionally, each region boasts unique festivals, traditions, and cuisine, reflecting their diverse heritage.\\n\\nIn terms of governance and administration, Andhra Pradesh and Telangana have distinct administrative divisions and capitals, contributing to variations in political landscapes and major parties in each state. Economic disparaties and development initiatives also differ between the two regions. Socio-economic factors such as demographic variations, education, healthcare infrastructure, and employment opportunities further highlight the differences between Andhra Pradesh and Telangana. As these states navigate current issues like water disputes, infrastructure development, and socio-political tensions, fostering mutual understanding and cooperation between the regions becomes crucial for their future growth and prosperity.\", 'revision_number': 2}}\n",
      "{'reflect': {'critique': 'Your essay provides a good overview of the differences between Andhra Pradesh and Telangana in terms of history, culture, governance, and socio-economic factors. However, there are areas where you can enhance your analysis and provide more depth to your discussion.\\n\\n1. **Historical Background**: While you mention the formation of Andhra Pradesh in 1956 and the separation of Telangana in 2014, you could delve deeper into the historical context that led to these events. Exploring the socio-political movements, linguistic differences, and regional disparities that shaped the creation of these states would provide a more comprehensive understanding.\\n\\n2. **Cultural Differences**: You briefly touch upon language, festivals, traditions, and cuisine, but you could elaborate on how these cultural aspects influence the daily lives, social interactions, and identities of the people in Andhra Pradesh and Telangana. Providing specific examples and anecdotes can make your analysis more engaging and informative.\\n\\n3. **Governance and Administration**: While you mention administrative divisions and capitals, you could discuss how these factors impact policy-making, resource allocation, and governance effectiveness in each state. Analyzing the role of regional parties, political dynamics, and governance challenges specific to Andhra Pradesh and Telangana would add depth to your argument.\\n\\n4. **Socio-Economic Factors**: You briefly touch upon economic disparaties, development initiatives, and socio-economic indicators, but you could provide more data, statistics, and case studies to support your analysis. Exploring issues such as poverty levels, infrastructure gaps, healthcare access, and educational outcomes would strengthen your discussion on socio-economic differences.\\n\\n5. **Current Issues and Future Prospects**: While you mention water disputes, infrastructure development, and socio-political tensions, you could elaborate on how these challenges are being addressed or exacerbated in Andhra Pradesh and Telangana. Discussing potential solutions, policy recommendations, and the importance of regional cooperation for sustainable development would enrich your conclusion.\\n\\nIn terms of recommendations:\\n- **Length**: Consider expanding your essay to provide more detailed analysis and examples for each point.\\n- **Depth**: Delve deeper into the historical, cultural, political, and socio-economic aspects of Andhra Pradesh and Telangana to offer a nuanced perspective.\\n- **Style**: Use a more formal tone and academic language to enhance the credibility and professionalism of your essay.\\n- **Sources**: Cite reputable sources, research studies, and official reports to support your arguments and provide evidence for your claims.\\n\\nOverall, your essay has a solid foundation, but by incorporating these recommendations, you can elevate your analysis and provide a more comprehensive exploration of the differences between Andhra Pradesh and Telangana.'}}\n",
      "{'research_critique': {'content': [\"June 2 is Telangana Formation Day and this year marks a decade since India's youngest state was carved out of Andhra Pradesh. The ruling Congress government in Telangana celebrated the event while emphasising the party's role in the state formation process. ... Mumbai, after a Bill to carve out Telangana state out of Andhra Pradesh was ...\", 'Famous food of Andhra Pradesh vs Telangana State HDI of Andhra Pradesh VS Telangana State. Talking about HDI i.e. Human Development Index. Both these states also come under the category of Medium Human Development Index in India. with an HDI of 0.650, Andhra Pradesh ranks 27th and with an HDI of 0.669 Telangana ranks 22nd in India.', \"Telangana was for a long time part of the erstwhile Nizam's princely state of Hyderabad. But in 1956 Telangana region of Hyderabad State was merged with Andhra Pradesh state. From 1956 to 2014, Telangana existed as part of Andhra Pradesh. The region accounts for 119 seats of 294 in the assembly of AP and 17 Loksabha seats out of 42.\", 'The difference between Andhra Pradesh and Telangana is that Andhra Pradesh was formed earlier than Telangana; Andhra Pradesh was formed on 1 November 1956, whereas Telangana was formed on 2 June 2014. Andhra Pradesh covers more area, i.e. 162,968 km², whereas Telangana covers less area, i.e. 1,12,077 km². There are only 13 districts in Andhra ...', 'Andhra Pradesh and Telangana are two states located in southern India. Both states were once part of the larger state of Andhra Pradesh until they were separated in 2014. Despite their shared history and cultural similarities, there are several distinct attributes that set Andhra and Telangana apart.', 'But the States Reorganisation Act passed in 1956 ignored this recommendation, merging Andhra State and Telangana into a single state called Andhra Pradesh, with Hyderabad as the capital. For some, like Bharat Rashtra Samithi (BRS) leader K Chandrasekar Rao who was the first CM of the state and active in the state movement, this was the point ...', 'Call for Telangana statehood. In 1969, the Telangana Praja Samiti was formed to further the call for a separate Telangana state, and when protests for the same turned increasingly violent, the Andhra Pradesh High Court state declared the Mulki Rules null and void, only for the decision to be stopped by a divisional bench of the same court.', 'It was only after several deliberations that Andhra Pradesh, including Hyderabad State, came into being on November 1, 1956. But discontent simmered between the people of Andhra and Telangana ...', \"Telangana was for a long time part of the erstwhile Nizam's princely state of Hyderabad. But in 1956 Telangana region of Hyderabad State was merged with Andhra Pradesh state. From 1956 to 2014, Telangana existed as part of Andhra Pradesh. The region accounts for 119 seats of 294 in the assembly of AP and 17 Loksabha seats out of 42.\", 'The difference between Andhra Pradesh and Telangana is that Andhra Pradesh was formed earlier than Telangana; Andhra Pradesh was formed on 1 November 1956, whereas Telangana was formed on 2 June 2014. Andhra Pradesh covers more area, i.e. 162,968 km², whereas Telangana covers less area, i.e. 1,12,077 km². There are only 13 districts in Andhra ...', \"Literacy Rate of Andhra Pradesh VS Telangana State. Talking about the literacy rate, the literacy rate of Andhra Pradesh is 67.4% while the literacy rate of Telangana is 72.8%. Which is less than India's average literacy rate of 77.7%.\", 'Call for Telangana statehood. In 1969, the Telangana Praja Samiti was formed to further the call for a separate Telangana state, and when protests for the same turned increasingly violent, the Andhra Pradesh High Court state declared the Mulki Rules null and void, only for the decision to be stopped by a divisional bench of the same court.', 'The difference between Andhra Pradesh and Telangana is that Andhra Pradesh was formed earlier than Telangana; Andhra Pradesh was formed on 1 November 1956, whereas Telangana was formed on 2 June 2014. Andhra Pradesh covers more area, i.e. 162,968 km², whereas Telangana covers less area, i.e. 1,12,077 km². There are only 13 districts in Andhra ...', 'Andhra Pradesh and Telangana are two states located in southern India. Both states were once part of the larger state of Andhra Pradesh until they were separated in 2014. Despite their shared history and cultural similarities, there are several distinct attributes that set Andhra and Telangana apart.', 'But the States Reorganisation Act passed in 1956 ignored this recommendation, merging Andhra State and Telangana into a single state called Andhra Pradesh, with Hyderabad as the capital. For some, like Bharat Rashtra Samithi (BRS) leader K Chandrasekar Rao who was the first CM of the state and active in the state movement, this was the point ...', 'The Historical Context of. Andhra and T elangana, 1 949-5 6. Gau ta m P in gl e. This paper sets out the historical con text that led t o the. formation of Andhra Pradesh through a me rger of ...', 'The Historical Context of Andhra and Telangana, 1949-56 GAUTAM PINGLE This paper sets out the historical context that led to the formation of Andhra Pradesh through a merger of Andhra state with the Telangana region of Hyderabad State. It may be that some reasonably dispassionate history based on recorded texts and academic research', \"But most of these assurances remained on paper and the people of Andhra gained ascendancy over Hyderabad's and Telangana's social and economic life. By the mid 1960's things were hotting up ...\", \"10 Years of Andhra Pradesh's Bifurcation Completed in 2024. Andhra Pradesh's bifurcation created new state of Telangana from the existing state of Andhra in 2014. 10 years after bifurcation, several issues remain unresolved Telangana and Andhra. Sakshi Gupta Published On June 3rd, 2024. Table of Contents.\", 'Bifurcation blues: 10 years later, several issues remain unresolved between Andhra, Telangana. The APRA-2014 includes 12 parts and 13 Schedules with 108 Sections detailing the reorganisation of ...', 'But the issues between Andhra Pradesh and Telangana are aplenty. Under the aegis of the Union Home Ministry, more than 38 meetings took place between Andhra Pradesh and Telangana governments between 2014 and 2022 over the distribution of government assets and liabilities. There were also low-level meetings between officials of both states, but ...']}}\n",
      "{'generate': {'draft': \"Andhra Pradesh and Telangana, two states in southern India, have a rich historical background that shapes their unique identities. Formed in 1956, Andhra Pradesh was later separated to create Telangana in 2014. One of the key differences between the two states lies in their cultural aspects. While Telugu is the primary language in both regions, Telangana also embraces Urdu due to its historical connection with the Nizam's princely state. Festivals, traditions, and cuisine vary between Andhra Pradesh and Telangana, reflecting their distinct cultural heritages.\\n\\nGovernance and administration further set Andhra Pradesh and Telangana apart. Each state has its administrative divisions and capitals, contributing to different political landscapes. Economic disparaties and development initiatives also differ, impacting socio-economic factors like demographics, education, healthcare, and industrial growth. Despite these variations, current issues such as water disputes, infrastructure development, and socio-political tensions persist, highlighting the need for mutual understanding and cooperation between Andhra Pradesh and Telangana for a harmonious future.\", 'revision_number': 3}}\n"
     ]
    }
   ],
   "source": [
    "for s in graph.stream({\n",
    "    'task': \"what is the difference between Andhra Pradesh & Telangana\",\n",
    "    \"max_revisions\": 2,\n",
    "    \"revision_number\": 1,\n",
    "}, thread):\n",
    "    print(s)"
   ]
  },
  {
   "cell_type": "code",
   "execution_count": null,
   "id": "bcb61df2-b29b-4ded-b93a-bd7bfd693502",
   "metadata": {},
   "outputs": [],
   "source": []
  }
 ],
 "metadata": {
  "kernelspec": {
   "display_name": "Python 3 (ipykernel)",
   "language": "python",
   "name": "python3"
  },
  "language_info": {
   "codemirror_mode": {
    "name": "ipython",
    "version": 3
   },
   "file_extension": ".py",
   "mimetype": "text/x-python",
   "name": "python",
   "nbconvert_exporter": "python",
   "pygments_lexer": "ipython3",
   "version": "3.11.7"
  }
 },
 "nbformat": 4,
 "nbformat_minor": 5
}
