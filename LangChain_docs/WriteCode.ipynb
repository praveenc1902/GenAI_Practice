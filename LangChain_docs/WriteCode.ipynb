{
 "cells": [
  {
   "cell_type": "code",
   "execution_count": 1,
   "id": "4193b4fd-0ddb-4a44-8d61-b3daccd7afe9",
   "metadata": {},
   "outputs": [
    {
     "name": "stdout",
     "output_type": "stream",
     "text": [
      "Note: you may need to restart the kernel to use updated packages.\n"
     ]
    }
   ],
   "source": [
    "%pip install --upgrade --quiet  langchain-core langchain-experimental langchain-openai"
   ]
  },
  {
   "cell_type": "code",
   "execution_count": 2,
   "id": "4a3c0074-13bc-479c-a4da-79c65a61a2ac",
   "metadata": {},
   "outputs": [],
   "source": [
    "from langchain_core.output_parsers import StrOutputParser\n",
    "from langchain_core.prompts import ChatPromptTemplate\n",
    "from langchain_experimental.utilities import PythonREPL\n",
    "from langchain_openai import ChatOpenAI"
   ]
  },
  {
   "cell_type": "code",
   "execution_count": 3,
   "id": "cd5d06c1-e9f9-4486-8ae1-dd5799587d5a",
   "metadata": {},
   "outputs": [],
   "source": [
    "template = \"\"\"Write some python code to solve the user's problem. \n",
    "\n",
    "Return only python code in Markdown format, e.g.:\n",
    "\n",
    "```python\n",
    "....\n",
    "```\"\"\"\n",
    "prompt = ChatPromptTemplate.from_messages([(\"system\",template),(\"human\",\"{input}\")])"
   ]
  },
  {
   "cell_type": "code",
   "execution_count": 4,
   "id": "ca5a4af4-eca3-4c6a-915e-b33087de96ee",
   "metadata": {},
   "outputs": [
    {
     "data": {
      "text/plain": [
       "ChatPromptTemplate(input_variables=['input'], messages=[SystemMessagePromptTemplate(prompt=PromptTemplate(input_variables=[], template=\"Write some python code to solve the user's problem. \\n\\nReturn only python code in Markdown format, e.g.:\\n\\n```python\\n....\\n```\")), HumanMessagePromptTemplate(prompt=PromptTemplate(input_variables=['input'], template='{input}'))])"
      ]
     },
     "execution_count": 4,
     "metadata": {},
     "output_type": "execute_result"
    }
   ],
   "source": [
    "prompt"
   ]
  },
  {
   "cell_type": "code",
   "execution_count": 5,
   "id": "a5fae8bd-04a9-4dc8-a966-68f928aaf8eb",
   "metadata": {},
   "outputs": [],
   "source": [
    "OPENAI_API_KEY = \"\""
   ]
  },
  {
   "cell_type": "code",
   "execution_count": 7,
   "id": "b95a8711-5ec3-4f1d-a1bc-80c8567f7f33",
   "metadata": {},
   "outputs": [],
   "source": [
    "llm = ChatOpenAI(openai_api_key = OPENAI_API_KEY)"
   ]
  },
  {
   "cell_type": "code",
   "execution_count": 9,
   "id": "446af7c3-6628-4305-9059-055d0f9cf6f9",
   "metadata": {},
   "outputs": [],
   "source": [
    "chain  = prompt | llm | StrOutputParser()"
   ]
  },
  {
   "cell_type": "code",
   "execution_count": 10,
   "id": "a177a8d7-138c-45f0-bfce-495e9b624692",
   "metadata": {},
   "outputs": [
    {
     "data": {
      "text/plain": [
       "'```python\\nresult = 2 + 2\\nprint(result)\\n```'"
      ]
     },
     "execution_count": 10,
     "metadata": {},
     "output_type": "execute_result"
    }
   ],
   "source": [
    "chain.invoke({\"input\":\"what is 2+2\"})"
   ]
  },
  {
   "cell_type": "code",
   "execution_count": 11,
   "id": "982a8422-52e5-4e26-93b0-79ac2fdf63a1",
   "metadata": {},
   "outputs": [
    {
     "data": {
      "text/plain": [
       "'```python\\ndef fibonacci(n):\\n    fib_series = [0, 1]\\n    while len(fib_series) < n:\\n        fib_series.append(fib_series[-1] + fib_series[-2])\\n    return fib_series\\n\\nn = 10\\nprint(fibonacci(n))\\n```'"
      ]
     },
     "execution_count": 11,
     "metadata": {},
     "output_type": "execute_result"
    }
   ],
   "source": [
    "chain.invoke({\"input\":\"fibanoci series\"})"
   ]
  },
  {
   "cell_type": "code",
   "execution_count": 12,
   "id": "d7dab286-9424-4b05-91c8-27edd4a134d4",
   "metadata": {},
   "outputs": [],
   "source": [
    "def _sanitize_output(text: str):\n",
    "    _, after = text.split(\"```python\")\n",
    "    return after.split(\"```\")[0]"
   ]
  },
  {
   "cell_type": "code",
   "execution_count": 13,
   "id": "1552e238-fc81-4a83-9563-6522a3f79553",
   "metadata": {},
   "outputs": [],
   "source": [
    "chain2  = prompt | llm | StrOutputParser() | _sanitize_output"
   ]
  },
  {
   "cell_type": "code",
   "execution_count": 14,
   "id": "4a04e583-e230-4ed7-b373-0aa174e52f7d",
   "metadata": {},
   "outputs": [
    {
     "data": {
      "text/plain": [
       "'\\ndef fibonacci(n):\\n    fib = [0, 1]\\n    for i in range(2, n):\\n        fib.append(fib[i-1] + fib[i-2])\\n    return fib\\n\\nn = 10\\nresult = fibonacci(n)\\nprint(result)\\n'"
      ]
     },
     "execution_count": 14,
     "metadata": {},
     "output_type": "execute_result"
    }
   ],
   "source": [
    "chain2.invoke({\"input\":\"fibanoci series\"})"
   ]
  },
  {
   "cell_type": "code",
   "execution_count": 15,
   "id": "c0eda5f4-8105-4733-b170-d3b4ef43cb17",
   "metadata": {},
   "outputs": [
    {
     "name": "stdout",
     "output_type": "stream",
     "text": [
      "```python\n",
      "def fibonacci(n):\n",
      "    fib_series = [0, 1]\n",
      "    while len(fib_series) < n:\n",
      "        fib_series.append(fib_series[-1] + fib_series[-2])\n",
      "    return fib_series\n",
      "\n",
      "n = 10\n",
      "fibonacci_series = fibonacci(n)\n",
      "print(fibonacci_series)\n",
      "```\n"
     ]
    }
   ],
   "source": [
    "print(chain.invoke({\"input\":\"fibanoci series\"}))"
   ]
  },
  {
   "cell_type": "code",
   "execution_count": null,
   "id": "075a26b1-89a1-4a0f-bc9e-bb8b0405761d",
   "metadata": {},
   "outputs": [],
   "source": []
  }
 ],
 "metadata": {
  "kernelspec": {
   "display_name": "Python 3 (ipykernel)",
   "language": "python",
   "name": "python3"
  },
  "language_info": {
   "codemirror_mode": {
    "name": "ipython",
    "version": 3
   },
   "file_extension": ".py",
   "mimetype": "text/x-python",
   "name": "python",
   "nbconvert_exporter": "python",
   "pygments_lexer": "ipython3",
   "version": "3.11.7"
  }
 },
 "nbformat": 4,
 "nbformat_minor": 5
}
