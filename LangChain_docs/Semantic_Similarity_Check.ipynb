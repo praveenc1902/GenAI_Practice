{
 "cells": [
  {
   "cell_type": "code",
   "execution_count": 1,
   "id": "bc211f7b-7c3b-4a0c-912d-982449998599",
   "metadata": {},
   "outputs": [],
   "source": [
    "#With LCEL you can easily add custom routing logic to your chain to dynamically determine the chain logic based on user input.\n",
    "#All you need to do is define a function that given an input returns a Runnable."
   ]
  },
  {
   "cell_type": "code",
   "execution_count": 2,
   "id": "8517afc7-29b3-4640-9179-6530e03e667d",
   "metadata": {},
   "outputs": [
    {
     "name": "stdout",
     "output_type": "stream",
     "text": [
      "Note: you may need to restart the kernel to use updated packages.\n"
     ]
    }
   ],
   "source": [
    "%pip install --upgrade --quiet  langchain-core langchain langchain-openai"
   ]
  },
  {
   "cell_type": "code",
   "execution_count": 3,
   "id": "3d811ed2-eb4f-4cf5-8308-133e3f69c2fe",
   "metadata": {},
   "outputs": [],
   "source": [
    "from langchain.utils.math import cosine_similarity\n",
    "from langchain_core.output_parsers import StrOutputParser\n",
    "from langchain_core.prompts import PromptTemplate\n",
    "from langchain_core.runnables import RunnableLambda , RunnablePassthrough\n",
    "from langchain_openai import ChatOpenAI, OpenAIEmbeddings"
   ]
  },
  {
   "cell_type": "code",
   "execution_count": 4,
   "id": "80360745-4e36-4765-8a8d-dd7738aa774b",
   "metadata": {},
   "outputs": [],
   "source": [
    "physics_template = \"\"\"You are a very smart physics professor. \\\n",
    "You are great at answering questions about physics in a concise and easy to understand manner. \\\n",
    "When you don't know the answer to a question you admit that you don't know.\n",
    "\n",
    "Here is a question:\n",
    "{query}\"\"\"\n",
    "\n",
    "math_template = \"\"\"You are a very good mathematician. You are great at answering math questions. \\\n",
    "You are so good because you are able to break down hard problems into their component parts, \\\n",
    "answer the component parts, and then put them together to answer the broader question.\n",
    "\n",
    "Here is a question:\n",
    "{query}\"\"\""
   ]
  },
  {
   "cell_type": "code",
   "execution_count": 8,
   "id": "a04cf2fa-3ec0-4240-b1bb-ebc83fe4a1d6",
   "metadata": {},
   "outputs": [],
   "source": [
    "OPENAI_API_KEY = \"\""
   ]
  },
  {
   "cell_type": "code",
   "execution_count": 9,
   "id": "0d2cf882-054f-46a0-9ede-3a66625b1574",
   "metadata": {},
   "outputs": [],
   "source": [
    "embedding = OpenAIEmbeddings(openai_api_key = OPENAI_API_KEY)\n",
    "prompt_templates = [physics_template,math_template]\n",
    "prompt_embeddings = embedding.embed_documents(prompt_templates)"
   ]
  },
  {
   "cell_type": "code",
   "execution_count": 13,
   "id": "3e231d13-edb1-4d92-b30d-add401900518",
   "metadata": {},
   "outputs": [],
   "source": [
    "def prompt_router(input):\n",
    "    query_embedding =  embedding.embed_query(input['query'])\n",
    "    similarity = cosine_similarity([query_embedding],prompt_embeddings)\n",
    "    most_similar = prompt_templates[similarity.argmax()]\n",
    "    print(\"Using MATH\" if most_similar == math_template else \"Using PHYSICS\")\n",
    "    return PromptTemplate.from_template(most_similar)"
   ]
  },
  {
   "cell_type": "code",
   "execution_count": 14,
   "id": "c984f053-a683-45ca-a789-8795bbc9ec28",
   "metadata": {},
   "outputs": [],
   "source": [
    "chain = (\n",
    "    {\"query\":RunnablePassthrough()}\n",
    "    | RunnableLambda(prompt_router)\n",
    "    | ChatOpenAI(openai_api_key = OPENAI_API_KEY)\n",
    "    | StrOutputParser()\n",
    ")"
   ]
  },
  {
   "cell_type": "code",
   "execution_count": 15,
   "id": "0deb07b5-1c54-47f3-81c5-d57957505958",
   "metadata": {},
   "outputs": [
    {
     "name": "stdout",
     "output_type": "stream",
     "text": [
      "Using PHYSICS\n"
     ]
    },
    {
     "data": {
      "text/plain": [
       "\"A black hole is a region in space where gravity is so strong that nothing, not even light, can escape its pull. This happens when a massive star collapses in on itself, creating a singularity with infinite density at its core. The boundary surrounding the singularity is called the event horizon, and once something crosses this boundary, it is trapped by the black hole's gravity. Black holes come in different sizes, with the supermassive ones found at the centers of galaxies being the largest and most massive.\""
      ]
     },
     "execution_count": 15,
     "metadata": {},
     "output_type": "execute_result"
    }
   ],
   "source": [
    "chain.invoke(\"What is black Hole\")"
   ]
  },
  {
   "cell_type": "code",
   "execution_count": 16,
   "id": "b4d41700-ccb2-4da9-8964-e8a8619a5711",
   "metadata": {},
   "outputs": [
    {
     "name": "stdout",
     "output_type": "stream",
     "text": [
      "Using MATH\n"
     ]
    },
    {
     "data": {
      "text/plain": [
       "'The main difference between sine (sin) and cosine (cos) functions is their phase shift. \\n\\nThe sine function is defined as the ratio of the length of the side opposite an acute angle in a right triangle to the length of the hypotenuse. It is also the y-coordinate of a point on the unit circle that is a certain angle counterclockwise from the positive x-axis. The sine function has a phase shift of 90 degrees or π/2 radians, meaning that the sine function starts at a maximum value of 1 when the angle is 0 degrees or 0 radians.\\n\\nThe cosine function, on the other hand, is defined as the ratio of the length of the side adjacent to an acute angle in a right triangle to the length of the hypotenuse. It is also the x-coordinate of a point on the unit circle that is a certain angle counterclockwise from the positive x-axis. The cosine function has no phase shift, meaning that it starts at a maximum value of 1 when the angle is 0 degrees or 0 radians.\\n\\nIn summary, the main difference between the sine and cosine functions is their phase shift: the sine function has a phase shift of 90 degrees or π/2 radians, while the cosine function has no phase shift.'"
      ]
     },
     "execution_count": 16,
     "metadata": {},
     "output_type": "execute_result"
    }
   ],
   "source": [
    "chain.invoke(\"Diff b/w sin and cos\")"
   ]
  },
  {
   "cell_type": "code",
   "execution_count": null,
   "id": "cef3899e-97e7-4eea-bb50-5d2c0f6f716e",
   "metadata": {},
   "outputs": [],
   "source": []
  }
 ],
 "metadata": {
  "kernelspec": {
   "display_name": "Python 3 (ipykernel)",
   "language": "python",
   "name": "python3"
  },
  "language_info": {
   "codemirror_mode": {
    "name": "ipython",
    "version": 3
   },
   "file_extension": ".py",
   "mimetype": "text/x-python",
   "name": "python",
   "nbconvert_exporter": "python",
   "pygments_lexer": "ipython3",
   "version": "3.11.7"
  }
 },
 "nbformat": 4,
 "nbformat_minor": 5
}
