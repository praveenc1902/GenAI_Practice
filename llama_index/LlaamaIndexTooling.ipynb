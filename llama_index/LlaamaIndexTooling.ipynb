{
 "cells": [
  {
   "cell_type": "code",
   "execution_count": 24,
   "id": "b33a6296-3808-4282-ad27-4e48dca06b99",
   "metadata": {},
   "outputs": [
    {
     "name": "stdout",
     "output_type": "stream",
     "text": [
      "env: OPENAI_API_KEY=\n"
     ]
    }
   ],
   "source": [
    "%set_env OPENAI_API_KEY="
   ]
  },
  {
   "cell_type": "code",
   "execution_count": 25,
   "id": "d656b38d-05bb-44db-b862-71334a23cc6e",
   "metadata": {},
   "outputs": [],
   "source": [
    "import nest_asyncio\n",
    "nest_asyncio.apply()"
   ]
  },
  {
   "cell_type": "code",
   "execution_count": 4,
   "id": "6ff4e483-9532-4676-9f54-a473293c447e",
   "metadata": {},
   "outputs": [],
   "source": [
    "from llama_index.core.tools import FunctionTool\n",
    "\n",
    "def add(x: int, y: int) -> int:\n",
    "    \"\"\"Adds two integers together.\"\"\"\n",
    "    return x + y\n",
    "\n",
    "def mystery(x: int, y: int) -> int: \n",
    "    \"\"\"Mystery function that operates on top of two numbers.\"\"\"\n",
    "    return (x + y) * (x + y)\n",
    "\n",
    "add_tool = FunctionTool.from_defaults(fn=add)\n",
    "mystery_tool =  FunctionTool.from_defaults(fn=mystery)"
   ]
  },
  {
   "cell_type": "code",
   "execution_count": 5,
   "id": "3d637dc7-b7d6-4c88-805c-49a18aa8efa3",
   "metadata": {},
   "outputs": [],
   "source": [
    "from llama_index.llms.openai import OpenAI\n",
    "\n",
    "llm = OpenAI()\n",
    "response =  llm.predict_and_call(\n",
    "    [add_tool,mystery_tool],\n",
    "    \"tell me output of mystery function on 10 and 20\"\n",
    ")\n"
   ]
  },
  {
   "cell_type": "code",
   "execution_count": 6,
   "id": "ec91168f-6343-4a93-b2cb-82d05cedc20a",
   "metadata": {},
   "outputs": [
    {
     "name": "stdout",
     "output_type": "stream",
     "text": [
      "900\n"
     ]
    }
   ],
   "source": [
    "print(response)"
   ]
  },
  {
   "cell_type": "code",
   "execution_count": 7,
   "id": "da62b408-dcc9-40c0-934f-0e659c370aed",
   "metadata": {},
   "outputs": [],
   "source": [
    "#RAG Tool"
   ]
  },
  {
   "cell_type": "code",
   "execution_count": 8,
   "id": "c92bb38c-a0b9-4fda-bb00-692214fd3717",
   "metadata": {},
   "outputs": [],
   "source": [
    "from llama_index.core import SimpleDirectoryReader\n",
    "documents =  SimpleDirectoryReader(input_files=['budgetpdf.pdf']).load_data()"
   ]
  },
  {
   "cell_type": "code",
   "execution_count": 9,
   "id": "0bef7023-534d-4b91-9dbe-629d2ef0467f",
   "metadata": {},
   "outputs": [],
   "source": [
    "from llama_index.core.node_parser import SentenceSplitter\n",
    "\n",
    "splitter =  SentenceSplitter(chunk_size=1024)\n",
    "nodes= splitter.get_nodes_from_documents(documents)"
   ]
  },
  {
   "cell_type": "code",
   "execution_count": 10,
   "id": "16a4e649-d154-41b6-b14b-c1f0850febcb",
   "metadata": {},
   "outputs": [
    {
     "name": "stdout",
     "output_type": "stream",
     "text": [
      "page_label: 1\n",
      "file_name: budgetpdf.pdf\n",
      "file_path: budgetpdf.pdf\n",
      "file_type: application/pdf\n",
      "file_size: 1585381\n",
      "creation_date: 2024-06-05\n",
      "last_modified_date: 2024-05-01\n",
      "\n",
      "PRESS INFORMATION BUREAU \n",
      "GOVERNMENT OF INDIA \n",
      "**** \n",
      "New Delhi, 1st February, 2024 \n",
      " \n",
      "HIGHLIGHTS OF THE INTERIM UNION BUDGET 2024-25 \n",
      " \n",
      "With the ‘mantra’ of ‘Sabka Saath, Sabka Vikas, and Sabka Vishwas’  and the whole of nation \n",
      "approach of “Sabka Prayas” , the Union Minister for Finance and Corporate Affairs Smt. \n",
      "Nirmala Sitharaman presented the Interim Union Budget 2024-25 in Parliament, today. The key \n",
      "highlights of the Budget are as follows: \n",
      " \n",
      "Part A \n",
      " \n",
      "Social Justice \n",
      " Prime Minister to focus on upliftment of four major castes, that is, ‘Garib’ (Poor), \n",
      "‘Mahilayen’ (Women), ‘Yuva’ (Youth) and  ‘Annadata’(Farmer) . \n",
      " \n",
      "‘Garib Kalyan, Desh ka Kalyan’ \n",
      " Government assisted 25 crore people out of multi-dimensional poverty in last 10 years. \n",
      " DBT of Rs. 34 lakh crore using PM-Jan Dhan accounts led to savings of Rs. 2.7 lakh \n",
      "crore for the Government. \n",
      " PM-SVANidhi provided credit assistance to 78 lakh street vendors. 2.3 lakh have \n",
      "received credit for the third time.  \n",
      " PM-JANMAN Yojana to aid the development of particularly vulnerable tribal groups \n",
      "(PVTG). \n",
      " PM-Vishwakarma Yojana provides end-to-end support to artisans and crafts people \n",
      "engaged in 18 trades.  \n",
      " \n",
      "Welfare of ‘Annadata’ \n",
      " PM-KISAN SAMMAN Yojana provided financial assistance to 11.8 crore farmers.   \n",
      " Under PM Fasal BimaYojana, crop insurance is given to 4 crore farmers \n",
      " Electronic National Agriculture Market (e-NAM) integrated 1361 mandis, providing \n",
      "services to 1.8 crore farmers with trading volume of Rs. 3 lakh crore. \n",
      " \n",
      "Momentum for Nari Shakti \n",
      " 30 crore Mudra Yojana loans given to women entrepreneurs.  \n",
      " Female enrolment in higher education gone up by 28%.  \n",
      " In STEM courses, girls and women constitute 43% of enrolment, one of the highest in the \n",
      "world.\n"
     ]
    }
   ],
   "source": [
    "print(nodes[0].get_content(metadata_mode=\"all\"))"
   ]
  },
  {
   "cell_type": "code",
   "execution_count": 11,
   "id": "5a8f678e-1d45-409f-a21a-0daac306e466",
   "metadata": {},
   "outputs": [
    {
     "name": "stdout",
     "output_type": "stream",
     "text": [
      "page_label: 6\n",
      "file_name: budgetpdf.pdf\n",
      "file_path: budgetpdf.pdf\n",
      "file_type: application/pdf\n",
      "file_size: 1585381\n",
      "creation_date: 2024-06-05\n",
      "last_modified_date: 2024-05-01\n",
      "\n",
      "PRESS INFORMATION BUREAU \n",
      "GOVERNMENT OF INDIA \n",
      "*** \n",
      "INDIA’S REAL GDP PROJECTED TO GROW AT 7.3 PER CENT IN FY 2023-24 \n",
      "FINANCE AND CORPORATE AFFAIRS MINISTER SMT NIRMALA SITHARAMAN \n",
      "PRESENTS THE INTERIM UNION BUDGET FOR 2024-2025 IN PARLIAMENT  \n",
      "CAPITAL EXPENDITURE OUTLAY FOR THE NEXT YEAR IS BEING INCREASED \n",
      "BY 11.1 PER CENT TO RS 11,11,111 CRORE, WHICH WOULD BE  3.4 PER CENT OF \n",
      "THE GDP \n",
      "                FISCAL DEFICIT IN 2024-25 IS ESTIMATED TO BE 5.1 PER CENT OF GDP \n",
      "FDI INFLOW DURING 2014-23 WAS USD 596 BILLION, WHICH IS TWICE THE \n",
      "INFLOW DURING 2005-14. \n",
      "UPLIFTMENT OF ‘GARIB’ (POOR), ‘MAHILAYEN’ (WOMEN),  ‘YUVA’ (YOUTH) \n",
      "AND  ‘ANNADATA’ (FARMER) IS THE HIGHEST PRIORITY OF GOVERNMENT    \n",
      "A CORPUS OF RUPEES ONE LAKH CRORE WILL BE ESTABLISHED WITH \n",
      "FIFTY-YEAR INTEREST FREE LOAN FOR YOUTH \n",
      "SCHEME OF 50 YEAR INTEREST FREE LOAN FOR CAPEX TO STATES WILL BE \n",
      "CONTINUED THIS YEAR WITH TOTAL OUTLAY OF RS 1.3 LAKH CRORE. \n",
      "GOVERNMENT IS WORKING WITH AN APPROACH TO DEVELOPMENT THAT IS \n",
      "ALL-ROUND, ALL-PERVASIVE AND ALL-INCLUSIVE ( सवाɍगीण, सव[èपशȸ और \n",
      "सव[समावेशी) \n",
      "THE BUDGET CONTAINES A NUMBER OF ANNOUNCEMENTS AND STRATEGIES \n",
      "INDICATING DIRECTIONS AND DEVELOPMENT APPROACH FOR MAKING \n",
      "INDIA VIKSIT BHARAT BY 2047 \n",
      "GOVERNMENT WILL PAY UTMOST ATTENTION TO MAKE THE EASTERN \n",
      "REGION AND ITS PEOPLE A POWERFUL DRIVER OF INDIA’S GROWTH \n",
      "GOVERNMENT WILL FORM A HIGH-POWERED COMMITTEE FOR AN \n",
      "EXTENSIVE CONSIDERATION OF THE CHALLENGES ARISING FROM FAST \n",
      "POPULATION GROWTH AND DEMOGRAPHIC CHANGES \n",
      "NO CHANGE PROPOSED IN TAX RATES IN THE INTERIM BUDGET \n",
      "CERTAIN TAX BENEFITS TO START UPS AND INVESTMENTS MADE BY \n",
      "SOVEREIGN WEALTH OR PENSION FUNDS EXTENDED BY ONE YEAR\n"
     ]
    }
   ],
   "source": [
    "print(nodes[5].get_content(metadata_mode=\"all\"))"
   ]
  },
  {
   "cell_type": "code",
   "execution_count": 12,
   "id": "854e0aa4-5312-4797-8faf-26b469ee695a",
   "metadata": {},
   "outputs": [],
   "source": [
    "from llama_index.core import VectorStoreIndex\n",
    "\n",
    "vector_index = VectorStoreIndex(nodes)\n",
    "query_engine = vector_index.as_query_engine(similarity_top_k=3)"
   ]
  },
  {
   "cell_type": "code",
   "execution_count": 13,
   "id": "41ac7aaa-799e-411b-9116-a8e4e65a6331",
   "metadata": {},
   "outputs": [
    {
     "data": {
      "text/plain": [
       "Response(response=\"Empowerment of women through entrepreneurship, ease of living, and dignity for them has gained momentum. This includes initiatives such as providing loans through the Mudra Yojana to women entrepreneurs, increasing female enrollment in higher education, promoting STEM courses for girls and women, increasing participation of women in the workforce, making 'triple talaq' illegal, and reserving one-third of seats for women in the Lok Sabha and State Legislative Assemblies. Additionally, over 70% of houses under the PM Awas Yojana in rural areas have been given to women as sole or joint owners.\", source_nodes=[NodeWithScore(node=TextNode(id_='2cec13bd-50e6-4cac-a3b3-8246e1e66f97', embedding=None, metadata={'page_label': '48', 'file_name': 'budgetpdf.pdf', 'file_path': 'budgetpdf.pdf', 'file_type': 'application/pdf', 'file_size': 1585381, 'creation_date': '2024-06-05', 'last_modified_date': '2024-05-01'}, excluded_embed_metadata_keys=['file_name', 'file_type', 'file_size', 'creation_date', 'last_modified_date', 'last_accessed_date'], excluded_llm_metadata_keys=['file_name', 'file_type', 'file_size', 'creation_date', 'last_modified_date', 'last_accessed_date'], relationships={<NodeRelationship.SOURCE: '1'>: RelatedNodeInfo(node_id='b0749c20-db28-4695-b175-b7e6d51532d2', node_type=<ObjectType.DOCUMENT: '4'>, metadata={'page_label': '48', 'file_name': 'budgetpdf.pdf', 'file_path': 'budgetpdf.pdf', 'file_type': 'application/pdf', 'file_size': 1585381, 'creation_date': '2024-06-05', 'last_modified_date': '2024-05-01'}, hash='8ad07756d5edf0ce098ca264e58458ebc98139d90bb33911ccff3c43ac3eebc7')}, text='Interim Budget 2024-25 \\nPRESS INFORMATION BUREAU \\nGOVERNMENT OF INDIA \\n***** \\n \\n‘NARI SHAKTI’ TAKES CENTER STAGE; UNION FINANCE MINISTER \\nANNOUNCES VACCINATION TO PREVENT CERVICAL CANCER  \\n \\nGOVERNMENT TO BRING SYNERGY OF VARIOUS SCHEMES FOR MATERNAL \\nAND CHILDCARE   \\n \\nNEWLY DESIGNED U-WIN PLATFORM TO FURTHER STRENGTHEN DIGITAL \\nINDIA INITIATIVE \\n \\n \\nNew Delhi, 1st February, 2024 \\n \\nAiming for Viksit Bharat by 2047 and with a sharp focus and providing momentum to Nari \\nShakti, Union Minister for Finance & Corporate Affairs, Smt. Nirmala Sitharaman today \\nproposed vaccination to prevent Cervical Cancer and amalgamation of various schemes for \\nmaternal and child care, as she presented the Interim Budget 2024-25 in Parliament today. \\n \\nThe vaccination programme will be for girls in the age group of 9 to 14 years for prevention of \\ncervical cancer.  The Government will encourage this vaccination among the eligible categories, \\nshe added.   \\n \\nTo bring synergy in various programmes for maternal and child care, the Union Finance Minister \\nproposed that one comprehensive programme will be created.  She further added that Anganwadi \\nCentres to be upgraded under ‘Saksham Anganwadi and Poshan 2.0’ will be expedited.  She \\nexpressed that this will improve nutrition delivery, early childhood care and development. \\n \\nTo further the Digital India initiative of the Government, Smt. Nirmala Sitharaman proposed that \\nnewly designed U-WIN platform to be rolled out expeditiously throughout the country.  This \\nplatform will be used for managing immunization and furthering the efforts under Mission \\nIndradhanush, she added. \\n \\n***** \\nYKB/NB/MV/VC/SJ', start_char_idx=0, end_char_idx=1657, text_template='{metadata_str}\\n\\n{content}', metadata_template='{key}: {value}', metadata_seperator='\\n'), score=0.8293272957993383), NodeWithScore(node=TextNode(id_='2c866915-c43b-4f4e-a62a-bd958d423768', embedding=None, metadata={'page_label': '28', 'file_name': 'budgetpdf.pdf', 'file_path': 'budgetpdf.pdf', 'file_type': 'application/pdf', 'file_size': 1585381, 'creation_date': '2024-06-05', 'last_modified_date': '2024-05-01'}, excluded_embed_metadata_keys=['file_name', 'file_type', 'file_size', 'creation_date', 'last_modified_date', 'last_accessed_date'], excluded_llm_metadata_keys=['file_name', 'file_type', 'file_size', 'creation_date', 'last_modified_date', 'last_accessed_date'], relationships={<NodeRelationship.SOURCE: '1'>: RelatedNodeInfo(node_id='71b6254c-bd65-44f6-a78d-6199aac0655f', node_type=<ObjectType.DOCUMENT: '4'>, metadata={'page_label': '28', 'file_name': 'budgetpdf.pdf', 'file_path': 'budgetpdf.pdf', 'file_type': 'application/pdf', 'file_size': 1585381, 'creation_date': '2024-06-05', 'last_modified_date': '2024-05-01'}, hash='e8dcff45eb5048204e499f5bd7cc56cadf11c0f765d7db50462738ba49931e84')}, text='Interim Budget 2024-25  \\n \\nPRESS INFORMATION BUREAU \\nGOVERNMENT OF INDIA \\n**** \\nMOMENTUM FOR NARI SHAKTI  \\nEMPOWERMENT OF WOMEN THROUGH ENTREPRENEURSHIP, EASE OF \\nLIVING, AND DIGNITY FOR THEM HAS GAINED MOMENTUM: FINANCE MINISTER \\n30 CRORE MUDRA YOJANA LOANS GIVEN TO WOMEN ENTREPRENEURS \\nFEMALE ENROLMENT IN HIGHER EDUCATION UP BY 28 PER CENT \\nSTEM COURSES, GIRLS AND WOMEN CONSTITUTE 43 PER CENT OF \\nENROLMENT - ONE OF THE \\nHIGHEST IN THE WORLD \\nINCREASING PARTICIPATION OF WOMEN IN WORKFORCE \\n‘TRIPLE TALAQ’ MADE  ILLEGAL \\nRESERVATION OF ONE-THIRD SEATS FOR WOMEN IN THE LOK SABHA AND \\nSTATE LEGISLATIVE \\nASSEMBLIES \\nOVER 70 PER CENT HOUSES UNDER PM AWAS YOJANA IN RURAL AREAS \\nGIVEN TO WOMEN AS SOLE OR JOINT OWNERS \\n \\nNew Delhi, 1st February , 2024 \\nUnion Minister for Finance & Corporate Affairs, Smt. Nirmala Sitharaman while  \\npresenting the Interim Budget 2024-25 in Parliament today said that  the empowerment', start_char_idx=0, end_char_idx=919, text_template='{metadata_str}\\n\\n{content}', metadata_template='{key}: {value}', metadata_seperator='\\n'), score=0.8183383440702994), NodeWithScore(node=TextNode(id_='09114ed1-8929-4eca-a017-6e74b3607982', embedding=None, metadata={'page_label': '52', 'file_name': 'budgetpdf.pdf', 'file_path': 'budgetpdf.pdf', 'file_type': 'application/pdf', 'file_size': 1585381, 'creation_date': '2024-06-05', 'last_modified_date': '2024-05-01'}, excluded_embed_metadata_keys=['file_name', 'file_type', 'file_size', 'creation_date', 'last_modified_date', 'last_accessed_date'], excluded_llm_metadata_keys=['file_name', 'file_type', 'file_size', 'creation_date', 'last_modified_date', 'last_accessed_date'], relationships={<NodeRelationship.SOURCE: '1'>: RelatedNodeInfo(node_id='4a4d86e8-5726-426c-9946-1aac29b0bf0a', node_type=<ObjectType.DOCUMENT: '4'>, metadata={'page_label': '52', 'file_name': 'budgetpdf.pdf', 'file_path': 'budgetpdf.pdf', 'file_type': 'application/pdf', 'file_size': 1585381, 'creation_date': '2024-06-05', 'last_modified_date': '2024-05-01'}, hash='ea2b2646009267a33c8d292658376fb308327bceb4e0a31ee9e0e973cb8ea505')}, text='PRESS INFORMATION BUREAU \\nGOVERNMENT OF INDIA \\n \\n****** \\nUNION MINISTER SMT. NIRMALA SITHARAMAN LAYS DOWN STRATEGY FOR \\n‘AMRIT KAAL’ \\nTIMELY AND ADEQUATE FINANCES, RELEVANT TECHNOLOGIES & \\nAPPROPRIATE TRAINING FOR MSMEs- A POLICY PRIORITY FOR \\nGOVERNMENT \\nIN LINE WITH ‘PANCHAMRIT’ GOALS, GOVERNMENT TO FACILITATE HIGH \\nAND MORE RESOURCE-EFFICIENT ECONOMIC GROWTH; ALSO WORK \\nTOWARDS ENERGY SECURITY \\nGOVERNMENT TO TAKE UP NEXT GENERATION REFORMS AND BUILD \\nCONSENSUS WITH STATES AND STAKEHOLDERS GUIDED BY ‘REFORM, \\nPERFORM, AND TRANSFORM’ \\nNew Delhi, 1st February, 2024 \\nUnion Minister for Finance & Corporate Affairs, Smt. Nirmala Sitharaman laid down the \\nstrategy for ‘Amrit Kaal’. While presenting the Interim Budget 2024-25 in Parliament today, the \\nMinister said, “It is an important policy priority for our Government to ensure timely and \\nadequate finances, relevant technologies and appropriate training for the Micro, Small and \\nMedium Enterprises (MSME) to grow and also compete globally. Orienting the regulatory \\nenvironment to facilitate their growth will be an important element of this policy mix.” \\nThe Minister said, “Aligning with the ‘Panchamrit’ goals, our Government will facilitate \\nsustaining high and more resource-efficient economic growth.” She highlighted that this will \\nwork towards energy security in terms of availability, accessibility and affordability.', start_char_idx=0, end_char_idx=1389, text_template='{metadata_str}\\n\\n{content}', metadata_template='{key}: {value}', metadata_seperator='\\n'), score=0.8086606872067655)], metadata={'2cec13bd-50e6-4cac-a3b3-8246e1e66f97': {'page_label': '48', 'file_name': 'budgetpdf.pdf', 'file_path': 'budgetpdf.pdf', 'file_type': 'application/pdf', 'file_size': 1585381, 'creation_date': '2024-06-05', 'last_modified_date': '2024-05-01'}, '2c866915-c43b-4f4e-a62a-bd958d423768': {'page_label': '28', 'file_name': 'budgetpdf.pdf', 'file_path': 'budgetpdf.pdf', 'file_type': 'application/pdf', 'file_size': 1585381, 'creation_date': '2024-06-05', 'last_modified_date': '2024-05-01'}, '09114ed1-8929-4eca-a017-6e74b3607982': {'page_label': '52', 'file_name': 'budgetpdf.pdf', 'file_path': 'budgetpdf.pdf', 'file_type': 'application/pdf', 'file_size': 1585381, 'creation_date': '2024-06-05', 'last_modified_date': '2024-05-01'}})"
      ]
     },
     "execution_count": 13,
     "metadata": {},
     "output_type": "execute_result"
    }
   ],
   "source": [
    "query_engine.query(\"what are Momentum for Nari Shakti\")"
   ]
  },
  {
   "cell_type": "code",
   "execution_count": 14,
   "id": "f1490cc1-6380-4160-8f65-308855b7c84b",
   "metadata": {},
   "outputs": [],
   "source": [
    "from llama_index.core.vector_stores import MetadataFilters\n",
    "\n",
    "query_engine = vector_index.as_query_engine(\n",
    "    similarity_top_k=2,\n",
    "    filters=MetadataFilters.from_dicts(\n",
    "        [\n",
    "            {\"key\": \"page_label\", \"value\": \"2\"}\n",
    "        ]\n",
    "    )\n",
    ")"
   ]
  },
  {
   "cell_type": "code",
   "execution_count": 17,
   "id": "5339c75f-59eb-4037-9d64-d43d41330dbe",
   "metadata": {},
   "outputs": [],
   "source": [
    "response = query_engine.query(\n",
    "    \"what are Momentum for Nari Shakti in page 0?\", \n",
    ")"
   ]
  },
  {
   "cell_type": "code",
   "execution_count": 18,
   "id": "36ab6d80-c447-4848-ad7a-bbadfcfd9c93",
   "metadata": {},
   "outputs": [
    {
     "name": "stdout",
     "output_type": "stream",
     "text": [
      "Over 70% houses under PM Awas Yojana given to women from rural areas.\n"
     ]
    }
   ],
   "source": [
    "print(response)"
   ]
  },
  {
   "cell_type": "code",
   "execution_count": 19,
   "id": "5eb90906-4281-4392-a709-3ef633981ba5",
   "metadata": {},
   "outputs": [],
   "source": [
    "from typing import List\n",
    "from llama_index.core.vector_stores import FilterCondition\n",
    "\n",
    "\n",
    "def vector_query(\n",
    "    query: str, \n",
    "    page_numbers: List[str]\n",
    ") -> str:\n",
    "    \"\"\"Perform a vector search over an index.\n",
    "    \n",
    "    query (str): the string query to be embedded.\n",
    "    page_numbers (List[str]): Filter by set of pages. Leave BLANK if we want to perform a vector search\n",
    "        over all pages. Otherwise, filter by the set of specified pages.\n",
    "    \n",
    "    \"\"\"\n",
    "\n",
    "    metadata_dicts = [\n",
    "        {\"key\": \"page_label\", \"value\": p} for p in page_numbers\n",
    "    ]\n",
    "    \n",
    "    query_engine = vector_index.as_query_engine(\n",
    "        similarity_top_k=2,\n",
    "        filters=MetadataFilters.from_dicts(\n",
    "            metadata_dicts,\n",
    "            condition=FilterCondition.OR\n",
    "        )\n",
    "    )\n",
    "    response = query_engine.query(query)\n",
    "    return response\n",
    "    \n",
    "\n",
    "vector_query_tool = FunctionTool.from_defaults(\n",
    "    name=\"vector_tool\",\n",
    "    fn=vector_query\n",
    ")"
   ]
  },
  {
   "cell_type": "code",
   "execution_count": 21,
   "id": "bf6fdc9a-1e32-47f9-8392-ee026a40598f",
   "metadata": {},
   "outputs": [
    {
     "name": "stdout",
     "output_type": "stream",
     "text": [
      "=== Calling Function ===\n",
      "Calling function: vector_tool with args: {\"query\": \"Momentum for Nari Shakti\", \"page_numbers\": [\"1\"]}\n",
      "=== Function Output ===\n",
      "30 crore Mudra Yojana loans have been provided to women entrepreneurs. Female enrolment in higher education has increased by 28%. In STEM courses, girls and women make up 43% of enrolment, which is one of the highest rates globally.\n"
     ]
    }
   ],
   "source": [
    "llm = OpenAI(model=\"gpt-3.5-turbo\", temperature=0)\n",
    "response = llm.predict_and_call(\n",
    "    [vector_query_tool], \n",
    "    \"what are Momentum for Nari Shakti in page 1?\",\n",
    "    verbose=True\n",
    ")"
   ]
  },
  {
   "cell_type": "code",
   "execution_count": 22,
   "id": "ddc965ee-d492-41bb-8feb-8077dc77bc82",
   "metadata": {},
   "outputs": [
    {
     "name": "stdout",
     "output_type": "stream",
     "text": [
      "=== Calling Function ===\n",
      "Calling function: vector_tool with args: {\"query\": \"Momentum for Nari Shakti\", \"page_numbers\": [\"1\"]}\n",
      "=== Function Output ===\n",
      "The momentum for Nari Shakti includes providing 30 crore Mudra Yojana loans to women entrepreneurs, witnessing a 28% increase in female enrollment in higher education, and having girls and women constitute 43% of enrollment in STEM courses, which is one of the highest rates globally.\n"
     ]
    },
    {
     "data": {
      "text/plain": [
       "AgentChatResponse(response='The momentum for Nari Shakti includes providing 30 crore Mudra Yojana loans to women entrepreneurs, witnessing a 28% increase in female enrollment in higher education, and having girls and women constitute 43% of enrollment in STEM courses, which is one of the highest rates globally.', sources=[ToolOutput(content='The momentum for Nari Shakti includes providing 30 crore Mudra Yojana loans to women entrepreneurs, witnessing a 28% increase in female enrollment in higher education, and having girls and women constitute 43% of enrollment in STEM courses, which is one of the highest rates globally.', tool_name='vector_tool', raw_input={'args': (), 'kwargs': {'query': 'Momentum for Nari Shakti', 'page_numbers': ['1']}}, raw_output=Response(response='The momentum for Nari Shakti includes providing 30 crore Mudra Yojana loans to women entrepreneurs, witnessing a 28% increase in female enrollment in higher education, and having girls and women constitute 43% of enrollment in STEM courses, which is one of the highest rates globally.', source_nodes=[NodeWithScore(node=TextNode(id_='044b58f1-e657-4c98-9a8a-47f6dbbf58c4', embedding=None, metadata={'page_label': '1', 'file_name': 'budgetpdf.pdf', 'file_path': 'budgetpdf.pdf', 'file_type': 'application/pdf', 'file_size': 1585381, 'creation_date': '2024-06-05', 'last_modified_date': '2024-05-01'}, excluded_embed_metadata_keys=['file_name', 'file_type', 'file_size', 'creation_date', 'last_modified_date', 'last_accessed_date'], excluded_llm_metadata_keys=['file_name', 'file_type', 'file_size', 'creation_date', 'last_modified_date', 'last_accessed_date'], relationships={<NodeRelationship.SOURCE: '1'>: RelatedNodeInfo(node_id='292a0d02-32b5-4af2-a92c-43c8c81ab8a9', node_type=<ObjectType.DOCUMENT: '4'>, metadata={'page_label': '1', 'file_name': 'budgetpdf.pdf', 'file_path': 'budgetpdf.pdf', 'file_type': 'application/pdf', 'file_size': 1585381, 'creation_date': '2024-06-05', 'last_modified_date': '2024-05-01'}, hash='9ea4fa464ffada8073ee9638d7ca16bbafefd2a329d0bacbb9bb79d9b0847ae0')}, text='PRESS INFORMATION BUREAU \\nGOVERNMENT OF INDIA \\n**** \\nNew Delhi, 1st February, 2024 \\n \\nHIGHLIGHTS OF THE INTERIM UNION BUDGET 2024-25 \\n \\nWith the ‘mantra’ of ‘Sabka Saath, Sabka Vikas, and Sabka Vishwas’  and the whole of nation \\napproach of “Sabka Prayas” , the Union Minister for Finance and Corporate Affairs Smt. \\nNirmala Sitharaman presented the Interim Union Budget 2024-25 in Parliament, today. The key \\nhighlights of the Budget are as follows: \\n \\nPart A \\n \\nSocial Justice \\n\\uf0b7 Prime Minister to focus on upliftment of four major castes, that is, ‘Garib’ (Poor), \\n‘Mahilayen’ (Women), ‘Yuva’ (Youth) and  ‘Annadata’(Farmer) . \\n \\n‘Garib Kalyan, Desh ka Kalyan’ \\n\\uf0b7 Government assisted 25 crore people out of multi-dimensional poverty in last 10 years. \\n\\uf0b7 DBT of Rs. 34 lakh crore using PM-Jan Dhan accounts led to savings of Rs. 2.7 lakh \\ncrore for the Government. \\n\\uf0b7 PM-SVANidhi provided credit assistance to 78 lakh street vendors. 2.3 lakh have \\nreceived credit for the third time.  \\n\\uf0b7 PM-JANMAN Yojana to aid the development of particularly vulnerable tribal groups \\n(PVTG). \\n\\uf0b7 PM-Vishwakarma Yojana provides end-to-end support to artisans and crafts people \\nengaged in 18 trades.  \\n \\nWelfare of ‘Annadata’ \\n\\uf0b7 PM-KISAN SAMMAN Yojana provided financial assistance to 11.8 crore farmers.   \\n\\uf0b7 Under PM Fasal BimaYojana, crop insurance is given to 4 crore farmers \\n\\uf0b7 Electronic National Agriculture Market (e-NAM) integrated 1361 mandis, providing \\nservices to 1.8 crore farmers with trading volume of Rs. 3 lakh crore. \\n \\nMomentum for Nari Shakti \\n\\uf0b7 30 crore Mudra Yojana loans given to women entrepreneurs.  \\n\\uf0b7 Female enrolment in higher education gone up by 28%.  \\n\\uf0b7 In STEM courses, girls and women constitute 43% of enrolment, one of the highest in the \\nworld.', start_char_idx=0, end_char_idx=1768, text_template='{metadata_str}\\n\\n{content}', metadata_template='{key}: {value}', metadata_seperator='\\n'), score=0.8051931339067173)], metadata={'044b58f1-e657-4c98-9a8a-47f6dbbf58c4': {'page_label': '1', 'file_name': 'budgetpdf.pdf', 'file_path': 'budgetpdf.pdf', 'file_type': 'application/pdf', 'file_size': 1585381, 'creation_date': '2024-06-05', 'last_modified_date': '2024-05-01'}}), is_error=False)], source_nodes=[NodeWithScore(node=TextNode(id_='044b58f1-e657-4c98-9a8a-47f6dbbf58c4', embedding=None, metadata={'page_label': '1', 'file_name': 'budgetpdf.pdf', 'file_path': 'budgetpdf.pdf', 'file_type': 'application/pdf', 'file_size': 1585381, 'creation_date': '2024-06-05', 'last_modified_date': '2024-05-01'}, excluded_embed_metadata_keys=['file_name', 'file_type', 'file_size', 'creation_date', 'last_modified_date', 'last_accessed_date'], excluded_llm_metadata_keys=['file_name', 'file_type', 'file_size', 'creation_date', 'last_modified_date', 'last_accessed_date'], relationships={<NodeRelationship.SOURCE: '1'>: RelatedNodeInfo(node_id='292a0d02-32b5-4af2-a92c-43c8c81ab8a9', node_type=<ObjectType.DOCUMENT: '4'>, metadata={'page_label': '1', 'file_name': 'budgetpdf.pdf', 'file_path': 'budgetpdf.pdf', 'file_type': 'application/pdf', 'file_size': 1585381, 'creation_date': '2024-06-05', 'last_modified_date': '2024-05-01'}, hash='9ea4fa464ffada8073ee9638d7ca16bbafefd2a329d0bacbb9bb79d9b0847ae0')}, text='PRESS INFORMATION BUREAU \\nGOVERNMENT OF INDIA \\n**** \\nNew Delhi, 1st February, 2024 \\n \\nHIGHLIGHTS OF THE INTERIM UNION BUDGET 2024-25 \\n \\nWith the ‘mantra’ of ‘Sabka Saath, Sabka Vikas, and Sabka Vishwas’  and the whole of nation \\napproach of “Sabka Prayas” , the Union Minister for Finance and Corporate Affairs Smt. \\nNirmala Sitharaman presented the Interim Union Budget 2024-25 in Parliament, today. The key \\nhighlights of the Budget are as follows: \\n \\nPart A \\n \\nSocial Justice \\n\\uf0b7 Prime Minister to focus on upliftment of four major castes, that is, ‘Garib’ (Poor), \\n‘Mahilayen’ (Women), ‘Yuva’ (Youth) and  ‘Annadata’(Farmer) . \\n \\n‘Garib Kalyan, Desh ka Kalyan’ \\n\\uf0b7 Government assisted 25 crore people out of multi-dimensional poverty in last 10 years. \\n\\uf0b7 DBT of Rs. 34 lakh crore using PM-Jan Dhan accounts led to savings of Rs. 2.7 lakh \\ncrore for the Government. \\n\\uf0b7 PM-SVANidhi provided credit assistance to 78 lakh street vendors. 2.3 lakh have \\nreceived credit for the third time.  \\n\\uf0b7 PM-JANMAN Yojana to aid the development of particularly vulnerable tribal groups \\n(PVTG). \\n\\uf0b7 PM-Vishwakarma Yojana provides end-to-end support to artisans and crafts people \\nengaged in 18 trades.  \\n \\nWelfare of ‘Annadata’ \\n\\uf0b7 PM-KISAN SAMMAN Yojana provided financial assistance to 11.8 crore farmers.   \\n\\uf0b7 Under PM Fasal BimaYojana, crop insurance is given to 4 crore farmers \\n\\uf0b7 Electronic National Agriculture Market (e-NAM) integrated 1361 mandis, providing \\nservices to 1.8 crore farmers with trading volume of Rs. 3 lakh crore. \\n \\nMomentum for Nari Shakti \\n\\uf0b7 30 crore Mudra Yojana loans given to women entrepreneurs.  \\n\\uf0b7 Female enrolment in higher education gone up by 28%.  \\n\\uf0b7 In STEM courses, girls and women constitute 43% of enrolment, one of the highest in the \\nworld.', start_char_idx=0, end_char_idx=1768, text_template='{metadata_str}\\n\\n{content}', metadata_template='{key}: {value}', metadata_seperator='\\n'), score=0.8051931339067173)], is_dummy_stream=False)"
      ]
     },
     "execution_count": 22,
     "metadata": {},
     "output_type": "execute_result"
    }
   ],
   "source": [
    "llm.predict_and_call(\n",
    "    [vector_query_tool, add_tool,mystery_tool], \n",
    "    \"what are Momentum for Nari Shakti in page 1?\", \n",
    "    verbose=True\n",
    ")"
   ]
  },
  {
   "cell_type": "code",
   "execution_count": 23,
   "id": "ad3464af-87e4-494d-a211-b904c355cefa",
   "metadata": {},
   "outputs": [
    {
     "name": "stdout",
     "output_type": "stream",
     "text": [
      "=== Calling Function ===\n",
      "Calling function: add with args: {\"x\": 10, \"y\": 2}\n",
      "=== Function Output ===\n",
      "12\n"
     ]
    },
    {
     "data": {
      "text/plain": [
       "AgentChatResponse(response='12', sources=[ToolOutput(content='12', tool_name='add', raw_input={'args': (), 'kwargs': {'x': 10, 'y': 2}}, raw_output=12, is_error=False)], source_nodes=[], is_dummy_stream=False)"
      ]
     },
     "execution_count": 23,
     "metadata": {},
     "output_type": "execute_result"
    }
   ],
   "source": [
    "llm.predict_and_call(\n",
    "    [vector_query_tool, add_tool,mystery_tool], \n",
    "    \"what is 10+2\", \n",
    "    verbose=True\n",
    ")"
   ]
  },
  {
   "cell_type": "code",
   "execution_count": null,
   "id": "5650c41e-e7b4-4911-b74c-9e402454d93a",
   "metadata": {},
   "outputs": [],
   "source": []
  }
 ],
 "metadata": {
  "kernelspec": {
   "display_name": "Python 3 (ipykernel)",
   "language": "python",
   "name": "python3"
  },
  "language_info": {
   "codemirror_mode": {
    "name": "ipython",
    "version": 3
   },
   "file_extension": ".py",
   "mimetype": "text/x-python",
   "name": "python",
   "nbconvert_exporter": "python",
   "pygments_lexer": "ipython3",
   "version": "3.11.7"
  }
 },
 "nbformat": 4,
 "nbformat_minor": 5
}
