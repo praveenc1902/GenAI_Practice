{
 "cells": [
  {
   "cell_type": "code",
   "execution_count": 22,
   "id": "99ec7020-de1f-4715-b941-8c9cf47df8e9",
   "metadata": {},
   "outputs": [],
   "source": [
    "from langgraph.graph import StateGraph, END\n",
    "from typing import TypedDict, Annotated\n",
    "import operator\n",
    "from langchain_core.messages import AnyMessage, SystemMessage, HumanMessage, ToolMessage\n",
    "from langchain_openai import ChatOpenAI\n",
    "from langchain_community.tools.tavily_search import TavilySearchResults\n",
    "from langgraph.checkpoint.sqlite import SqliteSaver\n",
    "\n",
    "memory = SqliteSaver.from_conn_string(\":memory:\")"
   ]
  },
  {
   "cell_type": "code",
   "execution_count": 51,
   "id": "b383933b-22e6-4086-a418-af52880464bc",
   "metadata": {},
   "outputs": [
    {
     "name": "stdout",
     "output_type": "stream",
     "text": [
      "env: OPENAI_API_KEY=\n",
      "env: TAVILY_API_KEY=\n"
     ]
    }
   ],
   "source": [
    "%set_env OPENAI_API_KEY=\n",
    "%set_env TAVILY_API_KEY="
   ]
  },
  {
   "cell_type": "code",
   "execution_count": 32,
   "id": "aa10a863-d6de-438d-8579-4fe416c6ca5e",
   "metadata": {},
   "outputs": [],
   "source": [
    "from uuid import uuid4\n",
    "from langchain_core.messages import AnyMessage, SystemMessage, HumanMessage, AIMessage\n",
    "\n",
    "def reduce_messages(left: list[AnyMessage], right: list[AnyMessage]) -> list[AnyMessage]:\n",
    "    # assign ids to messages that don't have them\n",
    "    for message in right:\n",
    "        if not message.id:\n",
    "            message.id = str(uuid4())\n",
    "    # merge the new messages with the existing messages\n",
    "    merged = left.copy()\n",
    "    for message in right:\n",
    "        for i, existing in enumerate(merged):\n",
    "            # replace any existing messages with the same id\n",
    "            if existing.id == message.id:\n",
    "                merged[i] = message\n",
    "                break\n",
    "        else:\n",
    "            # append any new messages to the end\n",
    "            merged.append(message)\n",
    "    return merged\n",
    "    \n",
    "class AgentState(TypedDict):\n",
    "    messages:Annotated[list[AnyMessage],reduce_messages]"
   ]
  },
  {
   "cell_type": "code",
   "execution_count": 33,
   "id": "71c8f4b3-b749-4c79-8cb5-9d2162d4027c",
   "metadata": {},
   "outputs": [],
   "source": [
    "tool = TavilySearchResults()"
   ]
  },
  {
   "cell_type": "code",
   "execution_count": 34,
   "id": "dfd5d14a-a580-4e2b-aef6-ef482891f180",
   "metadata": {},
   "outputs": [],
   "source": [
    "class Agent:\n",
    "    def __init__(self, model, tools, system=\"\", checkpointer=None):\n",
    "        self.system = system\n",
    "        graph = StateGraph(AgentState)\n",
    "        graph.add_node(\"llm\", self.call_openai)\n",
    "        graph.add_node(\"action\", self.take_action)\n",
    "        graph.add_conditional_edges(\"llm\", self.exists_action, {True: \"action\", False: END})\n",
    "        graph.add_edge(\"action\", \"llm\")\n",
    "        graph.set_entry_point(\"llm\")\n",
    "        self.graph = graph.compile(\n",
    "            checkpointer=checkpointer,\n",
    "            interrupt_before=[\"action\"]\n",
    "        )\n",
    "        self.tools = {t.name: t for t in tools}\n",
    "        self.model = model.bind_tools(tools)\n",
    "\n",
    "    def call_openai(self, state: AgentState):\n",
    "        messages = state['messages']\n",
    "        if self.system:\n",
    "            messages = [SystemMessage(content=self.system)] + messages\n",
    "        message = self.model.invoke(messages)\n",
    "        return {'messages': [message]}\n",
    "\n",
    "    def exists_action(self, state: AgentState):\n",
    "        print(state)\n",
    "        result = state['messages'][-1]\n",
    "        return len(result.tool_calls) > 0\n",
    "\n",
    "    def take_action(self, state: AgentState):\n",
    "        tool_calls = state['messages'][-1].tool_calls\n",
    "        results = []\n",
    "        for t in tool_calls:\n",
    "            print(f\"Calling: {t}\")\n",
    "            result = self.tools[t['name']].invoke(t['args'])\n",
    "            results.append(ToolMessage(tool_call_id=t['id'], name=t['name'], content=str(result)))\n",
    "        print(\"Back to the model!\")\n",
    "        return {'messages': results}"
   ]
  },
  {
   "cell_type": "code",
   "execution_count": 35,
   "id": "5d324cc4-b3f2-464e-bb83-41f2a5b8614d",
   "metadata": {},
   "outputs": [],
   "source": [
    "prompt = \"\"\"You are a smart research assistant. Use the search engine to look up information. \\\n",
    "You are allowed to make multiple calls (either together or in sequence). \\\n",
    "Only look up information when you are sure of what you want. \\\n",
    "If you need to look up some information before asking a follow up question, you are allowed to do that!\n",
    "\"\"\"\n",
    "model = ChatOpenAI(model=\"gpt-3.5-turbo\")\n",
    "abot = Agent(model, [tool], system=prompt, checkpointer=memory)"
   ]
  },
  {
   "cell_type": "code",
   "execution_count": 36,
   "id": "d48ed491-2189-46f4-a896-cd9af7bc43fa",
   "metadata": {},
   "outputs": [
    {
     "name": "stdout",
     "output_type": "stream",
     "text": [
      "{'messages': [HumanMessage(content='what is the weather in Hyderabad, Telangana', id='d452428d-821b-4c9f-9696-d10f63d21abf'), AIMessage(content='', additional_kwargs={'tool_calls': [{'id': 'call_i3miRtuwzbN40DJCkr0iFwgE', 'function': {'arguments': '{\"query\":\"weather in Hyderabad, Telangana\"}', 'name': 'tavily_search_results_json'}, 'type': 'function'}]}, response_metadata={'token_usage': {'completion_tokens': 24, 'prompt_tokens': 156, 'total_tokens': 180}, 'model_name': 'gpt-3.5-turbo', 'system_fingerprint': None, 'finish_reason': 'tool_calls', 'logprobs': None}, id='run-256302f9-a7bc-42bf-b173-9230f9af69e1-0', tool_calls=[{'name': 'tavily_search_results_json', 'args': {'query': 'weather in Hyderabad, Telangana'}, 'id': 'call_i3miRtuwzbN40DJCkr0iFwgE'}])]}\n",
      "{'messages': [AIMessage(content='', additional_kwargs={'tool_calls': [{'id': 'call_i3miRtuwzbN40DJCkr0iFwgE', 'function': {'arguments': '{\"query\":\"weather in Hyderabad, Telangana\"}', 'name': 'tavily_search_results_json'}, 'type': 'function'}]}, response_metadata={'token_usage': {'completion_tokens': 24, 'prompt_tokens': 156, 'total_tokens': 180}, 'model_name': 'gpt-3.5-turbo', 'system_fingerprint': None, 'finish_reason': 'tool_calls', 'logprobs': None}, id='run-256302f9-a7bc-42bf-b173-9230f9af69e1-0', tool_calls=[{'name': 'tavily_search_results_json', 'args': {'query': 'weather in Hyderabad, Telangana'}, 'id': 'call_i3miRtuwzbN40DJCkr0iFwgE'}])]}\n"
     ]
    }
   ],
   "source": [
    "messages = [HumanMessage(content=\"what is the weather in Hyderabad, Telangana\")]\n",
    "thread = {\"configurable\":{\"thread_id\":\"1\"}}\n",
    "for event in abot.graph.stream({\"messages\":messages},thread):\n",
    "    for v in event.values():\n",
    "        print(v)"
   ]
  },
  {
   "cell_type": "code",
   "execution_count": 37,
   "id": "bc3a56bf-473e-493f-8a71-2e53655d9448",
   "metadata": {},
   "outputs": [
    {
     "data": {
      "text/plain": [
       "StateSnapshot(values={'messages': [HumanMessage(content='what is the weather in Hyderabad, Telangana', id='d452428d-821b-4c9f-9696-d10f63d21abf'), AIMessage(content='', additional_kwargs={'tool_calls': [{'id': 'call_i3miRtuwzbN40DJCkr0iFwgE', 'function': {'arguments': '{\"query\":\"weather in Hyderabad, Telangana\"}', 'name': 'tavily_search_results_json'}, 'type': 'function'}]}, response_metadata={'token_usage': {'completion_tokens': 24, 'prompt_tokens': 156, 'total_tokens': 180}, 'model_name': 'gpt-3.5-turbo', 'system_fingerprint': None, 'finish_reason': 'tool_calls', 'logprobs': None}, id='run-256302f9-a7bc-42bf-b173-9230f9af69e1-0', tool_calls=[{'name': 'tavily_search_results_json', 'args': {'query': 'weather in Hyderabad, Telangana'}, 'id': 'call_i3miRtuwzbN40DJCkr0iFwgE'}])]}, next=('action',), config={'configurable': {'thread_id': '1', 'thread_ts': '1ef24af2-7d84-6078-8005-b41aaf0aeb0f'}}, metadata={'source': 'loop', 'step': 5, 'writes': {'llm': {'messages': [AIMessage(content='', additional_kwargs={'tool_calls': [{'id': 'call_i3miRtuwzbN40DJCkr0iFwgE', 'function': {'arguments': '{\"query\":\"weather in Hyderabad, Telangana\"}', 'name': 'tavily_search_results_json'}, 'type': 'function'}]}, response_metadata={'token_usage': {'completion_tokens': 24, 'prompt_tokens': 156, 'total_tokens': 180}, 'model_name': 'gpt-3.5-turbo', 'system_fingerprint': None, 'finish_reason': 'tool_calls', 'logprobs': None}, id='run-256302f9-a7bc-42bf-b173-9230f9af69e1-0', tool_calls=[{'name': 'tavily_search_results_json', 'args': {'query': 'weather in Hyderabad, Telangana'}, 'id': 'call_i3miRtuwzbN40DJCkr0iFwgE'}])]}}}, created_at='2024-06-07T09:20:17.813485+00:00', parent_config={'configurable': {'thread_id': '1', 'thread_ts': '1ef24af2-72a4-677a-8004-8719db005592'}})"
      ]
     },
     "execution_count": 37,
     "metadata": {},
     "output_type": "execute_result"
    }
   ],
   "source": [
    "abot.graph.get_state(thread)"
   ]
  },
  {
   "cell_type": "code",
   "execution_count": 38,
   "id": "43179b55-2310-4db4-82c9-0c91f3aaa055",
   "metadata": {},
   "outputs": [
    {
     "data": {
      "text/plain": [
       "('action',)"
      ]
     },
     "execution_count": 38,
     "metadata": {},
     "output_type": "execute_result"
    }
   ],
   "source": [
    "abot.graph.get_state(thread).next"
   ]
  },
  {
   "cell_type": "code",
   "execution_count": 39,
   "id": "008f9737-5bf5-4186-870f-f25dd00fea08",
   "metadata": {},
   "outputs": [
    {
     "name": "stdout",
     "output_type": "stream",
     "text": [
      "Calling: {'name': 'tavily_search_results_json', 'args': {'query': 'weather in Hyderabad, Telangana'}, 'id': 'call_i3miRtuwzbN40DJCkr0iFwgE'}\n",
      "Back to the model!\n",
      "{'messages': [ToolMessage(content='[{\\'url\\': \\'https://www.weatherapi.com/\\', \\'content\\': \"{\\'location\\': {\\'name\\': \\'Hyderabad\\', \\'region\\': \\'Sindh\\', \\'country\\': \\'Pakistan\\', \\'lat\\': 25.37, \\'lon\\': 68.37, \\'tz_id\\': \\'Asia/Karachi\\', \\'localtime_epoch\\': 1717752080, \\'localtime\\': \\'2024-06-07 14:21\\'}, \\'current\\': {\\'last_updated_epoch\\': 1717751700, \\'last_updated\\': \\'2024-06-07 14:15\\', \\'temp_c\\': 40.2, \\'temp_f\\': 104.4, \\'is_day\\': 1, \\'condition\\': {\\'text\\': \\'Sunny\\', \\'icon\\': \\'//cdn.weatherapi.com/weather/64x64/day/113.png\\', \\'code\\': 1000}, \\'wind_mph\\': 19.7, \\'wind_kph\\': 31.7, \\'wind_degree\\': 232, \\'wind_dir\\': \\'SW\\', \\'pressure_mb\\': 1001.0, \\'pressure_in\\': 29.56, \\'precip_mm\\': 0.0, \\'precip_in\\': 0.0, \\'humidity\\': 33, \\'cloud\\': 0, \\'feelslike_c\\': 46.0, \\'feelslike_f\\': 114.7, \\'windchill_c\\': 40.2, \\'windchill_f\\': 104.4, \\'heatindex_c\\': 46.0, \\'heatindex_f\\': 114.7, \\'dewpoint_c\\': 21.0, \\'dewpoint_f\\': 69.8, \\'vis_km\\': 10.0, \\'vis_miles\\': 6.0, \\'uv\\': 10.0, \\'gust_mph\\': 22.6, \\'gust_kph\\': 36.4}}\"}, {\\'url\\': \\'https://world-weather.info/forecast/india/hyderabad/june-2024/\\', \\'content\\': \\'Extended weather forecast in Hyderabad. Hourly Week 10 days 14 days 30 days Year. Detailed ⚡ Hyderabad Weather Forecast for June 2024 - day/night 🌡️ temperatures, precipitations - World-Weather.info.\\'}, {\\'url\\': \\'https://www.accuweather.com/en/in/hyderabad/202190/weather-forecast/202190\\', \\'content\\': \\'Dust & Dander High. World Asia India Telangana Hyderabad. Hyderabad, Telangana, India Weather Forecast, with current conditions, wind, air quality, and what to expect for the next 3 days.\\'}, {\\'url\\': \\'https://www.weathertab.com/en/d/e/06/republic-of-india/telangana/hyderabad/\\', \\'content\\': \\'Our Hyderabad, Telangana Daily Weather Forecast for June 2024, developed from a specialized dynamic long-range model, provides precise daily temperature and rainfall predictions. This model, distinct from standard statistical or climatological approaches, is the result of over 50 years of dedicated private research, offering a clearer and more ...\\'}, {\\'url\\': \\'https://www.weathertab.com/en/c/e/06/republic-of-india/telangana/hyderabad/\\', \\'content\\': \\'Temperature Forecast Normal. Avg High Temps 90 to 100 °F. Avg Low Temps 70 to 80 °F. Explore comprehensive June 2024 weather forecasts for Hyderabad, including daily high and low temperatures, precipitation risks, and monthly temperature trends. Featuring detailed day-by-day forecasts, dynamic graphs of daily rain probabilities, and ...\\'}]', name='tavily_search_results_json', tool_call_id='call_i3miRtuwzbN40DJCkr0iFwgE')]}\n",
      "{'messages': [HumanMessage(content='what is the weather in Hyderabad, Telangana', id='d452428d-821b-4c9f-9696-d10f63d21abf'), AIMessage(content='', additional_kwargs={'tool_calls': [{'id': 'call_i3miRtuwzbN40DJCkr0iFwgE', 'function': {'arguments': '{\"query\":\"weather in Hyderabad, Telangana\"}', 'name': 'tavily_search_results_json'}, 'type': 'function'}]}, response_metadata={'token_usage': {'completion_tokens': 24, 'prompt_tokens': 156, 'total_tokens': 180}, 'model_name': 'gpt-3.5-turbo', 'system_fingerprint': None, 'finish_reason': 'tool_calls', 'logprobs': None}, id='run-256302f9-a7bc-42bf-b173-9230f9af69e1-0', tool_calls=[{'name': 'tavily_search_results_json', 'args': {'query': 'weather in Hyderabad, Telangana'}, 'id': 'call_i3miRtuwzbN40DJCkr0iFwgE'}]), ToolMessage(content='[{\\'url\\': \\'https://www.weatherapi.com/\\', \\'content\\': \"{\\'location\\': {\\'name\\': \\'Hyderabad\\', \\'region\\': \\'Sindh\\', \\'country\\': \\'Pakistan\\', \\'lat\\': 25.37, \\'lon\\': 68.37, \\'tz_id\\': \\'Asia/Karachi\\', \\'localtime_epoch\\': 1717752080, \\'localtime\\': \\'2024-06-07 14:21\\'}, \\'current\\': {\\'last_updated_epoch\\': 1717751700, \\'last_updated\\': \\'2024-06-07 14:15\\', \\'temp_c\\': 40.2, \\'temp_f\\': 104.4, \\'is_day\\': 1, \\'condition\\': {\\'text\\': \\'Sunny\\', \\'icon\\': \\'//cdn.weatherapi.com/weather/64x64/day/113.png\\', \\'code\\': 1000}, \\'wind_mph\\': 19.7, \\'wind_kph\\': 31.7, \\'wind_degree\\': 232, \\'wind_dir\\': \\'SW\\', \\'pressure_mb\\': 1001.0, \\'pressure_in\\': 29.56, \\'precip_mm\\': 0.0, \\'precip_in\\': 0.0, \\'humidity\\': 33, \\'cloud\\': 0, \\'feelslike_c\\': 46.0, \\'feelslike_f\\': 114.7, \\'windchill_c\\': 40.2, \\'windchill_f\\': 104.4, \\'heatindex_c\\': 46.0, \\'heatindex_f\\': 114.7, \\'dewpoint_c\\': 21.0, \\'dewpoint_f\\': 69.8, \\'vis_km\\': 10.0, \\'vis_miles\\': 6.0, \\'uv\\': 10.0, \\'gust_mph\\': 22.6, \\'gust_kph\\': 36.4}}\"}, {\\'url\\': \\'https://world-weather.info/forecast/india/hyderabad/june-2024/\\', \\'content\\': \\'Extended weather forecast in Hyderabad. Hourly Week 10 days 14 days 30 days Year. Detailed ⚡ Hyderabad Weather Forecast for June 2024 - day/night 🌡️ temperatures, precipitations - World-Weather.info.\\'}, {\\'url\\': \\'https://www.accuweather.com/en/in/hyderabad/202190/weather-forecast/202190\\', \\'content\\': \\'Dust & Dander High. World Asia India Telangana Hyderabad. Hyderabad, Telangana, India Weather Forecast, with current conditions, wind, air quality, and what to expect for the next 3 days.\\'}, {\\'url\\': \\'https://www.weathertab.com/en/d/e/06/republic-of-india/telangana/hyderabad/\\', \\'content\\': \\'Our Hyderabad, Telangana Daily Weather Forecast for June 2024, developed from a specialized dynamic long-range model, provides precise daily temperature and rainfall predictions. This model, distinct from standard statistical or climatological approaches, is the result of over 50 years of dedicated private research, offering a clearer and more ...\\'}, {\\'url\\': \\'https://www.weathertab.com/en/c/e/06/republic-of-india/telangana/hyderabad/\\', \\'content\\': \\'Temperature Forecast Normal. Avg High Temps 90 to 100 °F. Avg Low Temps 70 to 80 °F. Explore comprehensive June 2024 weather forecasts for Hyderabad, including daily high and low temperatures, precipitation risks, and monthly temperature trends. Featuring detailed day-by-day forecasts, dynamic graphs of daily rain probabilities, and ...\\'}]', name='tavily_search_results_json', id='38263a90-7e4e-49f3-87ff-db5c0f7eaa81', tool_call_id='call_i3miRtuwzbN40DJCkr0iFwgE'), AIMessage(content='The current weather in Hyderabad, Telangana is sunny with a temperature of 40.2°C (104.4°F). The wind speed is 31.7 km/h coming from the southwest direction. The humidity is 33%, and there is no precipitation at the moment.', response_metadata={'token_usage': {'completion_tokens': 58, 'prompt_tokens': 955, 'total_tokens': 1013}, 'model_name': 'gpt-3.5-turbo', 'system_fingerprint': None, 'finish_reason': 'stop', 'logprobs': None}, id='run-f497989b-907f-4c3f-8a54-3ab91dac0f96-0')]}\n",
      "{'messages': [AIMessage(content='The current weather in Hyderabad, Telangana is sunny with a temperature of 40.2°C (104.4°F). The wind speed is 31.7 km/h coming from the southwest direction. The humidity is 33%, and there is no precipitation at the moment.', response_metadata={'token_usage': {'completion_tokens': 58, 'prompt_tokens': 955, 'total_tokens': 1013}, 'model_name': 'gpt-3.5-turbo', 'system_fingerprint': None, 'finish_reason': 'stop', 'logprobs': None}, id='run-f497989b-907f-4c3f-8a54-3ab91dac0f96-0')]}\n"
     ]
    }
   ],
   "source": [
    "for event in abot.graph.stream(None, thread):\n",
    "    for v in event.values():\n",
    "        print(v)"
   ]
  },
  {
   "cell_type": "code",
   "execution_count": 40,
   "id": "dbb07f72-35e9-480a-9770-31d82c2dc1c6",
   "metadata": {},
   "outputs": [
    {
     "data": {
      "text/plain": [
       "()"
      ]
     },
     "execution_count": 40,
     "metadata": {},
     "output_type": "execute_result"
    }
   ],
   "source": [
    "abot.graph.get_state(thread).next"
   ]
  },
  {
   "cell_type": "code",
   "execution_count": 41,
   "id": "a7efdb11-81cb-4d23-a077-a1f505d336f5",
   "metadata": {},
   "outputs": [
    {
     "name": "stdout",
     "output_type": "stream",
     "text": [
      "{'messages': [HumanMessage(content='Whats the weather in Munagala Village, Itikyala Mandal?', id='35318fd9-b6cd-45d6-88f3-6b8280551384'), AIMessage(content='', additional_kwargs={'tool_calls': [{'id': 'call_RPTTiBvr2IH7Go6gw2uIzR74', 'function': {'arguments': '{\"query\":\"weather in Munagala Village, Itikyala Mandal\"}', 'name': 'tavily_search_results_json'}, 'type': 'function'}]}, response_metadata={'token_usage': {'completion_tokens': 29, 'prompt_tokens': 161, 'total_tokens': 190}, 'model_name': 'gpt-3.5-turbo', 'system_fingerprint': None, 'finish_reason': 'tool_calls', 'logprobs': None}, id='run-25b9fbc9-46dc-452a-a49f-fa365aae15b5-0', tool_calls=[{'name': 'tavily_search_results_json', 'args': {'query': 'weather in Munagala Village, Itikyala Mandal'}, 'id': 'call_RPTTiBvr2IH7Go6gw2uIzR74'}])]}\n",
      "{'messages': [AIMessage(content='', additional_kwargs={'tool_calls': [{'id': 'call_RPTTiBvr2IH7Go6gw2uIzR74', 'function': {'arguments': '{\"query\":\"weather in Munagala Village, Itikyala Mandal\"}', 'name': 'tavily_search_results_json'}, 'type': 'function'}]}, response_metadata={'token_usage': {'completion_tokens': 29, 'prompt_tokens': 161, 'total_tokens': 190}, 'model_name': 'gpt-3.5-turbo', 'system_fingerprint': None, 'finish_reason': 'tool_calls', 'logprobs': None}, id='run-25b9fbc9-46dc-452a-a49f-fa365aae15b5-0', tool_calls=[{'name': 'tavily_search_results_json', 'args': {'query': 'weather in Munagala Village, Itikyala Mandal'}, 'id': 'call_RPTTiBvr2IH7Go6gw2uIzR74'}])]}\n"
     ]
    }
   ],
   "source": [
    "messages = [HumanMessage(\"Whats the weather in Munagala Village, Itikyala Mandal?\")]\n",
    "thread = {\"configurable\": {\"thread_id\": \"3\"}}\n",
    "for event in abot.graph.stream({\"messages\": messages}, thread):\n",
    "    for v in event.values():\n",
    "        print(v)"
   ]
  },
  {
   "cell_type": "code",
   "execution_count": 42,
   "id": "cf1d3bd4-3f98-4c29-bac6-aa5c5be3ceab",
   "metadata": {},
   "outputs": [
    {
     "data": {
      "text/plain": [
       "StateSnapshot(values={'messages': [HumanMessage(content='Whats the weather in Munagala Village, Itikyala Mandal?', id='35318fd9-b6cd-45d6-88f3-6b8280551384'), AIMessage(content='', additional_kwargs={'tool_calls': [{'id': 'call_RPTTiBvr2IH7Go6gw2uIzR74', 'function': {'arguments': '{\"query\":\"weather in Munagala Village, Itikyala Mandal\"}', 'name': 'tavily_search_results_json'}, 'type': 'function'}]}, response_metadata={'token_usage': {'completion_tokens': 29, 'prompt_tokens': 161, 'total_tokens': 190}, 'model_name': 'gpt-3.5-turbo', 'system_fingerprint': None, 'finish_reason': 'tool_calls', 'logprobs': None}, id='run-25b9fbc9-46dc-452a-a49f-fa365aae15b5-0', tool_calls=[{'name': 'tavily_search_results_json', 'args': {'query': 'weather in Munagala Village, Itikyala Mandal'}, 'id': 'call_RPTTiBvr2IH7Go6gw2uIzR74'}])]}, next=('action',), config={'configurable': {'thread_id': '3', 'thread_ts': '1ef24b05-5803-6e3a-8001-76eb213b5d7a'}}, metadata={'source': 'loop', 'step': 1, 'writes': {'llm': {'messages': [AIMessage(content='', additional_kwargs={'tool_calls': [{'id': 'call_RPTTiBvr2IH7Go6gw2uIzR74', 'function': {'arguments': '{\"query\":\"weather in Munagala Village, Itikyala Mandal\"}', 'name': 'tavily_search_results_json'}, 'type': 'function'}]}, response_metadata={'token_usage': {'completion_tokens': 29, 'prompt_tokens': 161, 'total_tokens': 190}, 'model_name': 'gpt-3.5-turbo', 'system_fingerprint': None, 'finish_reason': 'tool_calls', 'logprobs': None}, id='run-25b9fbc9-46dc-452a-a49f-fa365aae15b5-0', tool_calls=[{'name': 'tavily_search_results_json', 'args': {'query': 'weather in Munagala Village, Itikyala Mandal'}, 'id': 'call_RPTTiBvr2IH7Go6gw2uIzR74'}])]}}}, created_at='2024-06-07T09:28:43.908633+00:00', parent_config={'configurable': {'thread_id': '3', 'thread_ts': '1ef24b05-4dd2-62d6-8000-502c3cba18d8'}})"
      ]
     },
     "execution_count": 42,
     "metadata": {},
     "output_type": "execute_result"
    }
   ],
   "source": [
    "abot.graph.get_state(thread)"
   ]
  },
  {
   "cell_type": "code",
   "execution_count": 43,
   "id": "929da4cd-363c-4db5-8340-94e5f9486ae9",
   "metadata": {},
   "outputs": [
    {
     "data": {
      "text/plain": [
       "('action',)"
      ]
     },
     "execution_count": 43,
     "metadata": {},
     "output_type": "execute_result"
    }
   ],
   "source": [
    "abot.graph.get_state(thread).next"
   ]
  },
  {
   "cell_type": "code",
   "execution_count": 44,
   "id": "9370b52d-b27d-4328-be2a-a1a68fc190c4",
   "metadata": {},
   "outputs": [],
   "source": [
    "current_values = abot.graph.get_state(thread)"
   ]
  },
  {
   "cell_type": "code",
   "execution_count": 46,
   "id": "a421ce39-f235-4635-b5a6-25f57e6b925d",
   "metadata": {},
   "outputs": [
    {
     "data": {
      "text/plain": [
       "[{'name': 'tavily_search_results_json',\n",
       "  'args': {'query': 'weather in Munagala Village, Itikyala Mandal'},\n",
       "  'id': 'call_RPTTiBvr2IH7Go6gw2uIzR74'}]"
      ]
     },
     "execution_count": 46,
     "metadata": {},
     "output_type": "execute_result"
    }
   ],
   "source": [
    "current_values.values['messages'][-1].tool_calls"
   ]
  },
  {
   "cell_type": "code",
   "execution_count": 47,
   "id": "e249ee5c-c547-4514-bc95-c0a9d651c8b7",
   "metadata": {},
   "outputs": [],
   "source": [
    "_id = current_values.values['messages'][-1].tool_calls[0]['id']\n",
    "current_values.values['messages'][-1].tool_calls = [{'name': 'tavily_search_results_json',\n",
    "  'args': {'query': 'weather in Alampur, Telangana'},\n",
    "  'id': _id}]"
   ]
  },
  {
   "cell_type": "code",
   "execution_count": 48,
   "id": "364d93e0-b984-4e09-8e76-226d43f9309f",
   "metadata": {},
   "outputs": [
    {
     "name": "stdout",
     "output_type": "stream",
     "text": [
      "{'messages': [HumanMessage(content='Whats the weather in Munagala Village, Itikyala Mandal?', id='35318fd9-b6cd-45d6-88f3-6b8280551384'), AIMessage(content='', additional_kwargs={'tool_calls': [{'id': 'call_RPTTiBvr2IH7Go6gw2uIzR74', 'function': {'arguments': '{\"query\":\"weather in Munagala Village, Itikyala Mandal\"}', 'name': 'tavily_search_results_json'}, 'type': 'function'}]}, response_metadata={'token_usage': {'completion_tokens': 29, 'prompt_tokens': 161, 'total_tokens': 190}, 'model_name': 'gpt-3.5-turbo', 'system_fingerprint': None, 'finish_reason': 'tool_calls', 'logprobs': None}, id='run-25b9fbc9-46dc-452a-a49f-fa365aae15b5-0', tool_calls=[{'name': 'tavily_search_results_json', 'args': {'query': 'weather in Alampur, Telangana'}, 'id': 'call_RPTTiBvr2IH7Go6gw2uIzR74'}])]}\n"
     ]
    },
    {
     "data": {
      "text/plain": [
       "{'configurable': {'thread_id': '3',\n",
       "  'thread_ts': '1ef24b10-cc79-6ff2-8002-64108f57756c'}}"
      ]
     },
     "execution_count": 48,
     "metadata": {},
     "output_type": "execute_result"
    }
   ],
   "source": [
    "abot.graph.update_state(thread,current_values.values)"
   ]
  },
  {
   "cell_type": "code",
   "execution_count": 49,
   "id": "b36e1f7a-4547-444b-b810-4d60a5c72472",
   "metadata": {},
   "outputs": [
    {
     "data": {
      "text/plain": [
       "StateSnapshot(values={'messages': [HumanMessage(content='Whats the weather in Munagala Village, Itikyala Mandal?', id='35318fd9-b6cd-45d6-88f3-6b8280551384'), AIMessage(content='', additional_kwargs={'tool_calls': [{'id': 'call_RPTTiBvr2IH7Go6gw2uIzR74', 'function': {'arguments': '{\"query\":\"weather in Munagala Village, Itikyala Mandal\"}', 'name': 'tavily_search_results_json'}, 'type': 'function'}]}, response_metadata={'token_usage': {'completion_tokens': 29, 'prompt_tokens': 161, 'total_tokens': 190}, 'model_name': 'gpt-3.5-turbo', 'system_fingerprint': None, 'finish_reason': 'tool_calls', 'logprobs': None}, id='run-25b9fbc9-46dc-452a-a49f-fa365aae15b5-0', tool_calls=[{'name': 'tavily_search_results_json', 'args': {'query': 'weather in Alampur, Telangana'}, 'id': 'call_RPTTiBvr2IH7Go6gw2uIzR74'}])]}, next=('action',), config={'configurable': {'thread_id': '3', 'thread_ts': '1ef24b10-cc79-6ff2-8002-64108f57756c'}}, metadata={'source': 'update', 'step': 2, 'writes': {'llm': {'messages': [HumanMessage(content='Whats the weather in Munagala Village, Itikyala Mandal?', id='35318fd9-b6cd-45d6-88f3-6b8280551384'), AIMessage(content='', additional_kwargs={'tool_calls': [{'id': 'call_RPTTiBvr2IH7Go6gw2uIzR74', 'function': {'arguments': '{\"query\":\"weather in Munagala Village, Itikyala Mandal\"}', 'name': 'tavily_search_results_json'}, 'type': 'function'}]}, response_metadata={'token_usage': {'completion_tokens': 29, 'prompt_tokens': 161, 'total_tokens': 190}, 'model_name': 'gpt-3.5-turbo', 'system_fingerprint': None, 'finish_reason': 'tool_calls', 'logprobs': None}, id='run-25b9fbc9-46dc-452a-a49f-fa365aae15b5-0', tool_calls=[{'name': 'tavily_search_results_json', 'args': {'query': 'weather in Alampur, Telangana'}, 'id': 'call_RPTTiBvr2IH7Go6gw2uIzR74'}])]}}}, created_at='2024-06-07T09:33:51.399509+00:00', parent_config={'configurable': {'thread_id': '3', 'thread_ts': '1ef24b05-5803-6e3a-8001-76eb213b5d7a'}})"
      ]
     },
     "execution_count": 49,
     "metadata": {},
     "output_type": "execute_result"
    }
   ],
   "source": [
    "abot.graph.get_state(thread)"
   ]
  },
  {
   "cell_type": "code",
   "execution_count": 50,
   "id": "4aa5c062-08c5-45e4-85eb-98c2ea7ca3ff",
   "metadata": {},
   "outputs": [
    {
     "name": "stdout",
     "output_type": "stream",
     "text": [
      "Calling: {'name': 'tavily_search_results_json', 'args': {'query': 'weather in Alampur, Telangana'}, 'id': 'call_RPTTiBvr2IH7Go6gw2uIzR74'}\n",
      "Back to the model!\n",
      "{'messages': [ToolMessage(content='[{\\'url\\': \\'https://www.weatherapi.com/\\', \\'content\\': \"{\\'location\\': {\\'name\\': \\'Alampur\\', \\'region\\': \\'\\', \\'country\\': \\'Bangladesh\\', \\'lat\\': 24.87, \\'lon\\': 88.27, \\'tz_id\\': \\'Asia/Dhaka\\', \\'localtime_epoch\\': 1717752819, \\'localtime\\': \\'2024-06-07 15:33\\'}, \\'current\\': {\\'last_updated_epoch\\': 1717752600, \\'last_updated\\': \\'2024-06-07 15:30\\', \\'temp_c\\': 42.8, \\'temp_f\\': 109.0, \\'is_day\\': 1, \\'condition\\': {\\'text\\': \\'Sunny\\', \\'icon\\': \\'//cdn.weatherapi.com/weather/64x64/day/113.png\\', \\'code\\': 1000}, \\'wind_mph\\': 6.9, \\'wind_kph\\': 11.2, \\'wind_degree\\': 354, \\'wind_dir\\': \\'N\\', \\'pressure_mb\\': 997.0, \\'pressure_in\\': 29.43, \\'precip_mm\\': 0.0, \\'precip_in\\': 0.0, \\'humidity\\': 19, \\'cloud\\': 12, \\'feelslike_c\\': 44.3, \\'feelslike_f\\': 111.7, \\'windchill_c\\': 42.8, \\'windchill_f\\': 109.0, \\'heatindex_c\\': 44.3, \\'heatindex_f\\': 111.7, \\'dewpoint_c\\': 14.1, \\'dewpoint_f\\': 57.4, \\'vis_km\\': 10.0, \\'vis_miles\\': 6.0, \\'uv\\': 10.0, \\'gust_mph\\': 8.0, \\'gust_kph\\': 12.9}}\"}, {\\'url\\': \\'https://www.wunderground.com/history/daily/in/alampur/date/2024-6-7\\', \\'content\\': \\'Current Weather for Popular Cities . San Francisco, CA warning 55 ...\\'}, {\\'url\\': \\'https://www.theweathernetwork.com/in/weather/telangana/alampur\\', \\'content\\': \\'Find the most current and reliable 7 day weather forecasts, storm alerts, reports and information for [city] with The Weather Network.\\'}, {\\'url\\': \\'https://www.accuweather.com/en/in/alampur/191791/weather-forecast/191791\\', \\'content\\': \"Get the forecast for today, tonight & tomorrow\\'s weather for Alampur, Telangana, India. Hi/Low, RealFeel®, precip, radar, & everything you need to be ready for the day, commute, and weekend!\"}, {\\'url\\': \\'https://weather.com/en-LC/weather/tenday/l/911df388984b8791fac2548f1dfb26a3eb471da4cd2eaf0e92a6de41946de834\\', \\'content\\': \\'Be prepared with the most accurate 10-day forecast for Alampur, Telangana, India with highs, lows, chance of precipitation from The Weather Channel and Weather.com\\'}]', name='tavily_search_results_json', tool_call_id='call_RPTTiBvr2IH7Go6gw2uIzR74')]}\n",
      "{'messages': [HumanMessage(content='Whats the weather in Munagala Village, Itikyala Mandal?', id='35318fd9-b6cd-45d6-88f3-6b8280551384'), AIMessage(content='', additional_kwargs={'tool_calls': [{'id': 'call_RPTTiBvr2IH7Go6gw2uIzR74', 'function': {'arguments': '{\"query\":\"weather in Munagala Village, Itikyala Mandal\"}', 'name': 'tavily_search_results_json'}, 'type': 'function'}]}, response_metadata={'token_usage': {'completion_tokens': 29, 'prompt_tokens': 161, 'total_tokens': 190}, 'model_name': 'gpt-3.5-turbo', 'system_fingerprint': None, 'finish_reason': 'tool_calls', 'logprobs': None}, id='run-25b9fbc9-46dc-452a-a49f-fa365aae15b5-0', tool_calls=[{'name': 'tavily_search_results_json', 'args': {'query': 'weather in Alampur, Telangana'}, 'id': 'call_RPTTiBvr2IH7Go6gw2uIzR74'}]), ToolMessage(content='[{\\'url\\': \\'https://www.weatherapi.com/\\', \\'content\\': \"{\\'location\\': {\\'name\\': \\'Alampur\\', \\'region\\': \\'\\', \\'country\\': \\'Bangladesh\\', \\'lat\\': 24.87, \\'lon\\': 88.27, \\'tz_id\\': \\'Asia/Dhaka\\', \\'localtime_epoch\\': 1717752819, \\'localtime\\': \\'2024-06-07 15:33\\'}, \\'current\\': {\\'last_updated_epoch\\': 1717752600, \\'last_updated\\': \\'2024-06-07 15:30\\', \\'temp_c\\': 42.8, \\'temp_f\\': 109.0, \\'is_day\\': 1, \\'condition\\': {\\'text\\': \\'Sunny\\', \\'icon\\': \\'//cdn.weatherapi.com/weather/64x64/day/113.png\\', \\'code\\': 1000}, \\'wind_mph\\': 6.9, \\'wind_kph\\': 11.2, \\'wind_degree\\': 354, \\'wind_dir\\': \\'N\\', \\'pressure_mb\\': 997.0, \\'pressure_in\\': 29.43, \\'precip_mm\\': 0.0, \\'precip_in\\': 0.0, \\'humidity\\': 19, \\'cloud\\': 12, \\'feelslike_c\\': 44.3, \\'feelslike_f\\': 111.7, \\'windchill_c\\': 42.8, \\'windchill_f\\': 109.0, \\'heatindex_c\\': 44.3, \\'heatindex_f\\': 111.7, \\'dewpoint_c\\': 14.1, \\'dewpoint_f\\': 57.4, \\'vis_km\\': 10.0, \\'vis_miles\\': 6.0, \\'uv\\': 10.0, \\'gust_mph\\': 8.0, \\'gust_kph\\': 12.9}}\"}, {\\'url\\': \\'https://www.wunderground.com/history/daily/in/alampur/date/2024-6-7\\', \\'content\\': \\'Current Weather for Popular Cities . San Francisco, CA warning 55 ...\\'}, {\\'url\\': \\'https://www.theweathernetwork.com/in/weather/telangana/alampur\\', \\'content\\': \\'Find the most current and reliable 7 day weather forecasts, storm alerts, reports and information for [city] with The Weather Network.\\'}, {\\'url\\': \\'https://www.accuweather.com/en/in/alampur/191791/weather-forecast/191791\\', \\'content\\': \"Get the forecast for today, tonight & tomorrow\\'s weather for Alampur, Telangana, India. Hi/Low, RealFeel®, precip, radar, & everything you need to be ready for the day, commute, and weekend!\"}, {\\'url\\': \\'https://weather.com/en-LC/weather/tenday/l/911df388984b8791fac2548f1dfb26a3eb471da4cd2eaf0e92a6de41946de834\\', \\'content\\': \\'Be prepared with the most accurate 10-day forecast for Alampur, Telangana, India with highs, lows, chance of precipitation from The Weather Channel and Weather.com\\'}]', name='tavily_search_results_json', id='7ab71284-ad3b-497d-9a03-0ee54d91301d', tool_call_id='call_RPTTiBvr2IH7Go6gw2uIzR74'), AIMessage(content='I found information about the weather in Alampur, Telangana. The current weather in Alampur is sunny with a temperature of 42.8°C (109.0°F). The wind speed is 11.2 km/h and the humidity is at 19%.', response_metadata={'token_usage': {'completion_tokens': 58, 'prompt_tokens': 875, 'total_tokens': 933}, 'model_name': 'gpt-3.5-turbo', 'system_fingerprint': None, 'finish_reason': 'stop', 'logprobs': None}, id='run-7891e1f6-c9f6-4e65-bbe2-e15b664e6022-0')]}\n",
      "{'messages': [AIMessage(content='I found information about the weather in Alampur, Telangana. The current weather in Alampur is sunny with a temperature of 42.8°C (109.0°F). The wind speed is 11.2 km/h and the humidity is at 19%.', response_metadata={'token_usage': {'completion_tokens': 58, 'prompt_tokens': 875, 'total_tokens': 933}, 'model_name': 'gpt-3.5-turbo', 'system_fingerprint': None, 'finish_reason': 'stop', 'logprobs': None}, id='run-7891e1f6-c9f6-4e65-bbe2-e15b664e6022-0')]}\n"
     ]
    }
   ],
   "source": [
    "for event in abot.graph.stream(None, thread):\n",
    "    for v in event.values():\n",
    "        print(v)"
   ]
  },
  {
   "cell_type": "code",
   "execution_count": null,
   "id": "165bf8be-0962-4579-8972-3c25de0ae7dc",
   "metadata": {},
   "outputs": [],
   "source": []
  }
 ],
 "metadata": {
  "kernelspec": {
   "display_name": "Python 3 (ipykernel)",
   "language": "python",
   "name": "python3"
  },
  "language_info": {
   "codemirror_mode": {
    "name": "ipython",
    "version": 3
   },
   "file_extension": ".py",
   "mimetype": "text/x-python",
   "name": "python",
   "nbconvert_exporter": "python",
   "pygments_lexer": "ipython3",
   "version": "3.11.7"
  }
 },
 "nbformat": 4,
 "nbformat_minor": 5
}
