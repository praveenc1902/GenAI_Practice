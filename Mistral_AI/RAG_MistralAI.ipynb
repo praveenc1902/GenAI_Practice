{
 "cells": [
  {
   "cell_type": "code",
   "execution_count": 18,
   "id": "4b915707-cf38-4dee-9ccd-ea47c2f8f468",
   "metadata": {},
   "outputs": [],
   "source": [
    "import requests\n",
    "from bs4 import BeautifulSoup\n",
    "import re\n",
    "import numpy as np\n"
   ]
  },
  {
   "cell_type": "code",
   "execution_count": 70,
   "id": "cb5bae41-7f59-4004-890b-c7827474a5e6",
   "metadata": {},
   "outputs": [],
   "source": [
    "api_key= \"\""
   ]
  },
  {
   "cell_type": "code",
   "execution_count": 7,
   "id": "68e824f0-8687-48fa-8627-0fd3fe87b231",
   "metadata": {},
   "outputs": [],
   "source": [
    "response = response = requests.get(\n",
    "    \"https://www.deeplearning.ai/the-batch/a-roadmap-explores-how-ai-can-detect-and-mitigate-greenhouse-gases/\"\n",
    ")\n",
    "soup = BeautifulSoup(response.text, \"html.parser\")\n",
    "tag = soup.find(\"div\", re.compile(\"^prose--styled\"))\n",
    "text = tag.text\n",
    "file_name = \"AI_greenhouse_gas.txt\"\n",
    "with open(file_name, 'w') as file:\n",
    "    file.write(text)"
   ]
  },
  {
   "cell_type": "code",
   "execution_count": 8,
   "id": "e2417ca7-8a0e-42ed-8434-39530413ad7d",
   "metadata": {},
   "outputs": [
    {
     "data": {
      "text/plain": [
       "4010"
      ]
     },
     "execution_count": 8,
     "metadata": {},
     "output_type": "execute_result"
    }
   ],
   "source": [
    "chunk_size=512\n",
    "len(text)"
   ]
  },
  {
   "cell_type": "code",
   "execution_count": 13,
   "id": "b44bc8dc-50b8-45d2-a37e-70af0d1446a5",
   "metadata": {},
   "outputs": [],
   "source": [
    "chunks = []\n",
    "for i in range(0, len(text), chunk_size):\n",
    "    chunks.append(text[i:i+chunk_size])"
   ]
  },
  {
   "cell_type": "code",
   "execution_count": 17,
   "id": "0caacc00-766b-465d-a4cd-ca343c092055",
   "metadata": {},
   "outputs": [],
   "source": [
    "import os\n",
    "from mistralai.client import MistralClient\n",
    "\n",
    "\n",
    "def get_text_embeddings(txt:str):\n",
    "    client = MistralClient(api_key=api_key)\n",
    "    emb_res = client.embeddings(model=\"mistral-embed\",input=txt)\n",
    "    return emb_res.data[0].embedding"
   ]
  },
  {
   "cell_type": "code",
   "execution_count": 19,
   "id": "19c8b282-119d-4775-9a3a-02899ce4c737",
   "metadata": {},
   "outputs": [],
   "source": [
    "text_embeddings =  np.array([get_text_embeddings(txt) for txt in chunks])"
   ]
  },
  {
   "cell_type": "code",
   "execution_count": 22,
   "id": "2c578dbf-b89b-48dd-96ea-b0e398356732",
   "metadata": {},
   "outputs": [
    {
     "data": {
      "text/plain": [
       "1024"
      ]
     },
     "execution_count": 22,
     "metadata": {},
     "output_type": "execute_result"
    }
   ],
   "source": [
    "text_embeddings.shape[1]"
   ]
  },
  {
   "cell_type": "code",
   "execution_count": 24,
   "id": "05a3c686-8ca9-4098-a037-d48a9d7ca126",
   "metadata": {},
   "outputs": [],
   "source": [
    "question = \"What are the ways that AI can reduce emissions in Agriculture?\"\n",
    "question_embeddings = np.array([get_text_embeddings(question)])"
   ]
  },
  {
   "cell_type": "code",
   "execution_count": 29,
   "id": "10d8f51c-cf0d-42c0-8391-5f18e5632db8",
   "metadata": {},
   "outputs": [],
   "source": [
    "import faiss\n",
    "\n",
    "d = text_embeddings.shape[1]\n",
    "index = faiss.IndexFlatL2(d)\n",
    "index.add(text_embeddings)"
   ]
  },
  {
   "cell_type": "code",
   "execution_count": 30,
   "id": "68be12df-b03c-4501-8356-c02d56169d44",
   "metadata": {},
   "outputs": [
    {
     "data": {
      "text/plain": [
       "<faiss.swigfaiss.IndexFlatL2; proxy of <Swig Object of type 'faiss::IndexFlatL2 *' at 0x114849110> >"
      ]
     },
     "execution_count": 30,
     "metadata": {},
     "output_type": "execute_result"
    }
   ],
   "source": [
    "# index = faiss.IndexFlatL2(d)\n",
    "index"
   ]
  },
  {
   "cell_type": "code",
   "execution_count": 32,
   "id": "b6d68448-6aec-4e06-a340-21dd5ea5bd64",
   "metadata": {},
   "outputs": [],
   "source": [
    "D,I = index.search(question_embeddings, k=2)"
   ]
  },
  {
   "cell_type": "code",
   "execution_count": 33,
   "id": "5ccc3878-43f7-47e7-a1ba-daaacac9c42b",
   "metadata": {},
   "outputs": [
    {
     "name": "stdout",
     "output_type": "stream",
     "text": [
      "[[0.2616668  0.29929367]] [[4 5]]\n"
     ]
    }
   ],
   "source": [
    "print(D,I)"
   ]
  },
  {
   "cell_type": "code",
   "execution_count": 41,
   "id": "6967cb5d-3297-4623-856e-12f761b6d5ae",
   "metadata": {},
   "outputs": [
    {
     "name": "stdout",
     "output_type": "stream",
     "text": [
      "['data to help factories use more recycled materials, cut waste, minimize energy use, and reduce downtime. Similarly, they can optimize supply chains to reduce emissions contributed by logistics.\\xa0Agriculture.\\xa0Farmers use AI-equipped sensors to simulate different crop rotations and weather events to forecast crop yield or loss. Armed with this data, food producers can cut waste and reduce carbon footprints. The authors cite lack of food-related datasets and investment in adapting farming practices as primary b', 'arriers to taking full advantage of AI in the food industry.Transportation.\\xa0AI systems can reduce greenhouse-gas emissions by improving traffic flow, ameliorating congestion, and optimizing public transportation. Moreover, reinforcement learning can reduce the impact of electric vehicles on the power grid by optimizing their charging. More data, uniform standards, and AI talent are needed to realize this potential.Materials.\\xa0Materials scientists use AI models to study traits of existing materials and design']\n"
     ]
    }
   ],
   "source": [
    "retrieved_chunk = [chunks[i] for i in I.tolist()[0]]\n",
    "print(retrieved_chunk)"
   ]
  },
  {
   "cell_type": "code",
   "execution_count": 42,
   "id": "89758a6d-0ed2-45b0-8dbb-142f20570dcc",
   "metadata": {},
   "outputs": [],
   "source": [
    "prompt = f\"\"\"\n",
    "Context information is below.\n",
    "---------------------\n",
    "{retrieved_chunk}\n",
    "---------------------\n",
    "Given the context information and not prior knowledge, answer the query.\n",
    "Query: {question}\n",
    "Answer:\n",
    "\"\"\""
   ]
  },
  {
   "cell_type": "code",
   "execution_count": 48,
   "id": "667c3a1b-af83-4035-b944-0c358aaf41eb",
   "metadata": {},
   "outputs": [],
   "source": [
    "from mistralai.models.chat_completion import ChatMessage\n",
    "\n",
    "\n",
    "def mistral(user_message, model=\"mistral-small-latest\", is_json=False):\n",
    "    client = MistralClient(api_key=api_key)\n",
    "    messages = [ChatMessage(role=\"user\", content=user_message)]\n",
    "\n",
    "    if is_json:\n",
    "        chat_response = client.chat(\n",
    "            model=model, messages=messages, response_format={\"type\": \"json_object\"}\n",
    "        )\n",
    "    else:\n",
    "        chat_response = client.chat(model=model, messages=messages)\n",
    "\n",
    "    return chat_response.choices[0].message.content"
   ]
  },
  {
   "cell_type": "code",
   "execution_count": 49,
   "id": "7f3955e5-e01e-4b74-8c2e-b1a9e27811a3",
   "metadata": {},
   "outputs": [
    {
     "data": {
      "text/plain": [
       "\"\\nContext information is below.\\n---------------------\\n['data to help factories use more recycled materials, cut waste, minimize energy use, and reduce downtime. Similarly, they can optimize supply chains to reduce emissions contributed by logistics.\\\\xa0Agriculture.\\\\xa0Farmers use AI-equipped sensors to simulate different crop rotations and weather events to forecast crop yield or loss. Armed with this data, food producers can cut waste and reduce carbon footprints. The authors cite lack of food-related datasets and investment in adapting farming practices as primary b', 'arriers to taking full advantage of AI in the food industry.Transportation.\\\\xa0AI systems can reduce greenhouse-gas emissions by improving traffic flow, ameliorating congestion, and optimizing public transportation. Moreover, reinforcement learning can reduce the impact of electric vehicles on the power grid by optimizing their charging. More data, uniform standards, and AI talent are needed to realize this potential.Materials.\\\\xa0Materials scientists use AI models to study traits of existing materials and design']\\n---------------------\\nGiven the context information and not prior knowledge, answer the query.\\nQuery: What are the ways that AI can reduce emissions in Agriculture?\\nAnswer:\\n\""
      ]
     },
     "execution_count": 49,
     "metadata": {},
     "output_type": "execute_result"
    }
   ],
   "source": [
    "prompt"
   ]
  },
  {
   "cell_type": "code",
   "execution_count": 50,
   "id": "c899022c-b128-44fa-9524-3d1e7bed5081",
   "metadata": {},
   "outputs": [
    {
     "data": {
      "text/plain": [
       "'In Agriculture, AI-equipped sensors can be used by farmers to simulate different crop rotations and weather events, which helps in forecasting crop yield or loss. This data enables food producers to cut waste and reduce their carbon footprints.'"
      ]
     },
     "execution_count": 50,
     "metadata": {},
     "output_type": "execute_result"
    }
   ],
   "source": [
    "mistral(prompt)"
   ]
  },
  {
   "cell_type": "code",
   "execution_count": 63,
   "id": "8e77a0ea-b5d5-40d9-8828-042b7af7558e",
   "metadata": {},
   "outputs": [],
   "source": [
    "def qa_with_context(text, question, chunk_size=512):\n",
    "    chunks = [text[i : i + chunk_size] for i in range(0, len(text), chunk_size)]\n",
    "    text_embeddings = np.array([get_text_embeddings(chunk) for chunk in chunks])\n",
    "    d = text_embeddings.shape[1]\n",
    "    index = faiss.IndexFlatL2(d)\n",
    "    index.add(text_embeddings)\n",
    "    question_embeddings = np.array([get_text_embeddings(question)])\n",
    "    D, I = index.search(question_embeddings, k=2)\n",
    "    retrieved_chunk = [chunks[i] for i in I.tolist()[0]]\n",
    "    prompt = f\"\"\"\n",
    "    Context information is below.\n",
    "    ---------------------\n",
    "    {retrieved_chunk}\n",
    "    ---------------------\n",
    "    Given the context information and not prior knowledge, answer the query.\n",
    "    Query: {question}\n",
    "    Answer:\n",
    "    \"\"\"\n",
    "    response = mistral(prompt)\n",
    "    return response\n",
    "    "
   ]
  },
  {
   "cell_type": "code",
   "execution_count": 64,
   "id": "4882fd9d-4e4e-4731-8c6d-7fc5897c1794",
   "metadata": {},
   "outputs": [],
   "source": [
    "import functools\n",
    "\n",
    "names_to_functions = {\"qa_with_context\": functools.partial(qa_with_context, text=text)}"
   ]
  },
  {
   "cell_type": "code",
   "execution_count": 65,
   "id": "f40790de-c744-4bce-a2e8-e6332834b551",
   "metadata": {},
   "outputs": [],
   "source": [
    "tools = [\n",
    "    {\n",
    "        \"type\": \"function\",\n",
    "        \"function\": {\n",
    "            \"name\": \"qa_with_context\",\n",
    "            \"description\": \"Answer user question by retrieving relevant context\",\n",
    "            \"parameters\": {\n",
    "                \"type\": \"object\",\n",
    "                \"properties\": {\n",
    "                    \"question\": {\n",
    "                        \"type\": \"string\",\n",
    "                        \"description\": \"user question\",\n",
    "                    }\n",
    "                },\n",
    "                \"required\": [\"question\"],\n",
    "            },\n",
    "        },\n",
    "    },\n",
    "]"
   ]
  },
  {
   "cell_type": "code",
   "execution_count": 66,
   "id": "8e55fae4-2d58-4eba-bb49-c386c08823a8",
   "metadata": {},
   "outputs": [
    {
     "data": {
      "text/plain": [
       "ChatCompletionResponse(id='42c433a187b040b9ae2abb442fb4ad26', object='chat.completion', created=1714289352, model='mistral-large-latest', choices=[ChatCompletionResponseChoice(index=0, message=ChatMessage(role='assistant', content='', name=None, tool_calls=[ToolCall(id='n6wo2XjWc', type=<ToolType.function: 'function'>, function=FunctionCall(name='qa_with_context', arguments='{\"question\": \"What are the ways AI can mitigate climate change in transportation?\"}'))]), finish_reason=<FinishReason.tool_calls: 'tool_calls'>)], usage=UsageInfo(prompt_tokens=92, total_tokens=126, completion_tokens=34))"
      ]
     },
     "execution_count": 66,
     "metadata": {},
     "output_type": "execute_result"
    }
   ],
   "source": [
    "question = \"\"\"\n",
    "What are the ways AI can mitigate climate change in transportation?\n",
    "\"\"\"\n",
    "\n",
    "client = MistralClient(api_key=api_key)\n",
    "\n",
    "response = client.chat(\n",
    "    model=\"mistral-large-latest\",\n",
    "    messages=[ChatMessage(role=\"user\", content=question)],\n",
    "    tools=tools,\n",
    "    tool_choice=\"any\",\n",
    ")\n",
    "\n",
    "response"
   ]
  },
  {
   "cell_type": "code",
   "execution_count": 67,
   "id": "586ca3bd-330d-415c-8394-79818b8d2972",
   "metadata": {},
   "outputs": [
    {
     "data": {
      "text/plain": [
       "FunctionCall(name='qa_with_context', arguments='{\"question\": \"What are the ways AI can mitigate climate change in transportation?\"}')"
      ]
     },
     "execution_count": 67,
     "metadata": {},
     "output_type": "execute_result"
    }
   ],
   "source": [
    "tool_function = response.choices[0].message.tool_calls[0].function\n",
    "tool_function"
   ]
  },
  {
   "cell_type": "code",
   "execution_count": 68,
   "id": "50b43923-1504-4f6c-a7c3-9a5be27d7044",
   "metadata": {},
   "outputs": [
    {
     "data": {
      "text/plain": [
       "{'question': 'What are the ways AI can mitigate climate change in transportation?'}"
      ]
     },
     "execution_count": 68,
     "metadata": {},
     "output_type": "execute_result"
    }
   ],
   "source": [
    "import json\n",
    "\n",
    "args = json.loads(tool_function.arguments)\n",
    "args"
   ]
  },
  {
   "cell_type": "code",
   "execution_count": 69,
   "id": "5a121012-0854-4e32-a209-fe3b6677a16e",
   "metadata": {},
   "outputs": [
    {
     "data": {
      "text/plain": [
       "'The context information does not provide specific details on how AI can mitigate climate change in the transportation sector. However, it does mention that AI has potential in various sectors including manufacturing, food production, and transportation to make a significant dent in greenhouse gas emissions. For a more detailed answer, additional information or sources would be needed.'"
      ]
     },
     "execution_count": 69,
     "metadata": {},
     "output_type": "execute_result"
    }
   ],
   "source": [
    "names_to_functions[tool_function.name](**args)"
   ]
  },
  {
   "cell_type": "code",
   "execution_count": null,
   "id": "b1394f63-90b9-442d-9b48-12181d28c020",
   "metadata": {},
   "outputs": [],
   "source": []
  }
 ],
 "metadata": {
  "kernelspec": {
   "display_name": "Python 3 (ipykernel)",
   "language": "python",
   "name": "python3"
  },
  "language_info": {
   "codemirror_mode": {
    "name": "ipython",
    "version": 3
   },
   "file_extension": ".py",
   "mimetype": "text/x-python",
   "name": "python",
   "nbconvert_exporter": "python",
   "pygments_lexer": "ipython3",
   "version": "3.11.7"
  }
 },
 "nbformat": 4,
 "nbformat_minor": 5
}
