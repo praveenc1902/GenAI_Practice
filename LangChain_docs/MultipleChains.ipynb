{
 "cells": [
  {
   "cell_type": "code",
   "execution_count": 1,
   "id": "da73c236-c255-43f6-b2de-f50ddc5418cf",
   "metadata": {},
   "outputs": [],
   "source": [
    "from operator import itemgetter\n",
    "\n",
    "from langchain_core.output_parsers import StrOutputParser\n",
    "from langchain_core.prompts import ChatPromptTemplate\n",
    "from langchain_openai import ChatOpenAI"
   ]
  },
  {
   "cell_type": "code",
   "execution_count": 2,
   "id": "dab74410-27c6-4e44-b1bf-67f6a8ba40d9",
   "metadata": {},
   "outputs": [],
   "source": [
    "OPENAI_API_KEY = \"\""
   ]
  },
  {
   "cell_type": "code",
   "execution_count": 3,
   "id": "cad86653-f14c-4800-badb-e6a63f825154",
   "metadata": {},
   "outputs": [],
   "source": [
    "prompt1 = ChatPromptTemplate.from_template(\"what is the city {person} is from?\")\n",
    "\n",
    "prompt2 = ChatPromptTemplate.from_template(\"what country is the city {city} in? respond in {language}\")"
   ]
  },
  {
   "cell_type": "code",
   "execution_count": 4,
   "id": "df4e39b4-9155-40c9-b438-53e4c3f882eb",
   "metadata": {},
   "outputs": [
    {
     "data": {
      "text/plain": [
       "ChatPromptTemplate(input_variables=['person'], messages=[HumanMessagePromptTemplate(prompt=PromptTemplate(input_variables=['person'], template='what is the city {person} is from?'))])"
      ]
     },
     "execution_count": 4,
     "metadata": {},
     "output_type": "execute_result"
    }
   ],
   "source": [
    "prompt1"
   ]
  },
  {
   "cell_type": "code",
   "execution_count": 5,
   "id": "cc660783-b095-43a5-a3ed-e76ef90d161e",
   "metadata": {},
   "outputs": [
    {
     "data": {
      "text/plain": [
       "ChatPromptTemplate(input_variables=['city', 'language'], messages=[HumanMessagePromptTemplate(prompt=PromptTemplate(input_variables=['city', 'language'], template='what country is the city {city} in? respond in {language}'))])"
      ]
     },
     "execution_count": 5,
     "metadata": {},
     "output_type": "execute_result"
    }
   ],
   "source": [
    "prompt2"
   ]
  },
  {
   "cell_type": "code",
   "execution_count": 7,
   "id": "f689e4a7-eb56-48b3-829a-bf1685472653",
   "metadata": {},
   "outputs": [],
   "source": [
    "model = ChatOpenAI(openai_api_key=OPENAI_API_KEY)"
   ]
  },
  {
   "cell_type": "code",
   "execution_count": 8,
   "id": "aceca87d-5782-4f5a-aa99-251302b13bcd",
   "metadata": {},
   "outputs": [],
   "source": [
    "chain1 = prompt1 | model | StrOutputParser()"
   ]
  },
  {
   "cell_type": "code",
   "execution_count": 10,
   "id": "834f7db5-0416-44b9-a489-7b9c58a82387",
   "metadata": {},
   "outputs": [],
   "source": [
    "chain2 = (\n",
    "    {'city':chain1,'language':itemgetter('language')}\n",
    "    |\n",
    "    prompt2\n",
    "    |\n",
    "    model\n",
    "    |\n",
    "    StrOutputParser()\n",
    ")"
   ]
  },
  {
   "cell_type": "code",
   "execution_count": 12,
   "id": "39cc71e0-95a2-40da-b391-e0780f210fc9",
   "metadata": {},
   "outputs": [
    {
     "data": {
      "text/plain": [
       "'డొనాల్డ్ ట్రంప్ నగరం యొక్క దేశము అమెరికా ఉంది.'"
      ]
     },
     "execution_count": 12,
     "metadata": {},
     "output_type": "execute_result"
    }
   ],
   "source": [
    "chain2.invoke({\"person\":'trump','language':'telugu'})"
   ]
  },
  {
   "cell_type": "code",
   "execution_count": 15,
   "id": "0e11e6e6-9438-45f8-b936-2fcbc210bcf8",
   "metadata": {},
   "outputs": [],
   "source": [
    "from langchain_core.runnables import RunnablePassthrough"
   ]
  },
  {
   "cell_type": "code",
   "execution_count": 16,
   "id": "f4dda6ff-11a6-4eb4-92c1-08603c244437",
   "metadata": {},
   "outputs": [],
   "source": [
    "prompt1 = ChatPromptTemplate.from_template(\n",
    "    \"generate a {attribute} color. Return the name of the color and nothing else:\"\n",
    ")\n",
    "prompt2 = ChatPromptTemplate.from_template(\n",
    "    \"what is a fruit of color: {color}. Return the name of the fruit and nothing else:\"\n",
    ")\n",
    "prompt3 = ChatPromptTemplate.from_template(\n",
    "    \"what is a country with a flag that has the color: {color}. Return the name of the country and nothing else:\"\n",
    ")\n",
    "prompt4 = ChatPromptTemplate.from_template(\n",
    "    \"What is the color of {fruit} and the flag of {country}?\"\n",
    ")\n"
   ]
  },
  {
   "cell_type": "code",
   "execution_count": 18,
   "id": "4f729a19-7a58-4ad5-baf2-d6daa9423bf6",
   "metadata": {},
   "outputs": [],
   "source": [
    "model_parser = model | StrOutputParser()"
   ]
  },
  {
   "cell_type": "code",
   "execution_count": 19,
   "id": "37e3f372-18b4-4b62-b049-0a4f76230b81",
   "metadata": {},
   "outputs": [
    {
     "data": {
      "text/plain": [
       "AIMessage(content='Orange is the color orange. The flag of Bhutan has an orange background with a white dragon in the middle.', response_metadata={'token_usage': {'completion_tokens': 23, 'prompt_tokens': 20, 'total_tokens': 43}, 'model_name': 'gpt-3.5-turbo', 'system_fingerprint': 'fp_3bc1b5746c', 'finish_reason': 'stop', 'logprobs': None})"
      ]
     },
     "execution_count": 19,
     "metadata": {},
     "output_type": "execute_result"
    }
   ],
   "source": [
    "# color_generator = (\n",
    "#     {\"attribute\": RunnablePassthrough()} | prompt1 | {\"color\": model_parser}\n",
    "# )\n",
    "# color_to_fruit = prompt2 | model_parser\n",
    "# color_to_country = prompt3 | model_parser\n",
    "# question_generator = (\n",
    "#     color_generator | {\"fruit\": color_to_fruit, \"country\": color_to_country} | prompt4\n",
    "# )\n",
    "# question_generator.invoke(\"warm\")\n",
    "# prompt = question_generator.invoke(\"warm\")\n",
    "# model.invoke(prompt)"
   ]
  },
  {
   "cell_type": "code",
   "execution_count": 20,
   "id": "0074c3a0-ce86-4bc2-9158-9e2548032514",
   "metadata": {},
   "outputs": [
    {
     "data": {
      "text/plain": [
       "ChatPromptValue(messages=[HumanMessage(content='What is the color of Apple and the flag of Nepal?')])"
      ]
     },
     "execution_count": 20,
     "metadata": {},
     "output_type": "execute_result"
    }
   ],
   "source": [
    "color_generator = (\n",
    "    {\"attribute\":RunnablePassthrough()} | prompt1 | {'color':model_parser}\n",
    ")\n",
    "color_to_fruit =  prompt2 | model_parser\n",
    "color_to_country = prompt3 | model_parser\n",
    "\n",
    "question_generator = (\n",
    "    color_generator | {\"fruit\": color_to_fruit, \"country\": color_to_country} | prompt4\n",
    ")\n",
    "question_generator.invoke(\"warm\")"
   ]
  },
  {
   "cell_type": "code",
   "execution_count": 21,
   "id": "a8635d0f-3d73-4f78-b372-c0d0850acfdf",
   "metadata": {},
   "outputs": [
    {
     "data": {
      "text/plain": [
       "AIMessage(content='Orange is the color orange, and the flag of Cyprus is white with a copper-colored silhouette of the island in the center.', response_metadata={'token_usage': {'completion_tokens': 25, 'prompt_tokens': 19, 'total_tokens': 44}, 'model_name': 'gpt-3.5-turbo', 'system_fingerprint': 'fp_3bc1b5746c', 'finish_reason': 'stop', 'logprobs': None})"
      ]
     },
     "execution_count": 21,
     "metadata": {},
     "output_type": "execute_result"
    }
   ],
   "source": [
    "prompt = question_generator.invoke(\"warm\")\n",
    "model.invoke(prompt)"
   ]
  },
  {
   "cell_type": "code",
   "execution_count": 23,
   "id": "950dc7b4-bcff-42cc-8ee2-d66732d40401",
   "metadata": {},
   "outputs": [],
   "source": [
    "# from langchain.chat_models import ChatOpenAI\n",
    "from langchain.schema import StrOutputParser\n",
    "from langchain.prompts import PromptTemplate\n",
    "from langchain.schema.runnable import RunnablePassthrough\n",
    "import openai"
   ]
  },
  {
   "cell_type": "code",
   "execution_count": 24,
   "id": "51dbfdd7-6b5f-483a-b208-9e37af83c6fd",
   "metadata": {},
   "outputs": [],
   "source": [
    "OPENAI_API_KEY = \"\""
   ]
  },
  {
   "cell_type": "code",
   "execution_count": 26,
   "id": "585a4e7c-69b6-4932-8a3f-db4ff12090cc",
   "metadata": {},
   "outputs": [],
   "source": [
    "from langchain_openai import ChatOpenAI\n",
    "llm = ChatOpenAI(openai_api_key=OPENAI_API_KEY)"
   ]
  },
  {
   "cell_type": "code",
   "execution_count": 27,
   "id": "deb07021-36af-4b1c-847d-d8ae2ff1b201",
   "metadata": {},
   "outputs": [],
   "source": [
    "synopsis_prompt = PromptTemplate.from_template(\n",
    "    \"\"\"You are a playwright. Given the title of play, it is your job to write a synopsis for that title.\n",
    "    Title: {title}\n",
    "    Playwright: This is a synopsis for the above play:\"\"\"\n",
    ")"
   ]
  },
  {
   "cell_type": "code",
   "execution_count": 28,
   "id": "0c6969c6-805e-47fd-a3f7-3ea01f1b5c5f",
   "metadata": {},
   "outputs": [],
   "source": [
    "review_prompt = PromptTemplate.from_template(\n",
    "    \"\"\"You are a play critic from the New York Times. Given the synopsis of play, it is your job to write a review for that play.\n",
    "    Play Synopsis: {synopsis}\n",
    "    Review from a New York Times play critic of the above play:\"\"\"\n",
    ")"
   ]
  },
  {
   "cell_type": "code",
   "execution_count": 29,
   "id": "66c556fd-8ece-4f63-a76f-b26b322bdfde",
   "metadata": {},
   "outputs": [],
   "source": [
    "summary_prompt = PromptTemplate.from_template(\n",
    "    \"\"\"You are a play critic from the New York Times. Given the Review of play, it is your job to write a 2 sentence summary of that play.\n",
    "    Play Review: {review}\n",
    "    Two sentence summary of the play:\"\"\"\n",
    ")"
   ]
  },
  {
   "cell_type": "code",
   "execution_count": 30,
   "id": "e2f75689-ad22-495f-a921-473855ed342c",
   "metadata": {},
   "outputs": [],
   "source": [
    "title = \"The Tragedy of Father with no Son\""
   ]
  },
  {
   "cell_type": "code",
   "execution_count": 31,
   "id": "662aa4f9-6922-4566-843e-7bec274d90f3",
   "metadata": {},
   "outputs": [],
   "source": [
    "synopsis_chain = synopsis_prompt | llm | StrOutputParser()\n",
    "review_chain = review_prompt | llm | StrOutputParser()\n",
    "summary_chain = summary_prompt | llm | StrOutputParser()"
   ]
  },
  {
   "cell_type": "code",
   "execution_count": 34,
   "id": "23b5d89e-824c-4d26-84a1-8e31bbd6bc9e",
   "metadata": {},
   "outputs": [],
   "source": [
    "chain = (\n",
    "    { \"synopsis\" : synopsis_chain }\n",
    "    | RunnablePassthrough.assign(review = review_chain)\n",
    "    | RunnablePassthrough.assign(summary = summary_chain)\n",
    ")"
   ]
  },
  {
   "cell_type": "code",
   "execution_count": 35,
   "id": "ac437393-a29e-4460-9653-4e69052bb790",
   "metadata": {},
   "outputs": [],
   "source": [
    "result = chain.invoke({\"title\": title})"
   ]
  },
  {
   "cell_type": "code",
   "execution_count": 36,
   "id": "d1acf7ed-bd0c-409a-96c2-4ed35e687810",
   "metadata": {},
   "outputs": [
    {
     "data": {
      "text/plain": [
       "{'synopsis': 'The Tragedy of Father with no Son follows the story of a father who longs for a son to carry on his legacy, but is unable to have one. As he struggles with feelings of inadequacy and despair, he becomes consumed by his desire for a son, leading to strained relationships with those around him. The play explores themes of parenthood, legacy, and the lengths one will go to fulfill their desires. Ultimately, the father must come to terms with his situation and find a way to move forward, even without a son to call his own.',\n",
       " 'review': 'In \"The Tragedy of Father with no Son,\" playwrights have crafted a poignant and thought-provoking exploration of the complexities of parenthood and legacy. The play delves into the deep-rooted desires and struggles of a father who yearns for a son to carry on his name, only to be met with heartbreak and disappointment. As the father grapples with feelings of inadequacy and despair, the audience is taken on a journey of emotional turmoil and introspection.\\n\\nThe themes of the play are universal and resonant, touching on the lengths one will go to fulfill their desires and the consequences of fixating on unattainable goals. The strained relationships portrayed in the play serve as a stark reminder of the toll that unfulfilled dreams can take on those around us.\\n\\nThe acting in \"The Tragedy of Father with no Son\" is top-notch, with each performer bringing depth and nuance to their characters. The set design and direction effectively convey the emotional weight of the story, creating a captivating and immersive experience for the audience.\\n\\nUltimately, \"The Tragedy of Father with no Son\" is a powerful and moving piece of theatre that will leave audiences reflecting on the nature of parenthood, legacy, and the importance of finding acceptance and peace within oneself. It is a must-see for anyone looking for a thought-provoking and emotionally resonant theatrical experience.',\n",
       " 'summary': '\"The Tragedy of Father with no Son\" is a poignant exploration of parenthood, legacy, and the consequences of fixating on unattainable goals. Through powerful performances and immersive storytelling, the play delves into the emotional turmoil and introspection of a father grappling with feelings of inadequacy and despair.'}"
      ]
     },
     "execution_count": 36,
     "metadata": {},
     "output_type": "execute_result"
    }
   ],
   "source": [
    "result "
   ]
  },
  {
   "cell_type": "code",
   "execution_count": null,
   "id": "5075033e-817e-47a5-84dc-18129e38103b",
   "metadata": {},
   "outputs": [],
   "source": [
    "chain = (\n",
    "    { \"synopsis\" : synopsis_chain }\n",
    "    | RunnablePassthrough.assign(review = review_chain)\n",
    "    | RunnablePassthrough.assign(summary = summary_chain)\n",
    ")"
   ]
  },
  {
   "cell_type": "code",
   "execution_count": null,
   "id": "326d3038-4c68-4072-b11b-a790ccb2d741",
   "metadata": {},
   "outputs": [],
   "source": []
  },
  {
   "cell_type": "code",
   "execution_count": null,
   "id": "cb4fe4ec-9e69-46f0-a464-a5856aec64d2",
   "metadata": {},
   "outputs": [],
   "source": []
  }
 ],
 "metadata": {
  "kernelspec": {
   "display_name": "Python 3 (ipykernel)",
   "language": "python",
   "name": "python3"
  },
  "language_info": {
   "codemirror_mode": {
    "name": "ipython",
    "version": 3
   },
   "file_extension": ".py",
   "mimetype": "text/x-python",
   "name": "python",
   "nbconvert_exporter": "python",
   "pygments_lexer": "ipython3",
   "version": "3.11.7"
  }
 },
 "nbformat": 4,
 "nbformat_minor": 5
}
