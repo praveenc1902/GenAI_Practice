{
 "cells": [
  {
   "cell_type": "code",
   "execution_count": 1,
   "id": "7fc3da47-66e8-49f7-ad4b-02a5d021343c",
   "metadata": {},
   "outputs": [
    {
     "name": "stdout",
     "output_type": "stream",
     "text": [
      "Note: you may need to restart the kernel to use updated packages.\n"
     ]
    }
   ],
   "source": [
    "%pip install --upgrade --quiet  langchain langchain-openai faiss-cpu tiktoken"
   ]
  },
  {
   "cell_type": "code",
   "execution_count": 2,
   "id": "e60c9f40-daec-4464-bb79-0052e543d40d",
   "metadata": {},
   "outputs": [],
   "source": [
    "from operator import itemgetter\n",
    "from langchain_community.vectorstores import FAISS\n",
    "from langchain_core.output_parsers import StrOutputParser\n",
    "from langchain_core.prompts import ChatPromptTemplate\n",
    "from langchain_core.runnables import RunnableLambda, RunnablePassthrough\n",
    "from langchain_openai import ChatOpenAI, OpenAIEmbeddings\n"
   ]
  },
  {
   "cell_type": "code",
   "execution_count": 4,
   "id": "8b81cfe9-5702-44a2-83b1-f008a1ae2f96",
   "metadata": {},
   "outputs": [],
   "source": [
    "OPENAI_API_KEY = \"\""
   ]
  },
  {
   "cell_type": "code",
   "execution_count": 5,
   "id": "66878811-c144-452c-9193-a2c9d2a63cdc",
   "metadata": {},
   "outputs": [],
   "source": [
    "vectorstore = FAISS.from_texts([\"praveen worked at Hyderabad\"],embedding =OpenAIEmbeddings(openai_api_key=OPENAI_API_KEY))\n",
    "retriever = vectorstore.as_retriever()"
   ]
  },
  {
   "cell_type": "code",
   "execution_count": 18,
   "id": "a1036b71-9eac-4cfe-8cc8-5587076d4a5d",
   "metadata": {},
   "outputs": [],
   "source": [
    "template = \"\"\"\n",
    "Answer the question based on the following context:\n",
    "{context}\n",
    "\n",
    "Question:{question}\n",
    "\"\"\""
   ]
  },
  {
   "cell_type": "code",
   "execution_count": 19,
   "id": "4895d4e4-c4f8-430f-a8e5-8462f2d57c14",
   "metadata": {},
   "outputs": [
    {
     "data": {
      "text/plain": [
       "ChatPromptTemplate(input_variables=['context', 'question'], messages=[HumanMessagePromptTemplate(prompt=PromptTemplate(input_variables=['context', 'question'], template='\\nAnswer the question based on the following context:\\n{context}\\n\\nQuestion:{question}\\n'))])"
      ]
     },
     "execution_count": 19,
     "metadata": {},
     "output_type": "execute_result"
    }
   ],
   "source": [
    "prompt = ChatPromptTemplate.from_template(template)\n",
    "prompt"
   ]
  },
  {
   "cell_type": "code",
   "execution_count": 20,
   "id": "5bc3558f-dbca-49cd-82ae-6e606f2ef348",
   "metadata": {},
   "outputs": [],
   "source": [
    "model = ChatOpenAI(openai_api_key=OPENAI_API_KEY)"
   ]
  },
  {
   "cell_type": "code",
   "execution_count": 21,
   "id": "38dffdab-cf68-4d54-a514-258a5be57968",
   "metadata": {},
   "outputs": [],
   "source": [
    "chain = (\n",
    "    {\"context\":retriever,\"question\":RunnablePassthrough()}\n",
    "    |\n",
    "    prompt\n",
    "    |\n",
    "    model\n",
    "    |\n",
    "    StrOutputParser()\n",
    "\n",
    ")"
   ]
  },
  {
   "cell_type": "code",
   "execution_count": 22,
   "id": "bbecbe0c-53bc-4a1a-91a2-52216670f7dc",
   "metadata": {},
   "outputs": [
    {
     "data": {
      "text/plain": [
       "'Praveen worked at Hyderabad.'"
      ]
     },
     "execution_count": 22,
     "metadata": {},
     "output_type": "execute_result"
    }
   ],
   "source": [
    "chain.invoke(\"where did Praveen work? \")"
   ]
  },
  {
   "cell_type": "code",
   "execution_count": 24,
   "id": "b23325c1-a773-4343-b7d3-154953f659fc",
   "metadata": {},
   "outputs": [
    {
     "data": {
      "text/plain": [
       "'హ్యారిసన్ హైదరాబాద్\\u200cలో పని చేశాడు.'"
      ]
     },
     "execution_count": 24,
     "metadata": {},
     "output_type": "execute_result"
    }
   ],
   "source": [
    "template = \"\"\"Answer the question based only on the following context:\n",
    "{context}\n",
    "\n",
    "Question: {question}\n",
    "\n",
    "Answer in the following language: {language}\n",
    "\"\"\"\n",
    "prompt = ChatPromptTemplate.from_template(template)\n",
    "\n",
    "chain = (\n",
    "    {\n",
    "        \"context\": itemgetter(\"question\") | retriever,\n",
    "        \"question\": itemgetter(\"question\"),\n",
    "        \"language\": itemgetter(\"language\"),\n",
    "    }\n",
    "    | prompt\n",
    "    | model\n",
    "    | StrOutputParser()\n",
    ")\n",
    "chain.invoke({\"question\": \"where did harrison work\", \"language\": \"telugu\"})\n"
   ]
  },
  {
   "cell_type": "code",
   "execution_count": null,
   "id": "ff5fbe6a-85d2-4608-ae69-ef994d9fb4d5",
   "metadata": {},
   "outputs": [],
   "source": []
  }
 ],
 "metadata": {
  "kernelspec": {
   "display_name": "Python 3 (ipykernel)",
   "language": "python",
   "name": "python3"
  },
  "language_info": {
   "codemirror_mode": {
    "name": "ipython",
    "version": 3
   },
   "file_extension": ".py",
   "mimetype": "text/x-python",
   "name": "python",
   "nbconvert_exporter": "python",
   "pygments_lexer": "ipython3",
   "version": "3.11.7"
  }
 },
 "nbformat": 4,
 "nbformat_minor": 5
}
