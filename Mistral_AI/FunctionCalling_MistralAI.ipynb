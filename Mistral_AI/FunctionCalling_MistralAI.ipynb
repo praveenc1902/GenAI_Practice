{
 "cells": [
  {
   "cell_type": "code",
   "execution_count": 50,
   "id": "138dbe26-0d76-49df-8fe0-cc03d83ee03e",
   "metadata": {},
   "outputs": [],
   "source": [
    "api_key=\"\""
   ]
  },
  {
   "cell_type": "code",
   "execution_count": 2,
   "id": "a02d234d-41bf-4cad-afa3-e680c373173e",
   "metadata": {},
   "outputs": [],
   "source": [
    "import pandas as pd\n",
    "data = {\n",
    "    \"transaction_id\": [\"T1001\", \"T1002\", \"T1003\", \"T1004\", \"T1005\"],\n",
    "    \"customer_id\": [\"C001\", \"C002\", \"C003\", \"C002\", \"C001\"],\n",
    "    \"payment_amount\": [125.50, 89.99, 120.00, 54.30, 210.20],\n",
    "    \"payment_date\": [\n",
    "        \"2021-10-05\",\n",
    "        \"2021-10-06\",\n",
    "        \"2021-10-07\",\n",
    "        \"2021-10-05\",\n",
    "        \"2021-10-08\",\n",
    "    ],\n",
    "    \"payment_status\": [\"Paid\", \"Unpaid\", \"Paid\", \"Paid\", \"Pending\"],\n",
    "}\n",
    "df = pd.DataFrame(data)"
   ]
  },
  {
   "cell_type": "code",
   "execution_count": 3,
   "id": "b2630b3f-7de1-4c2a-b415-c49098c53e02",
   "metadata": {},
   "outputs": [
    {
     "data": {
      "text/html": [
       "<div>\n",
       "<style scoped>\n",
       "    .dataframe tbody tr th:only-of-type {\n",
       "        vertical-align: middle;\n",
       "    }\n",
       "\n",
       "    .dataframe tbody tr th {\n",
       "        vertical-align: top;\n",
       "    }\n",
       "\n",
       "    .dataframe thead th {\n",
       "        text-align: right;\n",
       "    }\n",
       "</style>\n",
       "<table border=\"1\" class=\"dataframe\">\n",
       "  <thead>\n",
       "    <tr style=\"text-align: right;\">\n",
       "      <th></th>\n",
       "      <th>transaction_id</th>\n",
       "      <th>customer_id</th>\n",
       "      <th>payment_amount</th>\n",
       "      <th>payment_date</th>\n",
       "      <th>payment_status</th>\n",
       "    </tr>\n",
       "  </thead>\n",
       "  <tbody>\n",
       "    <tr>\n",
       "      <th>0</th>\n",
       "      <td>T1001</td>\n",
       "      <td>C001</td>\n",
       "      <td>125.50</td>\n",
       "      <td>2021-10-05</td>\n",
       "      <td>Paid</td>\n",
       "    </tr>\n",
       "    <tr>\n",
       "      <th>1</th>\n",
       "      <td>T1002</td>\n",
       "      <td>C002</td>\n",
       "      <td>89.99</td>\n",
       "      <td>2021-10-06</td>\n",
       "      <td>Unpaid</td>\n",
       "    </tr>\n",
       "    <tr>\n",
       "      <th>2</th>\n",
       "      <td>T1003</td>\n",
       "      <td>C003</td>\n",
       "      <td>120.00</td>\n",
       "      <td>2021-10-07</td>\n",
       "      <td>Paid</td>\n",
       "    </tr>\n",
       "    <tr>\n",
       "      <th>3</th>\n",
       "      <td>T1004</td>\n",
       "      <td>C002</td>\n",
       "      <td>54.30</td>\n",
       "      <td>2021-10-05</td>\n",
       "      <td>Paid</td>\n",
       "    </tr>\n",
       "    <tr>\n",
       "      <th>4</th>\n",
       "      <td>T1005</td>\n",
       "      <td>C001</td>\n",
       "      <td>210.20</td>\n",
       "      <td>2021-10-08</td>\n",
       "      <td>Pending</td>\n",
       "    </tr>\n",
       "  </tbody>\n",
       "</table>\n",
       "</div>"
      ],
      "text/plain": [
       "  transaction_id customer_id  payment_amount payment_date payment_status\n",
       "0          T1001        C001          125.50   2021-10-05           Paid\n",
       "1          T1002        C002           89.99   2021-10-06         Unpaid\n",
       "2          T1003        C003          120.00   2021-10-07           Paid\n",
       "3          T1004        C002           54.30   2021-10-05           Paid\n",
       "4          T1005        C001          210.20   2021-10-08        Pending"
      ]
     },
     "execution_count": 3,
     "metadata": {},
     "output_type": "execute_result"
    }
   ],
   "source": [
    "df"
   ]
  },
  {
   "cell_type": "code",
   "execution_count": 4,
   "id": "126f6e8e-6cb0-4141-8f63-b459d1653c2d",
   "metadata": {},
   "outputs": [],
   "source": [
    "data = \"\"\"\n",
    "    \"transaction_id\": [\"T1001\", \"T1002\", \"T1003\", \"T1004\", \"T1005\"],\n",
    "    \"customer_id\": [\"C001\", \"C002\", \"C003\", \"C002\", \"C001\"],\n",
    "    \"payment_amount\": [125.50, 89.99, 120.00, 54.30, 210.20],\n",
    "    \"payment_date\": [\n",
    "        \"2021-10-05\",\n",
    "        \"2021-10-06\",\n",
    "        \"2021-10-07\",\n",
    "        \"2021-10-05\",\n",
    "        \"2021-10-08\",\n",
    "    ],\n",
    "    \"payment_status\": [\"Paid\", \"Unpaid\", \"Paid\", \"Paid\", \"Pending\"],\n",
    "}\n",
    "\"\"\"\n",
    "transaction_id = \"T1001\""
   ]
  },
  {
   "cell_type": "code",
   "execution_count": 5,
   "id": "b11f3de9-b3b2-4bb4-aab1-b73dd2a706ab",
   "metadata": {},
   "outputs": [],
   "source": [
    "prompt = f\"\"\"\n",
    "given the following data , what is status for transaction id {transaction_id}\n",
    "\n",
    "data:\n",
    "{data}\n",
    "\"\"\""
   ]
  },
  {
   "cell_type": "code",
   "execution_count": 8,
   "id": "5425b200-1688-45d6-890c-ae6d364d2883",
   "metadata": {},
   "outputs": [],
   "source": [
    "import os\n",
    "from mistralai.client import MistralClient \n",
    "from mistralai.models.chat_completion import ChatMessage\n"
   ]
  },
  {
   "cell_type": "code",
   "execution_count": 10,
   "id": "00dafd55-8d2e-4ab2-b2de-0bc34c44cdd8",
   "metadata": {},
   "outputs": [],
   "source": [
    "def mistral(user_message, model=\"mistral-small-latest\", is_json=False):\n",
    "    client = MistralClient(api_key=api_key)\n",
    "    messages = [ChatMessage(role=\"user\",content=user_message)]\n",
    "    if is_json:\n",
    "        chat_response = client.chat(\n",
    "            model=model,messages=messages,response_format={\"type\": \"json_object\"}\n",
    "        )\n",
    "    else:\n",
    "        chat_response = client.chat(model=model,messages=messages)\n",
    "    return chat_response.choices[0].message.content"
   ]
  },
  {
   "cell_type": "code",
   "execution_count": 12,
   "id": "852affd1-6cb0-4769-88e0-068bc5044ab8",
   "metadata": {},
   "outputs": [
    {
     "data": {
      "text/plain": [
       "'The status for transaction ID T1001 is \"Paid\".'"
      ]
     },
     "execution_count": 12,
     "metadata": {},
     "output_type": "execute_result"
    }
   ],
   "source": [
    "mistral(user_message=prompt)"
   ]
  },
  {
   "cell_type": "code",
   "execution_count": 13,
   "id": "324fd211-136a-4968-87a2-34c2b228dc32",
   "metadata": {},
   "outputs": [],
   "source": [
    "import json"
   ]
  },
  {
   "cell_type": "code",
   "execution_count": 14,
   "id": "1a693cc9-3fc3-4260-be87-6519c1677a67",
   "metadata": {},
   "outputs": [],
   "source": [
    "def retrieve_payment_status(df:data,transaction_id:str) -> str:\n",
    "    if transaction_id in df.transaction_id.values:\n",
    "        return json.dumps(\n",
    "            {\"status\":df[df.transaction_id == transaction_id].payment_status.item()}\n",
    "        )\n",
    "    return json.dumps({\"error\": \"transaction id not found.\"})"
   ]
  },
  {
   "cell_type": "code",
   "execution_count": 16,
   "id": "c9432566-2070-4d9e-8203-4f7f542274f9",
   "metadata": {},
   "outputs": [
    {
     "data": {
      "text/plain": [
       "'{\"status\": \"Unpaid\"}'"
      ]
     },
     "execution_count": 16,
     "metadata": {},
     "output_type": "execute_result"
    }
   ],
   "source": [
    "retrieve_payment_status(df, transaction_id=\"T1002\")"
   ]
  },
  {
   "cell_type": "code",
   "execution_count": 17,
   "id": "318d25d4-4494-47a5-bd3b-0233e4c8ab1b",
   "metadata": {},
   "outputs": [],
   "source": [
    "def retrieve_payment_date(df: data, transaction_id: str) -> str:\n",
    "    if transaction_id in df.transaction_id.values:\n",
    "        return json.dumps(\n",
    "            {\"date\": df[df.transaction_id == transaction_id].payment_date.item()}\n",
    "        )\n",
    "    return json.dumps({\"error\": \"transaction id not found.\"})"
   ]
  },
  {
   "cell_type": "code",
   "execution_count": 18,
   "id": "ecdc22c0-c876-44a3-8384-1ab5b6f4a165",
   "metadata": {},
   "outputs": [],
   "source": [
    "tool_payment_status = {\n",
    "    \"type\": \"function\",\n",
    "    \"function\": {\n",
    "        \"name\": \"retrieve_payment_status\",\n",
    "        \"description\": \"Get payment status of a transaction\",\n",
    "        \"parameters\": {\n",
    "            \"type\": \"object\",\n",
    "            \"properties\": {\n",
    "                \"transaction_id\": {\n",
    "                    \"type\": \"string\",\n",
    "                    \"description\": \"The transaction id.\",\n",
    "                }\n",
    "            },\n",
    "            \"required\": [\"transaction_id\"],\n",
    "        },\n",
    "    },\n",
    "}"
   ]
  },
  {
   "cell_type": "code",
   "execution_count": 19,
   "id": "1b89a328-141f-4235-9b8a-a24fcc0d8192",
   "metadata": {},
   "outputs": [],
   "source": [
    "tool_payment_date = {\n",
    "    \"type\": \"function\",\n",
    "    \"function\": {\n",
    "        \"name\": \"retrieve_payment_date\",\n",
    "        \"description\": \"Get payment date of a transaction\",\n",
    "        \"parameters\": {\n",
    "            \"type\": \"object\",\n",
    "            \"properties\": {\n",
    "                \"transaction_id\": {\n",
    "                    \"type\": \"string\",\n",
    "                    \"description\": \"The transaction id.\",\n",
    "                }\n",
    "            },\n",
    "            \"required\": [\"transaction_id\"],\n",
    "        },\n",
    "    },\n",
    "}"
   ]
  },
  {
   "cell_type": "code",
   "execution_count": 20,
   "id": "2d84fcf7-76da-4b2c-aaad-7ca313b6a8da",
   "metadata": {},
   "outputs": [],
   "source": [
    "tools = [tool_payment_status,tool_payment_date]"
   ]
  },
  {
   "cell_type": "code",
   "execution_count": 22,
   "id": "39044b34-70b3-438a-8199-5974dee2a906",
   "metadata": {},
   "outputs": [],
   "source": [
    "import functools"
   ]
  },
  {
   "cell_type": "code",
   "execution_count": 23,
   "id": "a5412ddb-ca03-41f3-8ba7-9c36528eae56",
   "metadata": {},
   "outputs": [],
   "source": [
    "names_to_functions = {\n",
    "    \"retrieve_payment_status\": functools.partial(retrieve_payment_status,df),\n",
    "    \"retrieve_payment_date\": functools.partial(retrieve_payment_date,df)\n",
    "}"
   ]
  },
  {
   "cell_type": "code",
   "execution_count": 24,
   "id": "93a97f05-575e-4ca5-a1d7-2ba440c77879",
   "metadata": {},
   "outputs": [
    {
     "data": {
      "text/plain": [
       "'{\"status\": \"Paid\"}'"
      ]
     },
     "execution_count": 24,
     "metadata": {},
     "output_type": "execute_result"
    }
   ],
   "source": [
    "names_to_functions[\"retrieve_payment_status\"](transaction_id=\"T1001\")"
   ]
  },
  {
   "cell_type": "code",
   "execution_count": 25,
   "id": "75d6c57f-79f6-47a4-8da0-f02bf0c5ce01",
   "metadata": {},
   "outputs": [
    {
     "data": {
      "text/plain": [
       "[{'type': 'function',\n",
       "  'function': {'name': 'retrieve_payment_status',\n",
       "   'description': 'Get payment status of a transaction',\n",
       "   'parameters': {'type': 'object',\n",
       "    'properties': {'transaction_id': {'type': 'string',\n",
       "      'description': 'The transaction id.'}},\n",
       "    'required': ['transaction_id']}}},\n",
       " {'type': 'function',\n",
       "  'function': {'name': 'retrieve_payment_date',\n",
       "   'description': 'Get payment date of a transaction',\n",
       "   'parameters': {'type': 'object',\n",
       "    'properties': {'transaction_id': {'type': 'string',\n",
       "      'description': 'The transaction id.'}},\n",
       "    'required': ['transaction_id']}}}]"
      ]
     },
     "execution_count": 25,
     "metadata": {},
     "output_type": "execute_result"
    }
   ],
   "source": [
    "tools"
   ]
  },
  {
   "cell_type": "code",
   "execution_count": 26,
   "id": "0baf2983-b673-4933-af16-ee561604e716",
   "metadata": {},
   "outputs": [],
   "source": [
    "from mistralai.models.chat_completion import ChatMessage\n",
    "from mistralai.client import MistralClient"
   ]
  },
  {
   "cell_type": "code",
   "execution_count": 37,
   "id": "b4185f85-5801-4a7c-857e-3b5bfc15753f",
   "metadata": {},
   "outputs": [],
   "source": [
    "chat_history = [\n",
    "    ChatMessage(role=\"user\", content=\"What's the status of my transaction?\")\n",
    "]\n",
    "model=\"mistral-small-latest\"\n",
    "client = MistralClient(api_key=api_key)\n",
    "response = client.chat(\n",
    "    model=model,messages=chat_history,tools=tools\n",
    ")"
   ]
  },
  {
   "cell_type": "code",
   "execution_count": 38,
   "id": "6f418ef6-3b98-4084-aee0-b89d2c7cb9b4",
   "metadata": {},
   "outputs": [
    {
     "data": {
      "text/plain": [
       "'To check the status of your transaction, I need the transaction ID. Once you provide it, I can use the \"retrieve_payment_status\" function to get the information for you.\\n\\nFor example, if your transaction ID is \"abc123\", here\\'s how I would use the function:\\n\\n```json\\n[{\"name\": \"retrieve_payment_status\", \"arguments\": {\"transaction_id\": \"abc123\"}}]\\n```\\n\\nPlease provide the transaction ID, and I\\'ll help you get the status.'"
      ]
     },
     "execution_count": 38,
     "metadata": {},
     "output_type": "execute_result"
    }
   ],
   "source": [
    "response.choices[0].message.content"
   ]
  },
  {
   "cell_type": "code",
   "execution_count": 35,
   "id": "2c5b981e-7b5d-4e5f-b6bd-5d6185c9e14b",
   "metadata": {},
   "outputs": [],
   "source": [
    "# chat_history = [\n",
    "#     ChatMessage(role=\"user\", content=\"What's the payment status of my transaction T1001 ?\")\n",
    "# ]\n",
    "# model=\"mistral-small-latest\"\n",
    "# client = MistralClient(api_key=api_key)\n",
    "# response = client.chat(\n",
    "#     model=model,messages=chat_history,tools=tools\n",
    "# ).choices[0].message.content"
   ]
  },
  {
   "cell_type": "code",
   "execution_count": 39,
   "id": "41317a01-4e3b-4156-91ba-d6b9f7b13df9",
   "metadata": {},
   "outputs": [
    {
     "data": {
      "text/plain": [
       "[ChatMessage(role='user', content=\"What's the status of my transaction?\", name=None, tool_calls=None),\n",
       " ChatMessage(role='assistant', content='To check the status of your transaction, I need the transaction ID. Once you provide it, I can use the \"retrieve_payment_status\" function to get the information for you.\\n\\nFor example, if your transaction ID is \"abc123\", here\\'s how I would use the function:\\n\\n```json\\n[{\"name\": \"retrieve_payment_status\", \"arguments\": {\"transaction_id\": \"abc123\"}}]\\n```\\n\\nPlease provide the transaction ID, and I\\'ll help you get the status.', name=None, tool_calls=None),\n",
       " ChatMessage(role='user', content='My transaction ID is T1001.', name=None, tool_calls=None)]"
      ]
     },
     "execution_count": 39,
     "metadata": {},
     "output_type": "execute_result"
    }
   ],
   "source": [
    "chat_history.append(\n",
    "    ChatMessage(role=\"assistant\", content=response.choices[0].message.content)\n",
    ")\n",
    "chat_history.append(ChatMessage(role=\"user\", content=\"My transaction ID is T1001.\"))\n",
    "chat_history"
   ]
  },
  {
   "cell_type": "code",
   "execution_count": 40,
   "id": "85d13e77-0376-4cae-a6ee-c80a6ed9ccb9",
   "metadata": {},
   "outputs": [],
   "source": [
    "response = client.chat(\n",
    "    model=model, messages=chat_history, tools=tools, tool_choice=\"auto\"\n",
    ")"
   ]
  },
  {
   "cell_type": "code",
   "execution_count": 41,
   "id": "12e10829-4791-4a96-81a7-aed504803b40",
   "metadata": {},
   "outputs": [
    {
     "data": {
      "text/plain": [
       "ChatMessage(role='assistant', content='', name=None, tool_calls=[ToolCall(id='zJm74zUuP', type=<ToolType.function: 'function'>, function=FunctionCall(name='retrieve_payment_status', arguments='{\"transaction_id\": \"T1001\"}'))])"
      ]
     },
     "execution_count": 41,
     "metadata": {},
     "output_type": "execute_result"
    }
   ],
   "source": [
    "response.choices[0].message"
   ]
  },
  {
   "cell_type": "code",
   "execution_count": 42,
   "id": "6920f213-d472-4358-bc43-4178d7c2f3a9",
   "metadata": {},
   "outputs": [],
   "source": [
    "chat_history.append(response.choices[0].message)"
   ]
  },
  {
   "cell_type": "code",
   "execution_count": 43,
   "id": "d01f9854-e1fb-4116-b9f4-df01fe06f440",
   "metadata": {},
   "outputs": [
    {
     "name": "stdout",
     "output_type": "stream",
     "text": [
      "name='retrieve_payment_status' arguments='{\"transaction_id\": \"T1001\"}'\n"
     ]
    }
   ],
   "source": [
    "tool_function = response.choices[0].message.tool_calls[0].function\n",
    "print(tool_function)"
   ]
  },
  {
   "cell_type": "code",
   "execution_count": 44,
   "id": "53a73b19-4313-4eb9-b2bb-eb77870c00e2",
   "metadata": {},
   "outputs": [
    {
     "name": "stdout",
     "output_type": "stream",
     "text": [
      "{'transaction_id': 'T1001'}\n"
     ]
    }
   ],
   "source": [
    "args = json.loads(tool_function.arguments)\n",
    "print(args)"
   ]
  },
  {
   "cell_type": "code",
   "execution_count": 45,
   "id": "cf427e6b-6405-4e55-b23a-69cbd1ba73a1",
   "metadata": {},
   "outputs": [
    {
     "data": {
      "text/plain": [
       "'{\"status\": \"Paid\"}'"
      ]
     },
     "execution_count": 45,
     "metadata": {},
     "output_type": "execute_result"
    }
   ],
   "source": [
    "function_result = names_to_functions[tool_function.name](**args)\n",
    "function_result"
   ]
  },
  {
   "cell_type": "code",
   "execution_count": 46,
   "id": "49d9a886-27f0-43c5-a373-81eaefe37dff",
   "metadata": {},
   "outputs": [],
   "source": [
    "tool_msg = ChatMessage(role=\"tool\", name=tool_function.name, content=function_result)\n",
    "chat_history.append(tool_msg)"
   ]
  },
  {
   "cell_type": "code",
   "execution_count": 47,
   "id": "7606af05-0dd2-4333-8b8b-a60656057291",
   "metadata": {},
   "outputs": [
    {
     "data": {
      "text/plain": [
       "[ChatMessage(role='user', content=\"What's the status of my transaction?\", name=None, tool_calls=None),\n",
       " ChatMessage(role='assistant', content='To check the status of your transaction, I need the transaction ID. Once you provide it, I can use the \"retrieve_payment_status\" function to get the information for you.\\n\\nFor example, if your transaction ID is \"abc123\", here\\'s how I would use the function:\\n\\n```json\\n[{\"name\": \"retrieve_payment_status\", \"arguments\": {\"transaction_id\": \"abc123\"}}]\\n```\\n\\nPlease provide the transaction ID, and I\\'ll help you get the status.', name=None, tool_calls=None),\n",
       " ChatMessage(role='user', content='My transaction ID is T1001.', name=None, tool_calls=None),\n",
       " ChatMessage(role='assistant', content='', name=None, tool_calls=[ToolCall(id='zJm74zUuP', type=<ToolType.function: 'function'>, function=FunctionCall(name='retrieve_payment_status', arguments='{\"transaction_id\": \"T1001\"}'))]),\n",
       " ChatMessage(role='tool', content='{\"status\": \"Paid\"}', name='retrieve_payment_status', tool_calls=None)]"
      ]
     },
     "execution_count": 47,
     "metadata": {},
     "output_type": "execute_result"
    }
   ],
   "source": [
    "chat_history"
   ]
  },
  {
   "cell_type": "code",
   "execution_count": 48,
   "id": "0696474d-b860-4884-9248-fb7b5031a59d",
   "metadata": {},
   "outputs": [
    {
     "data": {
      "text/plain": [
       "'According to the information I retrieved, your transaction T1001 has a status of \"Paid\". Is there anything else you need assistance with?'"
      ]
     },
     "execution_count": 48,
     "metadata": {},
     "output_type": "execute_result"
    }
   ],
   "source": [
    "response = client.chat(model=model, messages=chat_history)\n",
    "response.choices[0].message.content"
   ]
  },
  {
   "cell_type": "code",
   "execution_count": null,
   "id": "10050560-d66f-480c-9763-53e3759be59e",
   "metadata": {},
   "outputs": [],
   "source": []
  }
 ],
 "metadata": {
  "kernelspec": {
   "display_name": "Python 3 (ipykernel)",
   "language": "python",
   "name": "python3"
  },
  "language_info": {
   "codemirror_mode": {
    "name": "ipython",
    "version": 3
   },
   "file_extension": ".py",
   "mimetype": "text/x-python",
   "name": "python",
   "nbconvert_exporter": "python",
   "pygments_lexer": "ipython3",
   "version": "3.11.7"
  }
 },
 "nbformat": 4,
 "nbformat_minor": 5
}
