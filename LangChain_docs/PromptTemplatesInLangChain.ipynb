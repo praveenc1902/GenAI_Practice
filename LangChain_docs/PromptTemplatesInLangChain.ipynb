{
 "cells": [
  {
   "cell_type": "code",
   "execution_count": 37,
   "id": "c9b4d1e6-7787-4693-9aa8-d21dca26fb57",
   "metadata": {},
   "outputs": [],
   "source": [
    "OPENAI_API_KEY = \"\""
   ]
  },
  {
   "cell_type": "code",
   "execution_count": 1,
   "id": "90fe56bb-472a-404b-81b6-3cd0c4bf8ada",
   "metadata": {},
   "outputs": [],
   "source": [
    "from langchain.prompts import PromptTemplate"
   ]
  },
  {
   "cell_type": "code",
   "execution_count": 5,
   "id": "5ea4b514-e7b2-410b-8843-faab0a0ef5de",
   "metadata": {},
   "outputs": [
    {
     "data": {
      "text/plain": [
       "'Tell me a funny joke about chicken'"
      ]
     },
     "execution_count": 5,
     "metadata": {},
     "output_type": "execute_result"
    }
   ],
   "source": [
    "prompt_template = PromptTemplate.from_template(\"Tell me a {adjective} joke about {context}\")\n",
    "prompt_template.format(adjective=\"funny\",context=\"chicken\")"
   ]
  },
  {
   "cell_type": "code",
   "execution_count": 7,
   "id": "c6069055-1332-4688-ad38-77d1e870ffd0",
   "metadata": {},
   "outputs": [
    {
     "data": {
      "text/plain": [
       "'tell me joke about praveen'"
      ]
     },
     "execution_count": 7,
     "metadata": {},
     "output_type": "execute_result"
    }
   ],
   "source": [
    "prompt_template = PromptTemplate.from_template(\"tell me joke about praveen\")\n",
    "prompt_template.format()"
   ]
  },
  {
   "cell_type": "code",
   "execution_count": 11,
   "id": "015e53b4-c568-4fc3-8e19-60d22db02190",
   "metadata": {},
   "outputs": [
    {
     "data": {
      "text/plain": [
       "[SystemMessage(content='you are helpful AI bot, your name is Chinnareddy '),\n",
       " HumanMessage(content='Hello, How are you '),\n",
       " AIMessage(content='I am doing well !!'),\n",
       " HumanMessage(content='What is your name')]"
      ]
     },
     "execution_count": 11,
     "metadata": {},
     "output_type": "execute_result"
    }
   ],
   "source": [
    "from langchain.prompts import ChatPromptTemplate\n",
    "chat_template = ChatPromptTemplate.from_messages(\n",
    "    [\n",
    "        (\"system\",\"you are helpful AI bot, your name is {name} \"),\n",
    "        (\"human\",\"Hello, How are you \"),\n",
    "        (\"ai\",\"I am doing well !!\"),\n",
    "        (\"human\",\"{user_input}\")\n",
    "    ]\n",
    ")\n",
    "chat_template.format_messages(name=\"Chinnareddy\",user_input=\"What is your name\")"
   ]
  },
  {
   "cell_type": "code",
   "execution_count": 17,
   "id": "1c00d72c-0100-4685-a35c-a6588ca7fe6f",
   "metadata": {},
   "outputs": [
    {
     "data": {
      "text/plain": [
       "[SystemMessage(content='upi are helpful AI bot, your name is Chinnareddy '),\n",
       " HumanMessage(content='Heloo, How are you?'),\n",
       " AIMessage(content='I am doing well buddy !!'),\n",
       " HumanMessage(content='What is your name')]"
      ]
     },
     "execution_count": 17,
     "metadata": {},
     "output_type": "execute_result"
    }
   ],
   "source": [
    "from langchain.prompts import ChatPromptTemplate\n",
    "chat_template = ChatPromptTemplate.from_messages(\n",
    "[\n",
    "    (\"system\",\"u are helpful AI bot, your name is {name} \"),\n",
    "    (\"human\",\"Heloo, How are you?\"),\n",
    "    (\"ai\",\"I am doing well buddy !!\"),\n",
    "    (\"human\",\"{user_input}\")\n",
    "]\n",
    ")\n",
    "chat_template.format_messages(name=\"Chinnareddy\",user_input=\"What is your name\")"
   ]
  },
  {
   "cell_type": "code",
   "execution_count": 21,
   "id": "424d1565-b3a9-447b-acb6-d6457ea684cb",
   "metadata": {},
   "outputs": [],
   "source": [
    "from langchain.prompts import HumanMessagePromptTemplate\n",
    "from langchain_core.messages import SystemMessage\n",
    "from langchain_openai import ChatOpenAI"
   ]
  },
  {
   "cell_type": "code",
   "execution_count": 24,
   "id": "f8dd5b8f-d1a0-4305-a1bb-3193404dcc8a",
   "metadata": {},
   "outputs": [
    {
     "data": {
      "text/plain": [
       "[SystemMessage(content=\"You are a helpful assistant that re-writes the user's text to sound more upbeat.\"),\n",
       " HumanMessage(content=\"I don't like eating tasty things\")]"
      ]
     },
     "execution_count": 24,
     "metadata": {},
     "output_type": "execute_result"
    }
   ],
   "source": [
    "chat_template = ChatPromptTemplate.from_messages(\n",
    "[\n",
    "    SystemMessage(\n",
    "        content=(\n",
    "                \"You are a helpful assistant that re-writes the user's text to \"\n",
    "                \"sound more upbeat.\"\n",
    "        )\n",
    "    ),\n",
    "        HumanMessagePromptTemplate.from_template(\"{text}\"),\n",
    "]\n",
    ")\n",
    "chat_template.format_messages(text=\"I don't like eating tasty things\")"
   ]
  },
  {
   "cell_type": "code",
   "execution_count": 25,
   "id": "f3fb9a03-741b-4398-be60-b5e718760ad8",
   "metadata": {},
   "outputs": [],
   "source": [
    "#String Prompt Composition"
   ]
  },
  {
   "cell_type": "code",
   "execution_count": 26,
   "id": "cd81a25e-f7a1-4ff8-86eb-37389974d326",
   "metadata": {},
   "outputs": [],
   "source": [
    "from langchain.prompts import PromptTemplate"
   ]
  },
  {
   "cell_type": "code",
   "execution_count": 30,
   "id": "2ad8ac86-d723-4e48-b8f5-78ec9a850315",
   "metadata": {},
   "outputs": [],
   "source": [
    "prompt = (PromptTemplate.from_template(\n",
    "    \"tell me a joke about {topic}\"\n",
    ")+ \" make it funny \"\n",
    "+\"in language telugu\"\n",
    "         )"
   ]
  },
  {
   "cell_type": "code",
   "execution_count": 31,
   "id": "76529d95-33d6-4402-8fc0-a70ac3f9aaa0",
   "metadata": {},
   "outputs": [
    {
     "data": {
      "text/plain": [
       "PromptTemplate(input_variables=['topic'], template='tell me a joke about {topic} make it funny in language telugu')"
      ]
     },
     "execution_count": 31,
     "metadata": {},
     "output_type": "execute_result"
    }
   ],
   "source": [
    "prompt"
   ]
  },
  {
   "cell_type": "code",
   "execution_count": 32,
   "id": "16963676-adaf-48ab-9abe-c09b774b31bd",
   "metadata": {},
   "outputs": [],
   "source": [
    "from langchain.chains import LLMChain\n",
    "from langchain_openai import ChatOpenAI"
   ]
  },
  {
   "cell_type": "code",
   "execution_count": 38,
   "id": "ff443b0d-3e14-4b23-bfd6-00d1cf89dd4a",
   "metadata": {},
   "outputs": [],
   "source": [
    "chain = LLMChain(prompt =prompt,llm = ChatOpenAI(openai_api_key=OPENAI_API_KEY))"
   ]
  },
  {
   "cell_type": "code",
   "execution_count": 44,
   "id": "74df628d-eb9d-4364-8840-8155b2582b5f",
   "metadata": {},
   "outputs": [
    {
     "data": {
      "text/plain": [
       "'ఒక కుటుంబం ఉండుట ముందు అందరూ మాట్లాడుతున్నారు. ఒక వ్యక్తి అందరికీ ప్రశ్న పెట్టాడు, \"మీ కుటుంబంలో ఇబ్బందితో ఉన్నారా?\" మరొక వ్యక్తి తాను చెబుతూ పెట్టాడు, \"ఇబ్బంది లేదు మరి ఓ పెళ్లని చేసుకున్నాం.\"'"
      ]
     },
     "execution_count": 44,
     "metadata": {},
     "output_type": "execute_result"
    }
   ],
   "source": [
    "chain.run(topic=\"family\")"
   ]
  },
  {
   "cell_type": "code",
   "execution_count": 57,
   "id": "c4021978-82e0-48e8-908a-6b554bd9e061",
   "metadata": {},
   "outputs": [],
   "source": [
    "## Prompts as a Pipelines  ##"
   ]
  },
  {
   "cell_type": "code",
   "execution_count": 60,
   "id": "dfed5854-896b-4dac-bb51-014f93f223e6",
   "metadata": {},
   "outputs": [],
   "source": [
    "from langchain.prompts.pipeline import PipelinePromptTemplate\n",
    "from langchain.prompts.prompt import PromptTemplate"
   ]
  },
  {
   "cell_type": "code",
   "execution_count": 61,
   "id": "6ffede12-0736-472d-9818-136adeb65e32",
   "metadata": {},
   "outputs": [],
   "source": [
    "full_template = \"\"\"{introduction}\n",
    "\n",
    "{example}\n",
    "\n",
    "{start} \"\"\"\n",
    "\n",
    "full_prompt = PromptTemplate.from_template(full_template)"
   ]
  },
  {
   "cell_type": "code",
   "execution_count": 62,
   "id": "bfad6f31-4eb8-47c8-9ba3-3970f6464325",
   "metadata": {},
   "outputs": [],
   "source": [
    "intro_template = \"you are impersonating {person}\"\n",
    "intro_prompt = PromptTemplate.from_template(intro_template)"
   ]
  },
  {
   "cell_type": "code",
   "execution_count": 63,
   "id": "a8aeab9d-88b8-4c10-807e-bc95f3282a56",
   "metadata": {},
   "outputs": [],
   "source": [
    "example_template = \"\"\"Here's an example of an interaction:\n",
    "\n",
    "Q: {example_q}\n",
    "A: {example_a}\"\"\"\n",
    "example_prompt = PromptTemplate.from_template(example_template)"
   ]
  },
  {
   "cell_type": "code",
   "execution_count": 64,
   "id": "20c3391e-79b5-4dc3-b211-fbe912e7946e",
   "metadata": {},
   "outputs": [],
   "source": [
    "start_template = \"\"\"Now, do this for real!\n",
    "\n",
    "Q: {input}\n",
    "A:\"\"\"\n",
    "start_prompt = PromptTemplate.from_template(start_template)"
   ]
  },
  {
   "cell_type": "code",
   "execution_count": 65,
   "id": "a8f3ee4f-254b-4fd2-b5ce-a87a430f3e6e",
   "metadata": {},
   "outputs": [],
   "source": [
    "input_prompts = [\n",
    "    (\"introduction\",intro_prompt),\n",
    "    (\"example\",example_prompt),\n",
    "    (\"start\",start_prompt)\n",
    "]\n",
    "pipeline_prompts = PipelinePromptTemplate(pipeline_prompts=input_prompts,final_prompt=full_prompt)"
   ]
  },
  {
   "cell_type": "code",
   "execution_count": 66,
   "id": "b1432bfe-c367-4614-a348-3f6bf7e0f983",
   "metadata": {},
   "outputs": [
    {
     "data": {
      "text/plain": [
       "['input', 'example_a', 'person', 'example_q']"
      ]
     },
     "execution_count": 66,
     "metadata": {},
     "output_type": "execute_result"
    }
   ],
   "source": [
    "pipeline_prompts.input_variables"
   ]
  },
  {
   "cell_type": "code",
   "execution_count": 68,
   "id": "1ca9af81-b27b-463d-9f11-d6815251e35e",
   "metadata": {},
   "outputs": [
    {
     "data": {
      "text/plain": [
       "\"you are impersonating Elon Musk\\n\\nHere's an example of an interaction:\\n\\nQ: What's your favorite car?\\nA: Tesla\\n\\nNow, do this for real!\\n\\nQ: What's your favorite social media site?\\nA: \""
      ]
     },
     "execution_count": 68,
     "metadata": {},
     "output_type": "execute_result"
    }
   ],
   "source": [
    "pipeline_prompts.format(\n",
    "        person=\"Elon Musk\",\n",
    "        example_q=\"What's your favorite car?\",\n",
    "        example_a=\"Tesla\",\n",
    "        input=\"What's your favorite social media site?\",\n",
    "    )"
   ]
  },
  {
   "cell_type": "code",
   "execution_count": 69,
   "id": "76c08eea-c113-45cc-974e-925afeb1ad4c",
   "metadata": {},
   "outputs": [],
   "source": [
    "llm = ChatOpenAI(openai_api_key=OPENAI_API_KEY)"
   ]
  },
  {
   "cell_type": "code",
   "execution_count": 70,
   "id": "24a6dc0a-3001-4a22-91f1-5ae680487b3c",
   "metadata": {},
   "outputs": [],
   "source": [
    "chain = LLMChain(llm = llm,prompt = pipeline_prompts)"
   ]
  },
  {
   "cell_type": "code",
   "execution_count": 72,
   "id": "0dd999d6-2ef5-442a-9083-f39d53f0d77d",
   "metadata": {},
   "outputs": [],
   "source": [
    "chain2 =  pipeline_prompts | llm"
   ]
  },
  {
   "cell_type": "code",
   "execution_count": 79,
   "id": "5565d6cf-7c05-4aef-8333-b469b62c4e35",
   "metadata": {},
   "outputs": [
    {
     "data": {
      "text/plain": [
       "'Twitter.'"
      ]
     },
     "execution_count": 79,
     "metadata": {},
     "output_type": "execute_result"
    }
   ],
   "source": [
    "chain.run(person=\"Elon Musk\",\n",
    "        example_q=\"What's your favorite car?\",\n",
    "        example_a=\"Tesla\",\n",
    "        input=\"What's your favorite social media site?\",)"
   ]
  },
  {
   "cell_type": "code",
   "execution_count": 80,
   "id": "f379b54d-096f-41bc-897a-28f9adbc999b",
   "metadata": {},
   "outputs": [
    {
     "data": {
      "text/plain": [
       "\"My favorite drink is water. It's essential for staying hydrated and keeping the brain sharp!\""
      ]
     },
     "execution_count": 80,
     "metadata": {},
     "output_type": "execute_result"
    }
   ],
   "source": [
    "pipeline_prompts.format(\n",
    "        person=\"Elon Musk\",\n",
    "        example_q=\"What's your favorite car?\",\n",
    "        example_a=\"Tesla\",\n",
    "        input=\"What's your favorite drink?\",\n",
    "    )\n",
    "chain = LLMChain(llm = llm,prompt = pipeline_prompts)\n",
    "chain.run(person=\"Elon Musk\",\n",
    "        example_q=\"What's your favorite car?\",\n",
    "        example_a=\"Tesla\",\n",
    "        input=\"What's your favorite drink? \",)"
   ]
  },
  {
   "cell_type": "code",
   "execution_count": null,
   "id": "05fdf99b-270f-4385-801f-48e485188e67",
   "metadata": {},
   "outputs": [],
   "source": []
  },
  {
   "cell_type": "code",
   "execution_count": null,
   "id": "5dde4e8f-6aaa-4e3d-9803-6e3b6772a56a",
   "metadata": {},
   "outputs": [],
   "source": []
  }
 ],
 "metadata": {
  "kernelspec": {
   "display_name": "Python 3 (ipykernel)",
   "language": "python",
   "name": "python3"
  },
  "language_info": {
   "codemirror_mode": {
    "name": "ipython",
    "version": 3
   },
   "file_extension": ".py",
   "mimetype": "text/x-python",
   "name": "python",
   "nbconvert_exporter": "python",
   "pygments_lexer": "ipython3",
   "version": "3.11.7"
  }
 },
 "nbformat": 4,
 "nbformat_minor": 5
}
