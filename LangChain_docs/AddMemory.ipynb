{
 "cells": [
  {
   "cell_type": "code",
   "execution_count": 2,
   "id": "01fd0725-c1e0-4a0a-90f2-8a4e885b9fce",
   "metadata": {},
   "outputs": [],
   "source": [
    "from operator import itemgetter\n",
    "from langchain.memory import ConversationBufferMemory\n",
    "from langchain.prompts import ChatPromptTemplate, MessagesPlaceholder\n",
    "from langchain_core.runnables import RunnableLambda , RunnablePassthrough\n",
    "from langchain_openai import ChatOpenAI"
   ]
  },
  {
   "cell_type": "code",
   "execution_count": 4,
   "id": "ba65fa0e-ab09-46df-a090-304a1abc554f",
   "metadata": {},
   "outputs": [],
   "source": [
    "OPENAI_API_KEY = \"\""
   ]
  },
  {
   "cell_type": "code",
   "execution_count": 5,
   "id": "a715dd2e-9c13-4a07-a040-ac5d3181f4b4",
   "metadata": {},
   "outputs": [],
   "source": [
    "model = ChatOpenAI(openai_api_key=OPENAI_API_KEY)"
   ]
  },
  {
   "cell_type": "code",
   "execution_count": 6,
   "id": "41a28f8c-7f95-4e51-85c3-5e6681ddb03e",
   "metadata": {},
   "outputs": [],
   "source": [
    "prompt =  ChatPromptTemplate.from_messages(\n",
    "    [\n",
    "        (\"system\",\"you are helpful chatbot\"),\n",
    "        MessagesPlaceholder(variable_name = \"history\"),\n",
    "        (\"human\",\"{input}\")\n",
    "    ]\n",
    ")"
   ]
  },
  {
   "cell_type": "code",
   "execution_count": 7,
   "id": "4792c541-b933-43cb-b25f-56e783e841c0",
   "metadata": {},
   "outputs": [
    {
     "data": {
      "text/plain": [
       "ChatPromptTemplate(input_variables=['history', 'input'], input_types={'history': typing.List[typing.Union[langchain_core.messages.ai.AIMessage, langchain_core.messages.human.HumanMessage, langchain_core.messages.chat.ChatMessage, langchain_core.messages.system.SystemMessage, langchain_core.messages.function.FunctionMessage, langchain_core.messages.tool.ToolMessage]]}, messages=[SystemMessagePromptTemplate(prompt=PromptTemplate(input_variables=[], template='you are helpful chatbot')), MessagesPlaceholder(variable_name='history'), HumanMessagePromptTemplate(prompt=PromptTemplate(input_variables=['input'], template='{input}'))])"
      ]
     },
     "execution_count": 7,
     "metadata": {},
     "output_type": "execute_result"
    }
   ],
   "source": [
    "prompt"
   ]
  },
  {
   "cell_type": "code",
   "execution_count": 8,
   "id": "f6b6463b-7515-4ae1-9fee-2d1c4cdd9f49",
   "metadata": {},
   "outputs": [],
   "source": [
    "memory = ConversationBufferMemory(return_messages = True)"
   ]
  },
  {
   "cell_type": "code",
   "execution_count": 11,
   "id": "a8df8727-77e0-4397-8446-12312092f38c",
   "metadata": {},
   "outputs": [
    {
     "data": {
      "text/plain": [
       "{'history': []}"
      ]
     },
     "execution_count": 11,
     "metadata": {},
     "output_type": "execute_result"
    }
   ],
   "source": [
    "memory.load_memory_variables({})"
   ]
  },
  {
   "cell_type": "code",
   "execution_count": 12,
   "id": "4e1eb4e4-a34b-4251-9cef-c89621e8e56d",
   "metadata": {},
   "outputs": [],
   "source": [
    "chain = (\n",
    "    RunnablePassthrough.assign( history=RunnableLambda(memory.load_memory_variables) | itemgetter(\"history\")\n",
    "    )\n",
    "    |prompt\n",
    "    |model\n",
    ")"
   ]
  },
  {
   "cell_type": "code",
   "execution_count": 20,
   "id": "3d841f3d-d509-475d-bd97-03690354f667",
   "metadata": {},
   "outputs": [],
   "source": [
    "inputs =  {\"input\":\"Hi, This is Praveen Reddy C, I love you !!\"}"
   ]
  },
  {
   "cell_type": "code",
   "execution_count": 16,
   "id": "6f93c140-961e-405f-b369-e3a524dc7ac3",
   "metadata": {},
   "outputs": [],
   "source": [
    "response = chain.invoke({\"input\":\"Hi, This is Praveen Reddy C, I love you !!\"})"
   ]
  },
  {
   "cell_type": "code",
   "execution_count": 15,
   "id": "5a9fc6b6-749d-4465-b8f6-6ec8820817c8",
   "metadata": {},
   "outputs": [
    {
     "data": {
      "text/plain": [
       "{'history': []}"
      ]
     },
     "execution_count": 15,
     "metadata": {},
     "output_type": "execute_result"
    }
   ],
   "source": [
    "memory.load_memory_variables({})"
   ]
  },
  {
   "cell_type": "code",
   "execution_count": 18,
   "id": "cc69deeb-3afc-43c6-845f-d9cc8a28aa81",
   "metadata": {},
   "outputs": [
    {
     "data": {
      "text/plain": [
       "AIMessage(content=\"I'm glad to hear that you appreciate my help. How can I assist you today?\", response_metadata={'token_usage': {'completion_tokens': 18, 'prompt_tokens': 31, 'total_tokens': 49}, 'model_name': 'gpt-3.5-turbo', 'system_fingerprint': 'fp_3bc1b5746c', 'finish_reason': 'stop', 'logprobs': None})"
      ]
     },
     "execution_count": 18,
     "metadata": {},
     "output_type": "execute_result"
    }
   ],
   "source": [
    "response"
   ]
  },
  {
   "cell_type": "code",
   "execution_count": 22,
   "id": "7b92e9a6-42d3-4cd1-a87b-3772423a1019",
   "metadata": {},
   "outputs": [],
   "source": [
    "memory.save_context(inputs , {\"output\": response.content})"
   ]
  },
  {
   "cell_type": "code",
   "execution_count": 23,
   "id": "20b0d57f-c99f-4498-a19d-955f9ba532af",
   "metadata": {},
   "outputs": [
    {
     "data": {
      "text/plain": [
       "{'history': [HumanMessage(content='Hi, This is Praveen Reddy C, I love you !!'),\n",
       "  AIMessage(content=\"I'm glad to hear that you appreciate my help. How can I assist you today?\")]}"
      ]
     },
     "execution_count": 23,
     "metadata": {},
     "output_type": "execute_result"
    }
   ],
   "source": [
    "memory.load_memory_variables({})"
   ]
  },
  {
   "cell_type": "code",
   "execution_count": 25,
   "id": "631a8a8f-4865-4900-9326-08b5dc8a0bae",
   "metadata": {},
   "outputs": [],
   "source": [
    "inputs = {\"input\":\"Wow, that's good, Can you please help me\"}"
   ]
  },
  {
   "cell_type": "code",
   "execution_count": 26,
   "id": "5783287d-9c53-4832-a28b-21ac5574e09e",
   "metadata": {},
   "outputs": [],
   "source": [
    "response = chain.invoke({\"input\":\"Wow, that's good, Can you please help me\"})"
   ]
  },
  {
   "cell_type": "code",
   "execution_count": 27,
   "id": "12599b8c-da63-4042-9c7d-f8a3ceb4bfdc",
   "metadata": {},
   "outputs": [],
   "source": [
    "memory.save_context(inputs , {\"output\": response.content})"
   ]
  },
  {
   "cell_type": "code",
   "execution_count": 28,
   "id": "456defe2-3d1f-479f-87f7-c99929c09b48",
   "metadata": {},
   "outputs": [
    {
     "data": {
      "text/plain": [
       "{'history': [HumanMessage(content='Hi, This is Praveen Reddy C, I love you !!'),\n",
       "  AIMessage(content=\"I'm glad to hear that you appreciate my help. How can I assist you today?\"),\n",
       "  HumanMessage(content=\"Wow, that's good, Can you please help me\"),\n",
       "  AIMessage(content=\"Of course! I'm here to help. What do you need assistance with?\")]}"
      ]
     },
     "execution_count": 28,
     "metadata": {},
     "output_type": "execute_result"
    }
   ],
   "source": [
    "memory.load_memory_variables({})"
   ]
  },
  {
   "cell_type": "code",
   "execution_count": null,
   "id": "b50176a4-c806-4d6b-a533-2fae39e46368",
   "metadata": {},
   "outputs": [],
   "source": []
  }
 ],
 "metadata": {
  "kernelspec": {
   "display_name": "Python 3 (ipykernel)",
   "language": "python",
   "name": "python3"
  },
  "language_info": {
   "codemirror_mode": {
    "name": "ipython",
    "version": 3
   },
   "file_extension": ".py",
   "mimetype": "text/x-python",
   "name": "python",
   "nbconvert_exporter": "python",
   "pygments_lexer": "ipython3",
   "version": "3.11.7"
  }
 },
 "nbformat": 4,
 "nbformat_minor": 5
}
