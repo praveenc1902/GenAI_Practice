{
 "cells": [
  {
   "cell_type": "code",
   "execution_count": 65,
   "id": "ca0ccb65-de14-4e51-aba8-8c12eadc0be6",
   "metadata": {},
   "outputs": [],
   "source": [
    "# !pip install streamlit\n",
    "# !pip install pandas\n",
    "# !pip install numpy\n",
    "# !pip install groq\n",
    "# !pip install langchain_community\n",
    "# !pip install langchain_groq\n",
    "# !pip install yfinance\n",
    "# !pip install plotly\n",
    "# !pip install langchain_core\n",
    "# !pip install langchain-pinecone"
   ]
  },
  {
   "cell_type": "code",
   "execution_count": 66,
   "id": "4b6048ff-60ed-41e3-9054-2f2aec251155",
   "metadata": {},
   "outputs": [],
   "source": [
    "from langchain_groq import ChatGroq\n",
    "import os\n",
    "import yfinance as yf\n",
    "import pandas as pd\n",
    "\n",
    "from langchain_core.tools import tool\n",
    "from langchain_core.messages import AIMessage, SystemMessage, HumanMessage, ToolMessage\n",
    "\n",
    "from datetime import date\n",
    "import pandas as pd\n",
    "import plotly.graph_objects as go\n",
    "\n",
    "import streamlit as st\n",
    "\n",
    "import streamlit as st\n",
    "import pandas as pd\n",
    "import numpy as np\n",
    "from groq import Groq\n",
    "from pinecone import Pinecone\n",
    "\n",
    "from langchain_community.embeddings.sentence_transformer import SentenceTransformerEmbeddings\n",
    "from langchain_pinecone import PineconeVectorStore\n"
   ]
  },
  {
   "cell_type": "code",
   "execution_count": 52,
   "id": "8d2abfaf-c4c0-485a-9fdd-b0fd24367673",
   "metadata": {},
   "outputs": [],
   "source": [
    "#define llm (Groq)\n",
    "llm = ChatGroq(groq_api_key= \"\", model= \"llama3-8b-8192\")\n"
   ]
  },
  {
   "cell_type": "code",
   "execution_count": 53,
   "id": "a16cfc55-8f55-4bce-8636-55dbcd61bf53",
   "metadata": {},
   "outputs": [],
   "source": [
    "@tool\n",
    "def get_historical_price(symbol, start_date, end_date):\n",
    "    \"\"\"\n",
    "    Fetches historical stock prices for a given symbol from 'start_date' to 'end_date'.\n",
    "    - symbol (str): Stock ticker symbol.\n",
    "    - end_date (date): Typically today unless a specific end date is provided. End date MUST be greater than start date\n",
    "    - start_date (date): Set explicitly, or calculated as 'end_date - date interval' (for example, if prompted 'over the past 6 months', date interval = 6 months so start_date would be 6 months earlier than today's date). Default to '1900-01-01' if vaguely asked for historical price. Start date must always be before the current date\n",
    "    \"\"\"\n",
    "    data = yf.Ticker(symbol)\n",
    "    hist = data.history(start=start_date, end=end_date)\n",
    "    return hist\n",
    "    "
   ]
  },
  {
   "cell_type": "code",
   "execution_count": 54,
   "id": "9559e45b-33be-4f74-94a8-fdf96407ade4",
   "metadata": {},
   "outputs": [
    {
     "name": "stdout",
     "output_type": "stream",
     "text": [
      "yfinance.Ticker object <AMZN>\n"
     ]
    }
   ],
   "source": [
    "print(yf.Ticker(\"AMZN\"))"
   ]
  },
  {
   "cell_type": "code",
   "execution_count": 55,
   "id": "910e5983-8ec7-4f83-a93d-91245e2db96a",
   "metadata": {},
   "outputs": [],
   "source": [
    "@tool\n",
    "def get_stock_info(symbol,key):\n",
    "    '''Return the correct stock info value given the appropriate symbol and key. Infer valid key from the user prompt; it must be one of the following:\n",
    "\n",
    "    address1, city, state, zip, country, phone, website, industry, industryKey, industryDisp, sector, sectorKey, sectorDisp, longBusinessSummary, fullTimeEmployees, companyOfficers, auditRisk, boardRisk, compensationRisk, shareHolderRightsRisk, overallRisk, governanceEpochDate, compensationAsOfEpochDate, maxAge, priceHint, previousClose, open, dayLow, dayHigh, regularMarketPreviousClose, regularMarketOpen, regularMarketDayLow, regularMarketDayHigh, dividendRate, dividendYield, exDividendDate, beta, trailingPE, forwardPE, volume, regularMarketVolume, averageVolume, averageVolume10days, averageDailyVolume10Day, bid, ask, bidSize, askSize, marketCap, fiftyTwoWeekLow, fiftyTwoWeekHigh, priceToSalesTrailing12Months, fiftyDayAverage, twoHundredDayAverage, currency, enterpriseValue, profitMargins, floatShares, sharesOutstanding, sharesShort, sharesShortPriorMonth, sharesShortPreviousMonthDate, dateShortInterest, sharesPercentSharesOut, heldPercentInsiders, heldPercentInstitutions, shortRatio, shortPercentOfFloat, impliedSharesOutstanding, bookValue, priceToBook, lastFiscalYearEnd, nextFiscalYearEnd, mostRecentQuarter, earningsQuarterlyGrowth, netIncomeToCommon, trailingEps, forwardEps, pegRatio, enterpriseToRevenue, enterpriseToEbitda, 52WeekChange, SandP52WeekChange, lastDividendValue, lastDividendDate, exchange, quoteType, symbol, underlyingSymbol, shortName, longName, firstTradeDateEpochUtc, timeZoneFullName, timeZoneShortName, uuid, messageBoardId, gmtOffSetMilliseconds, currentPrice, targetHighPrice, targetLowPrice, targetMeanPrice, targetMedianPrice, recommendationMean, recommendationKey, numberOfAnalystOpinions, totalCash, totalCashPerShare, ebitda, totalDebt, quickRatio, currentRatio, totalRevenue, debtToEquity, revenuePerShare, returnOnAssets, returnOnEquity, freeCashflow, operatingCashflow, earningsGrowth, revenueGrowth, grossMargins, ebitdaMargins, operatingMargins, financialCurrency, trailingPegRatio\n",
    "    \n",
    "    If asked generically for 'stock price', use currentPrice\n",
    "    '''\n",
    "    data = yf.Ticker(symbol)\n",
    "    stock_info = data.info\n",
    "    return stock_info[key]"
   ]
  },
  {
   "cell_type": "code",
   "execution_count": 57,
   "id": "ae2c71ae-1392-40b2-bfe1-dfa7ff7ed6fb",
   "metadata": {},
   "outputs": [],
   "source": [
    "tools = [get_stock_info, get_historical_price]"
   ]
  },
  {
   "cell_type": "code",
   "execution_count": 58,
   "id": "544ef8c5-318f-4e60-8459-e68fb1e5a359",
   "metadata": {},
   "outputs": [],
   "source": [
    "llm_tools = llm.bind_tools(tools)"
   ]
  },
  {
   "cell_type": "code",
   "execution_count": 59,
   "id": "1c1c3fba-d274-48e6-b4c2-f39136c9b813",
   "metadata": {},
   "outputs": [],
   "source": [
    "system_prompt = 'You are a helpful finance assistant that analyzes stocks and stock prices. Today is {today}'.format(today = date.today())\n",
    "messages = [\n",
    "    SystemMessage(system_prompt),\n",
    "    HumanMessage(\"Can you please help me to get stock price of  AMZN for last 2 days ?\")\n",
    "]\n",
    "ai_message = llm_tools.invoke(messages)"
   ]
  },
  {
   "cell_type": "code",
   "execution_count": 60,
   "id": "bac10501-c277-4564-be77-435d9d57d91d",
   "metadata": {},
   "outputs": [
    {
     "data": {
      "text/plain": [
       "AIMessage(content='', additional_kwargs={'tool_calls': [{'id': 'call_856x', 'function': {'arguments': '{\"symbol\":\"AMZN\",\"start_date\":\"2024-05-09\",\"end_date\":\"2024-05-11\"}', 'name': 'get_historical_price'}, 'type': 'function'}]}, response_metadata={'token_usage': {'completion_time': 0.104, 'completion_tokens': 89, 'prompt_time': 0.407, 'prompt_tokens': 1694, 'queue_time': None, 'total_time': 0.511, 'total_tokens': 1783}, 'model_name': 'llama3-8b-8192', 'system_fingerprint': 'fp_6a6771ae9c', 'finish_reason': 'tool_calls', 'logprobs': None}, id='run-52863e57-b178-4615-88c9-2f1061ef2749-0', tool_calls=[{'name': 'get_historical_price', 'args': {'symbol': 'AMZN', 'start_date': '2024-05-09', 'end_date': '2024-05-11'}, 'id': 'call_856x'}])"
      ]
     },
     "execution_count": 60,
     "metadata": {},
     "output_type": "execute_result"
    }
   ],
   "source": [
    "ai_message"
   ]
  },
  {
   "cell_type": "code",
   "execution_count": 61,
   "id": "ddce05e6-9a1e-4195-b6ef-db0c07218c5b",
   "metadata": {},
   "outputs": [],
   "source": [
    "messages.append(ai_message)\n",
    "historical_price_dfs = []\n",
    "symbols = []\n",
    "tool_dict = {\"get_stock_info\": get_stock_info, \"get_historical_price\": get_historical_price}"
   ]
  },
  {
   "cell_type": "code",
   "execution_count": 62,
   "id": "0e545f0c-c33a-4995-b4e5-2573e9bc4db1",
   "metadata": {},
   "outputs": [
    {
     "name": "stdout",
     "output_type": "stream",
     "text": [
      "                                 Open        High         Low       Close  \\\n",
      "Date                                                                        \n",
      "2024-05-09 00:00:00-04:00  188.880005  191.699997  187.440002  189.500000   \n",
      "2024-05-10 00:00:00-04:00  189.160004  189.889999  186.929993  187.479996   \n",
      "\n",
      "                             Volume  Dividends  Stock Splits  \n",
      "Date                                                          \n",
      "2024-05-09 00:00:00-04:00  43368400        0.0           0.0  \n",
      "2024-05-10 00:00:00-04:00  34121700        0.0           0.0  \n"
     ]
    }
   ],
   "source": [
    "for tool_call in ai_message.tool_calls:\n",
    "    # print(tool_call)\n",
    "    selected_tool = tool_dict[tool_call['name']]\n",
    "    output  = selected_tool.invoke(tool_call['args'])\n",
    "    print(output)\n",
    "    "
   ]
  },
  {
   "cell_type": "code",
   "execution_count": null,
   "id": "843900c9-2a84-4b8d-b9e1-4236620a35c9",
   "metadata": {},
   "outputs": [],
   "source": []
  }
 ],
 "metadata": {
  "kernelspec": {
   "display_name": "Python 3 (ipykernel)",
   "language": "python",
   "name": "python3"
  },
  "language_info": {
   "codemirror_mode": {
    "name": "ipython",
    "version": 3
   },
   "file_extension": ".py",
   "mimetype": "text/x-python",
   "name": "python",
   "nbconvert_exporter": "python",
   "pygments_lexer": "ipython3",
   "version": "3.11.7"
  }
 },
 "nbformat": 4,
 "nbformat_minor": 5
}
