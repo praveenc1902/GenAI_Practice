{
 "cells": [
  {
   "cell_type": "code",
   "execution_count": 13,
   "id": "563c16fb-b60f-412a-abdd-ce864af6b970",
   "metadata": {},
   "outputs": [
    {
     "name": "stderr",
     "output_type": "stream",
     "text": [
      "UsageError: usage is 'set_env var=val'\n"
     ]
    }
   ],
   "source": [
    "%set_env "
   ]
  },
  {
   "cell_type": "code",
   "execution_count": 1,
   "id": "713ac142-72aa-4b3b-8ea1-b1e55c5970ad",
   "metadata": {},
   "outputs": [],
   "source": [
    "from llama_index.core import SimpleDirectoryReader, VectorStoreIndex, SummaryIndex\n",
    "from llama_index.core.node_parser import SentenceSplitter\n",
    "from llama_index.core.tools import FunctionTool, QueryEngineTool\n",
    "from llama_index.core.vector_stores import MetadataFilters, FilterCondition\n",
    "from typing import List, Optional"
   ]
  },
  {
   "cell_type": "code",
   "execution_count": 2,
   "id": "4d05276f-65cf-4312-95ce-73de89a606f4",
   "metadata": {},
   "outputs": [],
   "source": [
    "def get_doc_tools(\n",
    "    file_path: str,\n",
    "    name: str,\n",
    ") -> str:\n",
    "    \"\"\"Get vector query and summary query tools from a document.\"\"\"\n",
    "    documents = SimpleDirectoryReader(input_files=[file_path]).load_data()\n",
    "    splitter = SentenceSplitter(chunk_size=1024)\n",
    "    nodes = splitter.get_nodes_from_documents(documents)\n",
    "    vector_index = VectorStoreIndex(nodes)\n",
    "\n",
    "    def vector_query(\n",
    "        query: str, \n",
    "        page_numbers: Optional[List[str]] = None\n",
    "    ) -> str:\n",
    "        \"\"\"Use to answer questions over a given paper.\n",
    "    \n",
    "        Useful if you have specific questions over the paper.\n",
    "        Always leave page_numbers as None UNLESS there is a specific page you want to search for.\n",
    "    \n",
    "        Args:\n",
    "            query (str): the string query to be embedded.\n",
    "            page_numbers (Optional[List[str]]): Filter by set of pages. Leave as NONE \n",
    "                if we want to perform a vector search\n",
    "                over all pages. Otherwise, filter by the set of specified pages.\n",
    "        \n",
    "        \"\"\"\n",
    "        page_numbers = page_numbers or []\n",
    "        metadata_dicts = [\n",
    "            {\"key\": \"page_label\", \"value\": p} for p in page_numbers\n",
    "        ]\n",
    "        query_engine = vector_index.as_query_engine(\n",
    "            similarity_top_k=2,\n",
    "            filters=MetadataFilters.from_dicts(\n",
    "                metadata_dicts,\n",
    "                condition=FilterCondition.OR\n",
    "            )\n",
    "        )\n",
    "        response =  query_engine(query)\n",
    "        return response\n",
    "    vector_query_tool = FunctionTool.from_defaults(\n",
    "        name=f\"vector_tool_{name}\",\n",
    "        fn=vector_query\n",
    "    )\n",
    "    \n",
    "    summary_index = SummaryIndex(nodes)\n",
    "    summary_query_engine = summary_index.as_query_engine(\n",
    "        response_mode=\"tree_summarize\",\n",
    "        use_async=True,\n",
    "    )\n",
    "    summary_tool = QueryEngineTool.from_defaults(\n",
    "        name=f\"summary_tool_{name}\",\n",
    "        query_engine=summary_query_engine,\n",
    "        description=(\n",
    "            f\"Useful for summarization questions related to {name}\"\n",
    "        ),\n",
    "    )\n",
    "\n",
    "    return vector_query_tool, summary_tool"
   ]
  },
  {
   "cell_type": "code",
   "execution_count": 4,
   "id": "8385c872-ca98-4323-ad60-9a31c1f05fc0",
   "metadata": {},
   "outputs": [],
   "source": [
    "paper_to_tools_dict = {}\n",
    "papers = [\n",
    "    \"UnionBudget2023-24.pdf\",\n",
    "    \"UnionBudget2021-22.pdf\",\n",
    "    \"UnionBudget2022-23.pdf\",\n",
    "]"
   ]
  },
  {
   "cell_type": "code",
   "execution_count": 5,
   "id": "8880cef6-5682-458e-98f1-3cf794ca10ec",
   "metadata": {},
   "outputs": [],
   "source": [
    "for paper in papers:\n",
    "    vector_tool,summary_tool= get_doc_tools(paper,paper.split('-')[0])\n",
    "    paper_to_tools_dict[paper] = [vector_tool,summary_tool]"
   ]
  },
  {
   "cell_type": "code",
   "execution_count": 6,
   "id": "4fc4a6ef-b23c-42ac-a7ea-ecabe5a51c20",
   "metadata": {},
   "outputs": [
    {
     "data": {
      "text/plain": [
       "{'UnionBudget2023-24.pdf': [<llama_index.core.tools.function_tool.FunctionTool at 0x308b27090>,\n",
       "  <llama_index.core.tools.query_engine.QueryEngineTool at 0x3077ac290>],\n",
       " 'UnionBudget2021-22.pdf': [<llama_index.core.tools.function_tool.FunctionTool at 0x308ba7410>,\n",
       "  <llama_index.core.tools.query_engine.QueryEngineTool at 0x173064d10>],\n",
       " 'UnionBudget2022-23.pdf': [<llama_index.core.tools.function_tool.FunctionTool at 0x172f94450>,\n",
       "  <llama_index.core.tools.query_engine.QueryEngineTool at 0x172f8ee90>]}"
      ]
     },
     "execution_count": 6,
     "metadata": {},
     "output_type": "execute_result"
    }
   ],
   "source": [
    "paper_to_tools_dict"
   ]
  },
  {
   "cell_type": "code",
   "execution_count": 7,
   "id": "7a1fdd43-a8c1-4a93-94c8-43f1746b9c23",
   "metadata": {},
   "outputs": [],
   "source": [
    "initial_tools = [t for paper in papers for t in paper_to_tools_dict[paper]]"
   ]
  },
  {
   "cell_type": "code",
   "execution_count": 8,
   "id": "ac0187fd-1414-4eee-8d1a-93f79aed098d",
   "metadata": {},
   "outputs": [],
   "source": [
    "from llama_index.llms.openai import OpenAI\n",
    "llm = OpenAI(model=\"gpt-3.5-turbo\")"
   ]
  },
  {
   "cell_type": "code",
   "execution_count": 9,
   "id": "d1ea3546-5517-4579-8f1c-8951ee0b0125",
   "metadata": {},
   "outputs": [],
   "source": [
    "from llama_index.core.agent import FunctionCallingAgentWorker\n",
    "from llama_index.core.agent import AgentRunner\n",
    "\n",
    "agent_worker = FunctionCallingAgentWorker.from_tools(\n",
    "    initial_tools,\n",
    "    llm=llm\n",
    ")\n",
    "agent = AgentRunner(agent_worker)"
   ]
  },
  {
   "cell_type": "code",
   "execution_count": 10,
   "id": "799d7e3e-a229-4488-8b47-e1906e74687a",
   "metadata": {},
   "outputs": [
    {
     "name": "stderr",
     "output_type": "stream",
     "text": [
      "/opt/anaconda3/lib/python3.11/site-packages/llama_index/core/tools/calling.py:22: RuntimeWarning: coroutine 'run_async_tasks.<locals>._gather' was never awaited\n",
      "  return ToolOutput(\n",
      "RuntimeWarning: Enable tracemalloc to get the object allocation traceback\n",
      "/opt/anaconda3/lib/python3.11/site-packages/llama_index/core/tools/calling.py:22: RuntimeWarning: coroutine 'Dispatcher.span.<locals>.async_wrapper' was never awaited\n",
      "  return ToolOutput(\n",
      "RuntimeWarning: Enable tracemalloc to get the object allocation traceback\n"
     ]
    },
    {
     "name": "stdout",
     "output_type": "stream",
     "text": [
      "assistant: The AatmaNirbhar Bharat-Production Linked Incentive (PLI) Scheme is a government initiative aimed at boosting domestic manufacturing in India by providing incentives to companies to increase their production in certain sectors.\n"
     ]
    }
   ],
   "source": [
    "response =  agent.chat(\"what is AatmaNirbhar Bharat-Production Linked Incentive (PLI) Scheme from UnionBudget2021-22?\")\n",
    "print(response)"
   ]
  },
  {
   "cell_type": "code",
   "execution_count": 12,
   "id": "a6f840da-1b6e-4e95-ab59-a32b1dc61c8a",
   "metadata": {},
   "outputs": [
    {
     "name": "stdout",
     "output_type": "stream",
     "text": [
      "assistant: The sectors covered under the AatmaNirbhar Bharat-Production Linked Incentive (PLI) Scheme include electronics, pharmaceuticals, automobiles and auto components, telecom and networking products, textile products, food products, high-efficiency solar PV modules, white goods like air conditioners and LED lights, specialty steel, and advanced chemistry cell (ACC) battery.\n"
     ]
    }
   ],
   "source": [
    "response =  agent.chat(\"what are those certain sectors ?\")\n",
    "print(response)"
   ]
  },
  {
   "cell_type": "code",
   "execution_count": null,
   "id": "c3016f48-1349-4e75-b790-d36b5703158a",
   "metadata": {},
   "outputs": [],
   "source": []
  }
 ],
 "metadata": {
  "kernelspec": {
   "display_name": "Python 3 (ipykernel)",
   "language": "python",
   "name": "python3"
  },
  "language_info": {
   "codemirror_mode": {
    "name": "ipython",
    "version": 3
   },
   "file_extension": ".py",
   "mimetype": "text/x-python",
   "name": "python",
   "nbconvert_exporter": "python",
   "pygments_lexer": "ipython3",
   "version": "3.11.7"
  }
 },
 "nbformat": 4,
 "nbformat_minor": 5
}
