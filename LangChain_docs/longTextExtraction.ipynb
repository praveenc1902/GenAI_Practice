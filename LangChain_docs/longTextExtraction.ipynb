{
 "cells": [
  {
   "cell_type": "code",
   "execution_count": 1,
   "id": "756b6000-ce5c-434e-8618-e929b6e7bffa",
   "metadata": {},
   "outputs": [],
   "source": [
    "import re\n",
    "import requests\n",
    "from langchain_community.document_loaders import BSHTMLLoader"
   ]
  },
  {
   "cell_type": "code",
   "execution_count": 2,
   "id": "5a281819-114a-4295-9cc6-7615d5fb14d7",
   "metadata": {},
   "outputs": [
    {
     "data": {
      "text/plain": [
       "<Response [200]>"
      ]
     },
     "execution_count": 2,
     "metadata": {},
     "output_type": "execute_result"
    }
   ],
   "source": [
    "response = requests.get(\"https://en.wikipedia.org/wiki/Car\")\n",
    "response"
   ]
  },
  {
   "cell_type": "code",
   "execution_count": 3,
   "id": "be31b8d0-5a48-485f-bcb6-30f17b51e876",
   "metadata": {},
   "outputs": [],
   "source": [
    "with open(\"car.html\", \"w\", encoding=\"utf-8\") as f:\n",
    "    f.write(response.text)"
   ]
  },
  {
   "cell_type": "code",
   "execution_count": 7,
   "id": "ad54c300-84ef-4cf2-bda9-0ab68dfa8380",
   "metadata": {},
   "outputs": [],
   "source": [
    "loader = BSHTMLLoader(\"car.html\")\n",
    "document = loader.load()[0]\n",
    "document.page_content = re.sub(\"\\n\\n+\", \"\\n\", document.page_content)"
   ]
  },
  {
   "cell_type": "code",
   "execution_count": 8,
   "id": "a145e806-973c-4a3b-a7f5-1d002bfc9999",
   "metadata": {},
   "outputs": [],
   "source": [
    "from typing import List, Optional\n",
    "\n",
    "from langchain.chains import create_structured_output_runnable\n",
    "from langchain_core.prompts import ChatPromptTemplate, MessagesPlaceholder\n",
    "from langchain_core.pydantic_v1 import BaseModel, Field\n",
    "from langchain_openai import ChatOpenAI\n",
    "\n"
   ]
  },
  {
   "cell_type": "code",
   "execution_count": 9,
   "id": "91217cb5-a2c9-42a8-9dae-f1301a3c9fd0",
   "metadata": {},
   "outputs": [],
   "source": [
    "class KeyDevelopment(BaseModel):\n",
    "    \"\"\"Information about a development in the history of cars.\"\"\"\n",
    "    year:int = Field(...,description=\"The year when there was an important historic development.\")\n",
    "    description:str = Field(...,description=\"What happened in this year? What was the development?\")\n",
    "    evidence: str = Field(...,description=\"Repeat in verbatim the sentence(s) from which the year and description information were extracted\",)\n",
    "    "
   ]
  },
  {
   "cell_type": "code",
   "execution_count": 11,
   "id": "1a94edef-f60c-457c-9a36-17f064e407f8",
   "metadata": {},
   "outputs": [],
   "source": [
    "class ExtractionData(BaseModel):\n",
    "    key_developments:List[KeyDevelopment]"
   ]
  },
  {
   "cell_type": "code",
   "execution_count": 13,
   "id": "b3db4598-55d2-4ae9-879d-dd952d1ebf0d",
   "metadata": {},
   "outputs": [],
   "source": [
    "prompt = ChatPromptTemplate.from_messages(\n",
    "    [\n",
    "        (\n",
    "            \"system\",\n",
    "            \"You are an expert at identifying key historic development in text. \"\n",
    "            \"Only extract important historic developments. Extract nothing if no important information can be found in the text.\",\n",
    "        ),\n",
    "        (\"human\",\"{text}\"),\n",
    "    ]\n",
    ")"
   ]
  },
  {
   "cell_type": "code",
   "execution_count": 15,
   "id": "3e9dd70f-0c29-4955-883b-d558dd16b5a7",
   "metadata": {},
   "outputs": [],
   "source": [
    "OPENAI_API_KEY = "
   ]
  },
  {
   "cell_type": "code",
   "execution_count": 16,
   "id": "c1623d5c-1082-42a2-a9cb-e1ae8820e53a",
   "metadata": {},
   "outputs": [],
   "source": [
    "llm = ChatOpenAI(openai_api_key = OPENAI_API_KEY)"
   ]
  },
  {
   "cell_type": "code",
   "execution_count": 17,
   "id": "224b92cc-434f-4762-bae5-f2ca6bfce401",
   "metadata": {},
   "outputs": [
    {
     "name": "stderr",
     "output_type": "stream",
     "text": [
      "/opt/anaconda3/lib/python3.11/site-packages/langchain_core/_api/beta_decorator.py:87: LangChainBetaWarning: The function `with_structured_output` is in beta. It is actively being worked on, so the API may change.\n",
      "  warn_beta(\n"
     ]
    }
   ],
   "source": [
    "extractor = prompt | llm.with_structured_output(\n",
    "    schema = ExtractionData,\n",
    "    method = \"function_calling\",\n",
    "    include_raw=False\n",
    ")"
   ]
  },
  {
   "cell_type": "code",
   "execution_count": 18,
   "id": "d8b2ec91-7675-44e7-83cb-bd7c3769a49f",
   "metadata": {},
   "outputs": [],
   "source": [
    "from langchain_text_splitters import TokenTextSplitter\n",
    "\n",
    "text_splitter = TokenTextSplitter(\n",
    "    # Controls the size of each chunk\n",
    "    chunk_size=2000,\n",
    "    # Controls overlap between chunks\n",
    "    chunk_overlap=20,\n",
    ")\n",
    "\n",
    "texts = text_splitter.split_text(document.page_content)"
   ]
  },
  {
   "cell_type": "code",
   "execution_count": 19,
   "id": "79c1b5a7-9a25-48a2-96ee-57fe943241b9",
   "metadata": {},
   "outputs": [],
   "source": [
    "first_few = texts[:10]\n",
    "extractions = extractor.batch(\n",
    "    [{\"text\":text} for text in first_few],\n",
    "    {\"max_concurrency\":5}\n",
    ")"
   ]
  },
  {
   "cell_type": "code",
   "execution_count": 20,
   "id": "d7410963-1fad-4371-9d8b-f71e39133d5e",
   "metadata": {},
   "outputs": [
    {
     "data": {
      "text/plain": [
       "[KeyDevelopment(year=1966, description=\"The Toyota Corolla has been in production since 1966 and is recognized as the world's best-selling automobile.\", evidence=\"The Toyota Corolla has been in production since 1966 and is recognized as the world's best-selling automobile.\"),\n",
       " KeyDevelopment(year=1769, description='Nicolas-Joseph Cugnot built the first full-scale, self-propelled mechanical vehicle, a steam-powered tricycle.', evidence='Nicolas-Joseph Cugnot is widely credited with building the first full-scale, self-propelled mechanical vehicle in about 1769; he created a steam-powered tricycle.'),\n",
       " KeyDevelopment(year=1886, description='German inventor Carl Benz patented the Benz Patent-Motorwagen, considered the first modern car for everyday use.', evidence='In 1886, the German Carl Benz patented his Benz Patent-Motorwagen; he is generally acknowledged as the inventor of the car.'),\n",
       " KeyDevelopment(year=1807, description=\"Nicéphore Niépce and his brother Claude created what was probably the world's first internal combustion engine, installed in a boat on the river Saone in France.\", evidence=\"In 1807, Nicéphore Niépce and his brother Claude created what was probably the world's first internal combustion engine (which they called a Pyréolophore), but installed it in a boat on the river Saone in France.\"),\n",
       " KeyDevelopment(year=1881, description='French inventor Gustave Trouvé demonstrated a three-wheeled car powered by electricity at the International Exposition of Electricity.', evidence='In November 1881, French inventor Gustave Trouvé demonstrated a three-wheeled car powered by electricity at the International Exposition of Electricity.'),\n",
       " KeyDevelopment(year=1888, description=\"Bertha Benz undertook the first road trip by car in August to prove the road-worthiness of her husband's invention\", evidence=\"In August 1888, Bertha Benz, the wife of Carl Benz, undertook the first road trip by car, to prove the road-worthiness of her husband's invention.\"),\n",
       " KeyDevelopment(year=1896, description='Benz designed and patented the first internal-combustion flat engine, called boxermotor', evidence='In 1896, Benz designed and patented the first internal-combustion flat engine, called boxermotor.'),\n",
       " KeyDevelopment(year=1897, description='The first motor car in central Europe and one of the first factory-made cars in the world, the Präsident automobil, was produced by Czech company Nesselsdorfer Wagenbau (later renamed to Tatra)', evidence='The first motor car in central Europe and one of the first factory-made cars in the world, was produced by Czech company Nesselsdorfer Wagenbau (later renamed to Tatra) in 1897, the Präsident automobil.'),\n",
       " KeyDevelopment(year=1897, description='Ransom E. Olds founded Olds Motor Vehicle Company (Oldsmobile), starting large-scale, production-line manufacturing of affordable cars', evidence='Ransom E. Olds founded Olds Motor Vehicle Company (Oldsmobile) in 1897.'),\n",
       " KeyDevelopment(year=1901, description='Ransom Olds started mass production of affordable cars at his Oldsmobile factory in Lansing, Michigan, using assembly line techniques', evidence='Large-scale, production-line manufacturing of affordable cars was started by Ransom Olds in 1901 at his Oldsmobile factory in Lansing, Michigan, and based upon stationary assembly line techniques pioneered by Marc Isambard Brunel at the Portsmouth Block Mills, England, in 1802.'),\n",
       " KeyDevelopment(year=1913, description=\"Henry Ford implemented the world's first moving assembly line for cars at the Highland Park Ford Plant, significantly increasing productivity\", evidence=\"This concept was greatly expanded by Henry Ford, beginning in 1913 with the world's first moving assembly line for cars at the Highland Park Ford Plant.\"),\n",
       " KeyDevelopment(year=1921, description='Citroën became the first native European manufacturer to adopt the production method of assembly lines', evidence='in 1921, Citroën was the first native European manufacturer to adopt the production method.'),\n",
       " KeyDevelopment(year=1924, description=\"Germany's first mass-manufactured car, the Opel 4PS Laubfrosch (Tree Frog), came off the line at Rüsselsheim in 1924, making Opel the top car builder in Germany with 37.5% of the market.\", evidence=\"Germany's first mass-manufactured car, the Opel 4PS Laubfrosch (Tree Frog), came off the line at Rüsselsheim in 1924, soon making Opel the top car builder in Germany, with 37.5% of the market.\"),\n",
       " KeyDevelopment(year=1950, description='Toyota, Nissan, Suzuki, Mazda, and Honda began as companies producing non-automotive products before the war, switching to car production during the 1950s.', evidence='Toyota, Nissan, Suzuki, Mazda, and Honda began as companies producing non-automotive products before the war, switching to car production during the 1950s.'),\n",
       " KeyDevelopment(year=1869, description='Mary Ward became one of the first documented car fatalities in Parsonstown, Ireland.', evidence='Mary Ward became one of the first documented car fatalities in 1869 in Parsonstown, Ireland.'),\n",
       " KeyDevelopment(year=1899, description=\"Henry Bliss one of the US's first pedestrian car casualties in 1899 in New York City.\", evidence=\"Henry Bliss one of the US's first pedestrian car casualties in 1899 in New York City.\"),\n",
       " KeyDevelopment(year=1920, description='Cars had the benefit of providing couples a way to head off on unchaperoned dates and a private space for intimacy.', evidence=\"During the 1920s, cars had another benefit: '[c]ouples finally had a way to head off on unchaperoned dates, plus they had a private space to snuggle up close at the end of the night.'\"),\n",
       " KeyDevelopment(year=1885, description='The first automobile was invented.', evidence='1885-1886. The first automobile. Daimler. Archived from the original on 21 October 2018. Retrieved 30 July 2021.'),\n",
       " KeyDevelopment(year=1907, description='Henry Ford posing in a Ford-Lenoir automobile.', evidence='Henry Ford posing in Ford-Lenoir automobile. detroit public library. Archived from the original on 20 February 2023. Retrieved 20 February 2023.'),\n",
       " KeyDevelopment(year=2011, description='The Duryea Brothers were mentioned in an article about automobile history on 17 July 2011.', evidence='17 July 2011. ^ \"The Duryea Brothers \\\\/u2013 Automobile History\". Inventors.about.com. 16 September 2010. Archived from the original on 10 July 2012. Retrieved 17 July 2011.')]"
      ]
     },
     "execution_count": 20,
     "metadata": {},
     "output_type": "execute_result"
    }
   ],
   "source": [
    "key_developments = []\n",
    "\n",
    "for extraction in extractions:\n",
    "    key_developments.extend(extraction.key_developments)\n",
    "\n",
    "key_developments[:20]"
   ]
  },
  {
   "cell_type": "code",
   "execution_count": null,
   "id": "c1efe2c8-8e4a-4633-b38d-fab5b380fed8",
   "metadata": {},
   "outputs": [],
   "source": []
  }
 ],
 "metadata": {
  "kernelspec": {
   "display_name": "Python 3 (ipykernel)",
   "language": "python",
   "name": "python3"
  },
  "language_info": {
   "codemirror_mode": {
    "name": "ipython",
    "version": 3
   },
   "file_extension": ".py",
   "mimetype": "text/x-python",
   "name": "python",
   "nbconvert_exporter": "python",
   "pygments_lexer": "ipython3",
   "version": "3.11.7"
  }
 },
 "nbformat": 4,
 "nbformat_minor": 5
}
