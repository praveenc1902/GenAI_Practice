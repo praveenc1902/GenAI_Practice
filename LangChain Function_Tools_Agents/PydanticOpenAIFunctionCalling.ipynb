{
 "cells": [
  {
   "cell_type": "code",
   "execution_count": 23,
   "id": "c34e4e01-e9bb-47ed-9e57-dcc63631e0f6",
   "metadata": {},
   "outputs": [
    {
     "name": "stdout",
     "output_type": "stream",
     "text": [
      "env: OPENAI_API_KEY=\n"
     ]
    }
   ],
   "source": [
    "%set_env OPENAI_API_KEY="
   ]
  },
  {
   "cell_type": "code",
   "execution_count": 24,
   "id": "bdcb81a0-5e40-49b0-bde1-aeaee165d1e2",
   "metadata": {},
   "outputs": [],
   "source": [
    "from typing import List\n",
    "from pydantic import BaseModel, Field"
   ]
  },
  {
   "cell_type": "code",
   "execution_count": 2,
   "id": "36789fa1-06bb-4a61-a564-57fbc96671ff",
   "metadata": {},
   "outputs": [],
   "source": [
    "class WeatherSearch(BaseModel):\n",
    "    \"\"\"Call this with an airport code to get the weather at that airport\"\"\"\n",
    "    airport_code:str = Field(description=\"airport code to get the weather for\")"
   ]
  },
  {
   "cell_type": "code",
   "execution_count": 3,
   "id": "997e0fa8-7d95-45eb-b5f8-36bcf58bd5c1",
   "metadata": {},
   "outputs": [],
   "source": [
    "from langchain.utils.openai_functions import convert_pydantic_to_openai_function"
   ]
  },
  {
   "cell_type": "code",
   "execution_count": 4,
   "id": "e2362ad7-4746-4221-a08b-e4dae59fc417",
   "metadata": {},
   "outputs": [
    {
     "name": "stderr",
     "output_type": "stream",
     "text": [
      "/opt/anaconda3/lib/python3.11/site-packages/langchain_core/_api/deprecation.py:117: LangChainDeprecationWarning: The function `convert_pydantic_to_openai_function` was deprecated in LangChain 0.1.16 and will be removed in 0.2.0. Use langchain_core.utils.function_calling.convert_to_openai_function() instead.\n",
      "  warn_deprecated(\n"
     ]
    }
   ],
   "source": [
    "weather_function = convert_pydantic_to_openai_function(WeatherSearch)"
   ]
  },
  {
   "cell_type": "code",
   "execution_count": 5,
   "id": "3584ce90-d7bf-4d21-8ef9-4b2eab07bcc4",
   "metadata": {},
   "outputs": [
    {
     "data": {
      "text/plain": [
       "{'name': 'WeatherSearch',\n",
       " 'description': 'Call this with an airport code to get the weather at that airport',\n",
       " 'parameters': {'type': 'object',\n",
       "  'properties': {'airport_code': {'description': 'airport code to get the weather for',\n",
       "    'type': 'string'}},\n",
       "  'required': ['airport_code']}}"
      ]
     },
     "execution_count": 5,
     "metadata": {},
     "output_type": "execute_result"
    }
   ],
   "source": [
    "weather_function"
   ]
  },
  {
   "cell_type": "code",
   "execution_count": 6,
   "id": "43d773c5-da50-42b4-998c-fdee73c50847",
   "metadata": {},
   "outputs": [],
   "source": [
    "from langchain.chat_models import ChatOpenAI"
   ]
  },
  {
   "cell_type": "code",
   "execution_count": 8,
   "id": "1b7420fc-672d-4bed-8383-5cb496f15bf6",
   "metadata": {},
   "outputs": [
    {
     "name": "stderr",
     "output_type": "stream",
     "text": [
      "/opt/anaconda3/lib/python3.11/site-packages/langchain_core/_api/deprecation.py:117: LangChainDeprecationWarning: The class `langchain_community.chat_models.openai.ChatOpenAI` was deprecated in langchain-community 0.0.10 and will be removed in 0.2.0. An updated version of the class exists in the langchain-openai package and should be used instead. To use it run `pip install -U langchain-openai` and import as `from langchain_openai import ChatOpenAI`.\n",
      "  warn_deprecated(\n"
     ]
    }
   ],
   "source": [
    "model = ChatOpenAI()"
   ]
  },
  {
   "cell_type": "code",
   "execution_count": 9,
   "id": "8f73b9bc-6ff3-4d7d-a9c1-21e4c280d0a6",
   "metadata": {},
   "outputs": [
    {
     "data": {
      "text/plain": [
       "AIMessage(content='', additional_kwargs={'function_call': {'arguments': '{\"airport_code\":\"SFO\"}', 'name': 'WeatherSearch'}}, response_metadata={'token_usage': {'completion_tokens': 17, 'prompt_tokens': 71, 'total_tokens': 88}, 'model_name': 'gpt-3.5-turbo', 'system_fingerprint': 'fp_3b956da36b', 'finish_reason': 'function_call', 'logprobs': None}, id='run-0943bd0c-7acf-4753-83de-7480b99a07b1-0')"
      ]
     },
     "execution_count": 9,
     "metadata": {},
     "output_type": "execute_result"
    }
   ],
   "source": [
    "model.invoke(\"what is the weather in SF today?\",functions=[weather_function])"
   ]
  },
  {
   "cell_type": "code",
   "execution_count": 10,
   "id": "92167a19-c023-463f-8563-70d92927ae71",
   "metadata": {},
   "outputs": [],
   "source": [
    "#OR "
   ]
  },
  {
   "cell_type": "code",
   "execution_count": 14,
   "id": "c7b196b0-064d-479c-824b-056113b22950",
   "metadata": {},
   "outputs": [],
   "source": [
    "model_with_bind = model.bind(functions=[weather_function])"
   ]
  },
  {
   "cell_type": "code",
   "execution_count": 15,
   "id": "49f7ff2d-41fa-4bc0-ab26-cd8c7087a869",
   "metadata": {},
   "outputs": [
    {
     "data": {
      "text/plain": [
       "AIMessage(content='', additional_kwargs={'function_call': {'arguments': '{\"airport_code\":\"SFO\"}', 'name': 'WeatherSearch'}}, response_metadata={'token_usage': {'completion_tokens': 17, 'prompt_tokens': 71, 'total_tokens': 88}, 'model_name': 'gpt-3.5-turbo', 'system_fingerprint': 'fp_3b956da36b', 'finish_reason': 'function_call', 'logprobs': None}, id='run-6fca00c0-55bf-449b-bf1f-5f7500a2e911-0')"
      ]
     },
     "execution_count": 15,
     "metadata": {},
     "output_type": "execute_result"
    }
   ],
   "source": [
    "model_with_bind.invoke(\"what is the weather in SF today?\")"
   ]
  },
  {
   "cell_type": "code",
   "execution_count": 16,
   "id": "a6e34720-bb38-4429-8334-e9e1dc7ebc45",
   "metadata": {},
   "outputs": [],
   "source": [
    "from langchain.prompts import ChatPromptTemplate"
   ]
  },
  {
   "cell_type": "code",
   "execution_count": 17,
   "id": "0e19a840-72d1-4642-9fba-7e71ec4421b1",
   "metadata": {},
   "outputs": [],
   "source": [
    "prompt =  ChatPromptTemplate.from_messages(\n",
    "    [\n",
    "        (\"system\",\"you are an helpful assistant\"),\n",
    "        (\"user\",\"{input}\")\n",
    "    ]\n",
    ")\n",
    "\n",
    "chain = prompt | model"
   ]
  },
  {
   "cell_type": "code",
   "execution_count": 18,
   "id": "1d808778-e40a-4ea1-8e55-3fe62060f139",
   "metadata": {},
   "outputs": [
    {
     "data": {
      "text/plain": [
       "AIMessage(content=\"I'm sorry, but I do not have real-time information. You can check the weather in San Francisco by using a weather website or app such as Weather.com or AccuWeather.\", response_metadata={'token_usage': {'completion_tokens': 37, 'prompt_tokens': 25, 'total_tokens': 62}, 'model_name': 'gpt-3.5-turbo', 'system_fingerprint': 'fp_3b956da36b', 'finish_reason': 'stop', 'logprobs': None}, id='run-9ac9f478-be76-42ac-9ac3-28ce467fea73-0')"
      ]
     },
     "execution_count": 18,
     "metadata": {},
     "output_type": "execute_result"
    }
   ],
   "source": [
    "chain.invoke({\"input\":\"what is the weather in sanfransisco\"})"
   ]
  },
  {
   "cell_type": "code",
   "execution_count": 19,
   "id": "30750a1d-f2b2-4da7-9c52-34d04c98c285",
   "metadata": {},
   "outputs": [],
   "source": [
    "chain2 = prompt | model_with_bind"
   ]
  },
  {
   "cell_type": "code",
   "execution_count": 20,
   "id": "04850ead-6083-4873-90b6-f200109a9bfe",
   "metadata": {},
   "outputs": [
    {
     "data": {
      "text/plain": [
       "AIMessage(content='', additional_kwargs={'function_call': {'arguments': '{\"airport_code\":\"SFO\"}', 'name': 'WeatherSearch'}}, response_metadata={'token_usage': {'completion_tokens': 17, 'prompt_tokens': 78, 'total_tokens': 95}, 'model_name': 'gpt-3.5-turbo', 'system_fingerprint': 'fp_3b956da36b', 'finish_reason': 'function_call', 'logprobs': None}, id='run-c09f8688-120a-48b5-8e0e-cc5a695c055b-0')"
      ]
     },
     "execution_count": 20,
     "metadata": {},
     "output_type": "execute_result"
    }
   ],
   "source": [
    "chain2.invoke({\"input\":\"what is the weather in sanfransisco\"})"
   ]
  },
  {
   "cell_type": "code",
   "execution_count": null,
   "id": "0f395671-d8e8-497a-afdc-8d4fbe73899f",
   "metadata": {},
   "outputs": [],
   "source": []
  }
 ],
 "metadata": {
  "kernelspec": {
   "display_name": "Python 3 (ipykernel)",
   "language": "python",
   "name": "python3"
  },
  "language_info": {
   "codemirror_mode": {
    "name": "ipython",
    "version": 3
   },
   "file_extension": ".py",
   "mimetype": "text/x-python",
   "name": "python",
   "nbconvert_exporter": "python",
   "pygments_lexer": "ipython3",
   "version": "3.11.7"
  }
 },
 "nbformat": 4,
 "nbformat_minor": 5
}
