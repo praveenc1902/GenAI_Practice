{
 "cells": [
  {
   "cell_type": "code",
   "execution_count": 1,
   "id": "910c28c6-04c9-47b3-8038-76d87b8e75cb",
   "metadata": {},
   "outputs": [],
   "source": [
    "from langgraph.graph import StateGraph, END\n",
    "from typing import TypedDict, Annotated\n",
    "import operator\n",
    "from langchain_core.messages import AnyMessage, SystemMessage, HumanMessage, ToolMessage\n",
    "from langchain_openai import ChatOpenAI\n",
    "from langchain_community.tools.tavily_search import TavilySearchResults"
   ]
  },
  {
   "cell_type": "code",
   "execution_count": 30,
   "id": "139964d6-2c5e-48b0-ad19-5df612a62c40",
   "metadata": {},
   "outputs": [
    {
     "name": "stdout",
     "output_type": "stream",
     "text": [
      "env: OPENAI_API_KEY=\n",
      "env: TAVILY_API_KEY=\n"
     ]
    }
   ],
   "source": [
    "%set_env OPENAI_API_KEY=\n",
    "%set_env TAVILY_API_KEY="
   ]
  },
  {
   "cell_type": "code",
   "execution_count": 3,
   "id": "c3686a62-2a82-4d99-99b6-393281730b39",
   "metadata": {},
   "outputs": [],
   "source": [
    "tool = TavilySearchResults()"
   ]
  },
  {
   "cell_type": "code",
   "execution_count": 5,
   "id": "f086a267-0021-4688-850b-84f83905f055",
   "metadata": {},
   "outputs": [],
   "source": [
    "class AgentState(TypedDict):\n",
    "    messages:Annotated[list[AnyMessage],operator.add]"
   ]
  },
  {
   "cell_type": "code",
   "execution_count": 6,
   "id": "6b0a2195-5466-45f0-be68-bb87ab3c0346",
   "metadata": {},
   "outputs": [],
   "source": [
    "from langgraph.checkpoint.sqlite import SqliteSaver\n",
    "memory = SqliteSaver.from_conn_string(\":memory:\")"
   ]
  },
  {
   "cell_type": "code",
   "execution_count": 19,
   "id": "1902d889-171d-41d9-bbe7-8535964e8c3e",
   "metadata": {},
   "outputs": [],
   "source": [
    "class Agent:\n",
    "    def __init__(self,model,tools,checkpointer,system=\"\"):\n",
    "        self.system=system\n",
    "        graph = StateGraph(AgentState)\n",
    "        graph.add_node(\"llm\",self.call_openai)\n",
    "        graph.add_node(\"action\",self.take_action)\n",
    "        graph.add_conditional_edges(\"llm\",self.exists_action,{True:\"action\",False:END})\n",
    "        graph.add_edge(\"action\",\"llm\")\n",
    "        graph.set_entry_point(\"llm\")\n",
    "        self.graph = graph.compile(checkpointer=checkpointer)\n",
    "        self.tools = {t.name:t for t in tools}\n",
    "        self.model = model.bind_tools(tools)\n",
    "\n",
    "    def call_openai(self,state:AgentState):\n",
    "        messages=state['messages']\n",
    "        if self.system:\n",
    "            messages=[SystemMessage(content=self.system)] + messages\n",
    "        message = self.model.invoke(messages)\n",
    "        return {\"messages\":[message]}\n",
    "    def exists_action(self,state:AgentState):\n",
    "        result = state['messages'][-1]\n",
    "        return len(result.tool_calls) > 0\n",
    "\n",
    "    def take_action(self, state: AgentState):\n",
    "        tool_calls = state['messages'][-1].tool_calls\n",
    "        results = []\n",
    "        for t in tool_calls:\n",
    "            print(f\"Calling: {t}\")\n",
    "            result = self.tools[t['name']].invoke(t['args'])\n",
    "            results.append(ToolMessage(tool_call_id=t['id'], name=t['name'], content=str(result)))\n",
    "        print(\"Back to the model!\")\n",
    "        return {'messages': results}"
   ]
  },
  {
   "cell_type": "code",
   "execution_count": 20,
   "id": "09b684d2-7412-4e22-995e-cb63a1fa60f9",
   "metadata": {},
   "outputs": [],
   "source": [
    "prompt = \"\"\"You are a smart research assistant. Use the search engine to look up information. \\\n",
    "You are allowed to make multiple calls (either together or in sequence). \\\n",
    "Only look up information when you are sure of what you want. \\\n",
    "If you need to look up some information before asking a follow up question, you are allowed to do that!\n",
    "\"\"\"\n",
    "model = ChatOpenAI()\n",
    "abot = Agent(model, tools=[tool], checkpointer=memory,system=prompt)"
   ]
  },
  {
   "cell_type": "code",
   "execution_count": 21,
   "id": "934f586a-e8db-4ea3-8de6-8890bf9c543b",
   "metadata": {},
   "outputs": [],
   "source": [
    "]messages = [HumanMessage(content=\"What is the weather in Hyderabad and chennai?\")"
   ]
  },
  {
   "cell_type": "code",
   "execution_count": 22,
   "id": "2b39362f-9b04-4f34-a164-e08d81a5a705",
   "metadata": {},
   "outputs": [],
   "source": [
    "thread = {\"configurable\":{\"thread_id\":\"1\"}}"
   ]
  },
  {
   "cell_type": "code",
   "execution_count": 23,
   "id": "11e1a524-15dd-4a96-831c-076d460157e8",
   "metadata": {},
   "outputs": [
    {
     "name": "stdout",
     "output_type": "stream",
     "text": [
      "[AIMessage(content='', additional_kwargs={'tool_calls': [{'id': 'call_u8qdSfFe3GEkGUCJmkjpA9aL', 'function': {'arguments': '{\"query\": \"weather in Hyderabad\"}', 'name': 'tavily_search_results_json'}, 'type': 'function'}, {'id': 'call_x6LmHjYv7zfM7Ff3aoe3iNFN', 'function': {'arguments': '{\"query\": \"weather in Chennai\"}', 'name': 'tavily_search_results_json'}, 'type': 'function'}]}, response_metadata={'token_usage': {'completion_tokens': 55, 'prompt_tokens': 156, 'total_tokens': 211}, 'model_name': 'gpt-3.5-turbo', 'system_fingerprint': None, 'finish_reason': 'tool_calls', 'logprobs': None}, id='run-927d4d0e-c8d3-475d-9076-a6b0fa896cfe-0', tool_calls=[{'name': 'tavily_search_results_json', 'args': {'query': 'weather in Hyderabad'}, 'id': 'call_u8qdSfFe3GEkGUCJmkjpA9aL'}, {'name': 'tavily_search_results_json', 'args': {'query': 'weather in Chennai'}, 'id': 'call_x6LmHjYv7zfM7Ff3aoe3iNFN'}])]\n",
      "Calling: {'name': 'tavily_search_results_json', 'args': {'query': 'weather in Hyderabad'}, 'id': 'call_u8qdSfFe3GEkGUCJmkjpA9aL'}\n",
      "Calling: {'name': 'tavily_search_results_json', 'args': {'query': 'weather in Chennai'}, 'id': 'call_x6LmHjYv7zfM7Ff3aoe3iNFN'}\n",
      "Back to the model!\n",
      "[ToolMessage(content='[{\\'url\\': \\'https://www.weatherapi.com/\\', \\'content\\': \"{\\'location\\': {\\'name\\': \\'Hyderabad\\', \\'region\\': \\'Andhra Pradesh\\', \\'country\\': \\'India\\', \\'lat\\': 17.38, \\'lon\\': 78.47, \\'tz_id\\': \\'Asia/Kolkata\\', \\'localtime_epoch\\': 1717687139, \\'localtime\\': \\'2024-06-06 20:48\\'}, \\'current\\': {\\'last_updated_epoch\\': 1717686900, \\'last_updated\\': \\'2024-06-06 20:45\\', \\'temp_c\\': 26.0, \\'temp_f\\': 78.8, \\'is_day\\': 0, \\'condition\\': {\\'text\\': \\'Moderate or heavy rain with thunder\\', \\'icon\\': \\'//cdn.weatherapi.com/weather/64x64/night/389.png\\', \\'code\\': 1276}, \\'wind_mph\\': 2.2, \\'wind_kph\\': 3.6, \\'wind_degree\\': 245, \\'wind_dir\\': \\'WSW\\', \\'pressure_mb\\': 1010.0, \\'pressure_in\\': 29.83, \\'precip_mm\\': 1.11, \\'precip_in\\': 0.04, \\'humidity\\': 89, \\'cloud\\': 100, \\'feelslike_c\\': 28.1, \\'feelslike_f\\': 82.6, \\'windchill_c\\': 26.9, \\'windchill_f\\': 80.3, \\'heatindex_c\\': 29.4, \\'heatindex_f\\': 85.0, \\'dewpoint_c\\': 21.9, \\'dewpoint_f\\': 71.5, \\'vis_km\\': 5.0, \\'vis_miles\\': 3.0, \\'uv\\': 1.0, \\'gust_mph\\': 11.6, \\'gust_kph\\': 18.7}}\"}, {\\'url\\': \\'https://www.weather25.com/asia/india/andhra-pradesh/hyderabad?page=month&month=June\\', \\'content\\': \"The average weather in Hyderabad in June. The weather in Hyderabad in June is very hot. The average temperatures are between 78°F and 91°F, drinking water regularly is advisable. You can expect rain for roughly half of the month of June in Hyderabad. We\\'re expecting roughly 8 to 15 days of rain, so your rubber boots and umbrella are going ...\"}, {\\'url\\': \\'https://www.accuweather.com/en/in/hyderabad/202190/june-weather/202190\\', \\'content\\': \\'Get the monthly weather forecast for Hyderabad, Telangana, India, including daily high/low, historical averages, to help you plan ahead.\\'}, {\\'url\\': \\'https://world-weather.info/forecast/india/hyderabad/june-2024/\\', \\'content\\': \\'Extended weather forecast in Hyderabad. Hourly Week 10 days 14 days 30 days Year. Detailed ⚡ Hyderabad Weather Forecast for June 2024 - day/night 🌡️ temperatures, precipitations - World-Weather.info.\\'}, {\\'url\\': \\'https://www.weathertab.com/en/c/e/06/republic-of-india/telangana/hyderabad/\\', \\'content\\': \\'Temperature Forecast Normal. Avg High Temps 90 to 100 °F. Avg Low Temps 70 to 80 °F. Explore comprehensive June 2024 weather forecasts for Hyderabad, including daily high and low temperatures, precipitation risks, and monthly temperature trends. Featuring detailed day-by-day forecasts, dynamic graphs of daily rain probabilities, and ...\\'}]', name='tavily_search_results_json', tool_call_id='call_u8qdSfFe3GEkGUCJmkjpA9aL'), ToolMessage(content='[{\\'url\\': \\'https://www.weatherapi.com/\\', \\'content\\': \"{\\'location\\': {\\'name\\': \\'Chennai\\', \\'region\\': \\'Tamil Nadu\\', \\'country\\': \\'India\\', \\'lat\\': 13.08, \\'lon\\': 80.28, \\'tz_id\\': \\'Asia/Kolkata\\', \\'localtime_epoch\\': 1717687142, \\'localtime\\': \\'2024-06-06 20:49\\'}, \\'current\\': {\\'last_updated_epoch\\': 1717686900, \\'last_updated\\': \\'2024-06-06 20:45\\', \\'temp_c\\': 26.0, \\'temp_f\\': 78.8, \\'is_day\\': 0, \\'condition\\': {\\'text\\': \\'Moderate or heavy rain with thunder\\', \\'icon\\': \\'//cdn.weatherapi.com/weather/64x64/night/389.png\\', \\'code\\': 1276}, \\'wind_mph\\': 5.6, \\'wind_kph\\': 9.0, \\'wind_degree\\': 270, \\'wind_dir\\': \\'W\\', \\'pressure_mb\\': 1008.0, \\'pressure_in\\': 29.77, \\'precip_mm\\': 0.02, \\'precip_in\\': 0.0, \\'humidity\\': 89, \\'cloud\\': 100, \\'feelslike_c\\': 27.9, \\'feelslike_f\\': 82.1, \\'windchill_c\\': 29.4, \\'windchill_f\\': 84.8, \\'heatindex_c\\': 33.7, \\'heatindex_f\\': 92.7, \\'dewpoint_c\\': 23.5, \\'dewpoint_f\\': 74.4, \\'vis_km\\': 2.5, \\'vis_miles\\': 1.0, \\'uv\\': 1.0, \\'gust_mph\\': 12.3, \\'gust_kph\\': 19.9}}\"}, {\\'url\\': \\'https://world-weather.info/forecast/india/chennai_1/june-2024/\\', \\'content\\': \\'Extended weather forecast in Chennai. Hourly Week 10 days 14 days 30 days Year. Detailed ⚡ Chennai Weather Forecast for June 2024 - day/night 🌡️ temperatures, precipitations - World-Weather.info.\\'}, {\\'url\\': \\'https://www.weathertab.com/en/c/e/06/republic-of-india/state-of-tamil-nadu/chennai/\\', \\'content\\': \\'Avg High Temps 95 to 105 °F. Avg Low Temps 75 to 85 °F. Explore comprehensive June 2024 weather forecasts for Chennai, including daily high and low temperatures, precipitation risks, and monthly temperature trends. Featuring detailed day-by-day forecasts, dynamic graphs of daily rain probabilities, and temperature trends to help you plan ahead.\\'}, {\\'url\\': \\'https://www.weathertab.com/en/d/e/06/republic-of-india/state-of-tamil-nadu/chennai/\\', \\'content\\': \\'Our Chennai, State of Tamil Nādu Daily Weather Forecast for June 2024, developed from a specialized dynamic long-range model, provides precise daily temperature and rainfall predictions. This model, distinct from standard statistical or climatological approaches, is the result of over 50 years of dedicated private research, offering a clearer ...\\'}, {\\'url\\': \\'https://www.weather25.com/asia/india/tamil-nadu/chennai?page=month&month=June\\', \\'content\\': \"The average weather in Chennai in June. The temperatures in Chennai during June are extremely high, between 84°F and hot as 96°F, drinking water regularly is advisable. You can expect about 3 to 8 days of rain in Chennai during the month of June. It\\'s a good idea to bring along your umbrella so that you don\\'t get caught in poor weather.\"}]', name='tavily_search_results_json', tool_call_id='call_x6LmHjYv7zfM7Ff3aoe3iNFN')]\n",
      "[AIMessage(content='The current weather in Hyderabad is 26°C with moderate to heavy rain and thunder. The humidity is at 89%, and the wind speed is 3.6 km/h coming from the WSW direction.\\n\\nIn Chennai, the current temperature is 26°C with moderate to heavy rain and thunder as well. The humidity is also at 89%, and the wind speed is 9.0 km/h coming from the west direction.', response_metadata={'token_usage': {'completion_tokens': 88, 'prompt_tokens': 1858, 'total_tokens': 1946}, 'model_name': 'gpt-3.5-turbo', 'system_fingerprint': None, 'finish_reason': 'stop', 'logprobs': None}, id='run-ab8bd53c-9862-4978-8ab6-78220b9d5d9d-0')]\n"
     ]
    }
   ],
   "source": [
    "for event in abot.graph.stream({\"messages\": messages}, thread):\n",
    "    for v in event.values():\n",
    "        print(v['messages'])"
   ]
  },
  {
   "cell_type": "code",
   "execution_count": 25,
   "id": "4a71d10d-133a-4f99-94bd-034383b3b391",
   "metadata": {},
   "outputs": [
    {
     "name": "stdout",
     "output_type": "stream",
     "text": [
      "[AIMessage(content=\"Chennai has the highest temperature with 26°C compared to Hyderabad's 26°C.\", response_metadata={'token_usage': {'completion_tokens': 19, 'prompt_tokens': 1959, 'total_tokens': 1978}, 'model_name': 'gpt-3.5-turbo', 'system_fingerprint': None, 'finish_reason': 'stop', 'logprobs': None}, id='run-2196c902-6a08-4d35-87b9-03c9c5452e48-0')]\n"
     ]
    }
   ],
   "source": [
    "messages = [HumanMessage(content=\"Which has the highest temperature?\")]\n",
    "for event in abot.graph.stream({\"messages\": messages}, thread):\n",
    "    for v in event.values():\n",
    "        print(v['messages'])"
   ]
  },
  {
   "cell_type": "code",
   "execution_count": 28,
   "id": "2ead7852-10b0-4bd3-8ba1-4a8dbe48f65f",
   "metadata": {},
   "outputs": [
    {
     "name": "stdout",
     "output_type": "stream",
     "text": [
      "[AIMessage(content='', additional_kwargs={'tool_calls': [{'id': 'call_rNPD6yGxx6XEM5DTfXtH8DA6', 'function': {'arguments': '{\"query\":\"temperature in Los Angeles\"}', 'name': 'tavily_search_results_json'}, 'type': 'function'}]}, response_metadata={'token_usage': {'completion_tokens': 21, 'prompt_tokens': 151, 'total_tokens': 172}, 'model_name': 'gpt-3.5-turbo', 'system_fingerprint': None, 'finish_reason': 'tool_calls', 'logprobs': None}, id='run-0ad297f4-8833-417c-b319-c48a3c7f9517-0', tool_calls=[{'name': 'tavily_search_results_json', 'args': {'query': 'temperature in Los Angeles'}, 'id': 'call_rNPD6yGxx6XEM5DTfXtH8DA6'}])]\n",
      "Calling: {'name': 'tavily_search_results_json', 'args': {'query': 'temperature in Los Angeles'}, 'id': 'call_rNPD6yGxx6XEM5DTfXtH8DA6'}\n",
      "Back to the model!\n",
      "[ToolMessage(content='[{\\'url\\': \\'https://www.accuweather.com/en/us/los-angeles/90012/current-weather/347625\\', \\'content\\': \\'Current weather in Los Angeles, CA. Check current conditions in Los Angeles, CA with radar, hourly, and more.\\'}, {\\'url\\': \\'https://www.accuweather.com/en/us/los-angeles/90012/weather-forecast/347625\\', \\'content\\': \\'Get the current and future weather conditions for Los Angeles, CA, including temperature, precipitation, air quality and more. See hourly, 10-day and radar maps for Los Angeles and surrounding areas.\\'}, {\\'url\\': \\'https://www.accuweather.com/en/us/los-angeles/90012/weather-today/347625\\', \\'content\\': \"Los Angeles, CA\\\\nLos Angeles\\\\nCalifornia\\\\nAround the Globe\\\\nAround the Globe\\\\nHurricane Tracker\\\\nSevere Weather\\\\nRadar & Maps\\\\nNews & Features\\\\nAstronomy\\\\nBusiness\\\\nClimate\\\\nHealth\\\\nRecreation\\\\nSports\\\\nTravel\\\\nVideo\\\\nWinter Center\\\\nNight\\\\nHigh Surf Advisory\\\\n2:00 AM Thursday - 6:00 AM Saturday\\\\nWindESE 9 mph\\\\nWind Gusts18 mph\\\\nProbability of Precipitation90%\\\\nProbability of Thunderstorms8%\\\\nPrecipitation0.48 in\\\\nRain0.48 in\\\\nHours of Precipitation6\\\\nHours of Rain6\\\\nCloud Cover94%\\\\nEvening\\\\nOvernight\\\\nSunrise/Sunset\\\\n10 hrs\\\\n31 mins\\\\n11 hrs\\\\n18 mins\\\\nTemperature History\\\\nFurther Ahead\\\\nFurther Ahead\\\\nHourly\\\\nDaily\\\\nMonthly\\\\nAround the Globe\\\\nAround the Globe\\\\nHurricane Tracker\\\\nSevere Weather\\\\nRadar & Maps\\\\nNews\\\\nVideo\\\\nWinter Center\\\\nTop Stories\\\\nWeather Forecasts\\\\nUS spring forecast calls for 6 more weeks of winter for millions\\\\n14 hours ago\\\\nWinter Weather\\\\nUnusual midwinter warmth to challenge records in north-central US\\\\n7 hours ago\\\\nWinter Weather\\\\nAtmospheric rivers to fuel biggest storms of the winter in California\\\\n7 hours ago\\\\nAstronomy\\\\nLeap into February\\'s must-see astronomy events\\\\n15 hours ago\\\\nSevere Weather\\\\nSevere storm, flash flood risk returns to the South to start February\\\\n7 hours ago\\\\nFeatured Stories\\\\nRecreation\\\\nIdeal conditions await at New England ski resorts this weekend\\\\n8 hours ago\\\\nWeather News\\\\n\\'Groundhog Day\\'-inspired celebrity forecasters at their best or worst?\\\\n1 day ago\\\\nWeather News\\\\nKing penguin makes rare visit to South Australian beach\\\\n12 hours ago\\\\nWeather News\\\\nMassachusetts firefighters rescue dog from frozen river\\\\n2 days ago\\\\nWeather News\\\\nResearchers report first sighting of newborn great white shark\\\\n1 day ago\\\\nWeather Near Los Angeles:\\\\nWe have updated our Privacy Policy and Cookie Policy.\\\\n Get AccuWeather alerts as they happen with our browser notifications.\\\\n Notifications Enabled\\\\nThanks! We’ll keep you informed.\"}, {\\'url\\': \\'https://forecast.weather.gov/MapClick.php?lat=33.9436&lon=-118.408\\', \\'content\\': \\'Downtown Los Angeles Weather Station has Moved; Read our Forecast Discussion Here; Current conditions at Los Angeles, Los Angeles International Airport (KLAX) Lat: 33.93806°NLon: 118.38889°WElev: 125.0ft. Mostly Cloudy. 66°F. 19°C. Humidity: 78%: Wind Speed: WSW 12 MPH: Barometer: 29.87 in (1011.51 mb)\\'}, {\\'url\\': \\'https://forecast.weather.gov/zipcity.php?inputstring=Los Angeles,CA\\', \\'content\\': \\'Downtown Los Angeles Weather Station has Moved; Read our Forecast Discussion Here; Current conditions at NA Lat: NA°NLon: NA°WElev: NAft. N/A. Humidity: NA: Wind Speed: NA: Barometer: NA: ... Los Angeles CA 34.05°N 118.25°W (Elev. 377 ft) Last Update: 6:00 pm PDT Jun 4, 2024. Forecast Valid: 6pm PDT Jun 4, 2024-6pm PDT Jun 11, 2024 .\\'}]', name='tavily_search_results_json', tool_call_id='call_rNPD6yGxx6XEM5DTfXtH8DA6')]\n",
      "[AIMessage(content='', additional_kwargs={'tool_calls': [{'id': 'call_eYYhtGCQPFfsRKFHCCPLSr4d', 'function': {'arguments': '{\"query\":\"temperature in New York\"}', 'name': 'tavily_search_results_json'}, 'type': 'function'}]}, response_metadata={'token_usage': {'completion_tokens': 21, 'prompt_tokens': 1071, 'total_tokens': 1092}, 'model_name': 'gpt-3.5-turbo', 'system_fingerprint': None, 'finish_reason': 'tool_calls', 'logprobs': None}, id='run-0213b91d-6cbb-473a-9596-4247bd068f63-0', tool_calls=[{'name': 'tavily_search_results_json', 'args': {'query': 'temperature in New York'}, 'id': 'call_eYYhtGCQPFfsRKFHCCPLSr4d'}])]\n",
      "Calling: {'name': 'tavily_search_results_json', 'args': {'query': 'temperature in New York'}, 'id': 'call_eYYhtGCQPFfsRKFHCCPLSr4d'}\n",
      "Back to the model!\n",
      "[ToolMessage(content='[{\\'url\\': \\'https://forecast.weather.gov/zipcity.php?inputstring=New+York,NY\\', \\'content\\': \\'Low around 68. West wind 6 to 8 mph. Chance of precipitation is 80%. New rainfall amounts between a tenth and quarter of an inch, except higher amounts possible in thunderstorms. Friday. Mostly sunny, with a high near 83. West wind 6 to 15 mph. Friday Night. Partly cloudy, with a low around 63. West wind 7 to 13 mph.\\'}, {\\'url\\': \\'https://www.accuweather.com/en/us/new-york/10021/weather-forecast/14-349727_1_al\\', \\'content\\': \\'Get the current and future weather conditions for New York City, including temperature, precipitation, air quality, and allergy outlook. See the hourly and 10-day forecast for sun, cloud, and storms.\\'}, {\\'url\\': \\'https://www.wunderground.com/forecast/us/ny/new-york-city\\', \\'content\\': \\'Get the current and future temperature, precipitation, humidity, pressure and wind speed for New York City, NY. See the hourly and daily forecast for the next 10 days, as well as the historical and almanac data.\\'}, {\\'url\\': \\'https://www.accuweather.com/en/us/new-york/10021/weather-forecast/349727\\', \\'content\\': \"TODAY’S WEATHER FORECAST\\\\nLooking Ahead\\\\nExpect rainy weather late tonight through tomorrow evening\\\\nTONIGHT’S WEATHER FORECAST\\\\nTOMORROW’S WEATHER FORECAST\\\\nNew York Weather Radar\\\\nFurther Ahead\\\\nHourly\\\\nDaily\\\\nMonthly\\\\nAround the Globe\\\\nHurricane Tracker\\\\nSevere Weather\\\\nRadar & Maps\\\\nNews\\\\nVideo\\\\nWinter Center\\\\nTop Stories\\\\nWinter Weather\\\\nWeekend storm to dish wintry weather to parts of Midwest, Northeast\\\\n3 hours ago\\\\nAstronomy\\\\nGeminids to outshine all other astronomy events in December\\\\n2 days ago\\\\nWeather News\\\\nOfficials release simulated images of man found dead in Lake Mead\\\\n1 day ago\\\\nAstronomy\\\\nFirst ever planet-forming disk spotted around star in another galaxy\\\\n1 day ago\\\\nWeather Forecasts\\\\nAtmospheric river to unleash month’s worth of rain in Northwest\\\\n3 hours ago\\\\nFeatured Stories\\\\nWeather News\\\\nGhostly new figures appear in the waters of the Caribbean\\\\n1 day ago\\\\nWeather News\\\\nResearchers find \\'witch bottles\\' washed up on Texas beaches\\\\n2 days ago\\\\nWeather News\\\\nGiant seamount found is twice the height of world’s tallest building\\\\n1 day ago\\\\nWeather News\\\\n5 Native American inventions that are still used in our modern world\\\\n3 days ago\\\\nHealth\\\\nWalking could lower your risk of type 2 diabetes\\\\n3 days ago\\\\nWeather Near New York:\\\\nWe have updated our Privacy Policy and Cookie Policy. New York, NY\\\\nNew York\\\\nNew York\\\\nAround the Globe\\\\nHurricane Tracker\\\\nSevere Weather\\\\nRadar & Maps\\\\nNews & Features\\\\nAstronomy\\\\nBusiness\\\\nClimate\\\\nHealth\\\\nRecreation\\\\nSports\\\\nTravel\\\\nVideo\\\\nWinter Center\\\\nToday\\\\nCurrent Weather\\\\n6:30 PM\\\\nCurrent Air Quality\\\\nToday\\\\n12/2\\\\nUnhealthy\\\\nHealth effects can be immediately felt by sensitive groups. Based on Current Pollutants\\\\nMore Details\\\\nLearn more at\\\\nUnhealthy\\\\nHealth effects can be immediately felt by sensitive groups. Based on Current Pollutants\\\\nCurrent Air Quality\\\\nOur current air quality index (AQI) provides information on the quality of air that you are breathing and its impact on your health. There are at least six different pollutants that we track that impact the cleanliness of air and your health.\\\\n\"}, {\\'url\\': \\'https://forecast.weather.gov/MapClick.php?lat=40.7145&lon=-74.006\\', \\'content\\': \\'New York City, Central Park (KNYC) Lat: 40.78°NLon: 73.97°WElev: 154ft. Light Rain Fog/Mist. 69°F. 21°C. Humidity: 100%: Wind Speed: Vrbl 5 mph: Barometer: 29.65 in (1003.1 mb) ... Hourly Weather Forecast. National Digital Forecast Database. High Temperature. Chance of Precipitation. ACTIVE ALERTS Toggle menu. Warnings By State; Excessive ...\\'}]', name='tavily_search_results_json', tool_call_id='call_eYYhtGCQPFfsRKFHCCPLSr4d')]\n",
      "[AIMessage(content='The current temperature in Los Angeles is around 66°F, and in New York City, it is around 69°F. So, New York City is slightly warmer than Los Angeles at the moment.', response_metadata={'token_usage': {'completion_tokens': 41, 'prompt_tokens': 2018, 'total_tokens': 2059}, 'model_name': 'gpt-3.5-turbo', 'system_fingerprint': None, 'finish_reason': 'stop', 'logprobs': None}, id='run-5bd38738-bbc1-421c-8248-a6082fa24b1d-0')]\n"
     ]
    }
   ],
   "source": [
    "thread2 = {\"configurable\":{\"thread_id\":\"4\"}}\n",
    "messages = [HumanMessage(content=\"So which is warmer ?\")]\n",
    "for event in abot.graph.stream({\"messages\": messages}, thread2):\n",
    "    for v in event.values():\n",
    "        print(v['messages'])"
   ]
  },
  {
   "cell_type": "code",
   "execution_count": 29,
   "id": "8a53cd2e-91c4-4db9-a12a-d57d80de8ffa",
   "metadata": {},
   "outputs": [
    {
     "name": "stdout",
     "output_type": "stream",
     "text": [
      "[AIMessage(content='Both Hyderabad and Chennai have the same temperature of 26°C, so they are equally warm at the moment.', response_metadata={'token_usage': {'completion_tokens': 23, 'prompt_tokens': 1990, 'total_tokens': 2013}, 'model_name': 'gpt-3.5-turbo', 'system_fingerprint': None, 'finish_reason': 'stop', 'logprobs': None}, id='run-c2dfb03f-79fe-4bba-a0aa-1cebf90a1adb-0')]\n"
     ]
    }
   ],
   "source": [
    "thread2 = {\"configurable\":{\"thread_id\":\"1\"}}\n",
    "messages = [HumanMessage(content=\"So which is warmer ?\")]\n",
    "for event in abot.graph.stream({\"messages\": messages}, thread2):\n",
    "    for v in event.values():\n",
    "        print(v['messages'])"
   ]
  },
  {
   "cell_type": "code",
   "execution_count": null,
   "id": "44bbf3d6-0c27-4c4d-825b-cb399577b597",
   "metadata": {},
   "outputs": [],
   "source": []
  }
 ],
 "metadata": {
  "kernelspec": {
   "display_name": "Python 3 (ipykernel)",
   "language": "python",
   "name": "python3"
  },
  "language_info": {
   "codemirror_mode": {
    "name": "ipython",
    "version": 3
   },
   "file_extension": ".py",
   "mimetype": "text/x-python",
   "name": "python",
   "nbconvert_exporter": "python",
   "pygments_lexer": "ipython3",
   "version": "3.11.7"
  }
 },
 "nbformat": 4,
 "nbformat_minor": 5
}
