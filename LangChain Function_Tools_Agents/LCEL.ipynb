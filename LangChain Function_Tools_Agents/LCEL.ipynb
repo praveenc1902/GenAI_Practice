{
 "cells": [
  {
   "cell_type": "code",
   "execution_count": 3,
   "id": "d334f0c2-3606-47ec-a11a-2df2e1ae8e48",
   "metadata": {},
   "outputs": [
    {
     "name": "stdout",
     "output_type": "stream",
     "text": [
      "Collecting pydantic==1.10.8\n",
      "  Downloading pydantic-1.10.8-cp311-cp311-macosx_11_0_arm64.whl.metadata (146 kB)\n",
      "\u001b[2K     \u001b[90m━━━━━━━━━━━━━━━━━━━━━━━━━━━━━━━━━━━━━━━\u001b[0m \u001b[32m146.4/146.4 kB\u001b[0m \u001b[31m2.9 MB/s\u001b[0m eta \u001b[36m0:00:00\u001b[0m00:01\u001b[0m\n",
      "\u001b[?25hRequirement already satisfied: typing-extensions>=4.2.0 in /opt/anaconda3/lib/python3.11/site-packages (from pydantic==1.10.8) (4.9.0)\n",
      "Downloading pydantic-1.10.8-cp311-cp311-macosx_11_0_arm64.whl (2.5 MB)\n",
      "\u001b[2K   \u001b[90m━━━━━━━━━━━━━━━━━━━━━━━━━━━━━━━━━━━━━━━━\u001b[0m \u001b[32m2.5/2.5 MB\u001b[0m \u001b[31m17.1 MB/s\u001b[0m eta \u001b[36m0:00:00\u001b[0ma \u001b[36m0:00:01\u001b[0m\n",
      "\u001b[?25hInstalling collected packages: pydantic\n",
      "  Attempting uninstall: pydantic\n",
      "    Found existing installation: pydantic 1.10.12\n",
      "    Uninstalling pydantic-1.10.12:\n",
      "      Successfully uninstalled pydantic-1.10.12\n",
      "Successfully installed pydantic-1.10.8\n"
     ]
    }
   ],
   "source": [
    "!pip install pydantic==1.10.8"
   ]
  },
  {
   "cell_type": "code",
   "execution_count": 17,
   "id": "9dbfae3e-6764-42c8-9d91-3316d3baba10",
   "metadata": {},
   "outputs": [
    {
     "name": "stdout",
     "output_type": "stream",
     "text": [
      "Collecting docarray\n",
      "  Using cached docarray-0.40.0-py3-none-any.whl.metadata (36 kB)\n",
      "Requirement already satisfied: numpy>=1.17.3 in /opt/anaconda3/lib/python3.11/site-packages (from docarray) (1.26.4)\n",
      "Requirement already satisfied: orjson>=3.8.2 in /opt/anaconda3/lib/python3.11/site-packages (from docarray) (3.10.0)\n",
      "Requirement already satisfied: pydantic>=1.10.8 in /opt/anaconda3/lib/python3.11/site-packages (from docarray) (1.10.8)\n",
      "Requirement already satisfied: rich>=13.1.0 in /opt/anaconda3/lib/python3.11/site-packages (from docarray) (13.3.5)\n",
      "Requirement already satisfied: types-requests>=2.28.11.6 in /opt/anaconda3/lib/python3.11/site-packages (from docarray) (2.31.0.20240406)\n",
      "Requirement already satisfied: typing-inspect>=0.8.0 in /opt/anaconda3/lib/python3.11/site-packages (from docarray) (0.9.0)\n",
      "Requirement already satisfied: typing-extensions>=4.2.0 in /opt/anaconda3/lib/python3.11/site-packages (from pydantic>=1.10.8->docarray) (4.9.0)\n",
      "Requirement already satisfied: markdown-it-py<3.0.0,>=2.2.0 in /opt/anaconda3/lib/python3.11/site-packages (from rich>=13.1.0->docarray) (2.2.0)\n",
      "Requirement already satisfied: pygments<3.0.0,>=2.13.0 in /opt/anaconda3/lib/python3.11/site-packages (from rich>=13.1.0->docarray) (2.15.1)\n",
      "Requirement already satisfied: urllib3>=2 in /opt/anaconda3/lib/python3.11/site-packages (from types-requests>=2.28.11.6->docarray) (2.0.7)\n",
      "Requirement already satisfied: mypy-extensions>=0.3.0 in /opt/anaconda3/lib/python3.11/site-packages (from typing-inspect>=0.8.0->docarray) (1.0.0)\n",
      "Requirement already satisfied: mdurl~=0.1 in /opt/anaconda3/lib/python3.11/site-packages (from markdown-it-py<3.0.0,>=2.2.0->rich>=13.1.0->docarray) (0.1.0)\n",
      "Using cached docarray-0.40.0-py3-none-any.whl (270 kB)\n",
      "Installing collected packages: docarray\n",
      "Successfully installed docarray-0.40.0\n"
     ]
    }
   ],
   "source": [
    "!pip install docarray"
   ]
  },
  {
   "cell_type": "code",
   "execution_count": 6,
   "id": "4c1fb66f-6a52-4d23-8714-0ab40402d6e0",
   "metadata": {},
   "outputs": [],
   "source": [
    "import openai\n",
    "from langchain.prompts import ChatPromptTemplate\n",
    "from langchain_openai import ChatOpenAI\n",
    "from langchain.schema.output_parser import StrOutputParser"
   ]
  },
  {
   "cell_type": "code",
   "execution_count": 45,
   "id": "79a6ffea-add0-4655-b176-cf0fd5c678a6",
   "metadata": {},
   "outputs": [
    {
     "name": "stdout",
     "output_type": "stream",
     "text": [
      "env: OPENAI_API_KEY=\n"
     ]
    }
   ],
   "source": [
    "%set_env OPENAI_API_KEY="
   ]
  },
  {
   "cell_type": "code",
   "execution_count": 9,
   "id": "4a4aa42e-c9f5-4dec-bb40-37364283e2e3",
   "metadata": {},
   "outputs": [],
   "source": [
    "prompt = ChatPromptTemplate.from_template(\n",
    "    \"tell me a joke about {topic}\"\n",
    ")\n",
    "model = ChatOpenAI()\n",
    "parser = StrOutputParser()"
   ]
  },
  {
   "cell_type": "code",
   "execution_count": 10,
   "id": "a821d06e-64d8-4c79-a7ca-0ef3a1769b87",
   "metadata": {},
   "outputs": [],
   "source": [
    "chain = prompt | model | parser"
   ]
  },
  {
   "cell_type": "code",
   "execution_count": 14,
   "id": "9a401dba-3022-4a68-850e-2496910ae901",
   "metadata": {},
   "outputs": [
    {
     "data": {
      "text/plain": [
       "'Why did the wife run away with the vacuum cleaner?\\n\\nBecause it sucked all the joy out of her marriage!'"
      ]
     },
     "execution_count": 14,
     "metadata": {},
     "output_type": "execute_result"
    }
   ],
   "source": [
    "chain.invoke({'topic':'wife'})"
   ]
  },
  {
   "cell_type": "code",
   "execution_count": 15,
   "id": "cc65e3aa-83f3-4148-8a2b-57f76412fa4e",
   "metadata": {},
   "outputs": [],
   "source": [
    "########"
   ]
  },
  {
   "cell_type": "code",
   "execution_count": 18,
   "id": "8b4ebf47-411f-4472-8ff7-3c032a193213",
   "metadata": {},
   "outputs": [],
   "source": [
    "from langchain.embeddings import OpenAIEmbeddings\n",
    "from langchain.vectorstores import DocArrayInMemorySearch\n",
    "vectorstore = DocArrayInMemorySearch.from_texts(\n",
    "    [\"harrison worked at kensho\", \"bears like to eat honey\"],\n",
    "    embedding=OpenAIEmbeddings()\n",
    ")\n",
    "retriever = vectorstore.as_retriever()\n",
    "template = \"\"\"Answer the question based only on the following context:\n",
    "{context}\n",
    "\n",
    "Question: {question}\n",
    "\"\"\"\n",
    "prompt = ChatPromptTemplate.from_template(template)\n",
    "chain=prompt | model | parser"
   ]
  },
  {
   "cell_type": "code",
   "execution_count": 24,
   "id": "0d0bddf8-a278-4724-bd58-6da5a5adba0f",
   "metadata": {},
   "outputs": [
    {
     "data": {
      "text/plain": [
       "'There is no information provided in the context to answer the question about what bear likes to eat.'"
      ]
     },
     "execution_count": 24,
     "metadata": {},
     "output_type": "execute_result"
    }
   ],
   "source": [
    "chain.invoke({\"context\":lambda x: retriever.get_relevant_documents(x[\"question\"]),\"question\":\"what bear likes to eat\"})"
   ]
  },
  {
   "cell_type": "code",
   "execution_count": 25,
   "id": "9051becd-2258-48b1-b88d-14ae1556e896",
   "metadata": {},
   "outputs": [],
   "source": [
    "#######above did not work "
   ]
  },
  {
   "cell_type": "code",
   "execution_count": 26,
   "id": "c7f49c5a-b721-4e1f-8dda-d1f037862eb1",
   "metadata": {},
   "outputs": [],
   "source": [
    "from langchain.embeddings import OpenAIEmbeddings\n",
    "from langchain.vectorstores import DocArrayInMemorySearch\n",
    "vectorstore = DocArrayInMemorySearch.from_texts(\n",
    "    [\"harrison worked at kensho\", \"bears like to eat honey\"],\n",
    "    embedding=OpenAIEmbeddings()\n",
    ")\n",
    "retriever = vectorstore.as_retriever()"
   ]
  },
  {
   "cell_type": "code",
   "execution_count": 27,
   "id": "9a49f760-d86b-4eec-8ed7-e179c2573c76",
   "metadata": {},
   "outputs": [],
   "source": [
    "from langchain.schema.runnable import RunnableMap"
   ]
  },
  {
   "cell_type": "code",
   "execution_count": 31,
   "id": "a79fce81-2401-4d70-b0ca-7b7f5fac8f0d",
   "metadata": {},
   "outputs": [],
   "source": [
    "chain = RunnableMap({\"context\":lambda x: retriever.get_relevant_documents(x['question']),\n",
    "                    \"question\":lambda x: x[\"question\"]}) | prompt | model | parser"
   ]
  },
  {
   "cell_type": "code",
   "execution_count": 32,
   "id": "0aad8f84-d42f-4f5c-b78a-28d15d9588f8",
   "metadata": {},
   "outputs": [
    {
     "data": {
      "text/plain": [
       "'Harrison worked at Kensho.'"
      ]
     },
     "execution_count": 32,
     "metadata": {},
     "output_type": "execute_result"
    }
   ],
   "source": [
    "chain.invoke({\"question\":\"where did harrision work\"})"
   ]
  },
  {
   "cell_type": "code",
   "execution_count": 33,
   "id": "fbc84616-93aa-463f-825e-21c5610e7578",
   "metadata": {},
   "outputs": [],
   "source": [
    "######Bind"
   ]
  },
  {
   "cell_type": "code",
   "execution_count": 34,
   "id": "04e7772d-4c8e-455e-baf4-dfb3deb969ca",
   "metadata": {},
   "outputs": [],
   "source": [
    "functions = [\n",
    "    {\n",
    "      \"name\": \"weather_search\",\n",
    "      \"description\": \"Search for weather given an airport code\",\n",
    "      \"parameters\": {\n",
    "        \"type\": \"object\",\n",
    "        \"properties\": {\n",
    "          \"airport_code\": {\n",
    "            \"type\": \"string\",\n",
    "            \"description\": \"The airport code to get the weather for\"\n",
    "          },\n",
    "        },\n",
    "        \"required\": [\"airport_code\"]\n",
    "      }\n",
    "    }\n",
    "  ]"
   ]
  },
  {
   "cell_type": "code",
   "execution_count": 35,
   "id": "d1a73278-e3e4-4ee5-ae48-f40bf8848579",
   "metadata": {},
   "outputs": [],
   "source": [
    "prompt = ChatPromptTemplate.from_messages([\n",
    "    (\"human\",\"{input}\")\n",
    "])"
   ]
  },
  {
   "cell_type": "code",
   "execution_count": 36,
   "id": "54d97ce9-279a-449d-ba27-69e310e990bc",
   "metadata": {},
   "outputs": [],
   "source": [
    "model = ChatOpenAI().bind(functions=functions)"
   ]
  },
  {
   "cell_type": "code",
   "execution_count": 37,
   "id": "9c2e9992-2ba4-40e9-87e3-94e353d7f166",
   "metadata": {},
   "outputs": [],
   "source": [
    "chain = prompt | model"
   ]
  },
  {
   "cell_type": "code",
   "execution_count": 38,
   "id": "8d8ebd64-5046-4b1b-882d-fd48c8f1e205",
   "metadata": {},
   "outputs": [
    {
     "data": {
      "text/plain": [
       "AIMessage(content='', additional_kwargs={'function_call': {'arguments': '{\"airport_code\":\"HYD\"}', 'name': 'weather_search'}}, response_metadata={'token_usage': {'completion_tokens': 16, 'prompt_tokens': 65, 'total_tokens': 81}, 'model_name': 'gpt-3.5-turbo', 'system_fingerprint': 'fp_3b956da36b', 'finish_reason': 'function_call', 'logprobs': None}, id='run-a18f0eb9-b2ae-4ce7-a890-c9a2e584f463-0')"
      ]
     },
     "execution_count": 38,
     "metadata": {},
     "output_type": "execute_result"
    }
   ],
   "source": [
    "chain.invoke({\"input\":\"what is the weather in Hyderabad india\"})"
   ]
  },
  {
   "cell_type": "code",
   "execution_count": 39,
   "id": "3af68f0a-e77a-430f-9dc8-9979cfe64fc1",
   "metadata": {},
   "outputs": [
    {
     "data": {
      "text/plain": [
       "AIMessage(content=\"I'm sorry, but I am not able to access or retrieve your name. How can I assist you today?\", response_metadata={'token_usage': {'completion_tokens': 24, 'prompt_tokens': 63, 'total_tokens': 87}, 'model_name': 'gpt-3.5-turbo', 'system_fingerprint': 'fp_3b956da36b', 'finish_reason': 'stop', 'logprobs': None}, id='run-7ba56c07-8010-4cce-bc51-f1923b0922cd-0')"
      ]
     },
     "execution_count": 39,
     "metadata": {},
     "output_type": "execute_result"
    }
   ],
   "source": [
    "chain.invoke({\"input\":\"what is the my name\"})"
   ]
  },
  {
   "cell_type": "code",
   "execution_count": 40,
   "id": "1d6e69d0-2fd1-4e01-ac80-e31aad1d463d",
   "metadata": {},
   "outputs": [],
   "source": [
    "functions = [\n",
    "    {\n",
    "      \"name\": \"weather_search\",\n",
    "      \"description\": \"Search for weather given an airport code\",\n",
    "      \"parameters\": {\n",
    "        \"type\": \"object\",\n",
    "        \"properties\": {\n",
    "          \"airport_code\": {\n",
    "            \"type\": \"string\",\n",
    "            \"description\": \"The airport code to get the weather for\"\n",
    "          },\n",
    "        },\n",
    "        \"required\": [\"airport_code\"]\n",
    "      }\n",
    "    },\n",
    "        {\n",
    "      \"name\": \"sports_search\",\n",
    "      \"description\": \"Search for news of recent sport events\",\n",
    "      \"parameters\": {\n",
    "        \"type\": \"object\",\n",
    "        \"properties\": {\n",
    "          \"team_name\": {\n",
    "            \"type\": \"string\",\n",
    "            \"description\": \"The sports team to search for\"\n",
    "          },\n",
    "        },\n",
    "        \"required\": [\"team_name\"]\n",
    "      }\n",
    "    }\n",
    "  ]"
   ]
  },
  {
   "cell_type": "code",
   "execution_count": 41,
   "id": "32e15224-0207-4fdd-904d-5b41e46de8a2",
   "metadata": {},
   "outputs": [],
   "source": [
    "model = ChatOpenAI().bind(functions=functions)"
   ]
  },
  {
   "cell_type": "code",
   "execution_count": 42,
   "id": "163b46a6-439c-4e84-9a68-858cef1271b3",
   "metadata": {},
   "outputs": [],
   "source": [
    "chain = prompt | model"
   ]
  },
  {
   "cell_type": "code",
   "execution_count": 43,
   "id": "6296605b-db5d-467e-990c-b13bf0eb06cb",
   "metadata": {},
   "outputs": [
    {
     "data": {
      "text/plain": [
       "AIMessage(content='', additional_kwargs={'function_call': {'arguments': '{\"team_name\":\"RCB\"}', 'name': 'sports_search'}}, response_metadata={'token_usage': {'completion_tokens': 17, 'prompt_tokens': 99, 'total_tokens': 116}, 'model_name': 'gpt-3.5-turbo', 'system_fingerprint': 'fp_3b956da36b', 'finish_reason': 'function_call', 'logprobs': None}, id='run-054af0d0-1796-4899-9ee7-1084d8f3ffcc-0')"
      ]
     },
     "execution_count": 43,
     "metadata": {},
     "output_type": "execute_result"
    }
   ],
   "source": [
    "chain.invoke({\"input\":\"how did IPL Team RCB did today\"})"
   ]
  },
  {
   "cell_type": "code",
   "execution_count": null,
   "id": "3f8f63ca-0b85-434f-a1a8-7c9d5e64d64a",
   "metadata": {},
   "outputs": [],
   "source": []
  }
 ],
 "metadata": {
  "kernelspec": {
   "display_name": "Python 3 (ipykernel)",
   "language": "python",
   "name": "python3"
  },
  "language_info": {
   "codemirror_mode": {
    "name": "ipython",
    "version": 3
   },
   "file_extension": ".py",
   "mimetype": "text/x-python",
   "name": "python",
   "nbconvert_exporter": "python",
   "pygments_lexer": "ipython3",
   "version": "3.11.7"
  }
 },
 "nbformat": 4,
 "nbformat_minor": 5
}
