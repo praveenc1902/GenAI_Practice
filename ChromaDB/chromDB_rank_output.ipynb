{
 "cells": [
  {
   "cell_type": "code",
   "execution_count": 1,
   "id": "7e5e7286-a416-4fd9-84c3-2583d3c35635",
   "metadata": {},
   "outputs": [],
   "source": [
    "import chromadb\n",
    "\n",
    "from langchain.text_splitter import RecursiveCharacterTextSplitter, SentenceTransformersTokenTextSplitter\n",
    "import numpy as np\n",
    "from pypdf import PdfReader\n",
    "from tqdm import tqdm"
   ]
  },
  {
   "cell_type": "code",
   "execution_count": 2,
   "id": "5137bd0f-6f1d-4b53-b341-e23df14dc39a",
   "metadata": {},
   "outputs": [],
   "source": [
    "## helper\n",
    "\n",
    "def _read_pdf(filename):\n",
    "    reader = PdfReader(filename)\n",
    "    \n",
    "    pdf_texts = [p.extract_text().strip() for p in reader.pages]\n",
    "\n",
    "    # Filter the empty strings\n",
    "    pdf_texts = [text for text in pdf_texts if text]\n",
    "    return pdf_texts\n",
    "\n",
    "\n",
    "def _chunk_texts(texts):\n",
    "    character_splitter = RecursiveCharacterTextSplitter(\n",
    "        separators=[\"\\n\\n\", \"\\n\", \". \", \" \", \"\"],\n",
    "        chunk_size=1000,\n",
    "        chunk_overlap=0\n",
    "    )\n",
    "    character_split_texts = character_splitter.split_text('\\n\\n'.join(texts))\n",
    "\n",
    "    token_splitter = SentenceTransformersTokenTextSplitter(chunk_overlap=0, tokens_per_chunk=256)\n",
    "\n",
    "    token_split_texts = []\n",
    "    for text in character_split_texts:\n",
    "        token_split_texts += token_splitter.split_text(text)\n",
    "\n",
    "    return token_split_texts\n",
    "\n",
    "\n",
    "def load_chroma(filename, collection_name, embedding_function):\n",
    "    texts = _read_pdf(filename)\n",
    "    chunks = _chunk_texts(texts)\n",
    "\n",
    "    chroma_cliet = chromadb.Client()\n",
    "    chroma_collection = chroma_cliet.create_collection(name=collection_name, embedding_function=embedding_function)\n",
    "\n",
    "    ids = [str(i) for i in range(len(chunks))]\n",
    "\n",
    "    chroma_collection.add(ids=ids, documents=chunks)\n",
    "\n",
    "    return chroma_collection\n",
    "\n",
    "def word_wrap(string, n_chars=72):\n",
    "    # Wrap a string at the next space after n_chars\n",
    "    if len(string) < n_chars:\n",
    "        return string\n",
    "    else:\n",
    "        return string[:n_chars].rsplit(' ', 1)[0] + '\\n' + word_wrap(string[len(string[:n_chars].rsplit(' ', 1)[0])+1:], n_chars)\n",
    "\n",
    "   \n",
    "def project_embeddings(embeddings, umap_transform):\n",
    "    umap_embeddings = np.empty((len(embeddings),2))\n",
    "    for i, embedding in enumerate(tqdm(embeddings)): \n",
    "        umap_embeddings[i] = umap_transform.transform([embedding])\n",
    "    return umap_embeddings"
   ]
  },
  {
   "cell_type": "code",
   "execution_count": 6,
   "id": "9ecb0344-c51c-4467-8def-3bb43741d9f2",
   "metadata": {},
   "outputs": [],
   "source": [
    "\n",
    "from chromadb.utils.embedding_functions import SentenceTransformerEmbeddingFunction\n",
    "import numpy as np"
   ]
  },
  {
   "cell_type": "code",
   "execution_count": 7,
   "id": "bd805e30-70c1-4653-b9fa-d8f0ad23867c",
   "metadata": {},
   "outputs": [
    {
     "data": {
      "text/plain": [
       "349"
      ]
     },
     "execution_count": 7,
     "metadata": {},
     "output_type": "execute_result"
    }
   ],
   "source": [
    "embedding_function = SentenceTransformerEmbeddingFunction()\n",
    "\n",
    "chroma_collection = load_chroma(filename='microsoft_annual_report_2022.pdf', collection_name='microsoft_annual_report_2022', embedding_function=embedding_function)\n",
    "chroma_collection.count()"
   ]
  },
  {
   "cell_type": "code",
   "execution_count": 16,
   "id": "12631a50-2cf5-4be2-8e2a-3cc654e0299c",
   "metadata": {},
   "outputs": [],
   "source": [
    "query = \"What has been the investment in research and development?\"\n",
    "results =  chroma_collection.query(query_texts=query,n_results=10,include=['documents', 'embeddings'])\n",
    "retrieved_results = results['documents'][0]"
   ]
  },
  {
   "cell_type": "code",
   "execution_count": 17,
   "id": "50c9be01-d8ff-4aba-b6bf-d1939f71a5f5",
   "metadata": {},
   "outputs": [],
   "source": [
    "from sentence_transformers import CrossEncoder\n",
    "cross_encoder = CrossEncoder('cross-encoder/ms-marco-MiniLM-L-6-v2')"
   ]
  },
  {
   "cell_type": "code",
   "execution_count": 18,
   "id": "0ae0ad2c-8965-4ce1-8c1d-915cc1b95ca1",
   "metadata": {},
   "outputs": [],
   "source": [
    "pairs = [[query,ans] for ans in retrieved_results]\n",
    "scores = cross_encoder.predict(pairs)"
   ]
  },
  {
   "cell_type": "code",
   "execution_count": 19,
   "id": "7b355d04-53d8-42d6-95d0-622cb9e21c37",
   "metadata": {},
   "outputs": [
    {
     "data": {
      "text/plain": [
       "array([  0.9869355 ,   2.6445756 ,  -0.26802987, -10.731592  ,\n",
       "        -7.7066054 ,  -5.6469975 ,  -4.2970343 , -10.933231  ,\n",
       "        -7.0384264 ,  -7.3246937 ], dtype=float32)"
      ]
     },
     "execution_count": 19,
     "metadata": {},
     "output_type": "execute_result"
    }
   ],
   "source": [
    "scores"
   ]
  },
  {
   "cell_type": "code",
   "execution_count": 21,
   "id": "ee31c7ba-1c4d-4372-85c9-b87bec56195d",
   "metadata": {},
   "outputs": [
    {
     "name": "stdout",
     "output_type": "stream",
     "text": [
      "2\n",
      "1\n",
      "3\n",
      "7\n",
      "6\n",
      "9\n",
      "10\n",
      "5\n",
      "4\n",
      "8\n"
     ]
    }
   ],
   "source": [
    "for i in np.argsort(scores)[::-1]:\n",
    "    print(i+1)"
   ]
  },
  {
   "cell_type": "code",
   "execution_count": 88,
   "id": "78448ff2-a6f2-4af9-a984-cf8d27c4effa",
   "metadata": {},
   "outputs": [
    {
     "name": "stdout",
     "output_type": "stream",
     "text": [
      "env: OPENAI_API_KEY=\n"
     ]
    }
   ],
   "source": [
    "import os\n",
    "import openai\n",
    "from openai import OpenAI\n",
    "%set_env OPENAI_API_KEY=\n",
    "openai.api_key = os.environ['OPENAI_API_KEY']\n",
    "\n",
    "openai_client = OpenAI()"
   ]
  },
  {
   "cell_type": "code",
   "execution_count": 28,
   "id": "cb268e45-8bde-4736-8b00-f8b89d1a55be",
   "metadata": {},
   "outputs": [],
   "source": [
    "query = \"What were the most important factors that contributed to increases in revenue?\"\n",
    "messages = [\n",
    "    {\n",
    "            \"role\": \"system\",\n",
    "            \"content\" : \"You are a helpful expert financial research assistant. Your users are asking questions about an annual report. \"\n",
    "            \"Suggest up to five additional related questions to help them find the information they need, for the provided question. \"\n",
    "            \"Suggest only short questions without compound sentences. Suggest a variety of questions that cover different aspects of the topic.\"\n",
    "            \"Make sure they are complete questions, and that they are related to the original question.\"\n",
    "            \"Output one question per line. Do not number the questions.\"\n",
    "    },\n",
    "    {\n",
    "        \"role\":\"user\",\n",
    "        \"content\":query\n",
    "    }\n",
    "    \n",
    "]"
   ]
  },
  {
   "cell_type": "code",
   "execution_count": 32,
   "id": "bbf078d5-3d8d-4f82-9219-e86e46fb89be",
   "metadata": {},
   "outputs": [],
   "source": [
    "response =  openai_client.chat.completions.create(\n",
    "    model=\"gpt-3.5-turbo\",\n",
    "    messages=messages\n",
    ")"
   ]
  },
  {
   "cell_type": "code",
   "execution_count": 33,
   "id": "a87255a8-af4c-477a-ab68-8db64765b057",
   "metadata": {},
   "outputs": [],
   "source": [
    "content = response.choices[0].message.content\n"
   ]
  },
  {
   "cell_type": "code",
   "execution_count": 35,
   "id": "99ade8c4-9570-4bf6-93aa-1121bad68fda",
   "metadata": {},
   "outputs": [],
   "source": [
    "augement_queries = content"
   ]
  },
  {
   "cell_type": "code",
   "execution_count": 40,
   "id": "763815ef-1065-4329-9205-8b37523f9f1e",
   "metadata": {},
   "outputs": [],
   "source": [
    "qrs = augement_queries.split(\"\\n\")"
   ]
  },
  {
   "cell_type": "code",
   "execution_count": 42,
   "id": "9e3ea13a-2d0c-4537-a07c-d791dcbff8a6",
   "metadata": {},
   "outputs": [],
   "source": [
    "queries = [query] + qrs"
   ]
  },
  {
   "cell_type": "code",
   "execution_count": 44,
   "id": "8fef9f0e-2bcf-4d82-afa8-ee71aa5321cd",
   "metadata": {},
   "outputs": [
    {
     "data": {
      "text/plain": [
       "['What were the most important factors that contributed to increases in revenue?',\n",
       " '- What were the main sources of revenue for the company?',\n",
       " \"- How did the company's revenue compare to the previous year?\",\n",
       " '- Were there any significant changes in pricing strategies that impacted revenue?',\n",
       " '- What market trends or economic conditions influenced revenue growth?',\n",
       " '- Did the company expand into new markets or launch new products/services that drove revenue growth?']"
      ]
     },
     "execution_count": 44,
     "metadata": {},
     "output_type": "execute_result"
    }
   ],
   "source": [
    "queries"
   ]
  },
  {
   "cell_type": "code",
   "execution_count": 60,
   "id": "a042916e-4ea5-4863-9746-69d098b2b0e6",
   "metadata": {},
   "outputs": [],
   "source": [
    "results =  chroma_collection.query(query_texts=queries, n_results=10, include=['documents', 'embeddings'])\n",
    "retrieved_documents = results['documents']"
   ]
  },
  {
   "cell_type": "code",
   "execution_count": 61,
   "id": "5a42822f-3c5a-458f-a99f-799115b6acd2",
   "metadata": {},
   "outputs": [],
   "source": [
    "# retrieved_documents"
   ]
  },
  {
   "cell_type": "code",
   "execution_count": 62,
   "id": "7baf4aad-9ece-48f8-a4f2-44ed4a8f0dce",
   "metadata": {},
   "outputs": [],
   "source": [
    "# Deduplicate the retrieved documents\n",
    "unique_documents = set()\n",
    "for documents in retrieved_documents:\n",
    "    for document in documents:\n",
    "        unique_documents.add(document)\n",
    "\n",
    "unique_documents = list(unique_documents)"
   ]
  },
  {
   "cell_type": "code",
   "execution_count": 64,
   "id": "d1b79611-e333-431c-9b77-d07e2c604979",
   "metadata": {},
   "outputs": [],
   "source": [
    "# unique_documents"
   ]
  },
  {
   "cell_type": "code",
   "execution_count": 66,
   "id": "8f72e167-2bb9-433d-823c-ec393b889bde",
   "metadata": {},
   "outputs": [],
   "source": [
    "paris = [ [query,i] for i in unique_documents]"
   ]
  },
  {
   "cell_type": "code",
   "execution_count": 67,
   "id": "51084ea0-4090-485d-81a0-7551e31901e3",
   "metadata": {},
   "outputs": [],
   "source": [
    "scores = cross_encoder.predict(pairs)"
   ]
  },
  {
   "cell_type": "code",
   "execution_count": 69,
   "id": "f38239d3-f7ee-4bd0-aabb-4897dca69713",
   "metadata": {},
   "outputs": [
    {
     "name": "stdout",
     "output_type": "stream",
     "text": [
      "New Ordering:\n"
     ]
    }
   ],
   "source": [
    "print(\"New Ordering:\")\n",
    "final_docs = []\n",
    "l = []\n",
    "for o in np.argsort(scores)[::-1]:\n",
    "    l.append(o)"
   ]
  },
  {
   "cell_type": "code",
   "execution_count": 72,
   "id": "f476b36d-0506-4e1d-b82b-c6fd3acfd360",
   "metadata": {},
   "outputs": [],
   "source": [
    "top5_indx = l[:5]\n",
    "top_5_docs = []\n",
    "for i in top5_indx:\n",
    "    top_5_docs.append(unique_documents[i])"
   ]
  },
  {
   "cell_type": "code",
   "execution_count": 74,
   "id": "7ac17c34-c7d2-4ac1-8fed-0b39a2b5ac01",
   "metadata": {},
   "outputs": [],
   "source": [
    "# top_5_docs"
   ]
  },
  {
   "cell_type": "code",
   "execution_count": 75,
   "id": "3ba70c1d-eec8-4603-966e-b867db2d7d6e",
   "metadata": {},
   "outputs": [],
   "source": [
    "template = \"\"\"\n",
    "Answer the question based on the following context:\n",
    "{context}\n",
    "\n",
    "Question:{question}\n",
    "\"\"\""
   ]
  },
  {
   "cell_type": "code",
   "execution_count": 78,
   "id": "c83d9fc5-6425-4f1b-b950-acf062e7d165",
   "metadata": {},
   "outputs": [],
   "source": [
    "from langchain_core.prompts import ChatPromptTemplate\n",
    "from langchain_core.runnables import RunnableLambda, RunnablePassthrough\n",
    "from langchain_openai import ChatOpenAI, OpenAIEmbeddings\n",
    "from langchain_core.output_parsers import StrOutputParser\n",
    "\n",
    "prompt = ChatPromptTemplate.from_template(template)\n",
    "# prompt\n",
    "model = ChatOpenAI(openai_api_key=os.environ['OPENAI_API_KEY'])"
   ]
  },
  {
   "cell_type": "code",
   "execution_count": 81,
   "id": "3f465363-3add-4b33-88b3-4ef98d1a411e",
   "metadata": {},
   "outputs": [],
   "source": [
    "final_text = \"\\n\".join(top_5_docs)\n"
   ]
  },
  {
   "cell_type": "code",
   "execution_count": 83,
   "id": "fdecc1ad-82d9-4057-86e6-7a3a892f8010",
   "metadata": {},
   "outputs": [
    {
     "data": {
      "text/plain": [
       "str"
      ]
     },
     "execution_count": 83,
     "metadata": {},
     "output_type": "execute_result"
    }
   ],
   "source": [
    "type(final_text)"
   ]
  },
  {
   "cell_type": "code",
   "execution_count": 85,
   "id": "1497b19c-7cbd-4825-8fe2-3e086fc6b19e",
   "metadata": {},
   "outputs": [],
   "source": [
    "chain  = (\n",
    "    {\"context\":lambda x: final_text,\"question\":RunnablePassthrough()}\n",
    "    |\n",
    "    prompt\n",
    "    |\n",
    "    model\n",
    "    |\n",
    "    StrOutputParser()\n",
    ")"
   ]
  },
  {
   "cell_type": "code",
   "execution_count": 86,
   "id": "e3942e0b-85e1-4f17-a249-ebd3d9f82124",
   "metadata": {},
   "outputs": [
    {
     "data": {
      "text/plain": [
       "\"Microsoft's revenue for the year ended June 30, 2022, was $198,270 million.\""
      ]
     },
     "execution_count": 86,
     "metadata": {},
     "output_type": "execute_result"
    }
   ],
   "source": [
    "chain.invoke(\"what is microsoft revenue?\")"
   ]
  },
  {
   "cell_type": "code",
   "execution_count": 87,
   "id": "e5a72748-a72d-4ba7-b639-7380ed04f6f4",
   "metadata": {},
   "outputs": [
    {
     "data": {
      "text/plain": [
       "'The revenue increased due to growth in various product and service offerings such as server products and cloud services, office products and cloud services, gaming, LinkedIn, search and news advertising, enterprise services, and devices. Additionally, there was significant growth in dynamics products and cloud services, particularly driven by dynamics 365. The increase in revenue was also attributed to investments in cloud services, including Azure, and improvements in office 365 commercial and LinkedIn, leading to higher gross margins and operating income.'"
      ]
     },
     "execution_count": 87,
     "metadata": {},
     "output_type": "execute_result"
    }
   ],
   "source": [
    "chain.invoke(\"reasons y revenue increased?\")"
   ]
  },
  {
   "cell_type": "code",
   "execution_count": null,
   "id": "c90bcad2-24d6-4517-a538-e6fb18bc4542",
   "metadata": {},
   "outputs": [],
   "source": []
  }
 ],
 "metadata": {
  "kernelspec": {
   "display_name": "Python 3 (ipykernel)",
   "language": "python",
   "name": "python3"
  },
  "language_info": {
   "codemirror_mode": {
    "name": "ipython",
    "version": 3
   },
   "file_extension": ".py",
   "mimetype": "text/x-python",
   "name": "python",
   "nbconvert_exporter": "python",
   "pygments_lexer": "ipython3",
   "version": "3.11.7"
  }
 },
 "nbformat": 4,
 "nbformat_minor": 5
}
