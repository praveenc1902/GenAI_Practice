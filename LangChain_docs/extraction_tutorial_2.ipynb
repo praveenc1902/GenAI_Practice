{
 "cells": [
  {
   "cell_type": "code",
   "execution_count": 1,
   "id": "2ef38dca-e178-4463-89d7-afb664c5d56a",
   "metadata": {},
   "outputs": [],
   "source": [
    "from langchain_core.prompts import ChatPromptTemplate, MessagesPlaceholder\n",
    "prompt = ChatPromptTemplate.from_messages(\n",
    "    [\n",
    "        (\n",
    "            \"system\",\n",
    "            \"You are an expert extraction algorithm. \"\n",
    "            \"Only extract relevant information from the text. \"\n",
    "            \"If you do not know the value of an attribute asked \"\n",
    "            \"to extract, return null for the attribute's value.\",\n",
    "        ),\n",
    "        MessagesPlaceholder(\"examples\"),\n",
    "        (\"human\",\"{text}\"),\n",
    "    ]\n",
    ")"
   ]
  },
  {
   "cell_type": "code",
   "execution_count": 2,
   "id": "582ced4c-2c60-4d38-8f60-78831de08708",
   "metadata": {},
   "outputs": [],
   "source": [
    "from typing import List, Optional\n",
    "\n",
    "from langchain_core.pydantic_v1 import BaseModel, Field\n",
    "from langchain_openai import ChatOpenAI\n",
    "\n",
    "\n",
    "class Person(BaseModel):\n",
    "    \"\"\"Information about a person.\"\"\"\n",
    "    name: Optional[str] = Field(..., description=\"The name of the person\")\n",
    "    hair_color: Optional[str] = Field(\n",
    "        ..., description=\"The color of the peron's eyes if known\"\n",
    "    )\n",
    "    height_in_meters: Optional[str] = Field(..., description=\"Height in METERs\")\n",
    "\n",
    "\n",
    "class Data(BaseModel):\n",
    "    \"\"\"Extracted data about people.\"\"\"\n",
    "\n",
    "    # Creates a model so that we can extract multiple entities.\n",
    "    people: List[Person]"
   ]
  },
  {
   "cell_type": "code",
   "execution_count": 3,
   "id": "688be70e-7478-4cd1-b11f-85c3d35561ac",
   "metadata": {},
   "outputs": [],
   "source": [
    "import uuid\n",
    "from typing import Dict, List, TypedDict\n",
    "\n",
    "from langchain_core.messages import (\n",
    "    AIMessage,\n",
    "    BaseMessage,\n",
    "    HumanMessage,\n",
    "    SystemMessage,\n",
    "    ToolMessage,\n",
    ")\n",
    "from langchain_core.pydantic_v1 import BaseModel, Field"
   ]
  },
  {
   "cell_type": "code",
   "execution_count": 4,
   "id": "1b1cc5f6-3f9b-46a3-8f9f-d8565fed1a15",
   "metadata": {},
   "outputs": [],
   "source": [
    "class Example(TypedDict):\n",
    "    \"\"\"A representation of an example consisting of text input and expected tool calls.\n",
    "\n",
    "    For extraction, the tool calls are represented as instances of pydantic model.\n",
    "    \"\"\"\n",
    "    input:str\n",
    "    tool_calls: List[BaseModel]"
   ]
  },
  {
   "cell_type": "code",
   "execution_count": 5,
   "id": "7d449e37-6a6d-4572-8afe-cef343dda217",
   "metadata": {},
   "outputs": [],
   "source": [
    "def tool_example_to_messages(example:Example) -> List[BaseMessage]:\n",
    "    \"\"\"Convert an example into a list of messages that can be fed into an LLM.\n",
    "\n",
    "    This code is an adapter that converts our example to a list of messages\n",
    "    that can be fed into a chat model.\n",
    "\n",
    "    The list of messages per example corresponds to:\n",
    "\n",
    "    1) HumanMessage: contains the content from which content should be extracted.\n",
    "    2) AIMessage: contains the extracted information from the model\n",
    "    3) ToolMessage: contains confirmation to the model that the model requested a tool correctly.\n",
    "\n",
    "    The ToolMessage is required because some of the chat models are hyper-optimized for agents\n",
    "    rather than for an extraction use case.\n",
    "    \"\"\"\n",
    "    messages: List[BaseMessage] = [HumanMessage(content=example['input'])]\n",
    "    openai_tool_calls = []\n",
    "    for tool_call in example['tool_calls']:\n",
    "        openai_tool_calls.append(\n",
    "            {\n",
    "                \"id\":str(uuid.uuid4()),\n",
    "                \"type\":\"function\",\n",
    "                \"function\":{\n",
    "                    \"name\":tool_call.__class__.__name__,\n",
    "                    \"arguments\":tool_call.json(),\n",
    "                }\n",
    "            }\n",
    "        )\n",
    "        messages.append(\n",
    "            AIMessage(content=\"\",additional_kwargs={\"tool_calls\":openai_tool_calls})\n",
    "        )\n",
    "        tool_outputs = example.get(\"tool_outputs\") or [\n",
    "        \"You have correctly called this tool.\"\n",
    "        ] * len(openai_tool_calls)\n",
    "        for output,tool_call in zip(tool_outputs, openai_tool_calls):\n",
    "            messages.append(ToolMessage(content=output, tool_call_id=tool_call[\"id\"]))\n",
    "        return messages\n",
    "    "
   ]
  },
  {
   "cell_type": "code",
   "execution_count": 6,
   "id": "71909f89-aa32-4e7a-9438-15e1b9dfc2d2",
   "metadata": {},
   "outputs": [],
   "source": [
    "examples = [\n",
    "    (\n",
    "        \"The ocean is vast and blue. It's more than 20,000 feet deep. There are many fish in it.\",\n",
    "        Person(name=None, height_in_meters=None, hair_color=None, country=None),\n",
    "    ),\n",
    "    (\n",
    "        \"Fiona traveled far from France to Spain.\",\n",
    "        Person(name=\"Fiona\", height_in_meters=None, hair_color=None,country=[\"France\",\"Spain\"]),\n",
    "    ),\n",
    "]\n"
   ]
  },
  {
   "cell_type": "code",
   "execution_count": 8,
   "id": "344cb77d-25cb-40e2-afbf-886b1e71bca3",
   "metadata": {},
   "outputs": [],
   "source": [
    "messages = []\n",
    "for text,tool_call in examples:\n",
    "    # print(\"text-->\",text)\n",
    "    # print(\"tool_call -->\",tool_call)\n",
    "    messages.extend(\n",
    "        tool_example_to_messages({\"input\": text, \"tool_calls\": [tool_call]})\n",
    "    )"
   ]
  },
  {
   "cell_type": "code",
   "execution_count": 9,
   "id": "65c1bc6c-f1f4-4cb1-be7c-7d8be2f57214",
   "metadata": {},
   "outputs": [
    {
     "data": {
      "text/plain": [
       "ChatPromptValue(messages=[SystemMessage(content=\"You are an expert extraction algorithm. Only extract relevant information from the text. If you do not know the value of an attribute asked to extract, return null for the attribute's value.\"), HumanMessage(content=\"The ocean is vast and blue. It's more than 20,000 feet deep. There are many fish in it.\"), AIMessage(content='', additional_kwargs={'tool_calls': [{'id': 'a97a80af-e525-4bda-8768-562a98d6f743', 'type': 'function', 'function': {'name': 'Person', 'arguments': '{\"name\": null, \"hair_color\": null, \"height_in_meters\": null}'}}]}), ToolMessage(content='You have correctly called this tool.', tool_call_id='a97a80af-e525-4bda-8768-562a98d6f743'), HumanMessage(content='Fiona traveled far from France to Spain.'), AIMessage(content='', additional_kwargs={'tool_calls': [{'id': '45221bca-a84b-480b-8e12-7b6148bb94de', 'type': 'function', 'function': {'name': 'Person', 'arguments': '{\"name\": \"Fiona\", \"hair_color\": null, \"height_in_meters\": null}'}}]}), ToolMessage(content='You have correctly called this tool.', tool_call_id='45221bca-a84b-480b-8e12-7b6148bb94de'), HumanMessage(content='this is some text')])"
      ]
     },
     "execution_count": 9,
     "metadata": {},
     "output_type": "execute_result"
    }
   ],
   "source": [
    "prompt.invoke({\"text\": \"this is some text\", \"examples\": messages})"
   ]
  },
  {
   "cell_type": "code",
   "execution_count": null,
   "id": "71ed580f-88eb-4948-9d39-0d07e9befede",
   "metadata": {},
   "outputs": [],
   "source": []
  },
  {
   "cell_type": "code",
   "execution_count": 12,
   "id": "9b36bad7-08c6-4ae0-971b-ab62e1ddbf11",
   "metadata": {},
   "outputs": [],
   "source": [
    "llm = ChatOpenAI(openai_api_key=OPENAI_API_KEY)"
   ]
  },
  {
   "cell_type": "code",
   "execution_count": 14,
   "id": "0d4985ab-1928-4e80-9434-4cb99158f69c",
   "metadata": {},
   "outputs": [],
   "source": [
    "runnable = prompt | llm.with_structured_output(\n",
    "    schema=Data,\n",
    "    method=\"function_calling\",\n",
    "    include_raw=False\n",
    ")"
   ]
  },
  {
   "cell_type": "code",
   "execution_count": 15,
   "id": "14c6a115-09ff-41cc-bc07-cafefd56f520",
   "metadata": {},
   "outputs": [
    {
     "name": "stdout",
     "output_type": "stream",
     "text": [
      "people=[Person(name='Earth', hair_color='blue', height_in_meters='12742'), Person(name='Moon', hair_color='gray', height_in_meters='3475')]\n",
      "people=[Person(name='Earth', hair_color='Blue', height_in_meters='1.0')]\n",
      "people=[Person(name='Earth', hair_color='Blue', height_in_meters='6371')]\n",
      "people=[Person(name='Earth', hair_color='blue', height_in_meters='1.5')]\n",
      "people=[Person(name='Earth', hair_color='Blue', height_in_meters='6371')]\n"
     ]
    }
   ],
   "source": [
    "#without examples \n",
    "\n",
    "for _ in range(5):\n",
    "    text = \"The solar system is large, but earth has only 1 moon.\"\n",
    "    print(runnable.invoke({\"text\": text, \"examples\": []}))"
   ]
  },
  {
   "cell_type": "code",
   "execution_count": 16,
   "id": "325226cb-40d2-454e-b369-c17fa3bde3e3",
   "metadata": {},
   "outputs": [
    {
     "name": "stdout",
     "output_type": "stream",
     "text": [
      "people=[Person(name='earth', hair_color=None, height_in_meters=None)]\n",
      "people=[Person(name='Earth', hair_color=None, height_in_meters=None)]\n",
      "people=[Person(name='earth', hair_color=None, height_in_meters=None)]\n",
      "people=[Person(name='Fiona', hair_color='blonde', height_in_meters='1.75')]\n",
      "people=[Person(name='Alice', hair_color='brown', height_in_meters='1.65'), Person(name='Bob', hair_color='black', height_in_meters='1.80'), Person(name='Charlie', hair_color='blonde', height_in_meters='1.70')]\n"
     ]
    }
   ],
   "source": [
    "#with exampes\n",
    "for _ in range(5):\n",
    "    text = \"The solar system is large, but earth has only 1 moon.\"\n",
    "    print(runnable.invoke({\"text\": text, \"examples\": messages}))"
   ]
  },
  {
   "cell_type": "code",
   "execution_count": 17,
   "id": "b444076a-0199-4f66-a85f-9cbfae24a5f9",
   "metadata": {},
   "outputs": [
    {
     "data": {
      "text/plain": [
       "Data(people=[Person(name='Harrison', hair_color='black', height_in_meters='null')])"
      ]
     },
     "execution_count": 17,
     "metadata": {},
     "output_type": "execute_result"
    }
   ],
   "source": [
    "runnable.invoke(\n",
    "    {\n",
    "        \"text\": \"My name is Harrison. My hair is black.\",\n",
    "        \"examples\": messages,\n",
    "    }\n",
    ")"
   ]
  },
  {
   "cell_type": "code",
   "execution_count": 21,
   "id": "e77c42ae-23d1-4ec3-8f9e-c5c2fce60312",
   "metadata": {},
   "outputs": [],
   "source": [
    "####123456\n"
   ]
  },
  {
   "cell_type": "code",
   "execution_count": null,
   "id": "88378f20-015d-47c6-9623-428d25aee29c",
   "metadata": {},
   "outputs": [],
   "source": []
  }
 ],
 "metadata": {
  "kernelspec": {
   "display_name": "Python 3 (ipykernel)",
   "language": "python",
   "name": "python3"
  },
  "language_info": {
   "codemirror_mode": {
    "name": "ipython",
    "version": 3
   },
   "file_extension": ".py",
   "mimetype": "text/x-python",
   "name": "python",
   "nbconvert_exporter": "python",
   "pygments_lexer": "ipython3",
   "version": "3.11.7"
  }
 },
 "nbformat": 4,
 "nbformat_minor": 5
}
