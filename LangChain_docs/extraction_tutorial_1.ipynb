{
 "cells": [
  {
   "cell_type": "code",
   "execution_count": 43,
   "id": "aa260d09-815b-4215-876f-107b15804618",
   "metadata": {},
   "outputs": [],
   "source": [
    "from typing import Optional\n",
    "from langchain_core.pydantic_v1 import BaseModel, Field"
   ]
  },
  {
   "cell_type": "code",
   "execution_count": 51,
   "id": "8852f7a6-270b-4ebc-8d0d-18e9dc269aae",
   "metadata": {},
   "outputs": [],
   "source": [
    "class Person(BaseModel):\n",
    "    \"\"\"Information about Person.\"\"\"\n",
    "    name:Optional[str] = Field(...,description=\"The Name of the Person\")\n",
    "    hair_color:Optional[str] = Field(...,description=\"The color of the peron's hair if known\")\n",
    "    height_in_meters:Optional[str] = Field(...,description=\"Height measured in meters\")\n"
   ]
  },
  {
   "cell_type": "code",
   "execution_count": 52,
   "id": "f8e0edf7-3b72-4446-ac33-cd602f6aec81",
   "metadata": {},
   "outputs": [],
   "source": [
    "from langchain_core.prompts import ChatPromptTemplate,MessagesPlaceholder\n",
    "from langchain_core.pydantic_v1 import BaseModel, Field\n",
    "from langchain_openai import ChatOpenAI"
   ]
  },
  {
   "cell_type": "code",
   "execution_count": 53,
   "id": "fa63a274-e5fe-458c-bffc-14e50ae6fb21",
   "metadata": {},
   "outputs": [],
   "source": [
    "prompt = ChatPromptTemplate.from_messages(\n",
    "    [\n",
    "        (\n",
    "            \"system\",\n",
    "            \"You are an expert extraction algorithm. \"\n",
    "            \"Only extract relevant information from the text. \"\n",
    "            \"If you do not know the value of an attribute asked to extract, \"\n",
    "            \"return null for the attribute's value.\",\n",
    "        ),\n",
    "        \n",
    "        (\"human\", \"{text}\"),\n",
    "    ]\n",
    ")"
   ]
  },
  {
   "cell_type": "code",
   "execution_count": 47,
   "id": "d3a04757-e7f6-4bc5-997a-d8882c4f0c37",
   "metadata": {},
   "outputs": [],
   "source": [
    "OPENAI_API_KEY = "
   ]
  },
  {
   "cell_type": "code",
   "execution_count": 54,
   "id": "f55ebfa1-865f-4584-8cc9-afb024b7e2a8",
   "metadata": {},
   "outputs": [],
   "source": [
    "from langchain_openai import ChatOpenAI\n",
    "\n",
    "llm = ChatOpenAI(openai_api_key=OPENAI_API_KEY)\n",
    "\n",
    "runnable = prompt | llm.with_structured_output(schema=Person)"
   ]
  },
  {
   "cell_type": "code",
   "execution_count": 55,
   "id": "1899a65c-fcaa-4347-8e71-d4dcac6ba3a5",
   "metadata": {},
   "outputs": [
    {
     "data": {
      "text/plain": [
       "Person(name='Alan Smith', hair_color='blond', height_in_meters='1.83')"
      ]
     },
     "execution_count": 55,
     "metadata": {},
     "output_type": "execute_result"
    }
   ],
   "source": [
    "text = \"Alan Smith is 6 feet tall and has blond hair.\"\n",
    "runnable.invoke({\"text\": text})"
   ]
  },
  {
   "cell_type": "code",
   "execution_count": 56,
   "id": "ae8d8fc8-761f-475b-acae-7d8d33376cfe",
   "metadata": {},
   "outputs": [],
   "source": [
    "######Example 2"
   ]
  },
  {
   "cell_type": "code",
   "execution_count": 57,
   "id": "beff1fbe-6d8d-49bb-b49f-176b17178d24",
   "metadata": {},
   "outputs": [],
   "source": [
    "from typing import List, Optional\n",
    "\n",
    "from langchain_core.pydantic_v1 import BaseModel, Field\n",
    "class Person(BaseModel):\n",
    "    \"\"\"Information about a Person\"\"\"\n",
    "    name:Optional[str] = Field(...,description=\"The name of the Person\")\n",
    "    hair_color:Optional[str] =  Field(...,description=\"The color of the peron's hair if known\")\n",
    "    height_in_meters:Optional[str] = Field(...,description=\"Height measured in meters\")\n",
    "\n",
    "class Data(BaseModel):\n",
    "    \"\"\"Extracted data about people.\"\"\"\n",
    "    people:List[Person]"
   ]
  },
  {
   "cell_type": "code",
   "execution_count": 61,
   "id": "4e68f582-228e-4b9f-89c7-1f1056ed1580",
   "metadata": {},
   "outputs": [],
   "source": [
    "from langchain_openai import ChatOpenAI\n",
    "llm = ChatOpenAI(openai_api_key=OPENAI_API_KEY)\n",
    "runnable = prompt | llm.with_structured_output(schema=Data)"
   ]
  },
  {
   "cell_type": "code",
   "execution_count": 62,
   "id": "c4ef558a-7cd5-439e-8d81-1dd181edafac",
   "metadata": {},
   "outputs": [],
   "source": [
    "text = \"My name is Jeff, my hair is black and i am 6 feet tall. Anna has the same color hair as me and also praveen is also same height but has black hair \""
   ]
  },
  {
   "cell_type": "code",
   "execution_count": 63,
   "id": "b4a83886-6f65-4b12-a7f3-946d2875bd77",
   "metadata": {},
   "outputs": [
    {
     "data": {
      "text/plain": [
       "Data(people=[Person(name='Jeff', hair_color='black', height_in_meters='1.83'), Person(name='Anna', hair_color='black', height_in_meters='1.83'), Person(name='Praveen', hair_color='black', height_in_meters='1.83')])"
      ]
     },
     "execution_count": 63,
     "metadata": {},
     "output_type": "execute_result"
    }
   ],
   "source": [
    "runnable.invoke({\"text\":text})"
   ]
  },
  {
   "cell_type": "code",
   "execution_count": null,
   "id": "38d69ac3-aef1-4840-8781-4d7592c69c25",
   "metadata": {},
   "outputs": [],
   "source": []
  }
 ],
 "metadata": {
  "kernelspec": {
   "display_name": "Python 3 (ipykernel)",
   "language": "python",
   "name": "python3"
  },
  "language_info": {
   "codemirror_mode": {
    "name": "ipython",
    "version": 3
   },
   "file_extension": ".py",
   "mimetype": "text/x-python",
   "name": "python",
   "nbconvert_exporter": "python",
   "pygments_lexer": "ipython3",
   "version": "3.11.7"
  }
 },
 "nbformat": 4,
 "nbformat_minor": 5
}
