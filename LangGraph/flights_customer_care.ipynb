{
 "cells": [
  {
   "cell_type": "code",
   "execution_count": null,
   "metadata": {},
   "outputs": [],
   "source": []
  },
  {
   "cell_type": "code",
   "execution_count": 21,
   "metadata": {},
   "outputs": [],
   "source": [
    "import psycopg2\n",
    "from psycopg2 import Error\n",
    "\n",
    "def get_postgresql_connection():\n",
    "    # PostgreSQL connection parameters\n",
    "    db_host = 'localhost'\n",
    "    db_name = 'flightsdb'\n",
    "    db_user = 'postgres'\n",
    "    db_password = 'Pra123@1'\n",
    "\n",
    "    conn = None\n",
    "\n",
    "    try:\n",
    "        # Connect to the PostgreSQL server\n",
    "        conn = psycopg2.connect(\n",
    "            host=db_host,\n",
    "            database=db_name,\n",
    "            user=db_user,\n",
    "            password=db_password\n",
    "        )\n",
    "        \n",
    "        print(\"PostgreSQL connected successfully\")\n",
    "        return conn\n",
    "\n",
    "    except (Exception, Error) as error:\n",
    "        print(\"Error while connecting to PostgreSQL:\", error)\n",
    "        return None\n"
   ]
  },
  {
   "cell_type": "code",
   "execution_count": 39,
   "metadata": {},
   "outputs": [],
   "source": [
    "from langchain_core.tools import tool"
   ]
  },
  {
   "cell_type": "code",
   "execution_count": 42,
   "metadata": {},
   "outputs": [],
   "source": [
    "@tool\n",
    "def cancel_booking(id):\n",
    "    \"\"\"This method will take id as argument and the use of this method is to cancel the booking by updating the DB\"\"\"\n",
    "    conn = get_postgresql_connection()\n",
    "    cursor = conn.cursor()\n",
    "    cursor.execute(f\"update flights set status='cancelled' where id='{id}' \")\n",
    "    conn.commit()"
   ]
  },
  {
   "cell_type": "code",
   "execution_count": 43,
   "metadata": {},
   "outputs": [],
   "source": [
    "@tool\n",
    "def get_booking_details(id):\n",
    "    \"\"\"This method will take id as argument and retrieves the row from the DB, it fetches all the information from the table for the ID argument passed\"\"\"\n",
    "    conn = get_postgresql_connection()\n",
    "    cursor = conn.cursor()\n",
    "    cursor.execute(f\"select * from flights where id='{id}' \")\n",
    "    rows = cursor.fetchall()\n",
    "    return rows"
   ]
  },
  {
   "cell_type": "code",
   "execution_count": 44,
   "metadata": {},
   "outputs": [],
   "source": [
    "@tool\n",
    "def change_departure_location(id,departure_location):\n",
    "    \"\"\"This method is used to change the departure location to the desired location passed as argument by updating the table in the database\"\"\"\n",
    "    conn = get_postgresql_connection()\n",
    "    cursor = conn.cursor()\n",
    "    cursor.execute(f\"update flights set departure_location='{departure_location}' where id='{id}' \")\n",
    "    conn.commit()"
   ]
  },
  {
   "cell_type": "markdown",
   "metadata": {},
   "source": [
    "All the required imports"
   ]
  },
  {
   "cell_type": "code",
   "execution_count": 35,
   "metadata": {},
   "outputs": [],
   "source": [
    "from typing import Annotated, Literal, Optional\n",
    "from typing_extensions import TypedDict\n",
    "from langgraph.graph.message import AnyMessage, add_messages\n",
    "from langchain_openai import ChatOpenAI\n",
    "from langchain_community.tools.tavily_search import TavilySearchResults\n",
    "from langchain_core.prompts import ChatPromptTemplate\n",
    "from langchain_core.pydantic_v1 import BaseModel, Field\n",
    "from langchain_core.runnables import Runnable, RunnableConfig"
   ]
  },
  {
   "cell_type": "code",
   "execution_count": 36,
   "metadata": {},
   "outputs": [],
   "source": [
    "def update_dialog_box(left:list[str],right:Optional[str]):\n",
    "    \"\"\"Push or Pop the state\"\"\"\n",
    "    if right is None:\n",
    "        return left\n",
    "    if right =='pop':\n",
    "        return left[:-1]\n",
    "    return left +[right]\n",
    "\n",
    "class State(TypedDict):\n",
    "    messages:Annotated[list[AnyMessage],add_messages]\n",
    "    user_info:str\n",
    "    dialog_state:Annotated[list[Literal[\"assistant\",\n",
    "                                        \"cancel_booking\",\n",
    "                                        \"get_booking_details\",\n",
    "                                        \"change_departure_location\"\n",
    "                                        ]],update_dialog_box]\n",
    "    "
   ]
  },
  {
   "cell_type": "code",
   "execution_count": 37,
   "metadata": {},
   "outputs": [],
   "source": [
    "class Assistant:\n",
    "    def __init__(self,runnable:Runnable):\n",
    "        self.runnable = runnable \n",
    "    \n",
    "    def __call__(self,state:State,config:RunnableConfig):\n",
    "        while True:\n",
    "            result = self.runnable.invoke(state)\n",
    "            if not result.tool_calls and (\n",
    "                not result.content\n",
    "                or isinstance(result.content, list)\n",
    "                and not result.content[0].get(\"text\")\n",
    "            ):\n",
    "                messages = state[\"messages\"] + [(\"user\", \"Respond with a real output.\")]\n",
    "                state = {**state, \"messages\": messages}\n",
    "            else:\n",
    "                break\n",
    "        return {\"messages\": result}"
   ]
  },
  {
   "cell_type": "code",
   "execution_count": 38,
   "metadata": {},
   "outputs": [],
   "source": [
    "class CompleteOrEscalate(BaseModel):\n",
    "    \"\"\"A tool to mark the current task as completed and/or to escalate control of the dialog to the main assistant,\n",
    "    who can re-route the dialog based on the user's needs.\"\"\"\n",
    "    cancel:bool=True\n",
    "    reason:str\n",
    "    class Config:\n",
    "        schema_extra = {\n",
    "            \"example\": {\n",
    "                \"cancel\": True,\n",
    "                \"reason\": \"User changed their mind about the current task.\",\n",
    "            },\n",
    "            \"example 2\": {\n",
    "                \"cancel\": True,\n",
    "                \"reason\": \"I have fully completed the task.\",\n",
    "            },\n",
    "            \"example 3\": {\n",
    "                \"cancel\": False,\n",
    "                \"reason\": \"I need to search the user's emails or calendar for more information.\",\n",
    "            },\n",
    "        }"
   ]
  },
  {
   "cell_type": "code",
   "execution_count": 46,
   "metadata": {},
   "outputs": [],
   "source": [
    "llm = ChatOpenAI()"
   ]
  },
  {
   "cell_type": "code",
   "execution_count": 48,
   "metadata": {},
   "outputs": [],
   "source": [
    "cancel_booking_prompt = ChatPromptTemplate.from_messages(\n",
    "    [\n",
    "        (\n",
    "            \"system\",\n",
    "            \"You are a specialized assistant for cancelling the flight booking, by changing the status to cancelled. \"\n",
    "            \" The primary assistant delegates work to you whenever the user needs help in cancelling the flight booking. \"\n",
    "            \"Confirm the updated flight details with the customer. \"\n",
    "            \" When searching, be persistent. Expand your query bounds if the first search returns no results. \"\n",
    "            \"If you need more information or the customer changes their mind, escalate the task back to the main assistant.\"\n",
    "            \" Remember that a booking isn't cancelled until after the relevant tool has successfully been used.\"\n",
    "            \"\\n\\nCurrent Id of the user:\\n<Flights>\\n{id}\\n</Flights>\"\n",
    "            ),\n",
    "    ]\n",
    ")\n",
    "\n",
    "cancel_booking_tools = [cancel_booking]\n",
    "cancel_flight_runnable = cancel_booking_prompt | llm.bind_tools(\n",
    "    cancel_booking_tools + [CompleteOrEscalate]\n",
    ")"
   ]
  },
  {
   "cell_type": "code",
   "execution_count": 49,
   "metadata": {},
   "outputs": [],
   "source": [
    "get_booking_prompt = ChatPromptTemplate.from_messages(\n",
    "    [\n",
    "        (\n",
    "            \"system\",\n",
    "            \"You are a specialized assistant for fetching the flight booking information. \"\n",
    "            \"The primary assistant delegates work to you whenever the user wants to fetch the flight information. \"\n",
    "            \"Confirm the updated flight details with the customer. \"\n",
    "            \" When searching, be persistent. Expand your query bounds if the first search returns no results. \"\n",
    "            \"If you need more information or the customer changes their mind, escalate the task back to the main assistant.\"\n",
    "            \" Remember that you haven't provided the information to user untill the relevant tool has successfully been used.\"\n",
    "            \"\\n\\nCurrent Id of the user:\\n<Flights>\\n{id}\\n</Flights>\"\n",
    "            ),\n",
    "    ]\n",
    ")\n",
    "\n",
    "get_booking_tools = [get_booking_details]\n",
    "get_booking_runnable = get_booking_prompt | llm.bind_tools(\n",
    "    get_booking_tools + [CompleteOrEscalate]\n",
    ")"
   ]
  },
  {
   "cell_type": "code",
   "execution_count": 50,
   "metadata": {},
   "outputs": [],
   "source": [
    "change_departure_prompt = ChatPromptTemplate.from_messages(\n",
    "    [\n",
    "        (\n",
    "            \"system\",\n",
    "            \"You are a specialized assistant for changing the departure location of the flight as requested by user. \"\n",
    "            \"The primary assistant delegates work to you whenever the user wants to change the departure location for the specified ID. \"\n",
    "            \"Confirm the departure location details to be updated with the customer. \"\n",
    "            \"When updating the departure location, be persistent. Expand your query bounds if the first search returns no results. \"\n",
    "            \"If you need more information or the customer changes their mind, escalate the task back to the main assistant.\"\n",
    "            \" Remember that you haven't provided the information to user untill the relevant tool has successfully been used.\"\n",
    "            \"\\n\\nCurrent Id of the user:\\n<Flights>\\n{id}\\n</Flights> \\n<Flights>\\n{departure_location}\\n</Flights> \"\n",
    "            ),\n",
    "    ]\n",
    ")\n",
    "\n",
    "change_departure_tools = [change_departure_location]\n",
    "change_departure_runnable = change_departure_prompt | llm.bind_tools(\n",
    "    change_departure_tools + [CompleteOrEscalate]\n",
    ")"
   ]
  },
  {
   "cell_type": "code",
   "execution_count": 51,
   "metadata": {},
   "outputs": [],
   "source": [
    "class ToCancelBooking(BaseModel):\n",
    "    \"\"\"Transfers work to a specialized assistant to handle flight cancellations.\"\"\"\n",
    "    id:int=Field(\n",
    "        description=\"the id of the candidate to whom we would like to cancel the booking\"\n",
    "    )\n",
    "\n",
    "class ToGetBookingDetails(BaseModel):\n",
    "    \"\"\"Transfers work to a specialized assistant which can fetch the booking details of the specific ID.\"\"\"\n",
    "    id:int=Field(\n",
    "        description=\"the id of the candidate to whom we would like to fetch the booking details\"\n",
    "    )\n",
    "\n",
    "class ToChangeDepartureLocation(BaseModel):\n",
    "    \"\"\"Transfers work to a specialized assistant to handle the changing of Departure Location.\"\"\"\n",
    "    id:int=Field(\n",
    "        description=\"the id of the candidate to whom we would like to change the departue location\",\n",
    "        departure_location=\"the new departure location which we would like to change tos\"\n",
    "    )\n",
    "\n",
    "        "
   ]
  },
  {
   "cell_type": "code",
   "execution_count": null,
   "metadata": {},
   "outputs": [],
   "source": [
    "\n",
    "primary_assistant_prompt = ChatPromptTemplate.from_messages(\n",
    "    [\n",
    "        (\n",
    "            \"system\",\n",
    "            \"You are a helpful customer support assistant for Airlines. \"\n",
    "            \"If a customer requests to cancel the booking, fetch the booking information , change departure location \"\n",
    "            \"delegate the task to the appropriate specialized assistant by invoking the corresponding tool. You are not able to make these types of changes yourself.\"\n",
    "            \" Only the specialized assistants are given permission to do this for the user.\"\n",
    "            \"The user is not aware of the different specialized assistants, so do not mention them; just quietly delegate through function calls. \"\n",
    "            \"Provide detailed information to the customer, and always double-check the database before concluding that information is unavailable. \"\n",
    "            \" When searching, be persistent. Expand your query bounds if the first search returns no results. \"\n",
    "            \" If a search comes up empty, expand your search before giving up.\"\n",
    "            \"\\n\\nCurrent user flight information:\\n<Flights>\\n{user_info}\\n</Flights>\"\n",
    "            \"\\nCurrent time: {time}.\",\n",
    "        ),\n",
    "        (\"placeholder\", \"{messages}\"),\n",
    "    ]\n",
    ").partial(time=datetime.now())\n",
    "primary_assistant_tools = [\n",
    "    TavilySearchResults(max_results=1),\n",
    "    search_flights,\n",
    "    lookup_policy,\n",
    "]\n",
    "assistant_runnable = primary_assistant_prompt | llm.bind_tools(\n",
    "    primary_assistant_tools\n",
    "    + [\n",
    "        ToFlightBookingAssistant,\n",
    "        ToBookCarRental,\n",
    "        ToHotelBookingAssistant,\n",
    "        ToBookExcursion,\n",
    "    ]\n",
    ")"
   ]
  }
 ],
 "metadata": {
  "kernelspec": {
   "display_name": "Python 3 (ipykernel)",
   "language": "python",
   "name": "python3"
  },
  "language_info": {
   "codemirror_mode": {
    "name": "ipython",
    "version": 3
   },
   "file_extension": ".py",
   "mimetype": "text/x-python",
   "name": "python",
   "nbconvert_exporter": "python",
   "pygments_lexer": "ipython3",
   "version": "3.11.7"
  }
 },
 "nbformat": 4,
 "nbformat_minor": 2
}
