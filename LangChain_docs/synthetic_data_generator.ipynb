{
 "cells": [
  {
   "cell_type": "code",
   "execution_count": 2,
   "id": "9144dc91-0e8f-4466-ae8f-3fcd0727bacb",
   "metadata": {},
   "outputs": [
    {
     "name": "stdout",
     "output_type": "stream",
     "text": [
      "Note: you may need to restart the kernel to use updated packages.\n"
     ]
    }
   ],
   "source": [
    "%pip install --upgrade --quiet  langchain langchain_experimental langchain-openai\n",
    "# Set env var OPENAI_API_KEY or load from a .env file:\n",
    "# import dotenv\n",
    "# dotenv.load_dotenv()\n"
   ]
  },
  {
   "cell_type": "code",
   "execution_count": 3,
   "id": "050272c6-9ce3-4bd8-8665-5b58828f4e53",
   "metadata": {},
   "outputs": [],
   "source": [
    "\n",
    "from langchain.prompts import FewShotPromptTemplate, PromptTemplate\n",
    "from langchain_core.pydantic_v1 import BaseModel\n",
    "from langchain_experimental.tabular_synthetic_data.openai import (\n",
    "    OPENAI_TEMPLATE,\n",
    "    create_openai_data_generator,\n",
    ")\n",
    "from langchain_experimental.tabular_synthetic_data.prompts import (\n",
    "    SYNTHETIC_FEW_SHOT_PREFIX,\n",
    "    SYNTHETIC_FEW_SHOT_SUFFIX,\n",
    ")\n",
    "from langchain_openai import ChatOpenAI"
   ]
  },
  {
   "cell_type": "code",
   "execution_count": 4,
   "id": "45dc8a2d-5ffd-4330-ac86-89f17bebe343",
   "metadata": {},
   "outputs": [
    {
     "data": {
      "text/plain": [
       "'This is a test about generating synthetic data about {subject}. Examples below:'"
      ]
     },
     "execution_count": 4,
     "metadata": {},
     "output_type": "execute_result"
    }
   ],
   "source": [
    "SYNTHETIC_FEW_SHOT_PREFIX"
   ]
  },
  {
   "cell_type": "code",
   "execution_count": 5,
   "id": "a63d97da-19fd-4455-a1c3-de7c07f4b89f",
   "metadata": {},
   "outputs": [
    {
     "data": {
      "text/plain": [
       "'Now you generate synthetic data about {subject}. Make sure to {extra}:'"
      ]
     },
     "execution_count": 5,
     "metadata": {},
     "output_type": "execute_result"
    }
   ],
   "source": [
    "SYNTHETIC_FEW_SHOT_SUFFIX"
   ]
  },
  {
   "cell_type": "code",
   "execution_count": 6,
   "id": "bcadbede-aaee-416b-9108-18d6aba0d1b6",
   "metadata": {},
   "outputs": [
    {
     "data": {
      "text/plain": [
       "PromptTemplate(input_variables=['example'], template='{example}')"
      ]
     },
     "execution_count": 6,
     "metadata": {},
     "output_type": "execute_result"
    }
   ],
   "source": [
    "OPENAI_TEMPLATE"
   ]
  },
  {
   "cell_type": "code",
   "execution_count": 7,
   "id": "305de8e7-b799-4e7b-921d-de5ecd8bf7a3",
   "metadata": {},
   "outputs": [],
   "source": [
    "class MedicalBilling(BaseModel):\n",
    "    patient_id:int\n",
    "    patient_name: str\n",
    "    diagnosis_code: str\n",
    "    procedure_code: str\n",
    "    total_charge: float\n",
    "    insurance_claim_amount: float"
   ]
  },
  {
   "cell_type": "code",
   "execution_count": 8,
   "id": "55eecea8-dd56-4700-a158-c9caca5c4478",
   "metadata": {},
   "outputs": [],
   "source": [
    "examples = [\n",
    "    {\n",
    "        \"example\": \"\"\"Patient ID: 123456, Patient Name: John Doe, Diagnosis Code: \n",
    "        J20.9, Procedure Code: 99203, Total Charge: $500, Insurance Claim Amount: $350\"\"\"\n",
    "    },\n",
    "    {\n",
    "        \"example\": \"\"\"Patient ID: 789012, Patient Name: Johnson Smith, Diagnosis \n",
    "        Code: M54.5, Procedure Code: 99213, Total Charge: $150, Insurance Claim Amount: $120\"\"\"\n",
    "    },\n",
    "    {\n",
    "        \"example\": \"\"\"Patient ID: 345678, Patient Name: Emily Stone, Diagnosis Code: \n",
    "        E11.9, Procedure Code: 99214, Total Charge: $300, Insurance Claim Amount: $250\"\"\"\n",
    "    },\n",
    "]"
   ]
  },
  {
   "cell_type": "code",
   "execution_count": 9,
   "id": "5b16f822-47ec-4f03-8821-9bc44e6ec10c",
   "metadata": {},
   "outputs": [],
   "source": [
    "prompt_template = FewShotPromptTemplate(\n",
    "    prefix=SYNTHETIC_FEW_SHOT_PREFIX,\n",
    "    examples=examples,\n",
    "    suffix=SYNTHETIC_FEW_SHOT_SUFFIX,\n",
    "    input_variables=[\"subject\", \"extra\"],\n",
    "    example_prompt=OPENAI_TEMPLATE,\n",
    ")"
   ]
  },
  {
   "cell_type": "code",
   "execution_count": 11,
   "id": "2303990f-96e1-4151-a555-c2264780e4f1",
   "metadata": {},
   "outputs": [
    {
     "name": "stdout",
     "output_type": "stream",
     "text": [
      "This is a test about generating synthetic data about \u001b[33;1m\u001b[1;3m{subject}\u001b[0m. Examples below:\n",
      "\n",
      "Patient ID: 123456, Patient Name: John Doe, Diagnosis Code: \n",
      "        J20.9, Procedure Code: 99203, Total Charge: $500, Insurance Claim Amount: $350\n",
      "\n",
      "Patient ID: 789012, Patient Name: Johnson Smith, Diagnosis \n",
      "        Code: M54.5, Procedure Code: 99213, Total Charge: $150, Insurance Claim Amount: $120\n",
      "\n",
      "Patient ID: 345678, Patient Name: Emily Stone, Diagnosis Code: \n",
      "        E11.9, Procedure Code: 99214, Total Charge: $300, Insurance Claim Amount: $250\n",
      "\n",
      "Now you generate synthetic data about \u001b[33;1m\u001b[1;3m{subject}\u001b[0m. Make sure to \u001b[33;1m\u001b[1;3m{extra}\u001b[0m:\n"
     ]
    }
   ],
   "source": [
    "prompt_template.pretty_print()"
   ]
  },
  {
   "cell_type": "code",
   "execution_count": 13,
   "id": "ad40d392-c67f-45a0-8db4-2eec88c20f4c",
   "metadata": {},
   "outputs": [],
   "source": [
    "OPENAI_API_KEY =\"\""
   ]
  },
  {
   "cell_type": "code",
   "execution_count": 14,
   "id": "52e3b20a-7a00-4cf5-a706-841dab8cf2e7",
   "metadata": {},
   "outputs": [],
   "source": [
    "synthetic_data_generator = create_openai_data_generator(\n",
    "    output_schema = MedicalBilling,\n",
    "    llm = ChatOpenAI(openai_api_key=OPENAI_API_KEY),\n",
    "    prompt = prompt_template\n",
    ")"
   ]
  },
  {
   "cell_type": "code",
   "execution_count": 15,
   "id": "688a1d4c-3dba-42bd-9d34-1d541b9762f9",
   "metadata": {},
   "outputs": [],
   "source": [
    "synthetic_results = synthetic_data_generator.generate(\n",
    "    subject=\"medical_billing\",\n",
    "    extra=\"the name must be chosen at random. Make it something you wouldn't normally choose.\",\n",
    "    runs=10,\n",
    ")"
   ]
  },
  {
   "cell_type": "code",
   "execution_count": 16,
   "id": "0d7e294a-c4b9-48bd-9374-874f1d88fce7",
   "metadata": {},
   "outputs": [
    {
     "data": {
      "text/plain": [
       "[MedicalBilling(patient_id=987654, patient_name='Sophia Rodriguez', diagnosis_code='F32.9', procedure_code='99204', total_charge=400.0, insurance_claim_amount=300.0),\n",
       " MedicalBilling(patient_id=123456, patient_name='Aloysius Throckmorton', diagnosis_code='G47.0', procedure_code='99203', total_charge=250.0, insurance_claim_amount=200.0),\n",
       " MedicalBilling(patient_id=456789, patient_name='Octavia Worthington', diagnosis_code='M54.5', procedure_code='99213', total_charge=350.0, insurance_claim_amount=275.0),\n",
       " MedicalBilling(patient_id=789012, patient_name='Barnaby Snodgrass', diagnosis_code='I10', procedure_code='99214', total_charge=300.0, insurance_claim_amount=250.0),\n",
       " MedicalBilling(patient_id=987654, patient_name='Zephyrine Applegate', diagnosis_code='F32.9', procedure_code='99204', total_charge=400.0, insurance_claim_amount=320.0),\n",
       " MedicalBilling(patient_id=123456, patient_name='Dmitriy Yermilov', diagnosis_code='R05', procedure_code='99203', total_charge=275.0, insurance_claim_amount=200.0),\n",
       " MedicalBilling(patient_id=456789, patient_name='Octavia Featherstone', diagnosis_code='E11.9', procedure_code='99213', total_charge=350.0, insurance_claim_amount=280.0),\n",
       " MedicalBilling(patient_id=246810, patient_name='Rufus McTavish', diagnosis_code='I20.9', procedure_code='99214', total_charge=420.0, insurance_claim_amount=350.0),\n",
       " MedicalBilling(patient_id=789012, patient_name='Esmeralda Huckleberry', diagnosis_code='K23.9', procedure_code='99204', total_charge=400.0, insurance_claim_amount=320.0),\n",
       " MedicalBilling(patient_id=123456, patient_name='Bartholomew Cumberbatch', diagnosis_code='N18.9', procedure_code='99212', total_charge=300.0, insurance_claim_amount=240.0)]"
      ]
     },
     "execution_count": 16,
     "metadata": {},
     "output_type": "execute_result"
    }
   ],
   "source": [
    "synthetic_results"
   ]
  },
  {
   "cell_type": "code",
   "execution_count": 17,
   "id": "534d5bad-c2dc-474b-b595-9c1f6db4bf46",
   "metadata": {},
   "outputs": [],
   "source": [
    "#other ways "
   ]
  },
  {
   "cell_type": "code",
   "execution_count": 20,
   "id": "9a16fdac-0988-4ed0-827a-b60b96f4b4e7",
   "metadata": {},
   "outputs": [],
   "source": [
    "from langchain_experimental.synthetic_data import (\n",
    "    DatasetGenerator,\n",
    "    create_data_generation_chain,\n",
    ")\n",
    "from langchain_openai import ChatOpenAI\n",
    "llm = ChatOpenAI(openai_api_key=OPENAI_API_KEY)"
   ]
  },
  {
   "cell_type": "code",
   "execution_count": 21,
   "id": "3fe61c3d-66c9-4d81-83c6-1b6935edcb21",
   "metadata": {},
   "outputs": [],
   "source": [
    "chain = create_data_generation_chain(llm)"
   ]
  },
  {
   "cell_type": "code",
   "execution_count": 22,
   "id": "9c142047-1d7f-408a-876a-79e42858214f",
   "metadata": {},
   "outputs": [
    {
     "name": "stderr",
     "output_type": "stream",
     "text": [
      "/opt/anaconda3/lib/python3.11/site-packages/langchain_core/_api/deprecation.py:117: LangChainDeprecationWarning: The function `__call__` was deprecated in LangChain 0.1.0 and will be removed in 0.2.0. Use invoke instead.\n",
      "  warn_deprecated(\n"
     ]
    },
    {
     "data": {
      "text/plain": [
       "{'fields': ['blue', 'yellow'],\n",
       " 'preferences': {},\n",
       " 'text': 'The vibrant blue sky was dotted with fluffy yellow clouds, creating a picturesque scene perfect for a lazy afternoon picnic.'}"
      ]
     },
     "execution_count": 22,
     "metadata": {},
     "output_type": "execute_result"
    }
   ],
   "source": [
    "chain({\"fields\": [\"blue\", \"yellow\"], \"preferences\": {}})"
   ]
  },
  {
   "cell_type": "code",
   "execution_count": 23,
   "id": "345cfd32-fcfa-443d-a891-8f799e21e3a1",
   "metadata": {},
   "outputs": [
    {
     "data": {
      "text/plain": [
       "{'fields': ['idli', 'dosa'],\n",
       " 'preferences': {},\n",
       " 'text': 'The aroma of freshly steamed idli and crispy golden dosa wafted through the air, tempting me to indulge in a South Indian feast fit for a king.'}"
      ]
     },
     "execution_count": 23,
     "metadata": {},
     "output_type": "execute_result"
    }
   ],
   "source": [
    "chain({\"fields\": [\"idli\", \"dosa\"], \"preferences\": {}})"
   ]
  },
  {
   "cell_type": "code",
   "execution_count": 24,
   "id": "c53eaf4c-e48c-4983-ab4e-9f7ca1da9b58",
   "metadata": {},
   "outputs": [
    {
     "data": {
      "text/plain": [
       "{'fields': {'actor': 'Tom Hanks', 'movies': ['Forrest Gump', 'Green Mile']},\n",
       " 'preferences': None,\n",
       " 'text': 'Tom Hanks, known for his iconic roles in movies such as \"Forrest Gump\" and \"Green Mile,\" has captivated audiences worldwide with his exceptional talent and versatility in the film industry.'}"
      ]
     },
     "execution_count": 24,
     "metadata": {},
     "output_type": "execute_result"
    }
   ],
   "source": [
    "chain(\n",
    "    {\n",
    "        \"fields\": {\"actor\": \"Tom Hanks\", \"movies\": [\"Forrest Gump\", \"Green Mile\"]},\n",
    "        \"preferences\": None,\n",
    "    }\n",
    ")"
   ]
  },
  {
   "cell_type": "code",
   "execution_count": 25,
   "id": "dcc7f6b0-6437-401a-a3e9-e4c259f7ba90",
   "metadata": {},
   "outputs": [],
   "source": [
    "#Extraction from Generated data "
   ]
  },
  {
   "cell_type": "code",
   "execution_count": 34,
   "id": "028de287-9c0a-44d2-8470-2535ab6c08ff",
   "metadata": {},
   "outputs": [],
   "source": [
    "inp = [\n",
    "    {\n",
    "        \"Actor\": \"Tom Hanks\",\n",
    "        \"Film\": [\n",
    "            \"Forrest Gump\",\n",
    "            \"Saving Private Ryan\",\n",
    "            \"The Green Mile\",\n",
    "            \"Toy Story\",\n",
    "            \"Catch Me If You Can\",\n",
    "        ],\n",
    "    },\n",
    "    {\n",
    "        \"Actor\": \"Tom Hardy\",\n",
    "        \"Film\": [\n",
    "            \"Inception\",\n",
    "            \"The Dark Knight Rises\",\n",
    "            \"Mad Max: Fury Road\",\n",
    "            \"The Revenant\",\n",
    "            \"Dunkirk\",\n",
    "        ],\n",
    "    },\n",
    "]\n",
    "\n",
    "generator = DatasetGenerator(llm, {\"style\": \"informal\", \"minimal length\": 500})\n",
    "dataset = generator(inp)"
   ]
  },
  {
   "cell_type": "code",
   "execution_count": 27,
   "id": "b2ee919b-0d4b-4eae-910e-0efe1edfa9a0",
   "metadata": {},
   "outputs": [],
   "source": [
    "from typing import List\n",
    "\n",
    "from langchain.chains import create_extraction_chain_pydantic\n",
    "from langchain.output_parsers import PydanticOutputParser\n",
    "from langchain_core.prompts import PromptTemplate\n",
    "from langchain_openai import OpenAI\n",
    "from pydantic import BaseModel, Field"
   ]
  },
  {
   "cell_type": "code",
   "execution_count": 28,
   "id": "e412aed3-1195-4c49-8f44-9343eef1f617",
   "metadata": {},
   "outputs": [],
   "source": [
    "class Actor(BaseModel):\n",
    "    Actor: str = Field(description=\"name of an actor\")\n",
    "    Film: List[str] = Field(description=\"list of names of films they starred in\")"
   ]
  },
  {
   "cell_type": "code",
   "execution_count": 35,
   "id": "87e7340b-68a4-4605-8d81-4d192c1a31b4",
   "metadata": {},
   "outputs": [
    {
     "name": "stderr",
     "output_type": "stream",
     "text": [
      "/opt/anaconda3/lib/python3.11/site-packages/langchain_core/_api/deprecation.py:117: LangChainDeprecationWarning: The function `__call__` was deprecated in LangChain 0.1.7 and will be removed in 0.2.0. Use invoke instead.\n",
      "  warn_deprecated(\n"
     ]
    },
    {
     "data": {
      "text/plain": [
       "Actor(Actor='Tom Hanks', Film=['Forrest Gump', 'Saving Private Ryan', 'The Green Mile', 'Toy Story', 'Catch Me If You Can'])"
      ]
     },
     "execution_count": 35,
     "metadata": {},
     "output_type": "execute_result"
    }
   ],
   "source": [
    "llm = OpenAI(openai_api_key=OPENAI_API_KEY)\n",
    "parser = PydanticOutputParser(pydantic_object=Actor)\n",
    "\n",
    "prompt = PromptTemplate(\n",
    "    template=\"Extract fields from a given text.\\n{format_instructions}\\n{text}\\n\",\n",
    "    input_variables=[\"text\"],\n",
    "    partial_variables={\"format_instructions\": parser.get_format_instructions()},\n",
    ")\n",
    "\n",
    "_input = prompt.format_prompt(text=dataset[0][\"text\"])\n",
    "output = llm(_input.to_string())\n",
    "\n",
    "parsed = parser.parse(output)\n",
    "parsed"
   ]
  },
  {
   "cell_type": "code",
   "execution_count": null,
   "id": "7c0cc4ac-eeb4-427f-9760-cc560904c225",
   "metadata": {},
   "outputs": [],
   "source": []
  }
 ],
 "metadata": {
  "kernelspec": {
   "display_name": "Python 3 (ipykernel)",
   "language": "python",
   "name": "python3"
  },
  "language_info": {
   "codemirror_mode": {
    "name": "ipython",
    "version": 3
   },
   "file_extension": ".py",
   "mimetype": "text/x-python",
   "name": "python",
   "nbconvert_exporter": "python",
   "pygments_lexer": "ipython3",
   "version": "3.11.7"
  }
 },
 "nbformat": 4,
 "nbformat_minor": 5
}
