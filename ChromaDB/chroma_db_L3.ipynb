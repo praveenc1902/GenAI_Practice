{
 "cells": [
  {
   "cell_type": "code",
   "execution_count": 3,
   "id": "30d14716-9091-4c8d-a52b-3a6f22411254",
   "metadata": {},
   "outputs": [],
   "source": [
    "import chromadb\n",
    "\n",
    "from langchain.text_splitter import RecursiveCharacterTextSplitter, SentenceTransformersTokenTextSplitter\n",
    "import numpy as np\n",
    "from pypdf import PdfReader\n",
    "from tqdm import tqdm\n",
    "\n",
    "from chromadb.utils.embedding_functions import SentenceTransformerEmbeddingFunction\n",
    "\n",
    "import umap\n",
    "import os\n",
    "import openai\n",
    "from openai import OpenAI\n",
    "\n",
    "from dotenv import load_dotenv, find_dotenv"
   ]
  },
  {
   "cell_type": "code",
   "execution_count": 5,
   "id": "b4610600-4cef-4f1c-864d-7bf8046937bd",
   "metadata": {},
   "outputs": [],
   "source": [
    "def _read_pdf(filename):\n",
    "    reader = PdfReader(filename)\n",
    "    \n",
    "    pdf_texts = [p.extract_text().strip() for p in reader.pages]\n",
    "\n",
    "    # Filter the empty strings\n",
    "    pdf_texts = [text for text in pdf_texts if text]\n",
    "    return pdf_texts\n",
    "\n",
    "\n",
    "def _chunk_texts(texts):\n",
    "    character_splitter = RecursiveCharacterTextSplitter(\n",
    "        separators=[\"\\n\\n\", \"\\n\", \". \", \" \", \"\"],\n",
    "        chunk_size=1000,\n",
    "        chunk_overlap=0\n",
    "    )\n",
    "    character_split_texts = character_splitter.split_text('\\n\\n'.join(texts))\n",
    "\n",
    "    token_splitter = SentenceTransformersTokenTextSplitter(chunk_overlap=0, tokens_per_chunk=256)\n",
    "\n",
    "    token_split_texts = []\n",
    "    for text in character_split_texts:\n",
    "        token_split_texts += token_splitter.split_text(text)\n",
    "\n",
    "    return token_split_texts\n",
    "\n",
    "\n",
    "def load_chroma(filename, collection_name, embedding_function):\n",
    "    texts = _read_pdf(filename)\n",
    "    chunks = _chunk_texts(texts)\n",
    "\n",
    "    chroma_cliet = chromadb.Client()\n",
    "    chroma_collection = chroma_cliet.create_collection(name=collection_name, embedding_function=embedding_function)\n",
    "\n",
    "    ids = [str(i) for i in range(len(chunks))]\n",
    "\n",
    "    chroma_collection.add(ids=ids, documents=chunks)\n",
    "\n",
    "    return chroma_collection\n",
    "\n",
    "def project_embeddings(embeddings, umap_transform):\n",
    "    umap_embeddings = np.empty((len(embeddings),2))\n",
    "    for i, embedding in enumerate(tqdm(embeddings)): \n",
    "        umap_embeddings[i] = umap_transform.transform([embedding])\n",
    "    return umap_embeddings"
   ]
  },
  {
   "cell_type": "code",
   "execution_count": 6,
   "id": "b848ebcd-60b1-42a3-b695-e0884a0f9102",
   "metadata": {},
   "outputs": [
    {
     "data": {
      "text/plain": [
       "349"
      ]
     },
     "execution_count": 6,
     "metadata": {},
     "output_type": "execute_result"
    }
   ],
   "source": [
    "embedding_function = SentenceTransformerEmbeddingFunction()\n",
    "\n",
    "chroma_collection = load_chroma(filename='microsoft_annual_report_2022.pdf', collection_name='microsoft_annual_report_2022', embedding_function=embedding_function)\n",
    "chroma_collection.count()"
   ]
  },
  {
   "cell_type": "code",
   "execution_count": 1,
   "id": "9c76c1b9-a558-4615-862c-4b83a1d3961b",
   "metadata": {},
   "outputs": [
    {
     "name": "stdout",
     "output_type": "stream",
     "text": [
      "env: OPENAI_API_KEY=\n"
     ]
    },
    {
     "ename": "NameError",
     "evalue": "name 'os' is not defined",
     "output_type": "error",
     "traceback": [
      "\u001b[0;31m---------------------------------------------------------------------------\u001b[0m",
      "\u001b[0;31mNameError\u001b[0m                                 Traceback (most recent call last)",
      "Cell \u001b[0;32mIn[1], line 2\u001b[0m\n\u001b[1;32m      1\u001b[0m get_ipython()\u001b[38;5;241m.\u001b[39mrun_line_magic(\u001b[38;5;124m'\u001b[39m\u001b[38;5;124mset_env\u001b[39m\u001b[38;5;124m'\u001b[39m, \u001b[38;5;124m'\u001b[39m\u001b[38;5;124mOPENAI_API_KEY=\u001b[39m\u001b[38;5;124m'\u001b[39m)\n\u001b[0;32m----> 2\u001b[0m openai\u001b[38;5;241m.\u001b[39mapi_key \u001b[38;5;241m=\u001b[39m os\u001b[38;5;241m.\u001b[39menviron[\u001b[38;5;124m'\u001b[39m\u001b[38;5;124mOPENAI_API_KEY\u001b[39m\u001b[38;5;124m'\u001b[39m]\n\u001b[1;32m      4\u001b[0m openai_client \u001b[38;5;241m=\u001b[39m OpenAI()\n",
      "\u001b[0;31mNameError\u001b[0m: name 'os' is not defined"
     ]
    }
   ],
   "source": [
    "%set_env OPENAI_API_KEY=\n",
    "openai.api_key = os.environ['OPENAI_API_KEY']\n",
    "\n",
    "openai_client = OpenAI()"
   ]
  },
  {
   "cell_type": "code",
   "execution_count": 9,
   "id": "c7bde147-fc6b-4f7c-a25a-889c150f326a",
   "metadata": {},
   "outputs": [
    {
     "name": "stderr",
     "output_type": "stream",
     "text": [
      "/opt/anaconda3/lib/python3.11/site-packages/umap/umap_.py:1945: UserWarning: n_jobs value 1 overridden to 1 by setting random_state. Use no seed for parallelism.\n",
      "  warn(f\"n_jobs value {self.n_jobs} overridden to 1 by setting random_state. Use no seed for parallelism.\")\n",
      "100%|██████████| 349/349 [01:19<00:00,  4.40it/s]\n"
     ]
    }
   ],
   "source": [
    "import umap\n",
    "\n",
    "embeddings = chroma_collection.get(include=['embeddings'])['embeddings']\n",
    "umap_transform = umap.UMAP(random_state=0, transform_seed=0).fit(embeddings)\n",
    "projected_dataset_embeddings = project_embeddings(embeddings, umap_transform)"
   ]
  },
  {
   "cell_type": "code",
   "execution_count": 11,
   "id": "ade04196-e58e-4e66-8b78-a94ffe5fc338",
   "metadata": {},
   "outputs": [],
   "source": [
    "# projected_dataset_embeddings"
   ]
  },
  {
   "cell_type": "code",
   "execution_count": 16,
   "id": "92a28dc6-261e-4081-8b2b-fa2c50cf4ad5",
   "metadata": {},
   "outputs": [],
   "source": [
    "def augment_query_generated(query,model=\"gpt-3.5-turbo\"):\n",
    "    messages = [\n",
    "        {\n",
    "            \"role\":\"system\",\n",
    "            \"content\":\"You are a helpful expert financial research assistant. Provide an example answer to the given question, that might be found in a document like an annual report. \"\n",
    "        },\n",
    "        {\"role\":\"user\",\"content\":query}\n",
    "    ]\n",
    "    response = openai_client.chat.completions.create(\n",
    "        model=model,\n",
    "        messages=messages\n",
    "    )\n",
    "    content = response.choices[0].message.content\n",
    "    return content"
   ]
  },
  {
   "cell_type": "code",
   "execution_count": 17,
   "id": "e395975e-b556-4729-bfca-fc67cc5bbab0",
   "metadata": {},
   "outputs": [],
   "source": [
    "original_query = \"Was there significant turnover in the executive team?\"\n",
    "hypothetical_answer = augment_query_generated(original_query)"
   ]
  },
  {
   "cell_type": "code",
   "execution_count": 18,
   "id": "021c0497-b8ea-4cc8-a2b7-049d8fdcfa6c",
   "metadata": {},
   "outputs": [
    {
     "data": {
      "text/plain": [
       "'In the past fiscal year, our executive team experienced minimal turnover. Only one member of the executive leadership team departed the company, and this position was filled promptly with an internal promotion. This stability in our executive team has allowed for continuity in our strategic direction and operational excellence.'"
      ]
     },
     "execution_count": 18,
     "metadata": {},
     "output_type": "execute_result"
    }
   ],
   "source": [
    "hypothetical_answer"
   ]
  },
  {
   "cell_type": "code",
   "execution_count": 19,
   "id": "4fac3828-60e1-47db-b3f8-0964bf17a894",
   "metadata": {},
   "outputs": [
    {
     "data": {
      "text/plain": [
       "'Was there significant turnover in the executive team? In the past fiscal year, our executive team experienced minimal turnover. Only one member of the executive leadership team departed the company, and this position was filled promptly with an internal promotion. This stability in our executive team has allowed for continuity in our strategic direction and operational excellence.'"
      ]
     },
     "execution_count": 19,
     "metadata": {},
     "output_type": "execute_result"
    }
   ],
   "source": [
    "\n",
    "joint_query = f\"{original_query} {hypothetical_answer}\"\n",
    "joint_query"
   ]
  },
  {
   "cell_type": "code",
   "execution_count": 23,
   "id": "dd71f960-3fbe-48a8-9143-62df0832dd8c",
   "metadata": {},
   "outputs": [],
   "source": [
    "result = chroma_collection.query(query_texts=joint_query,n_results=5,include=[\"documents\",\"embeddings\"])"
   ]
  },
  {
   "cell_type": "code",
   "execution_count": 27,
   "id": "c3864599-ae40-499b-ab17-8c7d35cb0e1f",
   "metadata": {},
   "outputs": [],
   "source": [
    "# result\n",
    "retrieved_documents = result['documents'][0]"
   ]
  },
  {
   "cell_type": "code",
   "execution_count": 28,
   "id": "0d537274-d3f3-4a67-a404-9d41f23caa57",
   "metadata": {},
   "outputs": [],
   "source": [
    "retrieved_embeddings = result['embeddings'][0]\n",
    "original_query_embedding = embedding_function([original_query])\n",
    "augmented_query_embedding = embedding_function([joint_query])\n"
   ]
  },
  {
   "cell_type": "code",
   "execution_count": 29,
   "id": "e219427d-3670-4f89-b82c-c705996402fe",
   "metadata": {},
   "outputs": [
    {
     "name": "stderr",
     "output_type": "stream",
     "text": [
      "100%|██████████| 1/1 [00:00<00:00,  2.58it/s]\n",
      "100%|██████████| 1/1 [00:00<00:00,  4.76it/s]\n",
      "100%|██████████| 5/5 [00:01<00:00,  3.86it/s]\n"
     ]
    }
   ],
   "source": [
    "projected_original_query_embedding = project_embeddings(original_query_embedding, umap_transform)\n",
    "projected_augmented_query_embedding = project_embeddings(augmented_query_embedding, umap_transform)\n",
    "projected_retrieved_embeddings = project_embeddings(retrieved_embeddings, umap_transform)"
   ]
  },
  {
   "cell_type": "code",
   "execution_count": 30,
   "id": "89b060ca-9f6a-4516-ad67-ecd995945387",
   "metadata": {},
   "outputs": [
    {
     "data": {
      "text/plain": [
       "(-6.166297650337219, 5.2590725183486935, 4.61263074874878, 10.588058567047119)"
      ]
     },
     "execution_count": 30,
     "metadata": {},
     "output_type": "execute_result"
    },
    {
     "data": {
      "image/png": "[encoded data removed]",
      "text/plain": [
       "<Figure size 640x480 with 1 Axes>"
      ]
     },
     "metadata": {},
     "output_type": "display_data"
    }
   ],
   "source": [
    "import matplotlib.pyplot as plt\n",
    "\n",
    "# Plot the projected query and retrieved documents in the embedding space\n",
    "plt.figure()\n",
    "plt.scatter(projected_dataset_embeddings[:, 0], projected_dataset_embeddings[:, 1], s=10, color='gray')\n",
    "plt.scatter(projected_retrieved_embeddings[:, 0], projected_retrieved_embeddings[:, 1], s=100, facecolors='none', edgecolors='g')\n",
    "plt.scatter(projected_original_query_embedding[:, 0], projected_original_query_embedding[:, 1], s=150, marker='X', color='r')\n",
    "plt.scatter(projected_augmented_query_embedding[:, 0], projected_augmented_query_embedding[:, 1], s=150, marker='X', color='orange')\n",
    "\n",
    "plt.gca().set_aspect('equal', 'datalim')\n",
    "plt.title(f'{original_query}')\n",
    "plt.axis('off')"
   ]
  },
  {
   "cell_type": "code",
   "execution_count": 31,
   "id": "3991b76d-28d9-408a-a1e2-6ce63ebc741c",
   "metadata": {},
   "outputs": [],
   "source": [
    "#######"
   ]
  },
  {
   "cell_type": "code",
   "execution_count": 42,
   "id": "4393cf18-1eef-49b3-9e74-6a3bdbe53151",
   "metadata": {},
   "outputs": [],
   "source": [
    "def augment_multiple_query(query, model=\"gpt-3.5-turbo\"):\n",
    "    messages = [\n",
    "        {\n",
    "            \"role\": \"system\",\n",
    "            \"content\": \"You are a helpful expert financial research assistant. Your users are asking questions about an annual report. \"\n",
    "            \"Suggest up to five additional related questions to help them find the information they need, for the provided question. \"\n",
    "            \"Suggest only short questions without compound sentences. Suggest a variety of questions that cover different aspects of the topic.\"\n",
    "            \"Make sure they are complete questions, and that they are related to the original question.\"\n",
    "            \"Output one question per line. Do not number the questions.\"\n",
    "        },\n",
    "        {\"role\": \"user\", \"content\": query}\n",
    "    ]\n",
    "\n",
    "    response = openai_client.chat.completions.create(\n",
    "        model=model,\n",
    "        messages=messages,\n",
    "    )\n",
    "    content = response.choices[0].message.content\n",
    "    content = content.split(\"\\n\")\n",
    "    return content"
   ]
  },
  {
   "cell_type": "code",
   "execution_count": 33,
   "id": "88529fa8-21be-4df0-a2d2-af0d97abbca0",
   "metadata": {},
   "outputs": [],
   "source": [
    "original_query = \"What were the most important factors that contributed to increases in revenue?\"\n",
    "augmented_queries = augment_multiple_query(original_query)"
   ]
  },
  {
   "cell_type": "code",
   "execution_count": 34,
   "id": "d577fb32-9ad8-4a2a-b0de-a00bd0715a42",
   "metadata": {},
   "outputs": [
    {
     "data": {
      "text/plain": [
       "[\"- How did the company's marketing strategies impact revenue growth?\",\n",
       " '- What new products or services were introduced that helped drive revenue?',\n",
       " '- Were there any significant changes in pricing that affected revenue?',\n",
       " '- Did the company enter new markets or expand existing ones to boost revenue?',\n",
       " '- How did changes in consumer behavior or trends influence revenue growth?']"
      ]
     },
     "execution_count": 34,
     "metadata": {},
     "output_type": "execute_result"
    }
   ],
   "source": [
    "augmented_queries"
   ]
  },
  {
   "cell_type": "code",
   "execution_count": 35,
   "id": "eca2ceb9-c5c2-444d-b982-7b1b00a5e9b3",
   "metadata": {},
   "outputs": [],
   "source": [
    "queries = [original_query] + augmented_queries\n",
    "results = chroma_collection.query(query_texts=queries, n_results=5, include=['documents', 'embeddings'])\n",
    "\n",
    "retrieved_documents = results['documents']\n"
   ]
  },
  {
   "cell_type": "code",
   "execution_count": 47,
   "id": "9f7bd958-6153-4ab0-9ab5-ce8b1c69a33f",
   "metadata": {},
   "outputs": [],
   "source": [
    "# retrieved_documents\n",
    "unique_documents = set()\n",
    "for documents in retrieved_documents:\n",
    "    for document in documents:\n",
    "        unique_documents.add(document)\n",
    "\n",
    "unique_documents  = list(unique_documents)\n",
    "unique_text  = \"\\n\".join(unique_documents)"
   ]
  },
  {
   "cell_type": "code",
   "execution_count": 49,
   "id": "7a63f5cf-4265-46f9-b0e7-172e36b3b103",
   "metadata": {},
   "outputs": [],
   "source": [
    "# unique_text"
   ]
  },
  {
   "cell_type": "code",
   "execution_count": 52,
   "id": "d96a7615-fa14-4345-a3db-a9fd9a968053",
   "metadata": {},
   "outputs": [],
   "source": [
    "def augment_output(query, model=\"gpt-3.5-turbo\"):\n",
    "    messages = [\n",
    "        {\n",
    "            \"role\": \"system\",\n",
    "            \"content\": f\"\"\"You are a helpful expert financial research assistant. based the below context, give the output context : {unique_text}\"\"\"\n",
    "        },\n",
    "        {\"role\": \"user\", \"content\": query}\n",
    "    ]\n",
    "\n",
    "    response = openai_client.chat.completions.create(\n",
    "        model=model,\n",
    "        messages=messages,\n",
    "    )\n",
    "    content = response.choices[0].message.content\n",
    "    content = content.split(\"\\n\")\n",
    "    return content"
   ]
  },
  {
   "cell_type": "code",
   "execution_count": 53,
   "id": "76b51665-abb0-48eb-8253-7f055bd47ee8",
   "metadata": {},
   "outputs": [
    {
     "data": {
      "text/plain": [
       "['The most important factors that contributed to increases in revenue for fiscal year 2022 included:',\n",
       " '',\n",
       " '1. Growth in Microsoft Cloud revenue, driven by Azure and other cloud services.',\n",
       " '2. Increase in productivity and business processes revenue, driven by Office 365 commercial and LinkedIn.',\n",
       " '3. Rise in more personal computing revenue, fueled by search and news advertising and Windows.',\n",
       " '4. Strong performance in search and news advertising revenue, driven by higher revenue per search and search volume.',\n",
       " '5. Gaming revenue growth, benefiting from Xbox hardware and Xbox content and services.',\n",
       " '6. Increase in Surface revenue.',\n",
       " '7. Significant growth in commercial sales, office commercial products and cloud services, and LinkedIn revenue.',\n",
       " '8. Rise in Dynamics products and cloud services revenue, primarily driven by Dynamics 365.',\n",
       " '9. Revenue increase in server products and cloud services, particularly due to Azure and other cloud services.',\n",
       " '10. Windows OEM revenue growth and demand for Microsoft 365 subscriptions.',\n",
       " '11. Successful performance of Xbox content and services revenue.',\n",
       " '',\n",
       " 'These factors collectively contributed to the substantial revenue growth across each of the segments for the fiscal year 2022.']"
      ]
     },
     "execution_count": 53,
     "metadata": {},
     "output_type": "execute_result"
    }
   ],
   "source": [
    "augment_output(\"What were the most important factors that contributed to increases in revenue?\")"
   ]
  },
  {
   "cell_type": "code",
   "execution_count": null,
   "id": "74c807a6-9b2c-40af-ad44-665b14cc05d9",
   "metadata": {},
   "outputs": [],
   "source": []
  }
 ],
 "metadata": {
  "kernelspec": {
   "display_name": "Python 3 (ipykernel)",
   "language": "python",
   "name": "python3"
  },
  "language_info": {
   "codemirror_mode": {
    "name": "ipython",
    "version": 3
   },
   "file_extension": ".py",
   "mimetype": "text/x-python",
   "name": "python",
   "nbconvert_exporter": "python",
   "pygments_lexer": "ipython3",
   "version": "3.11.7"
  }
 },
 "nbformat": 4,
 "nbformat_minor": 5
}
